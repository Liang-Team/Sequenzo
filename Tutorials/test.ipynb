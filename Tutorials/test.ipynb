{
 "cells": [
  {
   "cell_type": "markdown",
   "source": [
    "# Quickstart Guide\n",
    "\n",
    "Congratulations on successfully installing Sequenzo! 🎉 You're now ready to explore social sequence analysis with ease.\n",
    "\n",
    "In this guide, we'll walk you through analyzing country-level CO₂ emissions sequences step by step. If you're curious about how we transformed the original dataset into a format suitable for sequence analysis, you can find the detailed explanation here (TODO: webpage on SequenzoWebsite).\n",
    "\n",
    "New to Python? No worries! We've designed Sequenzo to be intuitive and beginner-friendly, so you can jump right in regardless of whether you are a newbie or a seasoned Python coder. \n",
    "\n",
    "By the end of this tutorial, you'll learn how to:\n",
    "\n",
    "1. Install Sequenzo\n",
    "2. Load and explore a dataset\n",
    "3. Analyze social sequences\n",
    "4. Visualize the results\n",
    "\n",
    "Now, let's get started on this exciting journey! 🐍✨\n"
   ],
   "metadata": {
    "collapsed": false
   },
   "id": "507a5297b4ed0bc9"
  },
  {
   "cell_type": "markdown",
   "source": [
    "## 1. Get a rough idea of the data"
   ],
   "metadata": {
    "collapsed": false
   },
   "id": "46bf41e2bd09b036"
  },
  {
   "cell_type": "code",
   "source": [
    "# Import necessary libraries\n",
    "from sequenzo import * # Social sequence analysis \n",
    "import pandas as pd # Data manipulation\n",
    "\n",
    "# List all the available datasets in Sequenzo\n",
    "print('Available datasets in Sequenzo: ', list_datasets())\n",
    "\n",
    "# Load the data that we would like to explore in this tutorial\n",
    "# `df` is the short for `dataframe`, which is a common variable name for a dataset\n",
    "df = load_dataset('country_co2_emissions')\n",
    "\n",
    "# Show the dataframe\n",
    "df"
   ],
   "metadata": {
    "collapsed": false,
    "ExecuteTime": {
     "end_time": "2025-02-27T15:11:47.356079Z",
     "start_time": "2025-02-27T15:11:47.308278Z"
    }
   },
   "id": "6c8cd664b8f974ab",
   "outputs": [
    {
     "name": "stdout",
     "output_type": "stream",
     "text": [
      "Available datasets in Sequenzo:  ['country_co2_emissions', 'country_gdp_per_capita']\n"
     ]
    },
    {
     "data": {
      "text/plain": [
       "         country      1800      1801      1802      1803      1804      1805  \\\n",
       "0    Afghanistan  Very Low  Very Low  Very Low  Very Low  Very Low  Very Low   \n",
       "1        Albania  Very Low  Very Low  Very Low  Very Low  Very Low  Very Low   \n",
       "2        Algeria  Very Low  Very Low  Very Low  Very Low  Very Low  Very Low   \n",
       "3        Andorra      High      High      High      High      High      High   \n",
       "4         Angola       Low       Low       Low       Low       Low       Low   \n",
       "..           ...       ...       ...       ...       ...       ...       ...   \n",
       "189    Venezuela  Very Low  Very Low  Very Low  Very Low  Very Low  Very Low   \n",
       "190      Vietnam       Low       Low       Low       Low       Low       Low   \n",
       "191        Yemen  Very Low  Very Low  Very Low  Very Low  Very Low  Very Low   \n",
       "192       Zambia      High      High      High      High      High      High   \n",
       "193     Zimbabwe    Middle    Middle    Middle    Middle    Middle    Middle   \n",
       "\n",
       "         1806      1807      1808  ...       2013       2014       2015  \\\n",
       "0    Very Low  Very Low  Very Low  ...       High       High       High   \n",
       "1    Very Low  Very Low  Very Low  ...  Very High  Very High  Very High   \n",
       "2    Very Low  Very Low  Very Low  ...  Very High  Very High  Very High   \n",
       "3        High      High      High  ...  Very High  Very High  Very High   \n",
       "4         Low       Low       Low  ...       High       High       High   \n",
       "..        ...       ...       ...  ...        ...        ...        ...   \n",
       "189  Very Low  Very Low  Very Low  ...  Very High  Very High  Very High   \n",
       "190       Low       Low       Low  ...       High       High       High   \n",
       "191  Very Low  Very Low  Very Low  ...       High       High       High   \n",
       "192      High      High      High  ...       High       High       High   \n",
       "193    Middle    Middle    Middle  ...       High       High       High   \n",
       "\n",
       "          2016       2017       2018       2019       2020       2021  \\\n",
       "0         High       High       High       High       High       High   \n",
       "1    Very High  Very High  Very High  Very High  Very High  Very High   \n",
       "2    Very High  Very High  Very High  Very High  Very High  Very High   \n",
       "3    Very High  Very High  Very High  Very High  Very High  Very High   \n",
       "4         High       High       High       High       High       High   \n",
       "..         ...        ...        ...        ...        ...        ...   \n",
       "189  Very High  Very High       High     Middle       High       High   \n",
       "190       High       High  Very High  Very High  Very High  Very High   \n",
       "191       High       High       High       High       High       High   \n",
       "192       High       High       High       High       High       High   \n",
       "193       High       High       High       High       High       High   \n",
       "\n",
       "          2022  \n",
       "0         High  \n",
       "1    Very High  \n",
       "2    Very High  \n",
       "3    Very High  \n",
       "4         High  \n",
       "..         ...  \n",
       "189       High  \n",
       "190  Very High  \n",
       "191       High  \n",
       "192       High  \n",
       "193       High  \n",
       "\n",
       "[194 rows x 224 columns]"
      ],
      "text/html": [
       "<div>\n",
       "<style scoped>\n",
       "    .dataframe tbody tr th:only-of-type {\n",
       "        vertical-align: middle;\n",
       "    }\n",
       "\n",
       "    .dataframe tbody tr th {\n",
       "        vertical-align: top;\n",
       "    }\n",
       "\n",
       "    .dataframe thead th {\n",
       "        text-align: right;\n",
       "    }\n",
       "</style>\n",
       "<table border=\"1\" class=\"dataframe\">\n",
       "  <thead>\n",
       "    <tr style=\"text-align: right;\">\n",
       "      <th></th>\n",
       "      <th>country</th>\n",
       "      <th>1800</th>\n",
       "      <th>1801</th>\n",
       "      <th>1802</th>\n",
       "      <th>1803</th>\n",
       "      <th>1804</th>\n",
       "      <th>1805</th>\n",
       "      <th>1806</th>\n",
       "      <th>1807</th>\n",
       "      <th>1808</th>\n",
       "      <th>...</th>\n",
       "      <th>2013</th>\n",
       "      <th>2014</th>\n",
       "      <th>2015</th>\n",
       "      <th>2016</th>\n",
       "      <th>2017</th>\n",
       "      <th>2018</th>\n",
       "      <th>2019</th>\n",
       "      <th>2020</th>\n",
       "      <th>2021</th>\n",
       "      <th>2022</th>\n",
       "    </tr>\n",
       "  </thead>\n",
       "  <tbody>\n",
       "    <tr>\n",
       "      <th>0</th>\n",
       "      <td>Afghanistan</td>\n",
       "      <td>Very Low</td>\n",
       "      <td>Very Low</td>\n",
       "      <td>Very Low</td>\n",
       "      <td>Very Low</td>\n",
       "      <td>Very Low</td>\n",
       "      <td>Very Low</td>\n",
       "      <td>Very Low</td>\n",
       "      <td>Very Low</td>\n",
       "      <td>Very Low</td>\n",
       "      <td>...</td>\n",
       "      <td>High</td>\n",
       "      <td>High</td>\n",
       "      <td>High</td>\n",
       "      <td>High</td>\n",
       "      <td>High</td>\n",
       "      <td>High</td>\n",
       "      <td>High</td>\n",
       "      <td>High</td>\n",
       "      <td>High</td>\n",
       "      <td>High</td>\n",
       "    </tr>\n",
       "    <tr>\n",
       "      <th>1</th>\n",
       "      <td>Albania</td>\n",
       "      <td>Very Low</td>\n",
       "      <td>Very Low</td>\n",
       "      <td>Very Low</td>\n",
       "      <td>Very Low</td>\n",
       "      <td>Very Low</td>\n",
       "      <td>Very Low</td>\n",
       "      <td>Very Low</td>\n",
       "      <td>Very Low</td>\n",
       "      <td>Very Low</td>\n",
       "      <td>...</td>\n",
       "      <td>Very High</td>\n",
       "      <td>Very High</td>\n",
       "      <td>Very High</td>\n",
       "      <td>Very High</td>\n",
       "      <td>Very High</td>\n",
       "      <td>Very High</td>\n",
       "      <td>Very High</td>\n",
       "      <td>Very High</td>\n",
       "      <td>Very High</td>\n",
       "      <td>Very High</td>\n",
       "    </tr>\n",
       "    <tr>\n",
       "      <th>2</th>\n",
       "      <td>Algeria</td>\n",
       "      <td>Very Low</td>\n",
       "      <td>Very Low</td>\n",
       "      <td>Very Low</td>\n",
       "      <td>Very Low</td>\n",
       "      <td>Very Low</td>\n",
       "      <td>Very Low</td>\n",
       "      <td>Very Low</td>\n",
       "      <td>Very Low</td>\n",
       "      <td>Very Low</td>\n",
       "      <td>...</td>\n",
       "      <td>Very High</td>\n",
       "      <td>Very High</td>\n",
       "      <td>Very High</td>\n",
       "      <td>Very High</td>\n",
       "      <td>Very High</td>\n",
       "      <td>Very High</td>\n",
       "      <td>Very High</td>\n",
       "      <td>Very High</td>\n",
       "      <td>Very High</td>\n",
       "      <td>Very High</td>\n",
       "    </tr>\n",
       "    <tr>\n",
       "      <th>3</th>\n",
       "      <td>Andorra</td>\n",
       "      <td>High</td>\n",
       "      <td>High</td>\n",
       "      <td>High</td>\n",
       "      <td>High</td>\n",
       "      <td>High</td>\n",
       "      <td>High</td>\n",
       "      <td>High</td>\n",
       "      <td>High</td>\n",
       "      <td>High</td>\n",
       "      <td>...</td>\n",
       "      <td>Very High</td>\n",
       "      <td>Very High</td>\n",
       "      <td>Very High</td>\n",
       "      <td>Very High</td>\n",
       "      <td>Very High</td>\n",
       "      <td>Very High</td>\n",
       "      <td>Very High</td>\n",
       "      <td>Very High</td>\n",
       "      <td>Very High</td>\n",
       "      <td>Very High</td>\n",
       "    </tr>\n",
       "    <tr>\n",
       "      <th>4</th>\n",
       "      <td>Angola</td>\n",
       "      <td>Low</td>\n",
       "      <td>Low</td>\n",
       "      <td>Low</td>\n",
       "      <td>Low</td>\n",
       "      <td>Low</td>\n",
       "      <td>Low</td>\n",
       "      <td>Low</td>\n",
       "      <td>Low</td>\n",
       "      <td>Low</td>\n",
       "      <td>...</td>\n",
       "      <td>High</td>\n",
       "      <td>High</td>\n",
       "      <td>High</td>\n",
       "      <td>High</td>\n",
       "      <td>High</td>\n",
       "      <td>High</td>\n",
       "      <td>High</td>\n",
       "      <td>High</td>\n",
       "      <td>High</td>\n",
       "      <td>High</td>\n",
       "    </tr>\n",
       "    <tr>\n",
       "      <th>...</th>\n",
       "      <td>...</td>\n",
       "      <td>...</td>\n",
       "      <td>...</td>\n",
       "      <td>...</td>\n",
       "      <td>...</td>\n",
       "      <td>...</td>\n",
       "      <td>...</td>\n",
       "      <td>...</td>\n",
       "      <td>...</td>\n",
       "      <td>...</td>\n",
       "      <td>...</td>\n",
       "      <td>...</td>\n",
       "      <td>...</td>\n",
       "      <td>...</td>\n",
       "      <td>...</td>\n",
       "      <td>...</td>\n",
       "      <td>...</td>\n",
       "      <td>...</td>\n",
       "      <td>...</td>\n",
       "      <td>...</td>\n",
       "      <td>...</td>\n",
       "    </tr>\n",
       "    <tr>\n",
       "      <th>189</th>\n",
       "      <td>Venezuela</td>\n",
       "      <td>Very Low</td>\n",
       "      <td>Very Low</td>\n",
       "      <td>Very Low</td>\n",
       "      <td>Very Low</td>\n",
       "      <td>Very Low</td>\n",
       "      <td>Very Low</td>\n",
       "      <td>Very Low</td>\n",
       "      <td>Very Low</td>\n",
       "      <td>Very Low</td>\n",
       "      <td>...</td>\n",
       "      <td>Very High</td>\n",
       "      <td>Very High</td>\n",
       "      <td>Very High</td>\n",
       "      <td>Very High</td>\n",
       "      <td>Very High</td>\n",
       "      <td>High</td>\n",
       "      <td>Middle</td>\n",
       "      <td>High</td>\n",
       "      <td>High</td>\n",
       "      <td>High</td>\n",
       "    </tr>\n",
       "    <tr>\n",
       "      <th>190</th>\n",
       "      <td>Vietnam</td>\n",
       "      <td>Low</td>\n",
       "      <td>Low</td>\n",
       "      <td>Low</td>\n",
       "      <td>Low</td>\n",
       "      <td>Low</td>\n",
       "      <td>Low</td>\n",
       "      <td>Low</td>\n",
       "      <td>Low</td>\n",
       "      <td>Low</td>\n",
       "      <td>...</td>\n",
       "      <td>High</td>\n",
       "      <td>High</td>\n",
       "      <td>High</td>\n",
       "      <td>High</td>\n",
       "      <td>High</td>\n",
       "      <td>Very High</td>\n",
       "      <td>Very High</td>\n",
       "      <td>Very High</td>\n",
       "      <td>Very High</td>\n",
       "      <td>Very High</td>\n",
       "    </tr>\n",
       "    <tr>\n",
       "      <th>191</th>\n",
       "      <td>Yemen</td>\n",
       "      <td>Very Low</td>\n",
       "      <td>Very Low</td>\n",
       "      <td>Very Low</td>\n",
       "      <td>Very Low</td>\n",
       "      <td>Very Low</td>\n",
       "      <td>Very Low</td>\n",
       "      <td>Very Low</td>\n",
       "      <td>Very Low</td>\n",
       "      <td>Very Low</td>\n",
       "      <td>...</td>\n",
       "      <td>High</td>\n",
       "      <td>High</td>\n",
       "      <td>High</td>\n",
       "      <td>High</td>\n",
       "      <td>High</td>\n",
       "      <td>High</td>\n",
       "      <td>High</td>\n",
       "      <td>High</td>\n",
       "      <td>High</td>\n",
       "      <td>High</td>\n",
       "    </tr>\n",
       "    <tr>\n",
       "      <th>192</th>\n",
       "      <td>Zambia</td>\n",
       "      <td>High</td>\n",
       "      <td>High</td>\n",
       "      <td>High</td>\n",
       "      <td>High</td>\n",
       "      <td>High</td>\n",
       "      <td>High</td>\n",
       "      <td>High</td>\n",
       "      <td>High</td>\n",
       "      <td>High</td>\n",
       "      <td>...</td>\n",
       "      <td>High</td>\n",
       "      <td>High</td>\n",
       "      <td>High</td>\n",
       "      <td>High</td>\n",
       "      <td>High</td>\n",
       "      <td>High</td>\n",
       "      <td>High</td>\n",
       "      <td>High</td>\n",
       "      <td>High</td>\n",
       "      <td>High</td>\n",
       "    </tr>\n",
       "    <tr>\n",
       "      <th>193</th>\n",
       "      <td>Zimbabwe</td>\n",
       "      <td>Middle</td>\n",
       "      <td>Middle</td>\n",
       "      <td>Middle</td>\n",
       "      <td>Middle</td>\n",
       "      <td>Middle</td>\n",
       "      <td>Middle</td>\n",
       "      <td>Middle</td>\n",
       "      <td>Middle</td>\n",
       "      <td>Middle</td>\n",
       "      <td>...</td>\n",
       "      <td>High</td>\n",
       "      <td>High</td>\n",
       "      <td>High</td>\n",
       "      <td>High</td>\n",
       "      <td>High</td>\n",
       "      <td>High</td>\n",
       "      <td>High</td>\n",
       "      <td>High</td>\n",
       "      <td>High</td>\n",
       "      <td>High</td>\n",
       "    </tr>\n",
       "  </tbody>\n",
       "</table>\n",
       "<p>194 rows × 224 columns</p>\n",
       "</div>"
      ]
     },
     "execution_count": 2,
     "metadata": {},
     "output_type": "execute_result"
    }
   ],
   "execution_count": 2
  },
  {
   "cell_type": "markdown",
   "source": [
    "The classification is based on all years' CO₂ per capita values:\n",
    "\n",
    "* Very Low (Bottom 20%)\n",
    "* Low (20-40%)\n",
    "* Middle (40-60%)\n",
    "* High (60-80%)\n",
    "* Very High (Top 20%)\n",
    "\n",
    "Using a jorgan in social sequence analysis, each category is called a **state**, and the sequence of states is called a social sequence. In sum, the dataset shows the level of the CO₂ emissions per capita of each country in each year. \n",
    "\n",
    "If we take Andorra as an example:  "
   ],
   "metadata": {
    "collapsed": false
   },
   "id": "a006fbe190aabd70"
  },
  {
   "cell_type": "code",
   "source": [
    "# Filter the data for Andorra\n",
    "andorra_df = df[df['country'] == 'Andorra']\n",
    "\n",
    "# Show the Andorra df\n",
    "andorra_df"
   ],
   "metadata": {
    "collapsed": false,
    "ExecuteTime": {
     "end_time": "2025-02-27T15:37:00.880876Z",
     "start_time": "2025-02-27T15:37:00.861726Z"
    }
   },
   "id": "12aa6be870efd0d8",
   "outputs": [
    {
     "data": {
      "text/plain": [
       "   country  1800  1801  1802  1803  1804  1805  1806  1807  1808  ...  \\\n",
       "3  Andorra  High  High  High  High  High  High  High  High  High  ...   \n",
       "\n",
       "        2013       2014       2015       2016       2017       2018  \\\n",
       "3  Very High  Very High  Very High  Very High  Very High  Very High   \n",
       "\n",
       "        2019       2020       2021       2022  \n",
       "3  Very High  Very High  Very High  Very High  \n",
       "\n",
       "[1 rows x 224 columns]"
      ],
      "text/html": [
       "<div>\n",
       "<style scoped>\n",
       "    .dataframe tbody tr th:only-of-type {\n",
       "        vertical-align: middle;\n",
       "    }\n",
       "\n",
       "    .dataframe tbody tr th {\n",
       "        vertical-align: top;\n",
       "    }\n",
       "\n",
       "    .dataframe thead th {\n",
       "        text-align: right;\n",
       "    }\n",
       "</style>\n",
       "<table border=\"1\" class=\"dataframe\">\n",
       "  <thead>\n",
       "    <tr style=\"text-align: right;\">\n",
       "      <th></th>\n",
       "      <th>country</th>\n",
       "      <th>1800</th>\n",
       "      <th>1801</th>\n",
       "      <th>1802</th>\n",
       "      <th>1803</th>\n",
       "      <th>1804</th>\n",
       "      <th>1805</th>\n",
       "      <th>1806</th>\n",
       "      <th>1807</th>\n",
       "      <th>1808</th>\n",
       "      <th>...</th>\n",
       "      <th>2013</th>\n",
       "      <th>2014</th>\n",
       "      <th>2015</th>\n",
       "      <th>2016</th>\n",
       "      <th>2017</th>\n",
       "      <th>2018</th>\n",
       "      <th>2019</th>\n",
       "      <th>2020</th>\n",
       "      <th>2021</th>\n",
       "      <th>2022</th>\n",
       "    </tr>\n",
       "  </thead>\n",
       "  <tbody>\n",
       "    <tr>\n",
       "      <th>3</th>\n",
       "      <td>Andorra</td>\n",
       "      <td>High</td>\n",
       "      <td>High</td>\n",
       "      <td>High</td>\n",
       "      <td>High</td>\n",
       "      <td>High</td>\n",
       "      <td>High</td>\n",
       "      <td>High</td>\n",
       "      <td>High</td>\n",
       "      <td>High</td>\n",
       "      <td>...</td>\n",
       "      <td>Very High</td>\n",
       "      <td>Very High</td>\n",
       "      <td>Very High</td>\n",
       "      <td>Very High</td>\n",
       "      <td>Very High</td>\n",
       "      <td>Very High</td>\n",
       "      <td>Very High</td>\n",
       "      <td>Very High</td>\n",
       "      <td>Very High</td>\n",
       "      <td>Very High</td>\n",
       "    </tr>\n",
       "  </tbody>\n",
       "</table>\n",
       "<p>1 rows × 224 columns</p>\n",
       "</div>"
      ]
     },
     "execution_count": 4,
     "metadata": {},
     "output_type": "execute_result"
    }
   ],
   "execution_count": 4
  },
  {
   "cell_type": "markdown",
   "source": [
    "Based on the outcome, which is a subset of the original dataset, we can see that Andorra's CO₂ emissions per capita have undergone the following changes over the years:\n",
    "\n",
    "* 1990-1991: Started at \"Very High\" levels, indicating emissions in the top 20% of all countries\n",
    "* 1992-1997: Dropped to \"High\" level (60-80th percentile)\n",
    "* 1998: Brief return to \"Very High\" level\n",
    "* 2000s onwards: Stabilized at \"High\" level (60-80th percentile) and maintained this classification through 2019\n",
    "\n",
    "But it comes with a question: What if we want to analyze the sequences of all countries? 🤔 \n",
    "\n",
    "Here we need Sequenzo to help us!"
   ],
   "metadata": {
    "collapsed": false
   },
   "id": "30e759bfac4b9786"
  },
  {
   "cell_type": "markdown",
   "source": [
    "## 2. Analyze Social Sequences with Sequenzo"
   ],
   "metadata": {
    "collapsed": false
   },
   "id": "44a881b50ec7495d"
  },
  {
   "cell_type": "code",
   "source": [
    "# Create a SequenceData object\n",
    "\n",
    "# Define the time-span variable\n",
    "time = list(df.columns)[1:]\n",
    "\n",
    "states = ['Very Low', 'Low', 'Middle', 'High', 'Very High']\n",
    "\n",
    "sequence_data = SequenceData(df, time=time, states=states)\n",
    "\n",
    "sequence_data"
   ],
   "metadata": {
    "collapsed": false,
    "ExecuteTime": {
     "end_time": "2025-02-27T15:37:45.839569Z",
     "start_time": "2025-02-27T15:37:44.882408Z"
    }
   },
   "id": "3592412ab649c869",
   "outputs": [
    {
     "ename": "AttributeError",
     "evalue": "'DataFrame' object has no attribute 'map'",
     "output_type": "error",
     "traceback": [
      "\u001B[1;31m---------------------------------------------------------------------------\u001B[0m",
      "\u001B[1;31mAttributeError\u001B[0m                            Traceback (most recent call last)",
      "Cell \u001B[1;32mIn[5], line 8\u001B[0m\n\u001B[0;32m      4\u001B[0m time \u001B[38;5;241m=\u001B[39m \u001B[38;5;28mlist\u001B[39m(df\u001B[38;5;241m.\u001B[39mcolumns)[\u001B[38;5;241m1\u001B[39m:]\n\u001B[0;32m      6\u001B[0m states \u001B[38;5;241m=\u001B[39m [\u001B[38;5;124m'\u001B[39m\u001B[38;5;124mVery Low\u001B[39m\u001B[38;5;124m'\u001B[39m, \u001B[38;5;124m'\u001B[39m\u001B[38;5;124mLow\u001B[39m\u001B[38;5;124m'\u001B[39m, \u001B[38;5;124m'\u001B[39m\u001B[38;5;124mMiddle\u001B[39m\u001B[38;5;124m'\u001B[39m, \u001B[38;5;124m'\u001B[39m\u001B[38;5;124mHigh\u001B[39m\u001B[38;5;124m'\u001B[39m, \u001B[38;5;124m'\u001B[39m\u001B[38;5;124mVery High\u001B[39m\u001B[38;5;124m'\u001B[39m]\n\u001B[1;32m----> 8\u001B[0m sequence_data \u001B[38;5;241m=\u001B[39m \u001B[43mSequenceData\u001B[49m\u001B[43m(\u001B[49m\u001B[43mdf\u001B[49m\u001B[43m,\u001B[49m\u001B[43m \u001B[49m\u001B[43mtime\u001B[49m\u001B[38;5;241;43m=\u001B[39;49m\u001B[43mtime\u001B[49m\u001B[43m,\u001B[49m\u001B[43m \u001B[49m\u001B[43mstates\u001B[49m\u001B[38;5;241;43m=\u001B[39;49m\u001B[43mstates\u001B[49m\u001B[43m)\u001B[49m\n\u001B[0;32m     10\u001B[0m sequence_data\n",
      "File \u001B[1;32mD:\\college\\research\\QiQi\\sequenzo\\Sequenzo\\sequenzo\\define_sequence_data.py:78\u001B[0m, in \u001B[0;36mSequenceData.__init__\u001B[1;34m(self, data, time, states, alphabet, labels, id_col, weights, start, missing_handling, void, nr, cpal)\u001B[0m\n\u001B[0;32m     76\u001B[0m \u001B[38;5;28mself\u001B[39m\u001B[38;5;241m.\u001B[39mseqdata \u001B[38;5;241m=\u001B[39m \u001B[38;5;28mself\u001B[39m\u001B[38;5;241m.\u001B[39m_extract_sequences()\n\u001B[0;32m     77\u001B[0m \u001B[38;5;28mself\u001B[39m\u001B[38;5;241m.\u001B[39m_process_missing_values()\n\u001B[1;32m---> 78\u001B[0m \u001B[38;5;28;43mself\u001B[39;49m\u001B[38;5;241;43m.\u001B[39;49m\u001B[43m_convert_states\u001B[49m\u001B[43m(\u001B[49m\u001B[43m)\u001B[49m\n\u001B[0;32m     80\u001B[0m \u001B[38;5;66;03m# Assign colors & save legend\u001B[39;00m\n\u001B[0;32m     81\u001B[0m \u001B[38;5;28mself\u001B[39m\u001B[38;5;241m.\u001B[39m_assign_colors()\n",
      "File \u001B[1;32mD:\\college\\research\\QiQi\\sequenzo\\Sequenzo\\sequenzo\\define_sequence_data.py:132\u001B[0m, in \u001B[0;36mSequenceData._convert_states\u001B[1;34m(self)\u001B[0m\n\u001B[0;32m    129\u001B[0m \u001B[38;5;28mself\u001B[39m\u001B[38;5;241m.\u001B[39mstate_mapping \u001B[38;5;241m=\u001B[39m {state: idx \u001B[38;5;28;01mfor\u001B[39;00m idx, state \u001B[38;5;129;01min\u001B[39;00m \u001B[38;5;28menumerate\u001B[39m(unique_states)}\n\u001B[0;32m    131\u001B[0m \u001B[38;5;66;03m# Convert sequences to numeric values\u001B[39;00m\n\u001B[1;32m--> 132\u001B[0m \u001B[38;5;28mself\u001B[39m\u001B[38;5;241m.\u001B[39mseqdata \u001B[38;5;241m=\u001B[39m \u001B[38;5;28;43mself\u001B[39;49m\u001B[38;5;241;43m.\u001B[39;49m\u001B[43mseqdata\u001B[49m\u001B[38;5;241;43m.\u001B[39;49m\u001B[43mmap\u001B[49m(\u001B[38;5;28;01mlambda\u001B[39;00m x: \u001B[38;5;28mself\u001B[39m\u001B[38;5;241m.\u001B[39mstate_mapping\u001B[38;5;241m.\u001B[39mget(x, np\u001B[38;5;241m.\u001B[39mnan))\n",
      "File \u001B[1;32mE:\\anaconda3\\envs\\env01\\lib\\site-packages\\pandas\\core\\generic.py:5989\u001B[0m, in \u001B[0;36mNDFrame.__getattr__\u001B[1;34m(self, name)\u001B[0m\n\u001B[0;32m   5982\u001B[0m \u001B[38;5;28;01mif\u001B[39;00m (\n\u001B[0;32m   5983\u001B[0m     name \u001B[38;5;129;01mnot\u001B[39;00m \u001B[38;5;129;01min\u001B[39;00m \u001B[38;5;28mself\u001B[39m\u001B[38;5;241m.\u001B[39m_internal_names_set\n\u001B[0;32m   5984\u001B[0m     \u001B[38;5;129;01mand\u001B[39;00m name \u001B[38;5;129;01mnot\u001B[39;00m \u001B[38;5;129;01min\u001B[39;00m \u001B[38;5;28mself\u001B[39m\u001B[38;5;241m.\u001B[39m_metadata\n\u001B[0;32m   5985\u001B[0m     \u001B[38;5;129;01mand\u001B[39;00m name \u001B[38;5;129;01mnot\u001B[39;00m \u001B[38;5;129;01min\u001B[39;00m \u001B[38;5;28mself\u001B[39m\u001B[38;5;241m.\u001B[39m_accessors\n\u001B[0;32m   5986\u001B[0m     \u001B[38;5;129;01mand\u001B[39;00m \u001B[38;5;28mself\u001B[39m\u001B[38;5;241m.\u001B[39m_info_axis\u001B[38;5;241m.\u001B[39m_can_hold_identifiers_and_holds_name(name)\n\u001B[0;32m   5987\u001B[0m ):\n\u001B[0;32m   5988\u001B[0m     \u001B[38;5;28;01mreturn\u001B[39;00m \u001B[38;5;28mself\u001B[39m[name]\n\u001B[1;32m-> 5989\u001B[0m \u001B[38;5;28;01mreturn\u001B[39;00m \u001B[38;5;28;43mobject\u001B[39;49m\u001B[38;5;241;43m.\u001B[39;49m\u001B[38;5;21;43m__getattribute__\u001B[39;49m\u001B[43m(\u001B[49m\u001B[38;5;28;43mself\u001B[39;49m\u001B[43m,\u001B[49m\u001B[43m \u001B[49m\u001B[43mname\u001B[49m\u001B[43m)\u001B[49m\n",
      "\u001B[1;31mAttributeError\u001B[0m: 'DataFrame' object has no attribute 'map'"
     ]
    }
   ],
   "execution_count": 5
  },
  {
   "cell_type": "markdown",
   "source": [
    "Now we have successfully created the `SequenceData` object based on our original dataframe, which is the core object in Sequenzo for analyzing social sequences.\n",
    "\n",
    "With our naked eyes, we might be only able to see the sequences of one country at a time. However, with the help of Sequenzo, we can analyze all the sequences of countries in one go. The most important tool is **visualization**, which helps us to understand the patterns and trends in the data.\n",
    "\n",
    "Among the various visualization methods, the most commonly used one is the **index plot**. Let's see how it works."
   ],
   "metadata": {
    "collapsed": false
   },
   "id": "ad497c75a4930ef1"
  },
  {
   "cell_type": "code",
   "execution_count": 7,
   "outputs": [
    {
     "ename": "TypeError",
     "evalue": "_sequence_index_plot_grouping_ncol_not_1() got an unexpected keyword argument 'xlabel'",
     "output_type": "error",
     "traceback": [
      "\u001B[0;31m---------------------------------------------------------------------------\u001B[0m",
      "\u001B[0;31mTypeError\u001B[0m                                 Traceback (most recent call last)",
      "Cell \u001B[0;32mIn[7], line 3\u001B[0m\n\u001B[1;32m      1\u001B[0m \u001B[38;5;66;03m# Plot the index plot\u001B[39;00m\n\u001B[0;32m----> 3\u001B[0m \u001B[43mplot_sequence_index\u001B[49m\u001B[43m(\u001B[49m\u001B[43msequence_data\u001B[49m\u001B[43m,\u001B[49m\u001B[43m \u001B[49m\u001B[43msortv\u001B[49m\u001B[38;5;241;43m=\u001B[39;49m\u001B[38;5;124;43m'\u001B[39;49m\u001B[38;5;124;43mlexical\u001B[39;49m\u001B[38;5;124;43m'\u001B[39;49m\u001B[43m,\u001B[49m\u001B[43m \u001B[49m\u001B[43mid_group_df\u001B[49m\u001B[38;5;241;43m=\u001B[39;49m\u001B[38;5;124;43m'\u001B[39;49m\u001B[38;5;124;43mregion\u001B[39;49m\u001B[38;5;124;43m'\u001B[39;49m\u001B[43m)\u001B[49m\n",
      "File \u001B[0;32m~/Documents/Sequenzo_all_folders/sequenzo/sequenzo/visualization/plot_sequence_index.py:108\u001B[0m, in \u001B[0;36mplot_sequence_index\u001B[0;34m(seqdata, id_group_df, custom_order, sortv, age_labels, title, facet_ncol, xlabel, ylabel, save_as, dpi)\u001B[0m\n\u001B[1;32m    103\u001B[0m     _sequence_index_plot_grouping_ncol_1(seqdata, id_group_df\u001B[38;5;241m=\u001B[39mid_group_df,\n\u001B[1;32m    104\u001B[0m                                          age_labels\u001B[38;5;241m=\u001B[39mage_labels, title\u001B[38;5;241m=\u001B[39mtitle,\n\u001B[1;32m    105\u001B[0m                                          xlabel\u001B[38;5;241m=\u001B[39mxlabel, ylabel\u001B[38;5;241m=\u001B[39mylabel,\n\u001B[1;32m    106\u001B[0m                                          facet_ncol\u001B[38;5;241m=\u001B[39mfacet_ncol, save_as\u001B[38;5;241m=\u001B[39msave_as, dpi\u001B[38;5;241m=\u001B[39mdpi)\n\u001B[1;32m    107\u001B[0m \u001B[38;5;28;01melse\u001B[39;00m:\n\u001B[0;32m--> 108\u001B[0m     \u001B[43m_sequence_index_plot_grouping_ncol_not_1\u001B[49m\u001B[43m(\u001B[49m\u001B[43mseqdata\u001B[49m\u001B[43m,\u001B[49m\u001B[43m \u001B[49m\u001B[43mid_group_df\u001B[49m\u001B[38;5;241;43m=\u001B[39;49m\u001B[43mid_group_df\u001B[49m\u001B[43m,\u001B[49m\n\u001B[1;32m    109\u001B[0m \u001B[43m                                             \u001B[49m\u001B[43mage_labels\u001B[49m\u001B[38;5;241;43m=\u001B[39;49m\u001B[43mage_labels\u001B[49m\u001B[43m,\u001B[49m\u001B[43m \u001B[49m\u001B[43mtitle\u001B[49m\u001B[38;5;241;43m=\u001B[39;49m\u001B[43mtitle\u001B[49m\u001B[43m,\u001B[49m\n\u001B[1;32m    110\u001B[0m \u001B[43m                                             \u001B[49m\u001B[43mxlabel\u001B[49m\u001B[38;5;241;43m=\u001B[39;49m\u001B[43mxlabel\u001B[49m\u001B[43m,\u001B[49m\u001B[43m \u001B[49m\u001B[43mylabel\u001B[49m\u001B[38;5;241;43m=\u001B[39;49m\u001B[43mylabel\u001B[49m\u001B[43m,\u001B[49m\n\u001B[1;32m    111\u001B[0m \u001B[43m                                             \u001B[49m\u001B[43mfacet_ncol\u001B[49m\u001B[38;5;241;43m=\u001B[39;49m\u001B[43mfacet_ncol\u001B[49m\u001B[43m,\u001B[49m\u001B[43m \u001B[49m\u001B[43msave_as\u001B[49m\u001B[38;5;241;43m=\u001B[39;49m\u001B[43msave_as\u001B[49m\u001B[43m,\u001B[49m\u001B[43m \u001B[49m\u001B[43mdpi\u001B[49m\u001B[38;5;241;43m=\u001B[39;49m\u001B[43mdpi\u001B[49m\u001B[43m)\u001B[49m\n",
      "\u001B[0;31mTypeError\u001B[0m: _sequence_index_plot_grouping_ncol_not_1() got an unexpected keyword argument 'xlabel'"
     ]
    }
   ],
   "source": [
    "# Plot the index plot\n",
    "# TODO: debug the plot_sequence_index function\n",
    "\n",
    "plot_sequence_index(sequence_data, sortv='lexical', id_group_df='region')"
   ],
   "metadata": {
    "collapsed": false,
    "ExecuteTime": {
     "end_time": "2025-02-25T23:25:30.176192Z",
     "start_time": "2025-02-25T23:25:30.045762Z"
    }
   },
   "id": "fceb42d95f6eb978"
  },
  {
   "cell_type": "markdown",
   "source": [
    "But what if we would like to know more? state distribution plot. "
   ],
   "metadata": {
    "collapsed": false
   },
   "id": "261531bd43238424"
  },
  {
   "cell_type": "code",
   "execution_count": null,
   "outputs": [],
   "source": [
    "# Plot the state distribution"
   ],
   "metadata": {
    "collapsed": false
   },
   "id": "f9c771e3aae807ff"
  },
  {
   "cell_type": "markdown",
   "source": [],
   "metadata": {
    "collapsed": false
   },
   "id": "e2c4495142d9f6be"
  },
  {
   "cell_type": "code",
   "execution_count": 8,
   "outputs": [
    {
     "ename": "AttributeError",
     "evalue": "'SequenceData' object has no attribute 'var'",
     "output_type": "error",
     "traceback": [
      "\u001B[0;31m---------------------------------------------------------------------------\u001B[0m",
      "\u001B[0;31mAttributeError\u001B[0m                            Traceback (most recent call last)",
      "Cell \u001B[0;32mIn[8], line 1\u001B[0m\n\u001B[0;32m----> 1\u001B[0m \u001B[43mplot_most_frequent_sequences\u001B[49m\u001B[43m(\u001B[49m\u001B[43msequence_data\u001B[49m\u001B[43m,\u001B[49m\u001B[43m \u001B[49m\u001B[43mtop_n\u001B[49m\u001B[38;5;241;43m=\u001B[39;49m\u001B[38;5;241;43m5\u001B[39;49m\u001B[43m)\u001B[49m\n",
      "File \u001B[0;32m~/Documents/Sequenzo_all_folders/sequenzo/sequenzo/visualization/plot_most_frequent_sequences.py:47\u001B[0m, in \u001B[0;36mplot_most_frequent_sequences\u001B[0;34m(seqdata, top_n, save_as, dpi)\u001B[0m\n\u001B[1;32m     44\u001B[0m x_ticks \u001B[38;5;241m=\u001B[39m np\u001B[38;5;241m.\u001B[39marange(sequence_length) \u001B[38;5;241m+\u001B[39m \u001B[38;5;241m0.5\u001B[39m  \u001B[38;5;66;03m# Align X-axis ticks to the center of bars\u001B[39;00m\n\u001B[1;32m     46\u001B[0m \u001B[38;5;66;03m# Use provided time labels if available, otherwise use generic \"C1, C2, ...\"\u001B[39;00m\n\u001B[0;32m---> 47\u001B[0m \u001B[38;5;28;01mif\u001B[39;00m \u001B[43mseqdata\u001B[49m\u001B[38;5;241;43m.\u001B[39;49m\u001B[43mvar\u001B[49m:\n\u001B[1;32m     48\u001B[0m     x_labels \u001B[38;5;241m=\u001B[39m seqdata\u001B[38;5;241m.\u001B[39mcleaned_time\n\u001B[1;32m     49\u001B[0m \u001B[38;5;28;01melse\u001B[39;00m:\n",
      "\u001B[0;31mAttributeError\u001B[0m: 'SequenceData' object has no attribute 'var'"
     ]
    }
   ],
   "source": [
    "plot_most_frequent_sequences(sequence_data, top_n=5)"
   ],
   "metadata": {
    "collapsed": false,
    "ExecuteTime": {
     "end_time": "2025-02-25T23:26:55.208014Z",
     "start_time": "2025-02-25T23:26:55.140171Z"
    }
   },
   "id": "630b98ef7aef7078"
  },
  {
   "cell_type": "code",
   "source": [
    "# You can also replace \"OMspell\" with \"OM/DHD/HAM\" and \"TRATE\" with \"CONSTANT\"\n",
    "omspell = get_distance_matrix(seqdata=sequence_data,\n",
    "                              method='omspell',\n",
    "                              sm=\"TRATE\",\n",
    "                              indel=\"auto\")\n",
    "omspell"
   ],
   "metadata": {
    "collapsed": false,
    "ExecuteTime": {
     "end_time": "2025-02-27T12:59:56.744151Z",
     "start_time": "2025-02-27T12:59:56.712320Z"
    }
   },
   "id": "132fca7c2fafb3f0",
   "outputs": [
    {
     "ename": "NameError",
     "evalue": "name 'sequence_data' is not defined",
     "output_type": "error",
     "traceback": [
      "\u001B[1;31m---------------------------------------------------------------------------\u001B[0m",
      "\u001B[1;31mNameError\u001B[0m                                 Traceback (most recent call last)",
      "Cell \u001B[1;32mIn[18], line 2\u001B[0m\n\u001B[0;32m      1\u001B[0m \u001B[38;5;66;03m# You can also replace \"OMspell\" with \"OM/DHD/HAM\"\u001B[39;00m\n\u001B[1;32m----> 2\u001B[0m omspell \u001B[38;5;241m=\u001B[39m get_distance_matrix(seqdata\u001B[38;5;241m=\u001B[39m\u001B[43msequence_data\u001B[49m,\n\u001B[0;32m      3\u001B[0m                               method\u001B[38;5;241m=\u001B[39m\u001B[38;5;124m'\u001B[39m\u001B[38;5;124momspell\u001B[39m\u001B[38;5;124m'\u001B[39m,\n\u001B[0;32m      4\u001B[0m                               sm\u001B[38;5;241m=\u001B[39m\u001B[38;5;124m\"\u001B[39m\u001B[38;5;124mTRATE\u001B[39m\u001B[38;5;124m\"\u001B[39m,\n\u001B[0;32m      5\u001B[0m                               indel\u001B[38;5;241m=\u001B[39m\u001B[38;5;124m\"\u001B[39m\u001B[38;5;124mauto\u001B[39m\u001B[38;5;124m\"\u001B[39m)\n",
      "\u001B[1;31mNameError\u001B[0m: name 'sequence_data' is not defined"
     ]
    }
   ],
   "execution_count": 18
  },
  {
   "metadata": {},
   "cell_type": "code",
   "outputs": [],
   "execution_count": null,
   "source": "",
   "id": "a55ae7989d3bf308"
  }
 ],
 "metadata": {
  "kernelspec": {
   "display_name": "Python 3",
   "language": "python",
   "name": "python3"
  },
  "language_info": {
   "codemirror_mode": {
    "name": "ipython",
    "version": 2
   },
   "file_extension": ".py",
   "mimetype": "text/x-python",
   "name": "python",
   "nbconvert_exporter": "python",
   "pygments_lexer": "ipython2",
   "version": "2.7.6"
  }
 },
 "nbformat": 4,
 "nbformat_minor": 5
}
