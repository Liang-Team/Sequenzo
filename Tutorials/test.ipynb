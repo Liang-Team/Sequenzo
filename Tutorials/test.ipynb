{
 "cells": [
  {
   "cell_type": "markdown",
   "source": [
    "# Quickstart Guide\n",
    "\n",
    "Congratulations on successfully installing Sequenzo! 🎉 You're now ready to explore social sequence analysis with ease.\n",
    "\n",
    "In this guide, we'll walk you through analyzing country-level CO₂ emissions sequences step by step. If you're curious about how we transformed the original dataset into a format suitable for sequence analysis, you can find the detailed explanation here (TODO: webpage on SequenzoWebsite).\n",
    "\n",
    "New to Python? No worries! We've designed Sequenzo to be intuitive and beginner-friendly, so you can jump right in regardless of whether you are a newbie or a seasoned Python coder. \n",
    "\n",
    "By the end of this tutorial, you'll learn how to:\n",
    "\n",
    "1. Install Sequenzo\n",
    "2. Load and explore a dataset\n",
    "3. Analyze social sequences\n",
    "4. Visualize the results\n",
    "\n",
    "Now, let's get started on this exciting journey! 🐍✨\n"
   ],
   "metadata": {
    "collapsed": false
   },
   "id": "507a5297b4ed0bc9"
  },
  {
   "cell_type": "markdown",
   "source": [
    "## 1. Get a rough idea of the data"
   ],
   "metadata": {
    "collapsed": false
   },
   "id": "46bf41e2bd09b036"
  },
  {
   "cell_type": "code",
   "source": [
    "# Import necessary libraries\n",
    "from sequenzo import * # Social sequence analysis \n",
    "import pandas as pd # Data manipulation\n",
    "\n",
    "# List all the available datasets in Sequenzo\n",
    "print('Available datasets in Sequenzo: ', list_datasets())\n",
    "\n",
    "# Load the data that we would like to explore in this tutorial\n",
    "# `df` is the short for `dataframe`, which is a common variable name for a dataset\n",
    "df = load_dataset('country_co2_emissions')\n",
    "\n",
    "# Show the dataframe\n",
    "df"
   ],
   "metadata": {
    "collapsed": false,
    "ExecuteTime": {
     "end_time": "2025-02-27T18:30:26.996884Z",
     "start_time": "2025-02-27T18:30:26.955150Z"
    }
   },
   "id": "6c8cd664b8f974ab",
   "outputs": [
    {
     "name": "stdout",
     "output_type": "stream",
     "text": [
      "Available datasets in Sequenzo:  ['country_gdp_per_capita', 'country_co2_emissions']\n"
     ]
    },
    {
     "data": {
      "text/plain": "         country      1800      1801      1802      1803      1804      1805  \\\n0    Afghanistan  Very Low  Very Low  Very Low  Very Low  Very Low  Very Low   \n1        Albania  Very Low  Very Low  Very Low  Very Low  Very Low  Very Low   \n2        Algeria  Very Low  Very Low  Very Low  Very Low  Very Low  Very Low   \n3        Andorra      High      High      High      High      High      High   \n4         Angola       Low       Low       Low       Low       Low       Low   \n..           ...       ...       ...       ...       ...       ...       ...   \n189    Venezuela  Very Low  Very Low  Very Low  Very Low  Very Low  Very Low   \n190      Vietnam       Low       Low       Low       Low       Low       Low   \n191        Yemen  Very Low  Very Low  Very Low  Very Low  Very Low  Very Low   \n192       Zambia      High      High      High      High      High      High   \n193     Zimbabwe    Middle    Middle    Middle    Middle    Middle    Middle   \n\n         1806      1807      1808  ...       2013       2014       2015  \\\n0    Very Low  Very Low  Very Low  ...       High       High       High   \n1    Very Low  Very Low  Very Low  ...  Very High  Very High  Very High   \n2    Very Low  Very Low  Very Low  ...  Very High  Very High  Very High   \n3        High      High      High  ...  Very High  Very High  Very High   \n4         Low       Low       Low  ...       High       High       High   \n..        ...       ...       ...  ...        ...        ...        ...   \n189  Very Low  Very Low  Very Low  ...  Very High  Very High  Very High   \n190       Low       Low       Low  ...       High       High       High   \n191  Very Low  Very Low  Very Low  ...       High       High       High   \n192      High      High      High  ...       High       High       High   \n193    Middle    Middle    Middle  ...       High       High       High   \n\n          2016       2017       2018       2019       2020       2021  \\\n0         High       High       High       High       High       High   \n1    Very High  Very High  Very High  Very High  Very High  Very High   \n2    Very High  Very High  Very High  Very High  Very High  Very High   \n3    Very High  Very High  Very High  Very High  Very High  Very High   \n4         High       High       High       High       High       High   \n..         ...        ...        ...        ...        ...        ...   \n189  Very High  Very High       High     Middle       High       High   \n190       High       High  Very High  Very High  Very High  Very High   \n191       High       High       High       High       High       High   \n192       High       High       High       High       High       High   \n193       High       High       High       High       High       High   \n\n          2022  \n0         High  \n1    Very High  \n2    Very High  \n3    Very High  \n4         High  \n..         ...  \n189       High  \n190  Very High  \n191       High  \n192       High  \n193       High  \n\n[194 rows x 224 columns]",
      "text/html": "<div>\n<style scoped>\n    .dataframe tbody tr th:only-of-type {\n        vertical-align: middle;\n    }\n\n    .dataframe tbody tr th {\n        vertical-align: top;\n    }\n\n    .dataframe thead th {\n        text-align: right;\n    }\n</style>\n<table border=\"1\" class=\"dataframe\">\n  <thead>\n    <tr style=\"text-align: right;\">\n      <th></th>\n      <th>country</th>\n      <th>1800</th>\n      <th>1801</th>\n      <th>1802</th>\n      <th>1803</th>\n      <th>1804</th>\n      <th>1805</th>\n      <th>1806</th>\n      <th>1807</th>\n      <th>1808</th>\n      <th>...</th>\n      <th>2013</th>\n      <th>2014</th>\n      <th>2015</th>\n      <th>2016</th>\n      <th>2017</th>\n      <th>2018</th>\n      <th>2019</th>\n      <th>2020</th>\n      <th>2021</th>\n      <th>2022</th>\n    </tr>\n  </thead>\n  <tbody>\n    <tr>\n      <th>0</th>\n      <td>Afghanistan</td>\n      <td>Very Low</td>\n      <td>Very Low</td>\n      <td>Very Low</td>\n      <td>Very Low</td>\n      <td>Very Low</td>\n      <td>Very Low</td>\n      <td>Very Low</td>\n      <td>Very Low</td>\n      <td>Very Low</td>\n      <td>...</td>\n      <td>High</td>\n      <td>High</td>\n      <td>High</td>\n      <td>High</td>\n      <td>High</td>\n      <td>High</td>\n      <td>High</td>\n      <td>High</td>\n      <td>High</td>\n      <td>High</td>\n    </tr>\n    <tr>\n      <th>1</th>\n      <td>Albania</td>\n      <td>Very Low</td>\n      <td>Very Low</td>\n      <td>Very Low</td>\n      <td>Very Low</td>\n      <td>Very Low</td>\n      <td>Very Low</td>\n      <td>Very Low</td>\n      <td>Very Low</td>\n      <td>Very Low</td>\n      <td>...</td>\n      <td>Very High</td>\n      <td>Very High</td>\n      <td>Very High</td>\n      <td>Very High</td>\n      <td>Very High</td>\n      <td>Very High</td>\n      <td>Very High</td>\n      <td>Very High</td>\n      <td>Very High</td>\n      <td>Very High</td>\n    </tr>\n    <tr>\n      <th>2</th>\n      <td>Algeria</td>\n      <td>Very Low</td>\n      <td>Very Low</td>\n      <td>Very Low</td>\n      <td>Very Low</td>\n      <td>Very Low</td>\n      <td>Very Low</td>\n      <td>Very Low</td>\n      <td>Very Low</td>\n      <td>Very Low</td>\n      <td>...</td>\n      <td>Very High</td>\n      <td>Very High</td>\n      <td>Very High</td>\n      <td>Very High</td>\n      <td>Very High</td>\n      <td>Very High</td>\n      <td>Very High</td>\n      <td>Very High</td>\n      <td>Very High</td>\n      <td>Very High</td>\n    </tr>\n    <tr>\n      <th>3</th>\n      <td>Andorra</td>\n      <td>High</td>\n      <td>High</td>\n      <td>High</td>\n      <td>High</td>\n      <td>High</td>\n      <td>High</td>\n      <td>High</td>\n      <td>High</td>\n      <td>High</td>\n      <td>...</td>\n      <td>Very High</td>\n      <td>Very High</td>\n      <td>Very High</td>\n      <td>Very High</td>\n      <td>Very High</td>\n      <td>Very High</td>\n      <td>Very High</td>\n      <td>Very High</td>\n      <td>Very High</td>\n      <td>Very High</td>\n    </tr>\n    <tr>\n      <th>4</th>\n      <td>Angola</td>\n      <td>Low</td>\n      <td>Low</td>\n      <td>Low</td>\n      <td>Low</td>\n      <td>Low</td>\n      <td>Low</td>\n      <td>Low</td>\n      <td>Low</td>\n      <td>Low</td>\n      <td>...</td>\n      <td>High</td>\n      <td>High</td>\n      <td>High</td>\n      <td>High</td>\n      <td>High</td>\n      <td>High</td>\n      <td>High</td>\n      <td>High</td>\n      <td>High</td>\n      <td>High</td>\n    </tr>\n    <tr>\n      <th>...</th>\n      <td>...</td>\n      <td>...</td>\n      <td>...</td>\n      <td>...</td>\n      <td>...</td>\n      <td>...</td>\n      <td>...</td>\n      <td>...</td>\n      <td>...</td>\n      <td>...</td>\n      <td>...</td>\n      <td>...</td>\n      <td>...</td>\n      <td>...</td>\n      <td>...</td>\n      <td>...</td>\n      <td>...</td>\n      <td>...</td>\n      <td>...</td>\n      <td>...</td>\n      <td>...</td>\n    </tr>\n    <tr>\n      <th>189</th>\n      <td>Venezuela</td>\n      <td>Very Low</td>\n      <td>Very Low</td>\n      <td>Very Low</td>\n      <td>Very Low</td>\n      <td>Very Low</td>\n      <td>Very Low</td>\n      <td>Very Low</td>\n      <td>Very Low</td>\n      <td>Very Low</td>\n      <td>...</td>\n      <td>Very High</td>\n      <td>Very High</td>\n      <td>Very High</td>\n      <td>Very High</td>\n      <td>Very High</td>\n      <td>High</td>\n      <td>Middle</td>\n      <td>High</td>\n      <td>High</td>\n      <td>High</td>\n    </tr>\n    <tr>\n      <th>190</th>\n      <td>Vietnam</td>\n      <td>Low</td>\n      <td>Low</td>\n      <td>Low</td>\n      <td>Low</td>\n      <td>Low</td>\n      <td>Low</td>\n      <td>Low</td>\n      <td>Low</td>\n      <td>Low</td>\n      <td>...</td>\n      <td>High</td>\n      <td>High</td>\n      <td>High</td>\n      <td>High</td>\n      <td>High</td>\n      <td>Very High</td>\n      <td>Very High</td>\n      <td>Very High</td>\n      <td>Very High</td>\n      <td>Very High</td>\n    </tr>\n    <tr>\n      <th>191</th>\n      <td>Yemen</td>\n      <td>Very Low</td>\n      <td>Very Low</td>\n      <td>Very Low</td>\n      <td>Very Low</td>\n      <td>Very Low</td>\n      <td>Very Low</td>\n      <td>Very Low</td>\n      <td>Very Low</td>\n      <td>Very Low</td>\n      <td>...</td>\n      <td>High</td>\n      <td>High</td>\n      <td>High</td>\n      <td>High</td>\n      <td>High</td>\n      <td>High</td>\n      <td>High</td>\n      <td>High</td>\n      <td>High</td>\n      <td>High</td>\n    </tr>\n    <tr>\n      <th>192</th>\n      <td>Zambia</td>\n      <td>High</td>\n      <td>High</td>\n      <td>High</td>\n      <td>High</td>\n      <td>High</td>\n      <td>High</td>\n      <td>High</td>\n      <td>High</td>\n      <td>High</td>\n      <td>...</td>\n      <td>High</td>\n      <td>High</td>\n      <td>High</td>\n      <td>High</td>\n      <td>High</td>\n      <td>High</td>\n      <td>High</td>\n      <td>High</td>\n      <td>High</td>\n      <td>High</td>\n    </tr>\n    <tr>\n      <th>193</th>\n      <td>Zimbabwe</td>\n      <td>Middle</td>\n      <td>Middle</td>\n      <td>Middle</td>\n      <td>Middle</td>\n      <td>Middle</td>\n      <td>Middle</td>\n      <td>Middle</td>\n      <td>Middle</td>\n      <td>Middle</td>\n      <td>...</td>\n      <td>High</td>\n      <td>High</td>\n      <td>High</td>\n      <td>High</td>\n      <td>High</td>\n      <td>High</td>\n      <td>High</td>\n      <td>High</td>\n      <td>High</td>\n      <td>High</td>\n    </tr>\n  </tbody>\n</table>\n<p>194 rows × 224 columns</p>\n</div>"
     },
     "execution_count": 4,
     "metadata": {},
     "output_type": "execute_result"
    }
   ],
   "execution_count": 4
  },
  {
   "cell_type": "markdown",
   "source": [
    "The classification is based on all years' CO₂ per capita values:\n",
    "\n",
    "* Very Low (Bottom 20%)\n",
    "* Low (20-40%)\n",
    "* Middle (40-60%)\n",
    "* High (60-80%)\n",
    "* Very High (Top 20%)\n",
    "\n",
    "Using a jorgan in social sequence analysis, each category is called a **state**, and the sequence of states is called a social sequence. In sum, the dataset shows the level of the CO₂ emissions per capita of each country in each year. \n",
    "\n",
    "If we take Andorra as an example:  "
   ],
   "metadata": {
    "collapsed": false
   },
   "id": "a006fbe190aabd70"
  },
  {
   "cell_type": "code",
   "source": [
    "# Filter the data for Andorra\n",
    "andorra_df = df[df['country'] == 'Andorra']\n",
    "\n",
    "# Show the Andorra df\n",
    "andorra_df"
   ],
   "metadata": {
    "collapsed": false,
    "ExecuteTime": {
     "end_time": "2025-02-27T18:24:13.644599Z",
     "start_time": "2025-02-27T18:24:13.634018Z"
    }
   },
   "id": "12aa6be870efd0d8",
   "outputs": [
    {
     "data": {
      "text/plain": "   country  1800  1801  1802  1803  1804  1805  1806  1807  1808  ...  \\\n3  Andorra  High  High  High  High  High  High  High  High  High  ...   \n\n        2013       2014       2015       2016       2017       2018  \\\n3  Very High  Very High  Very High  Very High  Very High  Very High   \n\n        2019       2020       2021       2022  \n3  Very High  Very High  Very High  Very High  \n\n[1 rows x 224 columns]",
      "text/html": "<div>\n<style scoped>\n    .dataframe tbody tr th:only-of-type {\n        vertical-align: middle;\n    }\n\n    .dataframe tbody tr th {\n        vertical-align: top;\n    }\n\n    .dataframe thead th {\n        text-align: right;\n    }\n</style>\n<table border=\"1\" class=\"dataframe\">\n  <thead>\n    <tr style=\"text-align: right;\">\n      <th></th>\n      <th>country</th>\n      <th>1800</th>\n      <th>1801</th>\n      <th>1802</th>\n      <th>1803</th>\n      <th>1804</th>\n      <th>1805</th>\n      <th>1806</th>\n      <th>1807</th>\n      <th>1808</th>\n      <th>...</th>\n      <th>2013</th>\n      <th>2014</th>\n      <th>2015</th>\n      <th>2016</th>\n      <th>2017</th>\n      <th>2018</th>\n      <th>2019</th>\n      <th>2020</th>\n      <th>2021</th>\n      <th>2022</th>\n    </tr>\n  </thead>\n  <tbody>\n    <tr>\n      <th>3</th>\n      <td>Andorra</td>\n      <td>High</td>\n      <td>High</td>\n      <td>High</td>\n      <td>High</td>\n      <td>High</td>\n      <td>High</td>\n      <td>High</td>\n      <td>High</td>\n      <td>High</td>\n      <td>...</td>\n      <td>Very High</td>\n      <td>Very High</td>\n      <td>Very High</td>\n      <td>Very High</td>\n      <td>Very High</td>\n      <td>Very High</td>\n      <td>Very High</td>\n      <td>Very High</td>\n      <td>Very High</td>\n      <td>Very High</td>\n    </tr>\n  </tbody>\n</table>\n<p>1 rows × 224 columns</p>\n</div>"
     },
     "execution_count": 2,
     "metadata": {},
     "output_type": "execute_result"
    }
   ],
   "execution_count": 2
  },
  {
   "cell_type": "markdown",
   "source": [
    "Based on the outcome, which is a subset of the original dataset, we can see that Andorra's CO₂ emissions per capita have undergone the following changes over the years:\n",
    "\n",
    "* 1990-1991: Started at \"Very High\" levels, indicating emissions in the top 20% of all countries\n",
    "* 1992-1997: Dropped to \"High\" level (60-80th percentile)\n",
    "* 1998: Brief return to \"Very High\" level\n",
    "* 2000s onwards: Stabilized at \"High\" level (60-80th percentile) and maintained this classification through 2019\n",
    "\n",
    "But it comes with a question: What if we want to analyze the sequences of all countries? 🤔 \n",
    "\n",
    "Here we need Sequenzo to help us!"
   ],
   "metadata": {
    "collapsed": false
   },
   "id": "30e759bfac4b9786"
  },
  {
   "cell_type": "markdown",
   "source": [
    "## 2. Analyze Social Sequences with Sequenzo"
   ],
   "metadata": {
    "collapsed": false
   },
   "id": "44a881b50ec7495d"
  },
  {
   "cell_type": "code",
   "source": [
    "# Create a SequenceData object\n",
    "\n",
    "# Define the time-span variable\n",
    "time = list(df.columns)[1:]\n",
    "\n",
    "states = ['Very Low', 'Low', 'Middle', 'High', 'Very High']\n",
    "\n",
    "sequence_data = SequenceData(df, time=time, states=states)\n",
    "\n",
    "sequence_data"
   ],
   "metadata": {
    "collapsed": false,
    "ExecuteTime": {
     "end_time": "2025-02-27T18:25:53.835546Z",
     "start_time": "2025-02-27T18:25:53.769563Z"
    }
   },
   "id": "3592412ab649c869",
   "outputs": [
    {
     "name": "stdout",
     "output_type": "stream",
     "text": [
      "\n",
      "✅ SequenceData initialized successfully! Here's a summary:\n",
      "🔍 Number of sequences: 194\n",
      "📏 Min/Max sequence length: 223 / 223\n",
      "🔤 Alphabet: ['High', 'Low', 'Middle', 'Very High', 'Very Low']\n"
     ]
    },
    {
     "name": "stderr",
     "output_type": "stream",
     "text": [
      "/Users/lei/Documents/Sequenzo_all_folders/sequenzo/sequenzo/define_sequence_data.py:151: FutureWarning: DataFrame.applymap has been deprecated. Use DataFrame.map instead.\n",
      "  self.seqdata = self.seqdata.applymap(lambda x: self.state_mapping.get(x, 0))    # Convert sequences to numeric values\n"
     ]
    },
    {
     "data": {
      "text/plain": "SequenceData(194 sequences, Alphabet: ['High', 'Low', 'Middle', 'Very High', 'Very Low'])"
     },
     "execution_count": 2,
     "metadata": {},
     "output_type": "execute_result"
    }
   ],
   "execution_count": 2
  },
  {
   "cell_type": "markdown",
   "source": [
    "Now we have successfully created the `SequenceData` object based on our original dataframe, which is the core object in Sequenzo for analyzing social sequences.\n",
    "\n",
    "With our naked eyes, we might be only able to see the sequences of one country at a time. However, with the help of Sequenzo, we can analyze all the sequences of countries in one go. The most important tool is **visualization**, which helps us to understand the patterns and trends in the data.\n",
    "\n",
    "Among the various visualization methods, the most commonly used one is the **index plot**. Let's see how it works."
   ],
   "metadata": {
    "collapsed": false
   },
   "id": "ad497c75a4930ef1"
  },
  {
   "cell_type": "code",
   "source": [
    "# Plot the index plot\n",
    "# TODO: debug the plot_sequence_index function\n",
    "\n",
    "plot_sequence_index(sequence_data, sortv='lexical', id_group_df='region')"
   ],
   "metadata": {
    "collapsed": false,
    "ExecuteTime": {
     "end_time": "2025-02-27T17:01:01.496644Z",
     "start_time": "2025-02-27T17:01:01.354496Z"
    }
   },
   "id": "fceb42d95f6eb978",
   "outputs": [
    {
     "ename": "TypeError",
     "evalue": "_sequence_index_plot_grouping_ncol_not_1() missing 1 required positional argument: 'categories'",
     "output_type": "error",
     "traceback": [
      "\u001B[1;31m---------------------------------------------------------------------------\u001B[0m",
      "\u001B[1;31mTypeError\u001B[0m                                 Traceback (most recent call last)",
      "Cell \u001B[1;32mIn[6], line 4\u001B[0m\n\u001B[0;32m      1\u001B[0m \u001B[38;5;66;03m# Plot the index plot\u001B[39;00m\n\u001B[0;32m      2\u001B[0m \u001B[38;5;66;03m# TODO: debug the plot_sequence_index function\u001B[39;00m\n\u001B[1;32m----> 4\u001B[0m \u001B[43mplot_sequence_index\u001B[49m\u001B[43m(\u001B[49m\u001B[43msequence_data\u001B[49m\u001B[43m,\u001B[49m\u001B[43m \u001B[49m\u001B[43msortv\u001B[49m\u001B[38;5;241;43m=\u001B[39;49m\u001B[38;5;124;43m'\u001B[39;49m\u001B[38;5;124;43mlexical\u001B[39;49m\u001B[38;5;124;43m'\u001B[39;49m\u001B[43m,\u001B[49m\u001B[43m \u001B[49m\u001B[43mid_group_df\u001B[49m\u001B[38;5;241;43m=\u001B[39;49m\u001B[38;5;124;43m'\u001B[39;49m\u001B[38;5;124;43mregion\u001B[39;49m\u001B[38;5;124;43m'\u001B[39;49m\u001B[43m)\u001B[49m\n",
      "File \u001B[1;32mD:\\college\\research\\QiQi\\sequenzo\\Sequenzo\\sequenzo\\visualization\\plot_sequence_index.py:108\u001B[0m, in \u001B[0;36mplot_sequence_index\u001B[1;34m(seqdata, id_group_df, custom_order, sortv, age_labels, title, facet_ncol, xlabel, ylabel, save_as, dpi)\u001B[0m\n\u001B[0;32m    103\u001B[0m     _sequence_index_plot_grouping_ncol_1(seqdata, id_group_df\u001B[38;5;241m=\u001B[39mid_group_df,\n\u001B[0;32m    104\u001B[0m                                          age_labels\u001B[38;5;241m=\u001B[39mage_labels, title\u001B[38;5;241m=\u001B[39mtitle,\n\u001B[0;32m    105\u001B[0m                                          xlabel\u001B[38;5;241m=\u001B[39mxlabel, ylabel\u001B[38;5;241m=\u001B[39mylabel,\n\u001B[0;32m    106\u001B[0m                                          facet_ncol\u001B[38;5;241m=\u001B[39mfacet_ncol, save_as\u001B[38;5;241m=\u001B[39msave_as, dpi\u001B[38;5;241m=\u001B[39mdpi)\n\u001B[0;32m    107\u001B[0m \u001B[38;5;28;01melse\u001B[39;00m:\n\u001B[1;32m--> 108\u001B[0m     \u001B[43m_sequence_index_plot_grouping_ncol_not_1\u001B[49m\u001B[43m(\u001B[49m\u001B[43mseqdata\u001B[49m\u001B[43m,\u001B[49m\u001B[43m \u001B[49m\u001B[43mid_group_df\u001B[49m\u001B[38;5;241;43m=\u001B[39;49m\u001B[43mid_group_df\u001B[49m\u001B[43m,\u001B[49m\n\u001B[0;32m    109\u001B[0m \u001B[43m                                             \u001B[49m\u001B[43mage_labels\u001B[49m\u001B[38;5;241;43m=\u001B[39;49m\u001B[43mage_labels\u001B[49m\u001B[43m,\u001B[49m\u001B[43m \u001B[49m\u001B[43mtitle\u001B[49m\u001B[38;5;241;43m=\u001B[39;49m\u001B[43mtitle\u001B[49m\u001B[43m,\u001B[49m\n\u001B[0;32m    110\u001B[0m \u001B[43m                                             \u001B[49m\u001B[43mxlabel\u001B[49m\u001B[38;5;241;43m=\u001B[39;49m\u001B[43mxlabel\u001B[49m\u001B[43m,\u001B[49m\u001B[43m \u001B[49m\u001B[43mylabel\u001B[49m\u001B[38;5;241;43m=\u001B[39;49m\u001B[43mylabel\u001B[49m\u001B[43m,\u001B[49m\n\u001B[0;32m    111\u001B[0m \u001B[43m                                             \u001B[49m\u001B[43mfacet_ncol\u001B[49m\u001B[38;5;241;43m=\u001B[39;49m\u001B[43mfacet_ncol\u001B[49m\u001B[43m,\u001B[49m\u001B[43m \u001B[49m\u001B[43msave_as\u001B[49m\u001B[38;5;241;43m=\u001B[39;49m\u001B[43msave_as\u001B[49m\u001B[43m,\u001B[49m\u001B[43m \u001B[49m\u001B[43mdpi\u001B[49m\u001B[38;5;241;43m=\u001B[39;49m\u001B[43mdpi\u001B[49m\u001B[43m)\u001B[49m\n",
      "\u001B[1;31mTypeError\u001B[0m: _sequence_index_plot_grouping_ncol_not_1() missing 1 required positional argument: 'categories'"
     ]
    }
   ],
   "execution_count": 6
  },
  {
   "cell_type": "markdown",
   "source": [
    "But what if we would like to know more? state distribution plot. "
   ],
   "metadata": {
    "collapsed": false
   },
   "id": "261531bd43238424"
  },
  {
   "cell_type": "code",
   "execution_count": null,
   "outputs": [],
   "source": [
    "# Plot the state distribution"
   ],
   "metadata": {
    "collapsed": false
   },
   "id": "f9c771e3aae807ff"
  },
  {
   "cell_type": "markdown",
   "source": [],
   "metadata": {
    "collapsed": false
   },
   "id": "e2c4495142d9f6be"
  },
  {
   "cell_type": "code",
   "execution_count": 8,
   "outputs": [
    {
     "ename": "AttributeError",
     "evalue": "'SequenceData' object has no attribute 'var'",
     "output_type": "error",
     "traceback": [
      "\u001B[0;31m---------------------------------------------------------------------------\u001B[0m",
      "\u001B[0;31mAttributeError\u001B[0m                            Traceback (most recent call last)",
      "Cell \u001B[0;32mIn[8], line 1\u001B[0m\n\u001B[0;32m----> 1\u001B[0m \u001B[43mplot_most_frequent_sequences\u001B[49m\u001B[43m(\u001B[49m\u001B[43msequence_data\u001B[49m\u001B[43m,\u001B[49m\u001B[43m \u001B[49m\u001B[43mtop_n\u001B[49m\u001B[38;5;241;43m=\u001B[39;49m\u001B[38;5;241;43m5\u001B[39;49m\u001B[43m)\u001B[49m\n",
      "File \u001B[0;32m~/Documents/Sequenzo_all_folders/sequenzo/sequenzo/visualization/plot_most_frequent_sequences.py:47\u001B[0m, in \u001B[0;36mplot_most_frequent_sequences\u001B[0;34m(seqdata, top_n, save_as, dpi)\u001B[0m\n\u001B[1;32m     44\u001B[0m x_ticks \u001B[38;5;241m=\u001B[39m np\u001B[38;5;241m.\u001B[39marange(sequence_length) \u001B[38;5;241m+\u001B[39m \u001B[38;5;241m0.5\u001B[39m  \u001B[38;5;66;03m# Align X-axis ticks to the center of bars\u001B[39;00m\n\u001B[1;32m     46\u001B[0m \u001B[38;5;66;03m# Use provided time labels if available, otherwise use generic \"C1, C2, ...\"\u001B[39;00m\n\u001B[0;32m---> 47\u001B[0m \u001B[38;5;28;01mif\u001B[39;00m \u001B[43mseqdata\u001B[49m\u001B[38;5;241;43m.\u001B[39;49m\u001B[43mvar\u001B[49m:\n\u001B[1;32m     48\u001B[0m     x_labels \u001B[38;5;241m=\u001B[39m seqdata\u001B[38;5;241m.\u001B[39mcleaned_time\n\u001B[1;32m     49\u001B[0m \u001B[38;5;28;01melse\u001B[39;00m:\n",
      "\u001B[0;31mAttributeError\u001B[0m: 'SequenceData' object has no attribute 'var'"
     ]
    }
   ],
   "source": [
    "plot_most_frequent_sequences(sequence_data, top_n=5)"
   ],
   "metadata": {
    "collapsed": false,
    "ExecuteTime": {
     "end_time": "2025-02-25T23:26:55.208014Z",
     "start_time": "2025-02-25T23:26:55.140171Z"
    }
   },
   "id": "630b98ef7aef7078"
  },
  {
   "cell_type": "code",
   "source": [
    "# You can also replace \"OMspell\" with \"OM/DHD/HAM\" and \"TRATE\" with \"CONSTANT\"\n",
    "omspell = get_distance_matrix(seqdata=sequence_data,\n",
    "                              method='OMspell',\n",
    "                              sm=\"TRATE\",\n",
    "                              indel=\"auto\")\n",
    "omspell"
   ],
   "metadata": {
    "collapsed": false,
    "ExecuteTime": {
     "end_time": "2025-02-27T18:25:58.852942Z",
     "start_time": "2025-02-27T18:25:57.677Z"
    }
   },
   "id": "132fca7c2fafb3f0",
   "outputs": [
    {
     "name": "stdout",
     "output_type": "stream",
     "text": [
      "[>] 194 sequences with 6 distinct states.\n",
      "Computing sm with seqcost using TRATE\n",
      " [>] creating substitution-cost matrix using transition rates ...\n",
      " [>] Computing transition probabilities for states ['High', 'Low', 'Middle', 'Very High', 'Very Low'] ...\n",
      "[>] Generated an indel of type number.\n",
      "[>] 192 distinct spell sequences .\n",
      "[>] min/max spell sequence lengths: 1 / 24.\n",
      "OMspell starts ......\n",
      "[>] start f:compute_all_distances() ...\n",
      "[>] successfully computed!\n",
      "Completion matrix starts ......\n",
      "[>] start f:padding_matrix() ...\n",
      "[>] successfully complete!\n"
     ]
    },
    {
     "name": "stderr",
     "output_type": "stream",
     "text": [
      "/Users/lei/Documents/Sequenzo_all_folders/sequenzo/sequenzo/dissimilarity_measures/get_distance_matrix.py:542: RuntimeWarning: invalid value encountered in cast\n",
      "  om = c_code.OMspellDistance(dseqs_num.astype(np.int32),\n"
     ]
    },
    {
     "data": {
      "text/plain": "            0           1           2      3           4           5    \\\n0      0.000000   69.447981   69.466725  214.0  183.500000  180.000000   \n1     69.447981    0.000000   55.966725  182.5  197.000000  179.500000   \n2     69.466725   55.966725    0.000000  153.5  187.000000  153.500000   \n3    214.000000  182.500000  153.500000    0.0  170.500000  170.000000   \n4    183.500000  197.000000  187.000000  170.5    0.000000  135.500000   \n..          ...         ...         ...    ...         ...         ...   \n189   91.896885   76.500000   39.500000  137.0  204.500000  162.000000   \n190  166.000000  187.484482  180.483481  166.0   59.500000  124.999418   \n191   58.499418   58.999418   68.948563  171.5  155.999418  194.500000   \n192  213.500000  203.000000  205.000000  125.5  170.000000  209.500000   \n193  186.843289  168.500000  195.500000  190.0  179.500000  111.000000   \n\n            6           7           8           9    ...         184  \\\n0    187.500000  107.499418  182.500000  188.499418  ...   89.500000   \n1    180.000000   96.967925  176.000000  165.000000  ...  122.000000   \n2    144.000000   89.000000  145.000000  152.000000  ...  106.000000   \n3     52.500000  165.500000   66.500000  132.500000  ...  225.448563   \n4    153.000000  167.000000  170.000000  194.000000  ...  155.000000   \n..          ...         ...         ...         ...  ...         ...   \n189  134.500000  102.500000  129.500000  131.500000  ...  112.500000   \n190  140.500000  156.499418  157.500000  175.499418  ...  150.500000   \n191  171.948563  116.000000  187.967344  201.967925  ...  108.948563   \n192  124.000000  198.000000  190.000000  210.000000  ...  224.948563   \n193  139.500000  130.500000  129.500000  133.500000  ...  162.500000   \n\n            185         186         187         188         189         190  \\\n0    117.500000  151.498799  116.500000  166.466725   91.896885  166.000000   \n1    102.999418  137.948563  104.999418  176.999418   76.500000  187.484482   \n2     76.000000  125.997998   75.000000  190.960807   39.500000  180.483481   \n3    117.500000  189.500000  106.500000  159.460807  137.000000  166.000000   \n4    171.000000  130.948563  170.000000   95.000000  204.500000   59.500000   \n..          ...         ...         ...         ...         ...         ...   \n189   61.500000  134.500000   62.499418  202.500000    0.000000  199.999418   \n190  163.500000  110.396885  163.500000   76.428732  199.999418    0.000000   \n191  127.948563  155.000000  126.948563  152.999418   92.500000  146.499418   \n192  198.000000  222.000000  196.000000  159.000000  216.500000  171.500000   \n193  160.448563  193.500000  160.448563  130.448563  200.000000  163.895926   \n\n            191    192         193  \n0     58.499418  213.5  186.843289  \n1     58.999418  203.0  168.500000  \n2     68.948563  205.0  195.500000  \n3    171.500000  125.5  190.000000  \n4    155.999418  170.0  179.500000  \n..          ...    ...         ...  \n189   92.500000  216.5  200.000000  \n190  146.499418  171.5  163.895926  \n191    0.000000  171.0  184.467925  \n192  171.000000    0.0  195.500000  \n193  184.467925  195.5    0.000000  \n\n[194 rows x 194 columns]",
      "text/html": "<div>\n<style scoped>\n    .dataframe tbody tr th:only-of-type {\n        vertical-align: middle;\n    }\n\n    .dataframe tbody tr th {\n        vertical-align: top;\n    }\n\n    .dataframe thead th {\n        text-align: right;\n    }\n</style>\n<table border=\"1\" class=\"dataframe\">\n  <thead>\n    <tr style=\"text-align: right;\">\n      <th></th>\n      <th>0</th>\n      <th>1</th>\n      <th>2</th>\n      <th>3</th>\n      <th>4</th>\n      <th>5</th>\n      <th>6</th>\n      <th>7</th>\n      <th>8</th>\n      <th>9</th>\n      <th>...</th>\n      <th>184</th>\n      <th>185</th>\n      <th>186</th>\n      <th>187</th>\n      <th>188</th>\n      <th>189</th>\n      <th>190</th>\n      <th>191</th>\n      <th>192</th>\n      <th>193</th>\n    </tr>\n  </thead>\n  <tbody>\n    <tr>\n      <th>0</th>\n      <td>0.000000</td>\n      <td>69.447981</td>\n      <td>69.466725</td>\n      <td>214.0</td>\n      <td>183.500000</td>\n      <td>180.000000</td>\n      <td>187.500000</td>\n      <td>107.499418</td>\n      <td>182.500000</td>\n      <td>188.499418</td>\n      <td>...</td>\n      <td>89.500000</td>\n      <td>117.500000</td>\n      <td>151.498799</td>\n      <td>116.500000</td>\n      <td>166.466725</td>\n      <td>91.896885</td>\n      <td>166.000000</td>\n      <td>58.499418</td>\n      <td>213.5</td>\n      <td>186.843289</td>\n    </tr>\n    <tr>\n      <th>1</th>\n      <td>69.447981</td>\n      <td>0.000000</td>\n      <td>55.966725</td>\n      <td>182.5</td>\n      <td>197.000000</td>\n      <td>179.500000</td>\n      <td>180.000000</td>\n      <td>96.967925</td>\n      <td>176.000000</td>\n      <td>165.000000</td>\n      <td>...</td>\n      <td>122.000000</td>\n      <td>102.999418</td>\n      <td>137.948563</td>\n      <td>104.999418</td>\n      <td>176.999418</td>\n      <td>76.500000</td>\n      <td>187.484482</td>\n      <td>58.999418</td>\n      <td>203.0</td>\n      <td>168.500000</td>\n    </tr>\n    <tr>\n      <th>2</th>\n      <td>69.466725</td>\n      <td>55.966725</td>\n      <td>0.000000</td>\n      <td>153.5</td>\n      <td>187.000000</td>\n      <td>153.500000</td>\n      <td>144.000000</td>\n      <td>89.000000</td>\n      <td>145.000000</td>\n      <td>152.000000</td>\n      <td>...</td>\n      <td>106.000000</td>\n      <td>76.000000</td>\n      <td>125.997998</td>\n      <td>75.000000</td>\n      <td>190.960807</td>\n      <td>39.500000</td>\n      <td>180.483481</td>\n      <td>68.948563</td>\n      <td>205.0</td>\n      <td>195.500000</td>\n    </tr>\n    <tr>\n      <th>3</th>\n      <td>214.000000</td>\n      <td>182.500000</td>\n      <td>153.500000</td>\n      <td>0.0</td>\n      <td>170.500000</td>\n      <td>170.000000</td>\n      <td>52.500000</td>\n      <td>165.500000</td>\n      <td>66.500000</td>\n      <td>132.500000</td>\n      <td>...</td>\n      <td>225.448563</td>\n      <td>117.500000</td>\n      <td>189.500000</td>\n      <td>106.500000</td>\n      <td>159.460807</td>\n      <td>137.000000</td>\n      <td>166.000000</td>\n      <td>171.500000</td>\n      <td>125.5</td>\n      <td>190.000000</td>\n    </tr>\n    <tr>\n      <th>4</th>\n      <td>183.500000</td>\n      <td>197.000000</td>\n      <td>187.000000</td>\n      <td>170.5</td>\n      <td>0.000000</td>\n      <td>135.500000</td>\n      <td>153.000000</td>\n      <td>167.000000</td>\n      <td>170.000000</td>\n      <td>194.000000</td>\n      <td>...</td>\n      <td>155.000000</td>\n      <td>171.000000</td>\n      <td>130.948563</td>\n      <td>170.000000</td>\n      <td>95.000000</td>\n      <td>204.500000</td>\n      <td>59.500000</td>\n      <td>155.999418</td>\n      <td>170.0</td>\n      <td>179.500000</td>\n    </tr>\n    <tr>\n      <th>...</th>\n      <td>...</td>\n      <td>...</td>\n      <td>...</td>\n      <td>...</td>\n      <td>...</td>\n      <td>...</td>\n      <td>...</td>\n      <td>...</td>\n      <td>...</td>\n      <td>...</td>\n      <td>...</td>\n      <td>...</td>\n      <td>...</td>\n      <td>...</td>\n      <td>...</td>\n      <td>...</td>\n      <td>...</td>\n      <td>...</td>\n      <td>...</td>\n      <td>...</td>\n      <td>...</td>\n    </tr>\n    <tr>\n      <th>189</th>\n      <td>91.896885</td>\n      <td>76.500000</td>\n      <td>39.500000</td>\n      <td>137.0</td>\n      <td>204.500000</td>\n      <td>162.000000</td>\n      <td>134.500000</td>\n      <td>102.500000</td>\n      <td>129.500000</td>\n      <td>131.500000</td>\n      <td>...</td>\n      <td>112.500000</td>\n      <td>61.500000</td>\n      <td>134.500000</td>\n      <td>62.499418</td>\n      <td>202.500000</td>\n      <td>0.000000</td>\n      <td>199.999418</td>\n      <td>92.500000</td>\n      <td>216.5</td>\n      <td>200.000000</td>\n    </tr>\n    <tr>\n      <th>190</th>\n      <td>166.000000</td>\n      <td>187.484482</td>\n      <td>180.483481</td>\n      <td>166.0</td>\n      <td>59.500000</td>\n      <td>124.999418</td>\n      <td>140.500000</td>\n      <td>156.499418</td>\n      <td>157.500000</td>\n      <td>175.499418</td>\n      <td>...</td>\n      <td>150.500000</td>\n      <td>163.500000</td>\n      <td>110.396885</td>\n      <td>163.500000</td>\n      <td>76.428732</td>\n      <td>199.999418</td>\n      <td>0.000000</td>\n      <td>146.499418</td>\n      <td>171.5</td>\n      <td>163.895926</td>\n    </tr>\n    <tr>\n      <th>191</th>\n      <td>58.499418</td>\n      <td>58.999418</td>\n      <td>68.948563</td>\n      <td>171.5</td>\n      <td>155.999418</td>\n      <td>194.500000</td>\n      <td>171.948563</td>\n      <td>116.000000</td>\n      <td>187.967344</td>\n      <td>201.967925</td>\n      <td>...</td>\n      <td>108.948563</td>\n      <td>127.948563</td>\n      <td>155.000000</td>\n      <td>126.948563</td>\n      <td>152.999418</td>\n      <td>92.500000</td>\n      <td>146.499418</td>\n      <td>0.000000</td>\n      <td>171.0</td>\n      <td>184.467925</td>\n    </tr>\n    <tr>\n      <th>192</th>\n      <td>213.500000</td>\n      <td>203.000000</td>\n      <td>205.000000</td>\n      <td>125.5</td>\n      <td>170.000000</td>\n      <td>209.500000</td>\n      <td>124.000000</td>\n      <td>198.000000</td>\n      <td>190.000000</td>\n      <td>210.000000</td>\n      <td>...</td>\n      <td>224.948563</td>\n      <td>198.000000</td>\n      <td>222.000000</td>\n      <td>196.000000</td>\n      <td>159.000000</td>\n      <td>216.500000</td>\n      <td>171.500000</td>\n      <td>171.000000</td>\n      <td>0.0</td>\n      <td>195.500000</td>\n    </tr>\n    <tr>\n      <th>193</th>\n      <td>186.843289</td>\n      <td>168.500000</td>\n      <td>195.500000</td>\n      <td>190.0</td>\n      <td>179.500000</td>\n      <td>111.000000</td>\n      <td>139.500000</td>\n      <td>130.500000</td>\n      <td>129.500000</td>\n      <td>133.500000</td>\n      <td>...</td>\n      <td>162.500000</td>\n      <td>160.448563</td>\n      <td>193.500000</td>\n      <td>160.448563</td>\n      <td>130.448563</td>\n      <td>200.000000</td>\n      <td>163.895926</td>\n      <td>184.467925</td>\n      <td>195.5</td>\n      <td>0.000000</td>\n    </tr>\n  </tbody>\n</table>\n<p>194 rows × 194 columns</p>\n</div>"
     },
     "execution_count": 3,
     "metadata": {},
     "output_type": "execute_result"
    }
   ],
   "execution_count": 3
  },
  {
   "metadata": {},
   "cell_type": "code",
   "outputs": [],
   "execution_count": null,
   "source": [],
   "id": "a55ae7989d3bf308"
  }
 ],
 "metadata": {
  "kernelspec": {
   "display_name": "Python 3",
   "language": "python",
   "name": "python3"
  },
  "language_info": {
   "codemirror_mode": {
    "name": "ipython",
    "version": 2
   },
   "file_extension": ".py",
   "mimetype": "text/x-python",
   "name": "python",
   "nbconvert_exporter": "python",
   "pygments_lexer": "ipython2",
   "version": "2.7.6"
  }
 },
 "nbformat": 4,
 "nbformat_minor": 5
}
