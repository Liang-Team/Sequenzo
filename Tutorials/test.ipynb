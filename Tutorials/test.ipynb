{
 "cells": [
  {
   "cell_type": "markdown",
   "source": [
    "# Quickstart Guide\n",
    "\n",
    "Congratulations on successfully installing Sequenzo! 🎉 You're now ready to explore social sequence analysis with ease.\n",
    "\n",
    "In this guide, we'll walk you through analyzing country-level CO₂ emissions sequences step by step. If you're curious about how we transformed the original dataset into a format suitable for sequence analysis, you can find the detailed explanation here (TODO: webpage on SequenzoWebsite).\n",
    "\n",
    "New to Python? No worries! We've designed Sequenzo to be intuitive and beginner-friendly, so you can jump right in regardless of whether you are a newbie or a seasoned Python coder. \n",
    "\n",
    "By the end of this tutorial, you'll learn how to:\n",
    "\n",
    "1. Install Sequenzo\n",
    "2. Load and explore a dataset\n",
    "3. Analyze social sequences\n",
    "4. Visualize the results\n",
    "\n",
    "Now, let's get started on this exciting journey! 🐍✨\n"
   ],
   "metadata": {
    "collapsed": false
   },
   "id": "507a5297b4ed0bc9"
  },
  {
   "cell_type": "markdown",
   "source": [
    "## 1. Get a rough idea of the data"
   ],
   "metadata": {
    "collapsed": false
   },
   "id": "46bf41e2bd09b036"
  },
  {
   "cell_type": "code",
   "execution_count": 1,
   "outputs": [
    {
     "ename": "ModuleNotFoundError",
     "evalue": "No module named 'seqdef'",
     "output_type": "error",
     "traceback": [
      "\u001B[0;31m---------------------------------------------------------------------------\u001B[0m",
      "\u001B[0;31mModuleNotFoundError\u001B[0m                       Traceback (most recent call last)",
      "Cell \u001B[0;32mIn[1], line 2\u001B[0m\n\u001B[1;32m      1\u001B[0m \u001B[38;5;66;03m# Import necessary libraries\u001B[39;00m\n\u001B[0;32m----> 2\u001B[0m \u001B[38;5;28;01mfrom\u001B[39;00m \u001B[38;5;21;01msequenzo\u001B[39;00m \u001B[38;5;28;01mimport\u001B[39;00m \u001B[38;5;241m*\u001B[39m \u001B[38;5;66;03m# Social sequence analysis \u001B[39;00m\n\u001B[1;32m      3\u001B[0m \u001B[38;5;28;01mimport\u001B[39;00m \u001B[38;5;21;01mpandas\u001B[39;00m \u001B[38;5;28;01mas\u001B[39;00m \u001B[38;5;21;01mpd\u001B[39;00m \u001B[38;5;66;03m# Data manipulation\u001B[39;00m\n\u001B[1;32m      5\u001B[0m \u001B[38;5;66;03m# List all the available datasets in Sequenzo\u001B[39;00m\n",
      "File \u001B[0;32m~/Documents/Sequenzo_all_folders/sequenzo/sequenzo/__init__.py:14\u001B[0m\n\u001B[1;32m     11\u001B[0m \u001B[38;5;28;01mfrom\u001B[39;00m \u001B[38;5;21;01m.\u001B[39;00m\u001B[38;5;21;01mvisualization\u001B[39;00m \u001B[38;5;28;01mimport\u001B[39;00m plot_sequence_index, plot_most_frequent_sequences, plot_single_medoid\n\u001B[1;32m     13\u001B[0m \u001B[38;5;66;03m# from .clara.seqclararange import seqclararange\u001B[39;00m\n\u001B[0;32m---> 14\u001B[0m \u001B[38;5;28;01mfrom\u001B[39;00m \u001B[38;5;21;01m.\u001B[39;00m\u001B[38;5;21;01mdissimilarity_measures\u001B[39;00m\u001B[38;5;21;01m.\u001B[39;00m\u001B[38;5;21;01mget_distance_matrix\u001B[39;00m \u001B[38;5;28;01mimport\u001B[39;00m get_distance_matrix\n\u001B[1;32m     15\u001B[0m \u001B[38;5;28;01mfrom\u001B[39;00m \u001B[38;5;21;01m.\u001B[39;00m\u001B[38;5;21;01mdissimilarity_measures\u001B[39;00m\u001B[38;5;21;01m.\u001B[39;00m\u001B[38;5;21;01mget_substitution_cost_matrix\u001B[39;00m \u001B[38;5;28;01mimport\u001B[39;00m get_substitution_cost_matrix\n\u001B[1;32m     17\u001B[0m \u001B[38;5;66;03m# Define `__all__` to specify the public API when using `from sequenzo import *`\u001B[39;00m\n",
      "File \u001B[0;32m~/Documents/Sequenzo_all_folders/sequenzo/sequenzo/dissimilarity_measures/__init__.py:7\u001B[0m\n\u001B[1;32m      1\u001B[0m \u001B[38;5;124;03m\"\"\"\u001B[39;00m\n\u001B[1;32m      2\u001B[0m \u001B[38;5;124;03m@Author  : 李欣怡\u001B[39;00m\n\u001B[1;32m      3\u001B[0m \u001B[38;5;124;03m@File    : __init__.py\u001B[39;00m\n\u001B[1;32m      4\u001B[0m \u001B[38;5;124;03m@Time    : 2025/2/26 23:19\u001B[39;00m\n\u001B[1;32m      5\u001B[0m \u001B[38;5;124;03m@Desc    : \u001B[39;00m\n\u001B[1;32m      6\u001B[0m \u001B[38;5;124;03m\"\"\"\u001B[39;00m\n\u001B[0;32m----> 7\u001B[0m \u001B[38;5;28;01mfrom\u001B[39;00m \u001B[38;5;21;01m.\u001B[39;00m\u001B[38;5;21;01mget_distance_matrix\u001B[39;00m \u001B[38;5;28;01mimport\u001B[39;00m get_distance_matrix\n\u001B[1;32m      8\u001B[0m \u001B[38;5;28;01mfrom\u001B[39;00m \u001B[38;5;21;01m.\u001B[39;00m\u001B[38;5;21;01mget_substitution_cost_matrix\u001B[39;00m \u001B[38;5;28;01mimport\u001B[39;00m get_substitution_cost_matrix\n\u001B[1;32m     10\u001B[0m __all__ \u001B[38;5;241m=\u001B[39m [\n\u001B[1;32m     11\u001B[0m     \u001B[38;5;124m\"\u001B[39m\u001B[38;5;124mget_distance_matrix\u001B[39m\u001B[38;5;124m\"\u001B[39m,\n\u001B[1;32m     12\u001B[0m     \u001B[38;5;124m\"\u001B[39m\u001B[38;5;124mget_substitution_cost_matrix\u001B[39m\u001B[38;5;124m\"\u001B[39m\n\u001B[1;32m     13\u001B[0m     \u001B[38;5;66;03m# Add other functions as needed\u001B[39;00m\n\u001B[1;32m     14\u001B[0m ]\n",
      "File \u001B[0;32m~/Documents/Sequenzo_all_folders/sequenzo/sequenzo/dissimilarity_measures/get_distance_matrix.py:119\u001B[0m\n\u001B[1;32m    116\u001B[0m \u001B[38;5;28;01mimport\u001B[39;00m \u001B[38;5;21;01mtime\u001B[39;00m\n\u001B[1;32m    117\u001B[0m \u001B[38;5;28;01mimport\u001B[39;00m \u001B[38;5;21;01msys\u001B[39;00m\n\u001B[0;32m--> 119\u001B[0m \u001B[38;5;28;01mfrom\u001B[39;00m \u001B[38;5;21;01mseqdef\u001B[39;00m \u001B[38;5;28;01mimport\u001B[39;00m SequenceData\n\u001B[1;32m    120\u001B[0m \u001B[38;5;28;01mfrom\u001B[39;00m \u001B[38;5;21;01mdissimilarity_measures\u001B[39;00m\u001B[38;5;21;01m.\u001B[39;00m\u001B[38;5;21;01mutils\u001B[39;00m\u001B[38;5;21;01m.\u001B[39;00m\u001B[38;5;21;01mseqdur\u001B[39;00m \u001B[38;5;28;01mimport\u001B[39;00m seqdur\n\u001B[1;32m    121\u001B[0m \u001B[38;5;28;01mfrom\u001B[39;00m \u001B[38;5;21;01mdissimilarity_measures\u001B[39;00m\u001B[38;5;21;01m.\u001B[39;00m\u001B[38;5;21;01mutils\u001B[39;00m\u001B[38;5;21;01m.\u001B[39;00m\u001B[38;5;21;01mseqnum\u001B[39;00m \u001B[38;5;28;01mimport\u001B[39;00m seqnum\n",
      "\u001B[0;31mModuleNotFoundError\u001B[0m: No module named 'seqdef'"
     ]
    }
   ],
   "source": [
    "# Import necessary libraries\n",
    "from sequenzo import * # Social sequence analysis \n",
    "import pandas as pd # Data manipulation\n",
    "\n",
    "# List all the available datasets in Sequenzo\n",
    "print('Available datasets in Sequenzo: ', list_datasets())\n",
    "\n",
    "# Load the data that we would like to explore in this tutorial\n",
    "# `df` is the short for `dataframe`, which is a common variable name for a dataset\n",
    "df = load_dataset('country_CO2_emissions')\n",
    "\n",
    "# Show the dataframe\n",
    "df"
   ],
   "metadata": {
    "collapsed": false,
    "ExecuteTime": {
     "end_time": "2025-02-26T15:39:41.771020Z",
     "start_time": "2025-02-26T15:39:38.399303Z"
    }
   },
   "id": "6c8cd664b8f974ab"
  },
  {
   "cell_type": "markdown",
   "source": [
    "The classification is based on all years' CO₂ per capita values:\n",
    "\n",
    "* Very Low (Bottom 20%)\n",
    "* Low (20-40%)\n",
    "* Middle (40-60%)\n",
    "* High (60-80%)\n",
    "* Very High (Top 20%)\n",
    "\n",
    "Using a jorgan in social sequence analysis, each category is called a **state**, and the sequence of states is called a social sequence. In sum, the dataset shows the level of the CO₂ emissions per capita of each country in each year. \n",
    "\n",
    "If we take Andorra as an example:  "
   ],
   "metadata": {
    "collapsed": false
   },
   "id": "a006fbe190aabd70"
  },
  {
   "cell_type": "code",
   "execution_count": 2,
   "outputs": [
    {
     "data": {
      "text/plain": "   Country       1990       1991  1992  1993  1994  1995  1996  1997  \\\n3  Andorra  Very High  Very High  High  High  High  High  High  High   \n\n        1998  ...  2010  2011  2012  2013  2014  2015  2016  2017  2018  2019  \n3  Very High  ...  High  High  High  High  High  High  High  High  High  High  \n\n[1 rows x 31 columns]",
      "text/html": "<div>\n<style scoped>\n    .dataframe tbody tr th:only-of-type {\n        vertical-align: middle;\n    }\n\n    .dataframe tbody tr th {\n        vertical-align: top;\n    }\n\n    .dataframe thead th {\n        text-align: right;\n    }\n</style>\n<table border=\"1\" class=\"dataframe\">\n  <thead>\n    <tr style=\"text-align: right;\">\n      <th></th>\n      <th>Country</th>\n      <th>1990</th>\n      <th>1991</th>\n      <th>1992</th>\n      <th>1993</th>\n      <th>1994</th>\n      <th>1995</th>\n      <th>1996</th>\n      <th>1997</th>\n      <th>1998</th>\n      <th>...</th>\n      <th>2010</th>\n      <th>2011</th>\n      <th>2012</th>\n      <th>2013</th>\n      <th>2014</th>\n      <th>2015</th>\n      <th>2016</th>\n      <th>2017</th>\n      <th>2018</th>\n      <th>2019</th>\n    </tr>\n  </thead>\n  <tbody>\n    <tr>\n      <th>3</th>\n      <td>Andorra</td>\n      <td>Very High</td>\n      <td>Very High</td>\n      <td>High</td>\n      <td>High</td>\n      <td>High</td>\n      <td>High</td>\n      <td>High</td>\n      <td>High</td>\n      <td>Very High</td>\n      <td>...</td>\n      <td>High</td>\n      <td>High</td>\n      <td>High</td>\n      <td>High</td>\n      <td>High</td>\n      <td>High</td>\n      <td>High</td>\n      <td>High</td>\n      <td>High</td>\n      <td>High</td>\n    </tr>\n  </tbody>\n</table>\n<p>1 rows × 31 columns</p>\n</div>"
     },
     "execution_count": 2,
     "metadata": {},
     "output_type": "execute_result"
    }
   ],
   "source": [
    "# Filter the data for Andorra\n",
    "andorra_df = df[df['Country'] == 'Andorra']\n",
    "\n",
    "# Show the Andorra df\n",
    "andorra_df"
   ],
   "metadata": {
    "collapsed": false,
    "ExecuteTime": {
     "end_time": "2025-02-25T23:24:02.036447Z",
     "start_time": "2025-02-25T23:24:02.019640Z"
    }
   },
   "id": "12aa6be870efd0d8"
  },
  {
   "cell_type": "markdown",
   "source": [
    "Based on the outcome, which is a subset of the original dataset, we can see that Andorra's CO₂ emissions per capita have undergone the following changes over the years:\n",
    "\n",
    "* 1990-1991: Started at \"Very High\" levels, indicating emissions in the top 20% of all countries\n",
    "* 1992-1997: Dropped to \"High\" level (60-80th percentile)\n",
    "* 1998: Brief return to \"Very High\" level\n",
    "* 2000s onwards: Stabilized at \"High\" level (60-80th percentile) and maintained this classification through 2019\n",
    "\n",
    "But it comes with a question: What if we want to analyze the sequences of all countries? 🤔 \n",
    "\n",
    "Here we need Sequenzo to help us!"
   ],
   "metadata": {
    "collapsed": false
   },
   "id": "30e759bfac4b9786"
  },
  {
   "cell_type": "markdown",
   "source": [
    "## 2. Analyze Social Sequences with Sequenzo"
   ],
   "metadata": {
    "collapsed": false
   },
   "id": "44a881b50ec7495d"
  },
  {
   "cell_type": "code",
   "execution_count": 3,
   "outputs": [
    {
     "name": "stdout",
     "output_type": "stream",
     "text": [
      "\n",
      "✅ SequenceData initialized successfully! Here's a summary:\n",
      "🔍 Number of sequences: 190\n",
      "📏 Min/Max sequence length: 18 / 30\n",
      "🔤 Alphabet: ['High', 'Low', 'Middle', 'Very High', 'Very Low']\n"
     ]
    },
    {
     "data": {
      "text/plain": "SequenceData(190 sequences, Alphabet: ['High', 'Low', 'Middle', 'Very High', 'Very Low'])"
     },
     "execution_count": 3,
     "metadata": {},
     "output_type": "execute_result"
    }
   ],
   "source": [
    "# Create a SequenceData object\n",
    "\n",
    "# Define the time-span variable\n",
    "time = list(df.columns)[1:]\n",
    "\n",
    "states = ['Very Low', 'Low', 'Middle', 'High', 'Very High']\n",
    "\n",
    "sequence_data = SequenceData(df, time=time, states=states)\n",
    "\n",
    "sequence_data"
   ],
   "metadata": {
    "collapsed": false,
    "ExecuteTime": {
     "end_time": "2025-02-25T23:24:04.279837Z",
     "start_time": "2025-02-25T23:24:04.220329Z"
    }
   },
   "id": "3592412ab649c869"
  },
  {
   "cell_type": "markdown",
   "source": [
    "Now we have successfully created the `SequenceData` object based on our original dataframe, which is the core object in Sequenzo for analyzing social sequences.\n",
    "\n",
    "With our naked eyes, we might be only able to see the sequences of one country at a time. However, with the help of Sequenzo, we can analyze all the sequences of countries in one go. The most important tool is **visualization**, which helps us to understand the patterns and trends in the data.\n",
    "\n",
    "Among the various visualization methods, the most commonly used one is the **index plot**. Let's see how it works."
   ],
   "metadata": {
    "collapsed": false
   },
   "id": "ad497c75a4930ef1"
  },
  {
   "cell_type": "code",
   "execution_count": 7,
   "outputs": [
    {
     "ename": "TypeError",
     "evalue": "_sequence_index_plot_grouping_ncol_not_1() got an unexpected keyword argument 'xlabel'",
     "output_type": "error",
     "traceback": [
      "\u001B[0;31m---------------------------------------------------------------------------\u001B[0m",
      "\u001B[0;31mTypeError\u001B[0m                                 Traceback (most recent call last)",
      "Cell \u001B[0;32mIn[7], line 3\u001B[0m\n\u001B[1;32m      1\u001B[0m \u001B[38;5;66;03m# Plot the index plot\u001B[39;00m\n\u001B[0;32m----> 3\u001B[0m \u001B[43mplot_sequence_index\u001B[49m\u001B[43m(\u001B[49m\u001B[43msequence_data\u001B[49m\u001B[43m,\u001B[49m\u001B[43m \u001B[49m\u001B[43msortv\u001B[49m\u001B[38;5;241;43m=\u001B[39;49m\u001B[38;5;124;43m'\u001B[39;49m\u001B[38;5;124;43mlexical\u001B[39;49m\u001B[38;5;124;43m'\u001B[39;49m\u001B[43m,\u001B[49m\u001B[43m \u001B[49m\u001B[43mid_group_df\u001B[49m\u001B[38;5;241;43m=\u001B[39;49m\u001B[38;5;124;43m'\u001B[39;49m\u001B[38;5;124;43mregion\u001B[39;49m\u001B[38;5;124;43m'\u001B[39;49m\u001B[43m)\u001B[49m\n",
      "File \u001B[0;32m~/Documents/Sequenzo_all_folders/sequenzo/sequenzo/visualization/plot_sequence_index.py:108\u001B[0m, in \u001B[0;36mplot_sequence_index\u001B[0;34m(seqdata, id_group_df, custom_order, sortv, age_labels, title, facet_ncol, xlabel, ylabel, save_as, dpi)\u001B[0m\n\u001B[1;32m    103\u001B[0m     _sequence_index_plot_grouping_ncol_1(seqdata, id_group_df\u001B[38;5;241m=\u001B[39mid_group_df,\n\u001B[1;32m    104\u001B[0m                                          age_labels\u001B[38;5;241m=\u001B[39mage_labels, title\u001B[38;5;241m=\u001B[39mtitle,\n\u001B[1;32m    105\u001B[0m                                          xlabel\u001B[38;5;241m=\u001B[39mxlabel, ylabel\u001B[38;5;241m=\u001B[39mylabel,\n\u001B[1;32m    106\u001B[0m                                          facet_ncol\u001B[38;5;241m=\u001B[39mfacet_ncol, save_as\u001B[38;5;241m=\u001B[39msave_as, dpi\u001B[38;5;241m=\u001B[39mdpi)\n\u001B[1;32m    107\u001B[0m \u001B[38;5;28;01melse\u001B[39;00m:\n\u001B[0;32m--> 108\u001B[0m     \u001B[43m_sequence_index_plot_grouping_ncol_not_1\u001B[49m\u001B[43m(\u001B[49m\u001B[43mseqdata\u001B[49m\u001B[43m,\u001B[49m\u001B[43m \u001B[49m\u001B[43mid_group_df\u001B[49m\u001B[38;5;241;43m=\u001B[39;49m\u001B[43mid_group_df\u001B[49m\u001B[43m,\u001B[49m\n\u001B[1;32m    109\u001B[0m \u001B[43m                                             \u001B[49m\u001B[43mage_labels\u001B[49m\u001B[38;5;241;43m=\u001B[39;49m\u001B[43mage_labels\u001B[49m\u001B[43m,\u001B[49m\u001B[43m \u001B[49m\u001B[43mtitle\u001B[49m\u001B[38;5;241;43m=\u001B[39;49m\u001B[43mtitle\u001B[49m\u001B[43m,\u001B[49m\n\u001B[1;32m    110\u001B[0m \u001B[43m                                             \u001B[49m\u001B[43mxlabel\u001B[49m\u001B[38;5;241;43m=\u001B[39;49m\u001B[43mxlabel\u001B[49m\u001B[43m,\u001B[49m\u001B[43m \u001B[49m\u001B[43mylabel\u001B[49m\u001B[38;5;241;43m=\u001B[39;49m\u001B[43mylabel\u001B[49m\u001B[43m,\u001B[49m\n\u001B[1;32m    111\u001B[0m \u001B[43m                                             \u001B[49m\u001B[43mfacet_ncol\u001B[49m\u001B[38;5;241;43m=\u001B[39;49m\u001B[43mfacet_ncol\u001B[49m\u001B[43m,\u001B[49m\u001B[43m \u001B[49m\u001B[43msave_as\u001B[49m\u001B[38;5;241;43m=\u001B[39;49m\u001B[43msave_as\u001B[49m\u001B[43m,\u001B[49m\u001B[43m \u001B[49m\u001B[43mdpi\u001B[49m\u001B[38;5;241;43m=\u001B[39;49m\u001B[43mdpi\u001B[49m\u001B[43m)\u001B[49m\n",
      "\u001B[0;31mTypeError\u001B[0m: _sequence_index_plot_grouping_ncol_not_1() got an unexpected keyword argument 'xlabel'"
     ]
    }
   ],
   "source": [
    "# Plot the index plot\n",
    "# TODO: debug the plot_sequence_index function\n",
    "\n",
    "plot_sequence_index(sequence_data, sortv='lexical', id_group_df='region')"
   ],
   "metadata": {
    "collapsed": false,
    "ExecuteTime": {
     "end_time": "2025-02-25T23:25:30.176192Z",
     "start_time": "2025-02-25T23:25:30.045762Z"
    }
   },
   "id": "fceb42d95f6eb978"
  },
  {
   "cell_type": "markdown",
   "source": [
    "But what if we would like to know more? state distribution plot. "
   ],
   "metadata": {
    "collapsed": false
   },
   "id": "261531bd43238424"
  },
  {
   "cell_type": "code",
   "execution_count": null,
   "outputs": [],
   "source": [
    "# Plot the state distribution"
   ],
   "metadata": {
    "collapsed": false
   },
   "id": "f9c771e3aae807ff"
  },
  {
   "cell_type": "markdown",
   "source": [],
   "metadata": {
    "collapsed": false
   },
   "id": "e2c4495142d9f6be"
  },
  {
   "cell_type": "code",
   "execution_count": 8,
   "outputs": [
    {
     "ename": "AttributeError",
     "evalue": "'SequenceData' object has no attribute 'var'",
     "output_type": "error",
     "traceback": [
      "\u001B[0;31m---------------------------------------------------------------------------\u001B[0m",
      "\u001B[0;31mAttributeError\u001B[0m                            Traceback (most recent call last)",
      "Cell \u001B[0;32mIn[8], line 1\u001B[0m\n\u001B[0;32m----> 1\u001B[0m \u001B[43mplot_most_frequent_sequences\u001B[49m\u001B[43m(\u001B[49m\u001B[43msequence_data\u001B[49m\u001B[43m,\u001B[49m\u001B[43m \u001B[49m\u001B[43mtop_n\u001B[49m\u001B[38;5;241;43m=\u001B[39;49m\u001B[38;5;241;43m5\u001B[39;49m\u001B[43m)\u001B[49m\n",
      "File \u001B[0;32m~/Documents/Sequenzo_all_folders/sequenzo/sequenzo/visualization/plot_most_frequent_sequences.py:47\u001B[0m, in \u001B[0;36mplot_most_frequent_sequences\u001B[0;34m(seqdata, top_n, save_as, dpi)\u001B[0m\n\u001B[1;32m     44\u001B[0m x_ticks \u001B[38;5;241m=\u001B[39m np\u001B[38;5;241m.\u001B[39marange(sequence_length) \u001B[38;5;241m+\u001B[39m \u001B[38;5;241m0.5\u001B[39m  \u001B[38;5;66;03m# Align X-axis ticks to the center of bars\u001B[39;00m\n\u001B[1;32m     46\u001B[0m \u001B[38;5;66;03m# Use provided time labels if available, otherwise use generic \"C1, C2, ...\"\u001B[39;00m\n\u001B[0;32m---> 47\u001B[0m \u001B[38;5;28;01mif\u001B[39;00m \u001B[43mseqdata\u001B[49m\u001B[38;5;241;43m.\u001B[39;49m\u001B[43mvar\u001B[49m:\n\u001B[1;32m     48\u001B[0m     x_labels \u001B[38;5;241m=\u001B[39m seqdata\u001B[38;5;241m.\u001B[39mcleaned_time\n\u001B[1;32m     49\u001B[0m \u001B[38;5;28;01melse\u001B[39;00m:\n",
      "\u001B[0;31mAttributeError\u001B[0m: 'SequenceData' object has no attribute 'var'"
     ]
    }
   ],
   "source": [
    "plot_most_frequent_sequences(sequence_data, top_n=5)"
   ],
   "metadata": {
    "collapsed": false,
    "ExecuteTime": {
     "end_time": "2025-02-25T23:26:55.208014Z",
     "start_time": "2025-02-25T23:26:55.140171Z"
    }
   },
   "id": "630b98ef7aef7078"
  },
  {
   "cell_type": "code",
   "execution_count": null,
   "outputs": [],
   "source": [],
   "metadata": {
    "collapsed": false
   },
   "id": "132fca7c2fafb3f0"
  }
 ],
 "metadata": {
  "kernelspec": {
   "display_name": "Python 3",
   "language": "python",
   "name": "python3"
  },
  "language_info": {
   "codemirror_mode": {
    "name": "ipython",
    "version": 2
   },
   "file_extension": ".py",
   "mimetype": "text/x-python",
   "name": "python",
   "nbconvert_exporter": "python",
   "pygments_lexer": "ipython2",
   "version": "2.7.6"
  }
 },
 "nbformat": 4,
 "nbformat_minor": 5
}
