{
 "cells": [
  {
   "cell_type": "markdown",
   "source": [
    "# Quickstart Guide\n",
    "\n",
    "Congratulations on successfully installing Sequenzo! 🎉 You're now ready to explore social sequence analysis with ease.\n",
    "\n",
    "In this guide, we'll walk you through analyzing country-level CO₂ emissions sequences step by step. If you're curious about how we transformed the original dataset into a format suitable for sequence analysis, you can find the detailed explanation here.\n",
    "\n",
    "New to Python? No worries! We've designed Sequenzo to be intuitive and beginner-friendly, so you can jump right in regardless of whether you are a newbie or a seasoned Python coder. \n",
    "\n",
    "By the end of this tutorial, you'll learn how to:\n",
    "\n",
    "1. Install Sequenzo\n",
    "2. Load and explore a dataset\n",
    "3. Analyze social sequences\n",
    "4. Visualize the results\n",
    "\n",
    "Now, let's get started on this exciting journey! 🐍✨\n"
   ],
   "metadata": {
    "collapsed": false
   },
   "id": "507a5297b4ed0bc9"
  },
  {
   "cell_type": "markdown",
   "source": [
    "## 1. Install packages and load the data, and get a rough idea of the data"
   ],
   "metadata": {
    "collapsed": false
   },
   "id": "46bf41e2bd09b036"
  },
  {
   "cell_type": "code",
   "execution_count": 8,
   "outputs": [
    {
     "name": "stdout",
     "output_type": "stream",
     "text": [
      "Available datasets in Sequenzo:  ['country_income', 'country_life_expectancy', 'country_CO2_emissions']\n"
     ]
    },
    {
     "data": {
      "text/plain": "         Country       1990       1991      1992      1993      1994  \\\n0    Afghanistan   Very Low   Very Low  Very Low  Very Low  Very Low   \n1        Albania     Middle        Low       Low       Low       Low   \n2        Algeria     Middle     Middle    Middle    Middle    Middle   \n3        Andorra  Very High  Very High      High      High      High   \n4         Angola        Low        Low       Low       Low       Low   \n..           ...        ...        ...       ...       ...       ...   \n185    Venezuela       High       High      High      High      High   \n186      Vietnam   Very Low   Very Low  Very Low  Very Low  Very Low   \n187        Yemen        Low        Low       Low       Low       Low   \n188       Zambia   Very Low   Very Low  Very Low  Very Low  Very Low   \n189     Zimbabwe     Middle     Middle    Middle    Middle    Middle   \n\n         1995      1996      1997       1998  ...      2010      2011  \\\n0    Very Low  Very Low  Very Low   Very Low  ...  Very Low  Very Low   \n1         Low       Low       Low        Low  ...    Middle    Middle   \n2      Middle    Middle    Middle     Middle  ...    Middle    Middle   \n3        High      High      High  Very High  ...      High      High   \n4         Low       Low       Low        Low  ...       Low       Low   \n..        ...       ...       ...        ...  ...       ...       ...   \n185      High      High      High       High  ...      High      High   \n186       Low       Low       Low        Low  ...    Middle    Middle   \n187       Low       Low       Low        Low  ...       Low       Low   \n188  Very Low  Very Low  Very Low   Very Low  ...  Very Low  Very Low   \n189    Middle       Low       Low        Low  ...       Low       Low   \n\n         2012      2013      2014      2015      2016      2017      2018  \\\n0    Very Low  Very Low  Very Low  Very Low  Very Low  Very Low  Very Low   \n1      Middle    Middle    Middle    Middle    Middle    Middle    Middle   \n2      Middle    Middle      High      High      High      High      High   \n3        High      High      High      High      High      High      High   \n4         Low       Low       Low       Low       Low       Low       Low   \n..        ...       ...       ...       ...       ...       ...       ...   \n185      High      High      High      High      High      High      High   \n186    Middle    Middle    Middle    Middle    Middle    Middle    Middle   \n187       Low       Low       Low       Low  Very Low  Very Low  Very Low   \n188  Very Low  Very Low  Very Low  Very Low  Very Low       Low       Low   \n189       Low       Low       Low       Low       Low       Low       Low   \n\n         2019  \n0    Very Low  \n1      Middle  \n2        High  \n3        High  \n4         Low  \n..        ...  \n185      High  \n186    Middle  \n187  Very Low  \n188  Very Low  \n189       Low  \n\n[190 rows x 31 columns]",
      "text/html": "<div>\n<style scoped>\n    .dataframe tbody tr th:only-of-type {\n        vertical-align: middle;\n    }\n\n    .dataframe tbody tr th {\n        vertical-align: top;\n    }\n\n    .dataframe thead th {\n        text-align: right;\n    }\n</style>\n<table border=\"1\" class=\"dataframe\">\n  <thead>\n    <tr style=\"text-align: right;\">\n      <th></th>\n      <th>Country</th>\n      <th>1990</th>\n      <th>1991</th>\n      <th>1992</th>\n      <th>1993</th>\n      <th>1994</th>\n      <th>1995</th>\n      <th>1996</th>\n      <th>1997</th>\n      <th>1998</th>\n      <th>...</th>\n      <th>2010</th>\n      <th>2011</th>\n      <th>2012</th>\n      <th>2013</th>\n      <th>2014</th>\n      <th>2015</th>\n      <th>2016</th>\n      <th>2017</th>\n      <th>2018</th>\n      <th>2019</th>\n    </tr>\n  </thead>\n  <tbody>\n    <tr>\n      <th>0</th>\n      <td>Afghanistan</td>\n      <td>Very Low</td>\n      <td>Very Low</td>\n      <td>Very Low</td>\n      <td>Very Low</td>\n      <td>Very Low</td>\n      <td>Very Low</td>\n      <td>Very Low</td>\n      <td>Very Low</td>\n      <td>Very Low</td>\n      <td>...</td>\n      <td>Very Low</td>\n      <td>Very Low</td>\n      <td>Very Low</td>\n      <td>Very Low</td>\n      <td>Very Low</td>\n      <td>Very Low</td>\n      <td>Very Low</td>\n      <td>Very Low</td>\n      <td>Very Low</td>\n      <td>Very Low</td>\n    </tr>\n    <tr>\n      <th>1</th>\n      <td>Albania</td>\n      <td>Middle</td>\n      <td>Low</td>\n      <td>Low</td>\n      <td>Low</td>\n      <td>Low</td>\n      <td>Low</td>\n      <td>Low</td>\n      <td>Low</td>\n      <td>Low</td>\n      <td>...</td>\n      <td>Middle</td>\n      <td>Middle</td>\n      <td>Middle</td>\n      <td>Middle</td>\n      <td>Middle</td>\n      <td>Middle</td>\n      <td>Middle</td>\n      <td>Middle</td>\n      <td>Middle</td>\n      <td>Middle</td>\n    </tr>\n    <tr>\n      <th>2</th>\n      <td>Algeria</td>\n      <td>Middle</td>\n      <td>Middle</td>\n      <td>Middle</td>\n      <td>Middle</td>\n      <td>Middle</td>\n      <td>Middle</td>\n      <td>Middle</td>\n      <td>Middle</td>\n      <td>Middle</td>\n      <td>...</td>\n      <td>Middle</td>\n      <td>Middle</td>\n      <td>Middle</td>\n      <td>Middle</td>\n      <td>High</td>\n      <td>High</td>\n      <td>High</td>\n      <td>High</td>\n      <td>High</td>\n      <td>High</td>\n    </tr>\n    <tr>\n      <th>3</th>\n      <td>Andorra</td>\n      <td>Very High</td>\n      <td>Very High</td>\n      <td>High</td>\n      <td>High</td>\n      <td>High</td>\n      <td>High</td>\n      <td>High</td>\n      <td>High</td>\n      <td>Very High</td>\n      <td>...</td>\n      <td>High</td>\n      <td>High</td>\n      <td>High</td>\n      <td>High</td>\n      <td>High</td>\n      <td>High</td>\n      <td>High</td>\n      <td>High</td>\n      <td>High</td>\n      <td>High</td>\n    </tr>\n    <tr>\n      <th>4</th>\n      <td>Angola</td>\n      <td>Low</td>\n      <td>Low</td>\n      <td>Low</td>\n      <td>Low</td>\n      <td>Low</td>\n      <td>Low</td>\n      <td>Low</td>\n      <td>Low</td>\n      <td>Low</td>\n      <td>...</td>\n      <td>Low</td>\n      <td>Low</td>\n      <td>Low</td>\n      <td>Low</td>\n      <td>Low</td>\n      <td>Low</td>\n      <td>Low</td>\n      <td>Low</td>\n      <td>Low</td>\n      <td>Low</td>\n    </tr>\n    <tr>\n      <th>...</th>\n      <td>...</td>\n      <td>...</td>\n      <td>...</td>\n      <td>...</td>\n      <td>...</td>\n      <td>...</td>\n      <td>...</td>\n      <td>...</td>\n      <td>...</td>\n      <td>...</td>\n      <td>...</td>\n      <td>...</td>\n      <td>...</td>\n      <td>...</td>\n      <td>...</td>\n      <td>...</td>\n      <td>...</td>\n      <td>...</td>\n      <td>...</td>\n      <td>...</td>\n      <td>...</td>\n    </tr>\n    <tr>\n      <th>185</th>\n      <td>Venezuela</td>\n      <td>High</td>\n      <td>High</td>\n      <td>High</td>\n      <td>High</td>\n      <td>High</td>\n      <td>High</td>\n      <td>High</td>\n      <td>High</td>\n      <td>High</td>\n      <td>...</td>\n      <td>High</td>\n      <td>High</td>\n      <td>High</td>\n      <td>High</td>\n      <td>High</td>\n      <td>High</td>\n      <td>High</td>\n      <td>High</td>\n      <td>High</td>\n      <td>High</td>\n    </tr>\n    <tr>\n      <th>186</th>\n      <td>Vietnam</td>\n      <td>Very Low</td>\n      <td>Very Low</td>\n      <td>Very Low</td>\n      <td>Very Low</td>\n      <td>Very Low</td>\n      <td>Low</td>\n      <td>Low</td>\n      <td>Low</td>\n      <td>Low</td>\n      <td>...</td>\n      <td>Middle</td>\n      <td>Middle</td>\n      <td>Middle</td>\n      <td>Middle</td>\n      <td>Middle</td>\n      <td>Middle</td>\n      <td>Middle</td>\n      <td>Middle</td>\n      <td>Middle</td>\n      <td>Middle</td>\n    </tr>\n    <tr>\n      <th>187</th>\n      <td>Yemen</td>\n      <td>Low</td>\n      <td>Low</td>\n      <td>Low</td>\n      <td>Low</td>\n      <td>Low</td>\n      <td>Low</td>\n      <td>Low</td>\n      <td>Low</td>\n      <td>Low</td>\n      <td>...</td>\n      <td>Low</td>\n      <td>Low</td>\n      <td>Low</td>\n      <td>Low</td>\n      <td>Low</td>\n      <td>Low</td>\n      <td>Very Low</td>\n      <td>Very Low</td>\n      <td>Very Low</td>\n      <td>Very Low</td>\n    </tr>\n    <tr>\n      <th>188</th>\n      <td>Zambia</td>\n      <td>Very Low</td>\n      <td>Very Low</td>\n      <td>Very Low</td>\n      <td>Very Low</td>\n      <td>Very Low</td>\n      <td>Very Low</td>\n      <td>Very Low</td>\n      <td>Very Low</td>\n      <td>Very Low</td>\n      <td>...</td>\n      <td>Very Low</td>\n      <td>Very Low</td>\n      <td>Very Low</td>\n      <td>Very Low</td>\n      <td>Very Low</td>\n      <td>Very Low</td>\n      <td>Very Low</td>\n      <td>Low</td>\n      <td>Low</td>\n      <td>Very Low</td>\n    </tr>\n    <tr>\n      <th>189</th>\n      <td>Zimbabwe</td>\n      <td>Middle</td>\n      <td>Middle</td>\n      <td>Middle</td>\n      <td>Middle</td>\n      <td>Middle</td>\n      <td>Middle</td>\n      <td>Low</td>\n      <td>Low</td>\n      <td>Low</td>\n      <td>...</td>\n      <td>Low</td>\n      <td>Low</td>\n      <td>Low</td>\n      <td>Low</td>\n      <td>Low</td>\n      <td>Low</td>\n      <td>Low</td>\n      <td>Low</td>\n      <td>Low</td>\n      <td>Low</td>\n    </tr>\n  </tbody>\n</table>\n<p>190 rows × 31 columns</p>\n</div>"
     },
     "execution_count": 8,
     "metadata": {},
     "output_type": "execute_result"
    }
   ],
   "source": [
    "from sequenzo import *\n",
    "import pandas as pd\n",
    "\n",
    "# List all the available datasets in Sequenzo\n",
    "print('Available datasets in Sequenzo: ', sequenzo.list_datasets())\n",
    "\n",
    "# Load the data that we would like to explore in this tutorial\n",
    "df = sequenzo.load_dataset('country_CO2_emissions')\n",
    "\n",
    "# Show the dataframe\n",
    "df"
   ],
   "metadata": {
    "collapsed": false,
    "ExecuteTime": {
     "end_time": "2025-02-25T22:43:33.104177Z",
     "start_time": "2025-02-25T22:43:33.075868Z"
    }
   },
   "id": "6c8cd664b8f974ab"
  },
  {
   "cell_type": "markdown",
   "source": [
    "The classification is based on all years' CO₂ per capita values:\n",
    "\n",
    "* Very Low (Bottom 20%)\n",
    "* Low (20-40%)\n",
    "* Middle (40-60%)\n",
    "* High (60-80%)\n",
    "* Very High (Top 20%)\n",
    "\n",
    "For instance, when looking at the data for Andorra shown in the output:  \n",
    "\n",
    "* 1990-1991: Started at \"Very High\" levels, indicating emissions in the top 20% of all countries\n",
    "* 1992-1997: Dropped to \"High\" level (60-80th percentile)\n",
    "* 1998: Brief return to \"Very High\" level\n",
    "* 2000s onwards: Stabilized at \"High\" level (60-80th percentile) and maintained this classification through 2019"
   ],
   "metadata": {
    "collapsed": false
   },
   "id": "a006fbe190aabd70"
  },
  {
   "cell_type": "code",
   "execution_count": 7,
   "outputs": [
    {
     "data": {
      "text/plain": "   Country       1990       1991  1992  1993  1994  1995  1996  1997  \\\n3  Andorra  Very High  Very High  High  High  High  High  High  High   \n\n        1998  ...  2010  2011  2012  2013  2014  2015  2016  2017  2018  2019  \n3  Very High  ...  High  High  High  High  High  High  High  High  High  High  \n\n[1 rows x 31 columns]",
      "text/html": "<div>\n<style scoped>\n    .dataframe tbody tr th:only-of-type {\n        vertical-align: middle;\n    }\n\n    .dataframe tbody tr th {\n        vertical-align: top;\n    }\n\n    .dataframe thead th {\n        text-align: right;\n    }\n</style>\n<table border=\"1\" class=\"dataframe\">\n  <thead>\n    <tr style=\"text-align: right;\">\n      <th></th>\n      <th>Country</th>\n      <th>1990</th>\n      <th>1991</th>\n      <th>1992</th>\n      <th>1993</th>\n      <th>1994</th>\n      <th>1995</th>\n      <th>1996</th>\n      <th>1997</th>\n      <th>1998</th>\n      <th>...</th>\n      <th>2010</th>\n      <th>2011</th>\n      <th>2012</th>\n      <th>2013</th>\n      <th>2014</th>\n      <th>2015</th>\n      <th>2016</th>\n      <th>2017</th>\n      <th>2018</th>\n      <th>2019</th>\n    </tr>\n  </thead>\n  <tbody>\n    <tr>\n      <th>3</th>\n      <td>Andorra</td>\n      <td>Very High</td>\n      <td>Very High</td>\n      <td>High</td>\n      <td>High</td>\n      <td>High</td>\n      <td>High</td>\n      <td>High</td>\n      <td>High</td>\n      <td>Very High</td>\n      <td>...</td>\n      <td>High</td>\n      <td>High</td>\n      <td>High</td>\n      <td>High</td>\n      <td>High</td>\n      <td>High</td>\n      <td>High</td>\n      <td>High</td>\n      <td>High</td>\n      <td>High</td>\n    </tr>\n  </tbody>\n</table>\n<p>1 rows × 31 columns</p>\n</div>"
     },
     "execution_count": 7,
     "metadata": {},
     "output_type": "execute_result"
    }
   ],
   "source": [
    "# Filter the data for Andorra\n",
    "andorra_data = df[df['Country'] == 'Andorra']\n",
    "\n",
    "andorra_data"
   ],
   "metadata": {
    "collapsed": false,
    "ExecuteTime": {
     "end_time": "2025-02-25T22:33:08.104711Z",
     "start_time": "2025-02-25T22:33:08.092941Z"
    }
   },
   "id": "12aa6be870efd0d8"
  },
  {
   "cell_type": "markdown",
   "source": [
    "What if we want to analyze the sequences of all countries? 🤔 Here we need Sequenzo to help us!"
   ],
   "metadata": {
    "collapsed": false
   },
   "id": "30e759bfac4b9786"
  },
  {
   "cell_type": "markdown",
   "source": [
    "## 2. Analyze Social Sequences with Sequenzo"
   ],
   "metadata": {
    "collapsed": false
   },
   "id": "44a881b50ec7495d"
  },
  {
   "cell_type": "code",
   "execution_count": 14,
   "outputs": [
    {
     "name": "stdout",
     "output_type": "stream",
     "text": [
      "\n",
      "✅ SequenceData initialized successfully! Here's a summary:\n",
      "🔍 Number of sequences: 190\n",
      "📏 Min/Max sequence length: 18 / 30\n",
      "🔤 Alphabet: ['High', 'Low', 'Middle', 'Very High', 'Very Low']\n"
     ]
    },
    {
     "data": {
      "text/plain": "SequenceData(190 sequences, Alphabet: ['High', 'Low', 'Middle', 'Very High', 'Very Low'])"
     },
     "execution_count": 14,
     "metadata": {},
     "output_type": "execute_result"
    }
   ],
   "source": [
    "# Create a SequenceData object\n",
    "\n",
    "# Define the time-span variable\n",
    "time = list(df.columns)[1:]\n",
    "\n",
    "states = ['Very Low', 'Low', 'Middle', 'High', 'Very High']\n",
    "\n",
    "sequence_data = SequenceData(df, time=time, states=states)\n",
    "\n",
    "sequence_data"
   ],
   "metadata": {
    "collapsed": false,
    "ExecuteTime": {
     "end_time": "2025-02-25T22:50:13.621167Z",
     "start_time": "2025-02-25T22:50:13.556479Z"
    }
   },
   "id": "3592412ab649c869"
  },
  {
   "cell_type": "markdown",
   "source": [
    "Now we have successfully converted our original dataframe into a `SequenceData` object, which is the core object in Sequenzo for analyzing social sequences.\n",
    "\n",
    "With our naked eyes, we might be only able to see the sequences of one country at a time. However, with the help of Sequenzo, we can analyze all the sequences of countries in one go. The most important tool is **visualization**, which helps us to understand the patterns and trends in the data.\n",
    "\n",
    "Among the various visualization methods, the most commonly used one is the **index plot**. Let's see how it works."
   ],
   "metadata": {
    "collapsed": false
   },
   "id": "ad497c75a4930ef1"
  },
  {
   "cell_type": "code",
   "execution_count": 17,
   "outputs": [
    {
     "ename": "NameError",
     "evalue": "name 'plot_index' is not defined",
     "output_type": "error",
     "traceback": [
      "\u001B[0;31m---------------------------------------------------------------------------\u001B[0m",
      "\u001B[0;31mNameError\u001B[0m                                 Traceback (most recent call last)",
      "Cell \u001B[0;32mIn[17], line 3\u001B[0m\n\u001B[1;32m      1\u001B[0m \u001B[38;5;66;03m# Plot the index plot\u001B[39;00m\n\u001B[0;32m----> 3\u001B[0m \u001B[43mplot_index\u001B[49m(sequence_data)\n",
      "\u001B[0;31mNameError\u001B[0m: name 'plot_index' is not defined"
     ]
    }
   ],
   "source": [
    "# Plot the index plot\n",
    "\n",
    "plot_index(sequence_data)"
   ],
   "metadata": {
    "collapsed": false,
    "ExecuteTime": {
     "end_time": "2025-02-25T22:57:03.373726Z",
     "start_time": "2025-02-25T22:57:03.364115Z"
    }
   },
   "id": "fceb42d95f6eb978"
  },
  {
   "cell_type": "markdown",
   "source": [
    "But what if we would like to know more? state distribution plot. "
   ],
   "metadata": {
    "collapsed": false
   },
   "id": "261531bd43238424"
  },
  {
   "cell_type": "code",
   "execution_count": null,
   "outputs": [],
   "source": [
    "# Plot the state distribution"
   ],
   "metadata": {
    "collapsed": false
   },
   "id": "f9c771e3aae807ff"
  }
 ],
 "metadata": {
  "kernelspec": {
   "display_name": "Python 3",
   "language": "python",
   "name": "python3"
  },
  "language_info": {
   "codemirror_mode": {
    "name": "ipython",
    "version": 2
   },
   "file_extension": ".py",
   "mimetype": "text/x-python",
   "name": "python",
   "nbconvert_exporter": "python",
   "pygments_lexer": "ipython2",
   "version": "2.7.6"
  }
 },
 "nbformat": 4,
 "nbformat_minor": 5
}
