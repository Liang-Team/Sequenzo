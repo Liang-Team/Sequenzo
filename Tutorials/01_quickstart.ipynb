{
 "cells": [
  {
   "cell_type": "markdown",
   "source": [
    "# Quickstart Guide\n",
    "\n",
    "Congratulations on successfully installing Sequenzo! 🎉 You're now ready to explore social sequence analysis with ease.\n",
    "\n",
    "In this guide, we'll walk you through analyzing country-level CO₂ emissions sequences step by step. If you're curious about how we transformed the original dataset into a format suitable for sequence analysis, you can find the detailed explanation here (TODO: webpage on SequenzoWebsite).\n",
    "\n",
    "New to Python? No worries! We've designed Sequenzo to be intuitive and beginner-friendly, so you can jump right in regardless of whether you are a newbie or a seasoned Python coder. \n",
    "\n",
    "By the end of this tutorial, you'll learn how to:\n",
    "\n",
    "1. Install Sequenzo\n",
    "2. Load and explore a dataset\n",
    "3. Analyze social sequences\n",
    "4. Visualize the results\n",
    "\n",
    "Now, let's get started on this exciting journey! 🐍✨\n"
   ],
   "metadata": {
    "collapsed": false
   },
   "id": "507a5297b4ed0bc9"
  },
  {
   "cell_type": "markdown",
   "source": [
    "## 1. Get a rough idea of the data"
   ],
   "metadata": {
    "collapsed": false
   },
   "id": "46bf41e2bd09b036"
  },
  {
   "cell_type": "code",
   "execution_count": 1,
   "outputs": [
    {
     "name": "stdout",
     "output_type": "stream",
     "text": [
      "Available datasets in Sequenzo:  ['chinese_colonial_territories', 'country_gdp_per_capita', 'country_co2_emissions']\n"
     ]
    },
    {
     "data": {
      "text/plain": "         country      1800      1801      1802      1803      1804      1805  \\\n0    Afghanistan  Very Low  Very Low  Very Low  Very Low  Very Low  Very Low   \n1        Albania  Very Low  Very Low  Very Low  Very Low  Very Low  Very Low   \n2        Algeria  Very Low  Very Low  Very Low  Very Low  Very Low  Very Low   \n3        Andorra      High      High      High      High      High      High   \n4         Angola       Low       Low       Low       Low       Low       Low   \n..           ...       ...       ...       ...       ...       ...       ...   \n189    Venezuela  Very Low  Very Low  Very Low  Very Low  Very Low  Very Low   \n190      Vietnam       Low       Low       Low       Low       Low       Low   \n191        Yemen  Very Low  Very Low  Very Low  Very Low  Very Low  Very Low   \n192       Zambia      High      High      High      High      High      High   \n193     Zimbabwe    Middle    Middle    Middle    Middle    Middle    Middle   \n\n         1806      1807      1808  ...       2013       2014       2015  \\\n0    Very Low  Very Low  Very Low  ...       High       High       High   \n1    Very Low  Very Low  Very Low  ...  Very High  Very High  Very High   \n2    Very Low  Very Low  Very Low  ...  Very High  Very High  Very High   \n3        High      High      High  ...  Very High  Very High  Very High   \n4         Low       Low       Low  ...       High       High       High   \n..        ...       ...       ...  ...        ...        ...        ...   \n189  Very Low  Very Low  Very Low  ...  Very High  Very High  Very High   \n190       Low       Low       Low  ...       High       High       High   \n191  Very Low  Very Low  Very Low  ...       High       High       High   \n192      High      High      High  ...       High       High       High   \n193    Middle    Middle    Middle  ...       High       High       High   \n\n          2016       2017       2018       2019       2020       2021  \\\n0         High       High       High       High       High       High   \n1    Very High  Very High  Very High  Very High  Very High  Very High   \n2    Very High  Very High  Very High  Very High  Very High  Very High   \n3    Very High  Very High  Very High  Very High  Very High  Very High   \n4         High       High       High       High       High       High   \n..         ...        ...        ...        ...        ...        ...   \n189  Very High  Very High       High     Middle       High       High   \n190       High       High  Very High  Very High  Very High  Very High   \n191       High       High       High       High       High       High   \n192       High       High       High       High       High       High   \n193       High       High       High       High       High       High   \n\n          2022  \n0         High  \n1    Very High  \n2    Very High  \n3    Very High  \n4         High  \n..         ...  \n189       High  \n190  Very High  \n191       High  \n192       High  \n193       High  \n\n[194 rows x 224 columns]",
      "text/html": "<div>\n<style scoped>\n    .dataframe tbody tr th:only-of-type {\n        vertical-align: middle;\n    }\n\n    .dataframe tbody tr th {\n        vertical-align: top;\n    }\n\n    .dataframe thead th {\n        text-align: right;\n    }\n</style>\n<table border=\"1\" class=\"dataframe\">\n  <thead>\n    <tr style=\"text-align: right;\">\n      <th></th>\n      <th>country</th>\n      <th>1800</th>\n      <th>1801</th>\n      <th>1802</th>\n      <th>1803</th>\n      <th>1804</th>\n      <th>1805</th>\n      <th>1806</th>\n      <th>1807</th>\n      <th>1808</th>\n      <th>...</th>\n      <th>2013</th>\n      <th>2014</th>\n      <th>2015</th>\n      <th>2016</th>\n      <th>2017</th>\n      <th>2018</th>\n      <th>2019</th>\n      <th>2020</th>\n      <th>2021</th>\n      <th>2022</th>\n    </tr>\n  </thead>\n  <tbody>\n    <tr>\n      <th>0</th>\n      <td>Afghanistan</td>\n      <td>Very Low</td>\n      <td>Very Low</td>\n      <td>Very Low</td>\n      <td>Very Low</td>\n      <td>Very Low</td>\n      <td>Very Low</td>\n      <td>Very Low</td>\n      <td>Very Low</td>\n      <td>Very Low</td>\n      <td>...</td>\n      <td>High</td>\n      <td>High</td>\n      <td>High</td>\n      <td>High</td>\n      <td>High</td>\n      <td>High</td>\n      <td>High</td>\n      <td>High</td>\n      <td>High</td>\n      <td>High</td>\n    </tr>\n    <tr>\n      <th>1</th>\n      <td>Albania</td>\n      <td>Very Low</td>\n      <td>Very Low</td>\n      <td>Very Low</td>\n      <td>Very Low</td>\n      <td>Very Low</td>\n      <td>Very Low</td>\n      <td>Very Low</td>\n      <td>Very Low</td>\n      <td>Very Low</td>\n      <td>...</td>\n      <td>Very High</td>\n      <td>Very High</td>\n      <td>Very High</td>\n      <td>Very High</td>\n      <td>Very High</td>\n      <td>Very High</td>\n      <td>Very High</td>\n      <td>Very High</td>\n      <td>Very High</td>\n      <td>Very High</td>\n    </tr>\n    <tr>\n      <th>2</th>\n      <td>Algeria</td>\n      <td>Very Low</td>\n      <td>Very Low</td>\n      <td>Very Low</td>\n      <td>Very Low</td>\n      <td>Very Low</td>\n      <td>Very Low</td>\n      <td>Very Low</td>\n      <td>Very Low</td>\n      <td>Very Low</td>\n      <td>...</td>\n      <td>Very High</td>\n      <td>Very High</td>\n      <td>Very High</td>\n      <td>Very High</td>\n      <td>Very High</td>\n      <td>Very High</td>\n      <td>Very High</td>\n      <td>Very High</td>\n      <td>Very High</td>\n      <td>Very High</td>\n    </tr>\n    <tr>\n      <th>3</th>\n      <td>Andorra</td>\n      <td>High</td>\n      <td>High</td>\n      <td>High</td>\n      <td>High</td>\n      <td>High</td>\n      <td>High</td>\n      <td>High</td>\n      <td>High</td>\n      <td>High</td>\n      <td>...</td>\n      <td>Very High</td>\n      <td>Very High</td>\n      <td>Very High</td>\n      <td>Very High</td>\n      <td>Very High</td>\n      <td>Very High</td>\n      <td>Very High</td>\n      <td>Very High</td>\n      <td>Very High</td>\n      <td>Very High</td>\n    </tr>\n    <tr>\n      <th>4</th>\n      <td>Angola</td>\n      <td>Low</td>\n      <td>Low</td>\n      <td>Low</td>\n      <td>Low</td>\n      <td>Low</td>\n      <td>Low</td>\n      <td>Low</td>\n      <td>Low</td>\n      <td>Low</td>\n      <td>...</td>\n      <td>High</td>\n      <td>High</td>\n      <td>High</td>\n      <td>High</td>\n      <td>High</td>\n      <td>High</td>\n      <td>High</td>\n      <td>High</td>\n      <td>High</td>\n      <td>High</td>\n    </tr>\n    <tr>\n      <th>...</th>\n      <td>...</td>\n      <td>...</td>\n      <td>...</td>\n      <td>...</td>\n      <td>...</td>\n      <td>...</td>\n      <td>...</td>\n      <td>...</td>\n      <td>...</td>\n      <td>...</td>\n      <td>...</td>\n      <td>...</td>\n      <td>...</td>\n      <td>...</td>\n      <td>...</td>\n      <td>...</td>\n      <td>...</td>\n      <td>...</td>\n      <td>...</td>\n      <td>...</td>\n      <td>...</td>\n    </tr>\n    <tr>\n      <th>189</th>\n      <td>Venezuela</td>\n      <td>Very Low</td>\n      <td>Very Low</td>\n      <td>Very Low</td>\n      <td>Very Low</td>\n      <td>Very Low</td>\n      <td>Very Low</td>\n      <td>Very Low</td>\n      <td>Very Low</td>\n      <td>Very Low</td>\n      <td>...</td>\n      <td>Very High</td>\n      <td>Very High</td>\n      <td>Very High</td>\n      <td>Very High</td>\n      <td>Very High</td>\n      <td>High</td>\n      <td>Middle</td>\n      <td>High</td>\n      <td>High</td>\n      <td>High</td>\n    </tr>\n    <tr>\n      <th>190</th>\n      <td>Vietnam</td>\n      <td>Low</td>\n      <td>Low</td>\n      <td>Low</td>\n      <td>Low</td>\n      <td>Low</td>\n      <td>Low</td>\n      <td>Low</td>\n      <td>Low</td>\n      <td>Low</td>\n      <td>...</td>\n      <td>High</td>\n      <td>High</td>\n      <td>High</td>\n      <td>High</td>\n      <td>High</td>\n      <td>Very High</td>\n      <td>Very High</td>\n      <td>Very High</td>\n      <td>Very High</td>\n      <td>Very High</td>\n    </tr>\n    <tr>\n      <th>191</th>\n      <td>Yemen</td>\n      <td>Very Low</td>\n      <td>Very Low</td>\n      <td>Very Low</td>\n      <td>Very Low</td>\n      <td>Very Low</td>\n      <td>Very Low</td>\n      <td>Very Low</td>\n      <td>Very Low</td>\n      <td>Very Low</td>\n      <td>...</td>\n      <td>High</td>\n      <td>High</td>\n      <td>High</td>\n      <td>High</td>\n      <td>High</td>\n      <td>High</td>\n      <td>High</td>\n      <td>High</td>\n      <td>High</td>\n      <td>High</td>\n    </tr>\n    <tr>\n      <th>192</th>\n      <td>Zambia</td>\n      <td>High</td>\n      <td>High</td>\n      <td>High</td>\n      <td>High</td>\n      <td>High</td>\n      <td>High</td>\n      <td>High</td>\n      <td>High</td>\n      <td>High</td>\n      <td>...</td>\n      <td>High</td>\n      <td>High</td>\n      <td>High</td>\n      <td>High</td>\n      <td>High</td>\n      <td>High</td>\n      <td>High</td>\n      <td>High</td>\n      <td>High</td>\n      <td>High</td>\n    </tr>\n    <tr>\n      <th>193</th>\n      <td>Zimbabwe</td>\n      <td>Middle</td>\n      <td>Middle</td>\n      <td>Middle</td>\n      <td>Middle</td>\n      <td>Middle</td>\n      <td>Middle</td>\n      <td>Middle</td>\n      <td>Middle</td>\n      <td>Middle</td>\n      <td>...</td>\n      <td>High</td>\n      <td>High</td>\n      <td>High</td>\n      <td>High</td>\n      <td>High</td>\n      <td>High</td>\n      <td>High</td>\n      <td>High</td>\n      <td>High</td>\n      <td>High</td>\n    </tr>\n  </tbody>\n</table>\n<p>194 rows × 224 columns</p>\n</div>"
     },
     "execution_count": 1,
     "metadata": {},
     "output_type": "execute_result"
    }
   ],
   "source": [
    "# Import necessary libraries\n",
    "from sequenzo import * # Social sequence analysis \n",
    "import pandas as pd # Data manipulation\n",
    "\n",
    "# List all the available datasets in Sequenzo\n",
    "print('Available datasets in Sequenzo: ', list_datasets())\n",
    "\n",
    "# Load the data that we would like to explore in this tutorial\n",
    "# `df` is the short for `dataframe`, which is a common variable name for a dataset\n",
    "df = load_dataset('country_co2_emissions')\n",
    "\n",
    "# Show the dataframe\n",
    "df"
   ],
   "metadata": {
    "collapsed": false,
    "ExecuteTime": {
     "end_time": "2025-03-01T03:35:30.260673Z",
     "start_time": "2025-03-01T03:35:27.985941Z"
    }
   },
   "id": "6c8cd664b8f974ab"
  },
  {
   "cell_type": "markdown",
   "source": [
    "The classification is based on all years' CO₂ per capita values:\n",
    "\n",
    "* Very Low (Bottom 20%)\n",
    "* Low (20-40%)\n",
    "* Middle (40-60%)\n",
    "* High (60-80%)\n",
    "* Very High (Top 20%)\n",
    "\n",
    "Using a jorgan in social sequence analysis, each category is called a **state**, and the sequence of states is called a social sequence. In sum, the dataset shows the level of the CO₂ emissions per capita of each country in each year. \n",
    "\n",
    "If we take Andorra as an example:  "
   ],
   "metadata": {
    "collapsed": false
   },
   "id": "a006fbe190aabd70"
  },
  {
   "cell_type": "code",
   "execution_count": 2,
   "outputs": [
    {
     "data": {
      "text/plain": "   country  1800  1801  1802  1803  1804  1805  1806  1807  1808  ...  \\\n3  Andorra  High  High  High  High  High  High  High  High  High  ...   \n\n        2013       2014       2015       2016       2017       2018  \\\n3  Very High  Very High  Very High  Very High  Very High  Very High   \n\n        2019       2020       2021       2022  \n3  Very High  Very High  Very High  Very High  \n\n[1 rows x 224 columns]",
      "text/html": "<div>\n<style scoped>\n    .dataframe tbody tr th:only-of-type {\n        vertical-align: middle;\n    }\n\n    .dataframe tbody tr th {\n        vertical-align: top;\n    }\n\n    .dataframe thead th {\n        text-align: right;\n    }\n</style>\n<table border=\"1\" class=\"dataframe\">\n  <thead>\n    <tr style=\"text-align: right;\">\n      <th></th>\n      <th>country</th>\n      <th>1800</th>\n      <th>1801</th>\n      <th>1802</th>\n      <th>1803</th>\n      <th>1804</th>\n      <th>1805</th>\n      <th>1806</th>\n      <th>1807</th>\n      <th>1808</th>\n      <th>...</th>\n      <th>2013</th>\n      <th>2014</th>\n      <th>2015</th>\n      <th>2016</th>\n      <th>2017</th>\n      <th>2018</th>\n      <th>2019</th>\n      <th>2020</th>\n      <th>2021</th>\n      <th>2022</th>\n    </tr>\n  </thead>\n  <tbody>\n    <tr>\n      <th>3</th>\n      <td>Andorra</td>\n      <td>High</td>\n      <td>High</td>\n      <td>High</td>\n      <td>High</td>\n      <td>High</td>\n      <td>High</td>\n      <td>High</td>\n      <td>High</td>\n      <td>High</td>\n      <td>...</td>\n      <td>Very High</td>\n      <td>Very High</td>\n      <td>Very High</td>\n      <td>Very High</td>\n      <td>Very High</td>\n      <td>Very High</td>\n      <td>Very High</td>\n      <td>Very High</td>\n      <td>Very High</td>\n      <td>Very High</td>\n    </tr>\n  </tbody>\n</table>\n<p>1 rows × 224 columns</p>\n</div>"
     },
     "execution_count": 2,
     "metadata": {},
     "output_type": "execute_result"
    }
   ],
   "source": [
    "# Filter the data for Andorra\n",
    "andorra_df = df[df['country'] == 'Andorra']\n",
    "\n",
    "# Show the Andorra df\n",
    "andorra_df"
   ],
   "metadata": {
    "collapsed": false,
    "ExecuteTime": {
     "end_time": "2025-03-01T03:35:33.501312Z",
     "start_time": "2025-03-01T03:35:33.493312Z"
    }
   },
   "id": "12aa6be870efd0d8"
  },
  {
   "cell_type": "markdown",
   "source": [
    "Based on the outcome, which is a subset of the original dataset, we can see that Andorra's CO₂ emissions per capita have undergone the following changes over the years:\n",
    "\n",
    "* 1990-1991: Started at \"Very High\" levels, indicating emissions in the top 20% of all countries\n",
    "* 1992-1997: Dropped to \"High\" level (60-80th percentile)\n",
    "* 1998: Brief return to \"Very High\" level\n",
    "* 2000s onwards: Stabilized at \"High\" level (60-80th percentile) and maintained this classification through 2019\n",
    "\n",
    "But it comes with a question: What if we want to analyze the sequences of all countries? 🤔 \n",
    "\n",
    "Here we need Sequenzo to help us!"
   ],
   "metadata": {
    "collapsed": false
   },
   "id": "30e759bfac4b9786"
  },
  {
   "cell_type": "markdown",
   "source": [
    "## 2. Analyze Social Sequences with Sequenzo"
   ],
   "metadata": {
    "collapsed": false
   },
   "id": "44a881b50ec7495d"
  },
  {
   "cell_type": "code",
   "execution_count": 3,
   "outputs": [
    {
     "name": "stdout",
     "output_type": "stream",
     "text": [
      "\n",
      "[>] SequenceData initialized successfully! Here's a summary:\n",
      "[>] Number of sequences: 194\n",
      "[>] Min/Max sequence length: 223 / 223\n",
      "[>] Alphabet: ['High', 'Low', 'Middle', 'Very High', 'Very Low']\n"
     ]
    },
    {
     "name": "stderr",
     "output_type": "stream",
     "text": [
      "/Users/lei/Documents/Sequenzo_all_folders/sequenzo/sequenzo/define_sequence_data.py:156: FutureWarning: DataFrame.applymap has been deprecated. Use DataFrame.map instead.\n",
      "  self.seqdata = self.seqdata.applymap(lambda x: self.state_mapping.get(x, 0))    # Convert sequences to numeric values\n"
     ]
    },
    {
     "data": {
      "text/plain": "SequenceData(194 sequences, Alphabet: ['High', 'Low', 'Middle', 'Very High', 'Very Low'])"
     },
     "execution_count": 3,
     "metadata": {},
     "output_type": "execute_result"
    }
   ],
   "source": [
    "# Create a SequenceData object\n",
    "\n",
    "# Define the time-span variable\n",
    "time = list(df.columns)[1:]\n",
    "\n",
    "states = ['Very Low', 'Low', 'Middle', 'High', 'Very High']\n",
    "\n",
    "sequence_data = SequenceData(df, time=time, states=states)\n",
    "\n",
    "sequence_data"
   ],
   "metadata": {
    "collapsed": false,
    "ExecuteTime": {
     "end_time": "2025-03-01T03:35:36.839330Z",
     "start_time": "2025-03-01T03:35:36.776233Z"
    }
   },
   "id": "3592412ab649c869"
  },
  {
   "cell_type": "markdown",
   "source": [
    "Now we have successfully created the `SequenceData` object based on our original dataframe, which is the core object in Sequenzo for analyzing social sequences.\n",
    "\n",
    "With our naked eyes, we might be only able to see the sequences of one country at a time. However, with the help of Sequenzo, we can analyze all the sequences of countries in one go. The most important tool is **visualization**, which helps us to understand the patterns and trends in the data.\n",
    "\n",
    "Among the various visualization methods, the most commonly used one is the **index plot**. Let's see how it works."
   ],
   "metadata": {
    "collapsed": false
   },
   "id": "ad497c75a4930ef1"
  },
  {
   "cell_type": "code",
   "execution_count": 4,
   "outputs": [
    {
     "ename": "TypeError",
     "evalue": "object of type 'NoneType' has no len()",
     "output_type": "error",
     "traceback": [
      "\u001B[0;31m---------------------------------------------------------------------------\u001B[0m",
      "\u001B[0;31mTypeError\u001B[0m                                 Traceback (most recent call last)",
      "Cell \u001B[0;32mIn[4], line 3\u001B[0m\n\u001B[1;32m      1\u001B[0m \u001B[38;5;66;03m# Plot the index plot\u001B[39;00m\n\u001B[0;32m----> 3\u001B[0m \u001B[43mplot_sequence_index\u001B[49m\u001B[43m(\u001B[49m\u001B[43msequence_data\u001B[49m\u001B[43m,\u001B[49m\u001B[43m \u001B[49m\u001B[43msortv\u001B[49m\u001B[38;5;241;43m=\u001B[39;49m\u001B[38;5;124;43m'\u001B[39;49m\u001B[38;5;124;43mlexical\u001B[39;49m\u001B[38;5;124;43m'\u001B[39;49m\u001B[43m,\u001B[49m\u001B[43m \u001B[49m\u001B[43msave_as\u001B[49m\u001B[38;5;241;43m=\u001B[39;49m\u001B[38;5;28;43;01mNone\u001B[39;49;00m\u001B[43m)\u001B[49m\n",
      "File \u001B[0;32m~/Documents/Sequenzo_all_folders/sequenzo/sequenzo/visualization/plot_sequence_index.py:98\u001B[0m, in \u001B[0;36mplot_sequence_index\u001B[0;34m(seqdata, id_group_df, custom_order, sortv, age_labels, categories, title, facet_ncol, xlabel, ylabel, save_as, dpi)\u001B[0m\n\u001B[1;32m     94\u001B[0m     \u001B[38;5;28;01mraise\u001B[39;00m \u001B[38;5;167;01mTypeError\u001B[39;00m(\u001B[38;5;124m\"\u001B[39m\u001B[38;5;124mInput data must be a SequenceData object.\u001B[39m\u001B[38;5;124m\"\u001B[39m)\n\u001B[1;32m     96\u001B[0m \u001B[38;5;28;01mif\u001B[39;00m id_group_df \u001B[38;5;129;01mis\u001B[39;00m \u001B[38;5;28;01mNone\u001B[39;00m:\n\u001B[1;32m     97\u001B[0m     \u001B[38;5;66;03m# Call the single plot function if no grouping is provided\u001B[39;00m\n\u001B[0;32m---> 98\u001B[0m     \u001B[43msequence_index_plot_single\u001B[49m\u001B[43m(\u001B[49m\u001B[43mseqdata\u001B[49m\u001B[43m,\u001B[49m\u001B[43m \u001B[49m\u001B[43mage_labels\u001B[49m\u001B[38;5;241;43m=\u001B[39;49m\u001B[43mage_labels\u001B[49m\u001B[43m,\u001B[49m\n\u001B[1;32m     99\u001B[0m \u001B[43m                                \u001B[49m\u001B[43mfigsize\u001B[49m\u001B[38;5;241;43m=\u001B[39;49m\u001B[43m(\u001B[49m\u001B[38;5;241;43m10\u001B[39;49m\u001B[43m,\u001B[49m\u001B[43m \u001B[49m\u001B[38;5;241;43m6\u001B[39;49m\u001B[43m)\u001B[49m\u001B[43m,\u001B[49m\u001B[43m \u001B[49m\u001B[43mtitle\u001B[49m\u001B[38;5;241;43m=\u001B[39;49m\u001B[43mtitle\u001B[49m\u001B[43m,\u001B[49m\n\u001B[1;32m    100\u001B[0m \u001B[43m                                \u001B[49m\u001B[43mxlabel\u001B[49m\u001B[38;5;241;43m=\u001B[39;49m\u001B[43mxlabel\u001B[49m\u001B[43m,\u001B[49m\u001B[43m \u001B[49m\u001B[43mylabel\u001B[49m\u001B[38;5;241;43m=\u001B[39;49m\u001B[43mylabel\u001B[49m\u001B[43m,\u001B[49m\u001B[43m \u001B[49m\u001B[43msave_as\u001B[49m\u001B[38;5;241;43m=\u001B[39;49m\u001B[43msave_as\u001B[49m\u001B[43m,\u001B[49m\u001B[43m \u001B[49m\u001B[43mdpi\u001B[49m\u001B[38;5;241;43m=\u001B[39;49m\u001B[43mdpi\u001B[49m\u001B[43m)\u001B[49m\n\u001B[1;32m    101\u001B[0m \u001B[38;5;28;01melse\u001B[39;00m:\n\u001B[1;32m    103\u001B[0m     \u001B[38;5;28;01mif\u001B[39;00m facet_ncol \u001B[38;5;241m==\u001B[39m \u001B[38;5;241m1\u001B[39m:\n\u001B[1;32m    104\u001B[0m         \u001B[38;5;66;03m# Call the grouped plot function if grouping is provided\u001B[39;00m\n",
      "File \u001B[0;32m~/Documents/Sequenzo_all_folders/sequenzo/sequenzo/visualization/plot_sequence_index.py:481\u001B[0m, in \u001B[0;36msequence_index_plot_single\u001B[0;34m(seqdata, age_labels, figsize, title, xlabel, ylabel, save_as, dpi)\u001B[0m\n\u001B[1;32m    478\u001B[0m ax\u001B[38;5;241m.\u001B[39mimshow(sorted_data, aspect\u001B[38;5;241m=\u001B[39m\u001B[38;5;124m'\u001B[39m\u001B[38;5;124mauto\u001B[39m\u001B[38;5;124m'\u001B[39m, cmap\u001B[38;5;241m=\u001B[39mcmap, interpolation\u001B[38;5;241m=\u001B[39m\u001B[38;5;124m'\u001B[39m\u001B[38;5;124mnearest\u001B[39m\u001B[38;5;124m'\u001B[39m)\n\u001B[1;32m    480\u001B[0m max_labels \u001B[38;5;241m=\u001B[39m \u001B[38;5;241m10\u001B[39m  \u001B[38;5;66;03m# Maximum number of labels to display\u001B[39;00m\n\u001B[0;32m--> 481\u001B[0m step \u001B[38;5;241m=\u001B[39m \u001B[38;5;28mmax\u001B[39m(\u001B[38;5;241m1\u001B[39m, \u001B[38;5;28;43mlen\u001B[39;49m\u001B[43m(\u001B[49m\u001B[43mage_labels\u001B[49m\u001B[43m)\u001B[49m \u001B[38;5;241m/\u001B[39m\u001B[38;5;241m/\u001B[39m max_labels)\n\u001B[1;32m    483\u001B[0m \u001B[38;5;66;03m# Enhance x-axis aesthetics\u001B[39;00m\n\u001B[1;32m    484\u001B[0m \u001B[38;5;28;01mif\u001B[39;00m age_labels:\n\u001B[1;32m    485\u001B[0m     \u001B[38;5;66;03m# Dynamically set ax.set_xticks() to avoid clustering too many x labels\u001B[39;00m\n",
      "\u001B[0;31mTypeError\u001B[0m: object of type 'NoneType' has no len()"
     ]
    },
    {
     "data": {
      "text/plain": "<Figure size 1000x600 with 1 Axes>",
      "image/png": "[encoded data removed]"
     },
     "metadata": {},
     "output_type": "display_data"
    }
   ],
   "source": [
    "# Plot the index plot\n",
    "\n",
    "plot_sequence_index(sequence_data, sortv='lexical', save_as=None)"
   ],
   "metadata": {
    "collapsed": false,
    "ExecuteTime": {
     "end_time": "2025-03-01T03:35:43.694568Z",
     "start_time": "2025-03-01T03:35:42.930224Z"
    }
   },
   "id": "fceb42d95f6eb978"
  },
  {
   "cell_type": "markdown",
   "source": [
    "But what if we would like to know more? state distribution plot. "
   ],
   "metadata": {
    "collapsed": false
   },
   "id": "261531bd43238424"
  },
  {
   "cell_type": "code",
   "execution_count": null,
   "outputs": [],
   "source": [
    "# Plot the state distribution"
   ],
   "metadata": {
    "collapsed": false
   },
   "id": "f9c771e3aae807ff"
  },
  {
   "cell_type": "markdown",
   "source": [],
   "metadata": {
    "collapsed": false
   },
   "id": "e2c4495142d9f6be"
  },
  {
   "cell_type": "code",
   "execution_count": 8,
   "outputs": [
    {
     "ename": "AttributeError",
     "evalue": "'SequenceData' object has no attribute 'var'",
     "output_type": "error",
     "traceback": [
      "\u001B[0;31m---------------------------------------------------------------------------\u001B[0m",
      "\u001B[0;31mAttributeError\u001B[0m                            Traceback (most recent call last)",
      "Cell \u001B[0;32mIn[8], line 1\u001B[0m\n\u001B[0;32m----> 1\u001B[0m \u001B[43mplot_most_frequent_sequences\u001B[49m\u001B[43m(\u001B[49m\u001B[43msequence_data\u001B[49m\u001B[43m,\u001B[49m\u001B[43m \u001B[49m\u001B[43mtop_n\u001B[49m\u001B[38;5;241;43m=\u001B[39;49m\u001B[38;5;241;43m5\u001B[39;49m\u001B[43m)\u001B[49m\n",
      "File \u001B[0;32m~/Documents/Sequenzo_all_folders/sequenzo/sequenzo/visualization/plot_most_frequent_sequences.py:47\u001B[0m, in \u001B[0;36mplot_most_frequent_sequences\u001B[0;34m(seqdata, top_n, save_as, dpi)\u001B[0m\n\u001B[1;32m     44\u001B[0m x_ticks \u001B[38;5;241m=\u001B[39m np\u001B[38;5;241m.\u001B[39marange(sequence_length) \u001B[38;5;241m+\u001B[39m \u001B[38;5;241m0.5\u001B[39m  \u001B[38;5;66;03m# Align X-axis ticks to the center of bars\u001B[39;00m\n\u001B[1;32m     46\u001B[0m \u001B[38;5;66;03m# Use provided time labels if available, otherwise use generic \"C1, C2, ...\"\u001B[39;00m\n\u001B[0;32m---> 47\u001B[0m \u001B[38;5;28;01mif\u001B[39;00m \u001B[43mseqdata\u001B[49m\u001B[38;5;241;43m.\u001B[39;49m\u001B[43mvar\u001B[49m:\n\u001B[1;32m     48\u001B[0m     x_labels \u001B[38;5;241m=\u001B[39m seqdata\u001B[38;5;241m.\u001B[39mcleaned_time\n\u001B[1;32m     49\u001B[0m \u001B[38;5;28;01melse\u001B[39;00m:\n",
      "\u001B[0;31mAttributeError\u001B[0m: 'SequenceData' object has no attribute 'var'"
     ]
    }
   ],
   "source": [
    "plot_most_frequent_sequences(sequence_data, top_n=5)"
   ],
   "metadata": {
    "collapsed": false,
    "ExecuteTime": {
     "end_time": "2025-02-25T23:26:55.208014Z",
     "start_time": "2025-02-25T23:26:55.140171Z"
    }
   },
   "id": "630b98ef7aef7078"
  },
  {
   "cell_type": "code",
   "execution_count": 8,
   "outputs": [
    {
     "name": "stdout",
     "output_type": "stream",
     "text": [
      "[>] 194 sequences with 8 distinct states.\n",
      "Computing sm with seqcost using CONSTANT\n",
      " [>] creating 8x8 substitution-cost matrix using 2 as constant value\n",
      "[>] 192 distinct sequences .\n",
      "[>] min/max sequence lengths: 223 / 223.\n",
      "OM starts ......\n",
      "[>] start f:compute_all_distances() ...\n",
      "[>] successfully computed!\n"
     ]
    },
    {
     "data": {
      "text/plain": "       0      1      2      3      4      5      6      7      8      9    \\\n0      0.0  130.0  118.0  408.0  354.0  316.0  334.0  182.0  334.0  340.0   \n1    130.0    0.0   88.0  286.0  330.0  350.0  284.0  180.0  322.0  304.0   \n2    118.0   88.0    0.0  300.0  360.0  264.0  282.0  126.0  282.0  282.0   \n3    408.0  286.0  300.0    0.0  334.0  294.0  104.0  288.0  124.0  128.0   \n4    354.0  330.0  360.0  334.0    0.0  256.0  300.0  292.0  334.0  318.0   \n..     ...    ...    ...    ...    ...    ...    ...    ...    ...    ...   \n189  162.0  138.0   68.0  264.0  390.0  282.0  260.0  164.0  248.0  246.0   \n190  306.0  308.0  350.0  294.0  104.0  184.0  224.0  224.0  262.0  266.0   \n191  110.0   54.0  124.0  310.0  306.0  378.0  310.0  198.0  370.0  354.0   \n192  408.0  326.0  402.0  250.0  334.0  406.0  246.0  360.0  370.0  354.0   \n193  334.0  306.0  352.0  250.0  300.0  198.0  148.0  234.0  222.0  244.0   \n\n     ...    184    185    186    187    188    189    190    191    192    193  \n0    ...  140.0  226.0  272.0  228.0  316.0  162.0  306.0  110.0  408.0  334.0  \n1    ...  234.0  192.0  266.0  192.0  318.0  138.0  308.0   54.0  326.0  306.0  \n2    ...  200.0  142.0  194.0  144.0  360.0   68.0  350.0  124.0  402.0  352.0  \n3    ...  446.0  188.0  324.0  182.0  250.0  264.0  294.0  310.0  250.0  250.0  \n4    ...  304.0  306.0  212.0  306.0  182.0  390.0  104.0  306.0  334.0  300.0  \n..   ...    ...    ...    ...    ...    ...    ...    ...    ...    ...    ...  \n189  ...  216.0  118.0  212.0  120.0  388.0    0.0  388.0  176.0  414.0  366.0  \n190  ...  242.0  292.0  198.0  290.0  116.0  388.0    0.0  282.0  304.0  224.0  \n191  ...  214.0  222.0  292.0  222.0  282.0  176.0  282.0    0.0  310.0  308.0  \n192  ...  446.0  362.0  410.0  360.0  242.0  414.0  304.0  310.0    0.0  248.0  \n193  ...  310.0  304.0  346.0  300.0  142.0  366.0  224.0  308.0  248.0    0.0  \n\n[194 rows x 194 columns]",
      "text/html": "<div>\n<style scoped>\n    .dataframe tbody tr th:only-of-type {\n        vertical-align: middle;\n    }\n\n    .dataframe tbody tr th {\n        vertical-align: top;\n    }\n\n    .dataframe thead th {\n        text-align: right;\n    }\n</style>\n<table border=\"1\" class=\"dataframe\">\n  <thead>\n    <tr style=\"text-align: right;\">\n      <th></th>\n      <th>0</th>\n      <th>1</th>\n      <th>2</th>\n      <th>3</th>\n      <th>4</th>\n      <th>5</th>\n      <th>6</th>\n      <th>7</th>\n      <th>8</th>\n      <th>9</th>\n      <th>...</th>\n      <th>184</th>\n      <th>185</th>\n      <th>186</th>\n      <th>187</th>\n      <th>188</th>\n      <th>189</th>\n      <th>190</th>\n      <th>191</th>\n      <th>192</th>\n      <th>193</th>\n    </tr>\n  </thead>\n  <tbody>\n    <tr>\n      <th>0</th>\n      <td>0.0</td>\n      <td>130.0</td>\n      <td>118.0</td>\n      <td>408.0</td>\n      <td>354.0</td>\n      <td>316.0</td>\n      <td>334.0</td>\n      <td>182.0</td>\n      <td>334.0</td>\n      <td>340.0</td>\n      <td>...</td>\n      <td>140.0</td>\n      <td>226.0</td>\n      <td>272.0</td>\n      <td>228.0</td>\n      <td>316.0</td>\n      <td>162.0</td>\n      <td>306.0</td>\n      <td>110.0</td>\n      <td>408.0</td>\n      <td>334.0</td>\n    </tr>\n    <tr>\n      <th>1</th>\n      <td>130.0</td>\n      <td>0.0</td>\n      <td>88.0</td>\n      <td>286.0</td>\n      <td>330.0</td>\n      <td>350.0</td>\n      <td>284.0</td>\n      <td>180.0</td>\n      <td>322.0</td>\n      <td>304.0</td>\n      <td>...</td>\n      <td>234.0</td>\n      <td>192.0</td>\n      <td>266.0</td>\n      <td>192.0</td>\n      <td>318.0</td>\n      <td>138.0</td>\n      <td>308.0</td>\n      <td>54.0</td>\n      <td>326.0</td>\n      <td>306.0</td>\n    </tr>\n    <tr>\n      <th>2</th>\n      <td>118.0</td>\n      <td>88.0</td>\n      <td>0.0</td>\n      <td>300.0</td>\n      <td>360.0</td>\n      <td>264.0</td>\n      <td>282.0</td>\n      <td>126.0</td>\n      <td>282.0</td>\n      <td>282.0</td>\n      <td>...</td>\n      <td>200.0</td>\n      <td>142.0</td>\n      <td>194.0</td>\n      <td>144.0</td>\n      <td>360.0</td>\n      <td>68.0</td>\n      <td>350.0</td>\n      <td>124.0</td>\n      <td>402.0</td>\n      <td>352.0</td>\n    </tr>\n    <tr>\n      <th>3</th>\n      <td>408.0</td>\n      <td>286.0</td>\n      <td>300.0</td>\n      <td>0.0</td>\n      <td>334.0</td>\n      <td>294.0</td>\n      <td>104.0</td>\n      <td>288.0</td>\n      <td>124.0</td>\n      <td>128.0</td>\n      <td>...</td>\n      <td>446.0</td>\n      <td>188.0</td>\n      <td>324.0</td>\n      <td>182.0</td>\n      <td>250.0</td>\n      <td>264.0</td>\n      <td>294.0</td>\n      <td>310.0</td>\n      <td>250.0</td>\n      <td>250.0</td>\n    </tr>\n    <tr>\n      <th>4</th>\n      <td>354.0</td>\n      <td>330.0</td>\n      <td>360.0</td>\n      <td>334.0</td>\n      <td>0.0</td>\n      <td>256.0</td>\n      <td>300.0</td>\n      <td>292.0</td>\n      <td>334.0</td>\n      <td>318.0</td>\n      <td>...</td>\n      <td>304.0</td>\n      <td>306.0</td>\n      <td>212.0</td>\n      <td>306.0</td>\n      <td>182.0</td>\n      <td>390.0</td>\n      <td>104.0</td>\n      <td>306.0</td>\n      <td>334.0</td>\n      <td>300.0</td>\n    </tr>\n    <tr>\n      <th>...</th>\n      <td>...</td>\n      <td>...</td>\n      <td>...</td>\n      <td>...</td>\n      <td>...</td>\n      <td>...</td>\n      <td>...</td>\n      <td>...</td>\n      <td>...</td>\n      <td>...</td>\n      <td>...</td>\n      <td>...</td>\n      <td>...</td>\n      <td>...</td>\n      <td>...</td>\n      <td>...</td>\n      <td>...</td>\n      <td>...</td>\n      <td>...</td>\n      <td>...</td>\n      <td>...</td>\n    </tr>\n    <tr>\n      <th>189</th>\n      <td>162.0</td>\n      <td>138.0</td>\n      <td>68.0</td>\n      <td>264.0</td>\n      <td>390.0</td>\n      <td>282.0</td>\n      <td>260.0</td>\n      <td>164.0</td>\n      <td>248.0</td>\n      <td>246.0</td>\n      <td>...</td>\n      <td>216.0</td>\n      <td>118.0</td>\n      <td>212.0</td>\n      <td>120.0</td>\n      <td>388.0</td>\n      <td>0.0</td>\n      <td>388.0</td>\n      <td>176.0</td>\n      <td>414.0</td>\n      <td>366.0</td>\n    </tr>\n    <tr>\n      <th>190</th>\n      <td>306.0</td>\n      <td>308.0</td>\n      <td>350.0</td>\n      <td>294.0</td>\n      <td>104.0</td>\n      <td>184.0</td>\n      <td>224.0</td>\n      <td>224.0</td>\n      <td>262.0</td>\n      <td>266.0</td>\n      <td>...</td>\n      <td>242.0</td>\n      <td>292.0</td>\n      <td>198.0</td>\n      <td>290.0</td>\n      <td>116.0</td>\n      <td>388.0</td>\n      <td>0.0</td>\n      <td>282.0</td>\n      <td>304.0</td>\n      <td>224.0</td>\n    </tr>\n    <tr>\n      <th>191</th>\n      <td>110.0</td>\n      <td>54.0</td>\n      <td>124.0</td>\n      <td>310.0</td>\n      <td>306.0</td>\n      <td>378.0</td>\n      <td>310.0</td>\n      <td>198.0</td>\n      <td>370.0</td>\n      <td>354.0</td>\n      <td>...</td>\n      <td>214.0</td>\n      <td>222.0</td>\n      <td>292.0</td>\n      <td>222.0</td>\n      <td>282.0</td>\n      <td>176.0</td>\n      <td>282.0</td>\n      <td>0.0</td>\n      <td>310.0</td>\n      <td>308.0</td>\n    </tr>\n    <tr>\n      <th>192</th>\n      <td>408.0</td>\n      <td>326.0</td>\n      <td>402.0</td>\n      <td>250.0</td>\n      <td>334.0</td>\n      <td>406.0</td>\n      <td>246.0</td>\n      <td>360.0</td>\n      <td>370.0</td>\n      <td>354.0</td>\n      <td>...</td>\n      <td>446.0</td>\n      <td>362.0</td>\n      <td>410.0</td>\n      <td>360.0</td>\n      <td>242.0</td>\n      <td>414.0</td>\n      <td>304.0</td>\n      <td>310.0</td>\n      <td>0.0</td>\n      <td>248.0</td>\n    </tr>\n    <tr>\n      <th>193</th>\n      <td>334.0</td>\n      <td>306.0</td>\n      <td>352.0</td>\n      <td>250.0</td>\n      <td>300.0</td>\n      <td>198.0</td>\n      <td>148.0</td>\n      <td>234.0</td>\n      <td>222.0</td>\n      <td>244.0</td>\n      <td>...</td>\n      <td>310.0</td>\n      <td>304.0</td>\n      <td>346.0</td>\n      <td>300.0</td>\n      <td>142.0</td>\n      <td>366.0</td>\n      <td>224.0</td>\n      <td>308.0</td>\n      <td>248.0</td>\n      <td>0.0</td>\n    </tr>\n  </tbody>\n</table>\n<p>194 rows × 194 columns</p>\n</div>"
     },
     "execution_count": 8,
     "metadata": {},
     "output_type": "execute_result"
    }
   ],
   "source": [],
   "metadata": {
    "collapsed": false,
    "ExecuteTime": {
     "end_time": "2025-02-27T20:17:20.882460Z",
     "start_time": "2025-02-27T20:17:17.234650Z"
    }
   },
   "id": "132fca7c2fafb3f0"
  }
 ],
 "metadata": {
  "kernelspec": {
   "display_name": "Python 3",
   "language": "python",
   "name": "python3"
  },
  "language_info": {
   "codemirror_mode": {
    "name": "ipython",
    "version": 2
   },
   "file_extension": ".py",
   "mimetype": "text/x-python",
   "name": "python",
   "nbconvert_exporter": "python",
   "pygments_lexer": "ipython2",
   "version": "2.7.6"
  }
 },
 "nbformat": 4,
 "nbformat_minor": 5
}
