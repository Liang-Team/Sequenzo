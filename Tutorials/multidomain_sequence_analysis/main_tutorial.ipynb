{
 "cells": [
  {
   "cell_type": "markdown",
   "source": [
    "# Step-by-step tutorial on how to use different strategies for multi-domain sequence analysis\n",
    "\n",
    "Multi-domain sequence analysis is.... Please introduce.\n",
    "\n",
    "This tutorial will guide you through multi-domain sequence analysis, including assessing the association between domains, and the four strategies of multi-domain sequence analysis, including .... \n",
    "\n",
    "Here, we will use biofam dataset from MedSeq R package to illustrate how these four strategies differ. \n",
    "\n",
    "Let's get started!"
   ],
   "metadata": {
    "collapsed": false
   },
   "id": "8a746398aef330b0"
  },
  {
   "cell_type": "code",
   "execution_count": 1,
   "id": "initial_id",
   "metadata": {
    "collapsed": true,
    "ExecuteTime": {
     "end_time": "2025-04-17T19:15:37.037230Z",
     "start_time": "2025-04-17T19:15:35.259747Z"
    }
   },
   "outputs": [
    {
     "data": {
      "text/plain": "        id  age_15  age_16  age_17  age_18  age_19  age_20  age_21  age_22  \\\n0        1       0       0       0       0       0       0       0       0   \n1        2       0       1       1       1       1       1       1       1   \n2        3       0       0       0       0       0       0       0       1   \n3        4       0       0       0       0       0       1       1       1   \n4        5       0       0       0       0       0       1       1       1   \n...    ...     ...     ...     ...     ...     ...     ...     ...     ...   \n1995  1996       0       0       0       0       0       0       1       1   \n1996  1997       0       0       1       1       1       1       1       1   \n1997  1998       0       0       0       0       0       0       0       0   \n1998  1999       0       0       0       0       0       0       0       0   \n1999  2000       0       0       0       0       0       0       1       1   \n\n      age_23  age_24  age_25  age_26  age_27  age_28  age_29  age_30  \n0          0       1       1       1       1       1       1       1  \n1          1       1       1       1       1       1       1       1  \n2          1       1       1       1       1       1       1       1  \n3          1       1       1       1       1       1       1       1  \n4          1       1       1       1       1       1       1       1  \n...      ...     ...     ...     ...     ...     ...     ...     ...  \n1995       1       1       1       1       1       1       1       1  \n1996       1       1       1       1       1       1       1       1  \n1997       0       0       0       0       0       0       0       0  \n1998       0       0       0       0       0       0       0       0  \n1999       1       1       1       1       1       1       1       1  \n\n[2000 rows x 17 columns]",
      "text/html": "<div>\n<style scoped>\n    .dataframe tbody tr th:only-of-type {\n        vertical-align: middle;\n    }\n\n    .dataframe tbody tr th {\n        vertical-align: top;\n    }\n\n    .dataframe thead th {\n        text-align: right;\n    }\n</style>\n<table border=\"1\" class=\"dataframe\">\n  <thead>\n    <tr style=\"text-align: right;\">\n      <th></th>\n      <th>id</th>\n      <th>age_15</th>\n      <th>age_16</th>\n      <th>age_17</th>\n      <th>age_18</th>\n      <th>age_19</th>\n      <th>age_20</th>\n      <th>age_21</th>\n      <th>age_22</th>\n      <th>age_23</th>\n      <th>age_24</th>\n      <th>age_25</th>\n      <th>age_26</th>\n      <th>age_27</th>\n      <th>age_28</th>\n      <th>age_29</th>\n      <th>age_30</th>\n    </tr>\n  </thead>\n  <tbody>\n    <tr>\n      <th>0</th>\n      <td>1</td>\n      <td>0</td>\n      <td>0</td>\n      <td>0</td>\n      <td>0</td>\n      <td>0</td>\n      <td>0</td>\n      <td>0</td>\n      <td>0</td>\n      <td>0</td>\n      <td>1</td>\n      <td>1</td>\n      <td>1</td>\n      <td>1</td>\n      <td>1</td>\n      <td>1</td>\n      <td>1</td>\n    </tr>\n    <tr>\n      <th>1</th>\n      <td>2</td>\n      <td>0</td>\n      <td>1</td>\n      <td>1</td>\n      <td>1</td>\n      <td>1</td>\n      <td>1</td>\n      <td>1</td>\n      <td>1</td>\n      <td>1</td>\n      <td>1</td>\n      <td>1</td>\n      <td>1</td>\n      <td>1</td>\n      <td>1</td>\n      <td>1</td>\n      <td>1</td>\n    </tr>\n    <tr>\n      <th>2</th>\n      <td>3</td>\n      <td>0</td>\n      <td>0</td>\n      <td>0</td>\n      <td>0</td>\n      <td>0</td>\n      <td>0</td>\n      <td>0</td>\n      <td>1</td>\n      <td>1</td>\n      <td>1</td>\n      <td>1</td>\n      <td>1</td>\n      <td>1</td>\n      <td>1</td>\n      <td>1</td>\n      <td>1</td>\n    </tr>\n    <tr>\n      <th>3</th>\n      <td>4</td>\n      <td>0</td>\n      <td>0</td>\n      <td>0</td>\n      <td>0</td>\n      <td>0</td>\n      <td>1</td>\n      <td>1</td>\n      <td>1</td>\n      <td>1</td>\n      <td>1</td>\n      <td>1</td>\n      <td>1</td>\n      <td>1</td>\n      <td>1</td>\n      <td>1</td>\n      <td>1</td>\n    </tr>\n    <tr>\n      <th>4</th>\n      <td>5</td>\n      <td>0</td>\n      <td>0</td>\n      <td>0</td>\n      <td>0</td>\n      <td>0</td>\n      <td>1</td>\n      <td>1</td>\n      <td>1</td>\n      <td>1</td>\n      <td>1</td>\n      <td>1</td>\n      <td>1</td>\n      <td>1</td>\n      <td>1</td>\n      <td>1</td>\n      <td>1</td>\n    </tr>\n    <tr>\n      <th>...</th>\n      <td>...</td>\n      <td>...</td>\n      <td>...</td>\n      <td>...</td>\n      <td>...</td>\n      <td>...</td>\n      <td>...</td>\n      <td>...</td>\n      <td>...</td>\n      <td>...</td>\n      <td>...</td>\n      <td>...</td>\n      <td>...</td>\n      <td>...</td>\n      <td>...</td>\n      <td>...</td>\n      <td>...</td>\n    </tr>\n    <tr>\n      <th>1995</th>\n      <td>1996</td>\n      <td>0</td>\n      <td>0</td>\n      <td>0</td>\n      <td>0</td>\n      <td>0</td>\n      <td>0</td>\n      <td>1</td>\n      <td>1</td>\n      <td>1</td>\n      <td>1</td>\n      <td>1</td>\n      <td>1</td>\n      <td>1</td>\n      <td>1</td>\n      <td>1</td>\n      <td>1</td>\n    </tr>\n    <tr>\n      <th>1996</th>\n      <td>1997</td>\n      <td>0</td>\n      <td>0</td>\n      <td>1</td>\n      <td>1</td>\n      <td>1</td>\n      <td>1</td>\n      <td>1</td>\n      <td>1</td>\n      <td>1</td>\n      <td>1</td>\n      <td>1</td>\n      <td>1</td>\n      <td>1</td>\n      <td>1</td>\n      <td>1</td>\n      <td>1</td>\n    </tr>\n    <tr>\n      <th>1997</th>\n      <td>1998</td>\n      <td>0</td>\n      <td>0</td>\n      <td>0</td>\n      <td>0</td>\n      <td>0</td>\n      <td>0</td>\n      <td>0</td>\n      <td>0</td>\n      <td>0</td>\n      <td>0</td>\n      <td>0</td>\n      <td>0</td>\n      <td>0</td>\n      <td>0</td>\n      <td>0</td>\n      <td>0</td>\n    </tr>\n    <tr>\n      <th>1998</th>\n      <td>1999</td>\n      <td>0</td>\n      <td>0</td>\n      <td>0</td>\n      <td>0</td>\n      <td>0</td>\n      <td>0</td>\n      <td>0</td>\n      <td>0</td>\n      <td>0</td>\n      <td>0</td>\n      <td>0</td>\n      <td>0</td>\n      <td>0</td>\n      <td>0</td>\n      <td>0</td>\n      <td>0</td>\n    </tr>\n    <tr>\n      <th>1999</th>\n      <td>2000</td>\n      <td>0</td>\n      <td>0</td>\n      <td>0</td>\n      <td>0</td>\n      <td>0</td>\n      <td>0</td>\n      <td>1</td>\n      <td>1</td>\n      <td>1</td>\n      <td>1</td>\n      <td>1</td>\n      <td>1</td>\n      <td>1</td>\n      <td>1</td>\n      <td>1</td>\n      <td>1</td>\n    </tr>\n  </tbody>\n</table>\n<p>2000 rows × 17 columns</p>\n</div>"
     },
     "execution_count": 1,
     "metadata": {},
     "output_type": "execute_result"
    }
   ],
   "source": [
    "from sequenzo import *\n",
    "\n",
    "# Load datasets, and which dataset corresponds to one domain\n",
    "left_df = load_dataset('biofam_left_domain')\n",
    "children_df = load_dataset('biofam_child_domain')\n",
    "married_df = load_dataset('biofam_married_domain')\n",
    "\n",
    "# For example, let's take a look at the dataset about whether individuals left home or not\n",
    "left_df"
   ]
  },
  {
   "cell_type": "markdown",
   "source": [
    "## Assessing whether and to what extent domains are associated with each other\n",
    "\n",
    "To explore how different life domains (e.g. marriage, leaving home, having children) are related across time, we use **sequence association analysis**. This helps us understand **if** and **how strongly** two domains tend to move together across a person's life.\n",
    "\n",
    "### Step 1: Create Sequence Objects\n",
    "\n",
    "We first create sequence data objects for each domain (e.g. a sequence showing whether someone was married at each age). These objects are then compared **pairwise** to analyze their associations.\n"
   ],
   "metadata": {
    "collapsed": false
   },
   "id": "f2074c699788f196"
  },
  {
   "cell_type": "code",
   "execution_count": 2,
   "outputs": [
    {
     "name": "stdout",
     "output_type": "stream",
     "text": [
      "\n",
      "------ seq_left ------\n",
      "\n",
      "[>] SequenceData initialized successfully! Here's a summary:\n",
      "[>] Number of sequences: 2000\n",
      "[>] Min/Max sequence length: 16 / 16\n",
      "[>] Alphabet: [0, 1]\n",
      "\n",
      "------ seq_child ------\n",
      "\n",
      "[>] SequenceData initialized successfully! Here's a summary:\n",
      "[>] Number of sequences: 2000\n",
      "[>] Min/Max sequence length: 16 / 16\n",
      "[>] Alphabet: [0, 1]\n",
      "\n",
      "------ seq_married ------\n",
      "\n",
      "[>] SequenceData initialized successfully! Here's a summary:\n",
      "[>] Number of sequences: 2000\n",
      "[>] Min/Max sequence length: 16 / 16\n",
      "[>] Alphabet: [0, 1]\n"
     ]
    }
   ],
   "source": [
    "# Extract the columns related to age/time\n",
    "# which is a prerequisite for building a sequence data.\n",
    "time_cols = [col for col in children_df.columns if col.startswith(\"age_\")]\n",
    "\n",
    "# Construct a sequence data for each \n",
    "print(\"\\n------ seq_left ------\")\n",
    "seq_left = SequenceData(data=left_df, \n",
    "                        time_type=\"age\", \n",
    "                        time=time_cols, \n",
    "                        states=[0, 1],\n",
    "                        labels=[\"At home\", \"Left home\"])\n",
    "\n",
    "print(\"\\n------ seq_child ------\")\n",
    "seq_child = SequenceData(data=children_df, \n",
    "                         time_type=\"age\", \n",
    "                         time=time_cols, \n",
    "                         states=[0, 1],\n",
    "                         labels=[\"No child\", \"Child\"])\n",
    "\n",
    "print(\"\\n------ seq_married ------\")\n",
    "seq_married = SequenceData(data=married_df, \n",
    "                        time_type=\"age\", \n",
    "                        time=time_cols, \n",
    "                        states=[0, 1],\n",
    "                        labels=[\"Not married\", \"Married\"])"
   ],
   "metadata": {
    "collapsed": false,
    "ExecuteTime": {
     "end_time": "2025-04-17T19:15:37.104170Z",
     "start_time": "2025-04-17T19:15:37.037077Z"
    }
   },
   "id": "cdbd73189fae9043"
  },
  {
   "cell_type": "markdown",
   "source": [
    "### Step 2: Measuring Association\n",
    "\n",
    "We use two complementary statistical measures:\n",
    "\n",
    "| Measure      | Description                                                                 | What it tells us                                       |\n",
    "|--------------|-----------------------------------------------------------------------------|---------------------------------------------------------|\n",
    "| **LRT (Likelihood Ratio Test)** | A test of **whether** two domains are statistically associated | Tells you **if there is any significant link** at all    |\n",
    "| **Cramer's V (v)**              | A measure of **how strong** the association is (0 to 1)         | Tells you **how strong** the link is if it exists       |\n",
    "\n",
    "Both of these are calculated **based on cross-tabulations** of aligned sequence positions (e.g., marriage status vs. childbearing at each age).\n",
    "\n",
    "### What's the Difference?\n",
    "\n",
    "- **LRT (`p(LRT)`):**  \n",
    "  Think of this as a **yes/no test** — *Is there any relationship?*\n",
    "  - A low p-value (e.g., < 0.05) means \"Yes, the association is statistically significant.\"\n",
    "  - A high p-value means there's no evidence of association.\n",
    "\n",
    "- **Cramer's V (`v` and `p(v)`):**  \n",
    "  This tells you **how strong** the relationship is, even if it's weak.\n",
    "  - Value ranges from 0 (no association) to 1 (perfect association).\n",
    "  - We also attach a label:\n",
    "    - `None` (v < 0.1)\n",
    "    - `Weak` (0.1 ≤ v < 0.3)\n",
    "    - `Moderate` (0.3 ≤ v < 0.5)\n",
    "    - `Strong` (v ≥ 0.5)\n",
    "\n",
    "> **Note:** Even when `v = 0`, non-linear associations *might* exist — this test only captures **linear dependencies**.\n",
    "\n",
    "### Output Table\n",
    "\n",
    "The result is a table that looks like the following. \n",
    "\n",
    "Each row shows how two domains relate to each other, how statistically significant that relationship is, and how strong it is."
   ],
   "metadata": {
    "collapsed": false
   },
   "id": "b3471810ee0c7f09"
  },
  {
   "cell_type": "code",
   "execution_count": 3,
   "outputs": [
    {
     "name": "stdout",
     "output_type": "stream",
     "text": [
      "\n",
      "📜 Full results table:\n"
     ]
    },
    {
     "data": {
      "text/plain": "                     df   LRT          p(LRT)      v        p(v)        \\\nchildren vs married  1.0   9144.680641  0.000 ***  0.481817  0.000 ***   \nchildren vs left     1.0   9561.568952  0.000 ***  0.531414  0.000 ***   \nmarried vs left      1.0  12430.120849  0.000 ***  0.626851  0.000 ***   \n\n                    strength   \nchildren vs married  Moderate  \nchildren vs left       Strong  \nmarried vs left        Strong  ",
      "text/html": "<div>\n<style scoped>\n    .dataframe tbody tr th:only-of-type {\n        vertical-align: middle;\n    }\n\n    .dataframe tbody tr th {\n        vertical-align: top;\n    }\n\n    .dataframe thead th {\n        text-align: right;\n    }\n</style>\n<table border=\"1\" class=\"dataframe\">\n  <thead>\n    <tr style=\"text-align: left;\">\n      <th></th>\n      <th>df</th>\n      <th>LRT</th>\n      <th>p(LRT)</th>\n      <th>v</th>\n      <th>p(v)</th>\n      <th>strength</th>\n    </tr>\n  </thead>\n  <tbody>\n    <tr>\n      <th>children vs married</th>\n      <td>1.0</td>\n      <td>9144.680641</td>\n      <td>0.000 ***</td>\n      <td>0.481817</td>\n      <td>0.000 ***</td>\n      <td>Moderate</td>\n    </tr>\n    <tr>\n      <th>children vs left</th>\n      <td>1.0</td>\n      <td>9561.568952</td>\n      <td>0.000 ***</td>\n      <td>0.531414</td>\n      <td>0.000 ***</td>\n      <td>Strong</td>\n    </tr>\n    <tr>\n      <th>married vs left</th>\n      <td>1.0</td>\n      <td>12430.120849</td>\n      <td>0.000 ***</td>\n      <td>0.626851</td>\n      <td>0.000 ***</td>\n      <td>Strong</td>\n    </tr>\n  </tbody>\n</table>\n</div>"
     },
     "metadata": {},
     "output_type": "display_data"
    },
    {
     "name": "stdout",
     "output_type": "stream",
     "text": [
      "\n",
      "📘 Column explanations:\n",
      "  - df       : Degrees of freedom for the test (typically 1 for binary state sequences).\n",
      "  - LRT      : Likelihood Ratio Test statistic (higher = stronger dependence).\n",
      "  - p(LRT)   : p-value for LRT + significance stars: * (p<.05), ** (p<.01), *** (p<.001)\n",
      "  - v        : Cramer's V statistic (0 to 1, measures association strength).\n",
      "  - p(v)     : p-value for Cramer's V (based on chi-squared test) + significance stars: * (p<.05), ** (p<.01), *** (p<.001)\n",
      "  - strength : Qualitative label for association strength based on Cramer's V:\n",
      "               0.00–0.09 → None, 0.10–0.29 → Weak, 0.30–0.49 → Moderate, ≥0.50 → Strong\n"
     ]
    }
   ],
   "source": [
    "result = get_association_between_domains(\n",
    "    [seq_left, seq_child, seq_married],\n",
    "    assoc=[\"V\", \"LRT\"],\n",
    "    rep_method=\"overall\",\n",
    "    cross_table=True,\n",
    "    weighted=True,\n",
    "    dnames=[\"children\", \"married\", \"left\"],\n",
    "    explain=True,\n",
    ")"
   ],
   "metadata": {
    "collapsed": false,
    "ExecuteTime": {
     "end_time": "2025-04-17T19:15:37.121161Z",
     "start_time": "2025-04-17T19:15:37.095833Z"
    }
   },
   "id": "ed00f86121927943"
  },
  {
   "cell_type": "markdown",
   "source": [],
   "metadata": {
    "collapsed": false
   },
   "id": "78475f5443feba98"
  },
  {
   "cell_type": "markdown",
   "source": [
    "## The first strategy to conduct multi-domain sequence analysis: IDCD"
   ],
   "metadata": {
    "collapsed": false
   },
   "id": "456d39b08d48c7ff"
  },
  {
   "cell_type": "code",
   "execution_count": null,
   "outputs": [],
   "source": [],
   "metadata": {
    "collapsed": false
   },
   "id": "65ab497d78c0e585"
  },
  {
   "cell_type": "markdown",
   "source": [
    "## Other strategies for conducting multi-domain sequence analysis"
   ],
   "metadata": {
    "collapsed": false
   },
   "id": "f6d8e53b9a9b2c34"
  }
 ],
 "metadata": {
  "kernelspec": {
   "display_name": "Python 3",
   "language": "python",
   "name": "python3"
  },
  "language_info": {
   "codemirror_mode": {
    "name": "ipython",
    "version": 2
   },
   "file_extension": ".py",
   "mimetype": "text/x-python",
   "name": "python",
   "nbconvert_exporter": "python",
   "pygments_lexer": "ipython2",
   "version": "2.7.6"
  }
 },
 "nbformat": 4,
 "nbformat_minor": 5
}
