{
 "cells": [
  {
   "cell_type": "code",
   "execution_count": 11,
   "outputs": [
    {
     "name": "stdout",
     "output_type": "stream",
     "text": [
      "               w5_a_outcome  w5_hhid     pid w5_a_intrv_d w5_a_intrv_m  \\\n",
      "0  Successfully Interviewed   500000  640576          3rd      October   \n",
      "1  Successfully Interviewed   500001  405734          2nd         June   \n",
      "2  Successfully Interviewed   500002  305961         15th       August   \n",
      "3  Successfully Interviewed   500002  731651         15th       August   \n",
      "4  Successfully Interviewed   500003  303668         14th        March   \n",
      "\n",
      "  w5_a_intrv_y w5_a_refexpl w5_a_refexpl_o w5_a_refint w5_a_refgen  ...  \\\n",
      "0       2017.0          NaN                        NaN         NaN  ...   \n",
      "1       2017.0          NaN                        NaN         NaN  ...   \n",
      "2       2017.0          NaN                        NaN         NaN  ...   \n",
      "3       2017.0          NaN                        NaN         NaN  ...   \n",
      "4       2017.0          NaN                        NaN         NaN  ...   \n",
      "\n",
      "  w5_a_intlng10 w5_a_intlng11 w5_a_intlng_o                  w5_a_intresp  \\\n",
      "0           NaN           NaN                                    Friendly   \n",
      "1           NaN           NaN                Neither hostile nor friendly   \n",
      "2           NaN           NaN                                    Friendly   \n",
      "3           NaN           NaN                                    Friendly   \n",
      "4           NaN           NaN                                    Friendly   \n",
      "\n",
      "      w5_a_intrespact                                  w5_a_intresphear  \\\n",
      "0      Very attentive  No other person within hearing range at any time   \n",
      "1  Somewhat attentive  No other person within hearing range at any time   \n",
      "2      Very attentive  No other person within hearing range at any time   \n",
      "3      Very attentive  No other person within hearing range at any time   \n",
      "4      Very attentive  No other person within hearing range at any time   \n",
      "\n",
      "  w5_a_intrespque w5_a_intresppid1 w5_a_intresppid2 w5_a_intresppid3  \n",
      "0              No              NaN              NaN              NaN  \n",
      "1              No              NaN              NaN              NaN  \n",
      "2              No              NaN              NaN              NaN  \n",
      "3              No              NaN              NaN              NaN  \n",
      "4              No              NaN              NaN              NaN  \n",
      "\n",
      "[5 rows x 1144 columns]\n",
      "['w5_a_outcome', 'w5_hhid', 'pid', 'w5_a_intrv_d', 'w5_a_intrv_m', 'w5_a_intrv_y', 'w5_a_refexpl', 'w5_a_refexpl_o', 'w5_a_refint', 'w5_a_refgen', 'w5_a_refage', 'w5_a_intrv_c', 'w5_a_sample', 'w5_a_duration', 'w5_a_dob_m', 'w5_a_dob_y', 'w5_a_gen', 'w5_a_popgrp', 'w5_a_popgrp_o', 'w5_a_parhpid', 'w5_a_mar', 'w5_a_mary_m', 'w5_a_mary_l', 'w5_a_evmar', 'w5_a_curmarst', 'w5_a_timewid', 'w5_a_timediv', 'w5_a_lng', 'w5_a_lng_o', 'w5_a_slpw', 'w5_a_slpm', 'w5_a_lvevoth', 'w5_a_brnprov', 'w5_a_brnprov_flg', 'w5_a_brndc_2001', 'w5_a_brndc_2001_flg', 'w5_a_brndc_2011', 'w5_a_brndc_2011_flg', 'w5_a_brncc', 'w5_a_brncc_flg', 'w5_a_lv94prov', 'w5_a_lv94prov_flg', 'w5_a_lv15prov', 'w5_a_lv15prov_flg', 'w5_a_moveyr', 'w5_a_lvbfprov', 'w5_a_lvbfdc_2001', 'w5_a_lvbfdc_2011', 'w5_a_lvbfcc', 'w5_a_bhbrth', 'w5_a_bhcnt1con', 'w5_a_bhlive', 'w5_a_bhlive_n', 'w5_a_bhali', 'w5_a_bhali_n', 'w5_a_bhdth', 'w5_a_bhdth_n', 'w5_a_bhprg', 'w5_a_bhchild_id1', 'w5_a_bhgen1', 'w5_a_bhdob_m1', 'w5_a_bhdob_y1', 'w5_a_bhali1', 'w5_a_bhdod_m1', 'w5_a_bhdod_y1', 'w5_a_bhmem1', 'w5_a_bhres1', 'w5_a_bhchild_id2', 'w5_a_bhgen2', 'w5_a_bhdob_m2', 'w5_a_bhdob_y2', 'w5_a_bhali2', 'w5_a_bhdod_m2', 'w5_a_bhdod_y2', 'w5_a_bhmem2', 'w5_a_bhres2', 'w5_a_bhchild_id3', 'w5_a_bhgen3', 'w5_a_bhdob_m3', 'w5_a_bhdob_y3', 'w5_a_bhali3', 'w5_a_bhdod_m3', 'w5_a_bhdod_y3', 'w5_a_bhmem3', 'w5_a_bhres3', 'w5_a_bhchild_id4', 'w5_a_bhgen4', 'w5_a_bhdob_m4', 'w5_a_bhdob_y4', 'w5_a_bhali4', 'w5_a_bhdod_m4', 'w5_a_bhdod_y4', 'w5_a_bhmem4', 'w5_a_bhres4', 'w5_a_bhchild_id5', 'w5_a_bhgen5', 'w5_a_bhdob_m5', 'w5_a_bhdob_y5', 'w5_a_bhali5', 'w5_a_bhdod_m5', 'w5_a_bhdod_y5', 'w5_a_bhmem5', 'w5_a_bhres5', 'w5_a_bhchild_id6', 'w5_a_bhgen6', 'w5_a_bhdob_m6', 'w5_a_bhdob_y6', 'w5_a_bhali6', 'w5_a_bhdod_m6', 'w5_a_bhdod_y6', 'w5_a_bhmem6', 'w5_a_bhres6', 'w5_a_bhchild_id7', 'w5_a_bhgen7', 'w5_a_bhdob_m7', 'w5_a_bhdob_y7', 'w5_a_bhali7', 'w5_a_bhdod_m7', 'w5_a_bhdod_y7', 'w5_a_bhmem7', 'w5_a_bhres7', 'w5_a_bhchild_id8', 'w5_a_bhgen8', 'w5_a_bhdob_m8', 'w5_a_bhdob_y8', 'w5_a_bhali8', 'w5_a_bhdod_m8', 'w5_a_bhdod_y8', 'w5_a_bhmem8', 'w5_a_bhres8', 'w5_a_bhchild_id9', 'w5_a_bhgen9', 'w5_a_bhdob_m9', 'w5_a_bhdob_y9', 'w5_a_bhali9', 'w5_a_bhdod_m9', 'w5_a_bhdod_y9', 'w5_a_bhmem9', 'w5_a_bhres9', 'w5_a_bhchild_id10', 'w5_a_bhgen10', 'w5_a_bhdob_m10', 'w5_a_bhdob_y10', 'w5_a_bhali10', 'w5_a_bhdod_m10', 'w5_a_bhdod_y10', 'w5_a_bhmem10', 'w5_a_bhres10', 'w5_a_bhchild_id11', 'w5_a_bhgen11', 'w5_a_bhdob_m11', 'w5_a_bhdob_y11', 'w5_a_bhali11', 'w5_a_bhdod_m11', 'w5_a_bhdod_y11', 'w5_a_bhmem11', 'w5_a_bhres11', 'w5_a_bhchild_id12', 'w5_a_bhgen12', 'w5_a_bhdob_m12', 'w5_a_bhdob_y12', 'w5_a_bhali12', 'w5_a_bhdod_m12', 'w5_a_bhdod_y12', 'w5_a_bhmem12', 'w5_a_bhres12', 'w5_a_bhchild_id13', 'w5_a_bhgen13', 'w5_a_bhdob_m13', 'w5_a_bhdob_y13', 'w5_a_bhali13', 'w5_a_bhdod_m13', 'w5_a_bhdod_y13', 'w5_a_bhmem13', 'w5_a_bhres13', 'w5_a_bhchild_id14', 'w5_a_bhgen14', 'w5_a_bhdob_m14', 'w5_a_bhdob_y14', 'w5_a_bhali14', 'w5_a_bhdod_m14', 'w5_a_bhdod_y14', 'w5_a_bhmem14', 'w5_a_bhres14', 'w5_a_bhchild_id15', 'w5_a_bhgen15', 'w5_a_bhdob_m15', 'w5_a_bhdob_y15', 'w5_a_bhali15', 'w5_a_bhdod_m15', 'w5_a_bhdod_y15', 'w5_a_bhmem15', 'w5_a_bhres15', 'w5_a_bhchild_id16', 'w5_a_bhgen16', 'w5_a_bhdob_m16', 'w5_a_bhdob_y16', 'w5_a_bhali16', 'w5_a_bhdod_m16', 'w5_a_bhdod_y16', 'w5_a_bhmem16', 'w5_a_bhres16', 'w5_a_bhchild_id17', 'w5_a_bhgen17', 'w5_a_bhdob_m17', 'w5_a_bhdob_y17', 'w5_a_bhali17', 'w5_a_bhdod_m17', 'w5_a_bhdod_y17', 'w5_a_bhmem17', 'w5_a_bhres17', 'w5_a_mthdth_bf', 'w5_a_mthdth_con', 'w5_a_mthali', 'w5_a_mthali_flg', 'w5_a_mthdth5y', 'w5_a_mthdth5y_flg', 'w5_a_mthdtha', 'w5_a_mthdtha_flg', 'w5_a_mthdthy', 'w5_a_mthdthy_flg', 'w5_a_mthdth15', 'w5_a_mthdth15_flg', 'w5_a_mthdth5', 'w5_a_mthdth5_flg', 'w5_a_mthhh_pid', 'w5_a_mthbrthy', 'w5_a_mthbrthy_flg', 'w5_a_mthsch', 'w5_a_mthsch_flg', 'w5_a_mthsch_o', 'w5_a_mthtertyn', 'w5_a_mthtertyn_flg', 'w5_a_mthtert', 'w5_a_mthtert_flg', 'w5_a_mthtert_o', 'w5_a_mthwrk_isco_c', 'w5_a_mthwrk_isco_c_flg', 'w5_a_fthdth_bf', 'w5_a_fthdth_con', 'w5_a_fthali', 'w5_a_fthali_flg', 'w5_a_fthdth5y', 'w5_a_fthdth5y_flg', 'w5_a_fthdtha', 'w5_a_fthdtha_flg', 'w5_a_fthdthy', 'w5_a_fthdthy_flg', 'w5_a_fthdth15', 'w5_a_fthdth15_flg', 'w5_a_fthdth5', 'w5_a_fthdth5_flg', 'w5_a_fthhh_pid', 'w5_a_fthbrthy', 'w5_a_fthbrthy_flg', 'w5_a_fthsch', 'w5_a_fthsch_flg', 'w5_a_fthsch_o', 'w5_a_fthtertyn', 'w5_a_fthtertyn_flg', 'w5_a_fthtert', 'w5_a_fthtert_flg', 'w5_a_fthtert_o', 'w5_a_fthwrk_isco_c', 'w5_a_fthwrk_isco_c_flg', 'w5_a_emact1yrago', 'w5_a_emact1yrago_o', 'w5_a_em1', 'w5_a_em1strtm', 'w5_a_em1strty', 'w5_a_em1inf', 'w5_a_em1inf_o', 'w5_a_em1showidbk', 'w5_a_em1occ_isco_c', 'w5_a_em1prod_c', 'w5_a_em1numemp', 'w5_a_em1numemp10', 'w5_a_em1numowners', 'w5_a_em1numfam', 'w5_a_em1numpd', 'w5_a_em1numunpd', 'w5_a_em1inc', 'w5_a_em1pay', 'w5_a_em1inc_brac1', 'w5_a_em1inc_brac2', 'w5_a_em1inc_brac3', 'w5_a_em1inc_brac4', 'w5_a_em1inc_brac5', 'w5_a_em1inc_brac6', 'w5_a_em1inc_cat', 'w5_a_em1hrs', 'w5_a_em1cheq', 'w5_a_em1cheq_a', 'w5_a_em1cheqlm', 'w5_a_em1cheqlm_a', 'w5_a_em1prf', 'w5_a_em1prf_a', 'w5_a_em1prflm', 'w5_a_em1prflm_a', 'w5_a_em1bon', 'w5_a_em1bon_a', 'w5_a_em1bonlm', 'w5_a_em1bonlm_a', 'w5_a_em1pcrt', 'w5_a_em1pcrt_a', 'w5_a_em1pcrtlm', 'w5_a_em1pcrtlm_a', 'w5_a_em1dedmed', 'w5_a_em1dedmed_a', 'w5_a_em1dedpen', 'w5_a_em1dedpen_a', 'w5_a_em1deduif', 'w5_a_em1deduif_a', 'w5_a_em1dedtax', 'w5_a_em1contr', 'w5_a_em1contr_d', 'w5_a_em1pdleave', 'w5_a_em1tru', 'w5_a_em2', 'w5_a_em2strtm', 'w5_a_em2strty', 'w5_a_em2occ_isco_c', 'w5_a_em2prod_c', 'w5_a_em2inc', 'w5_a_em2pay', 'w5_a_em2inc_brac1', 'w5_a_em2inc_brac2', 'w5_a_em2inc_brac3', 'w5_a_em2inc_brac4', 'w5_a_em2inc_brac5', 'w5_a_em2inc_brac6', 'w5_a_em2inc_cat', 'w5_a_em2hrs', 'w5_a_ems', 'w5_a_emsatc_isco_c', 'w5_a_emssect', 'w5_a_emssect_o', 'w5_a_emsown', 'w5_a_emsown_o', 'w5_a_emsoth', 'w5_a_emsothatc_isco_c', 'w5_a_emsothsect', 'w5_a_emsothsect_o', 'w5_a_emsmn', 'w5_a_emshrs', 'w5_a_emsnumemp', 'w5_a_emsnumemp10', 'w5_a_emsnumowners', 'w5_a_emsnumfam', 'w5_a_emsnumpd', 'w5_a_emsnumunpd', 'w5_a_emstax', 'w5_a_emssll', 'w5_a_emslft', 'w5_a_emslft_brac1', 'w5_a_emslft_brac2', 'w5_a_emslft_brac3', 'w5_a_emslft_brac4', 'w5_a_emslft_brac5', 'w5_a_emslft_brac6', 'w5_a_emslft_cat', 'w5_a_emsdbt', 'w5_a_emsdbt_brac1', 'w5_a_emsdbt_brac2', 'w5_a_emsdbt_brac3', 'w5_a_emsdbt_brac4', 'w5_a_emsdbt_brac5', 'w5_a_emsdbt_brac6', 'w5_a_emsdbt_cat', 'w5_a_emsfinr', 'w5_a_emsincifr', 'w5_a_emsincifr_brac1', 'w5_a_emsincifr_brac2', 'w5_a_emsincifr_brac3', 'w5_a_emsincifr_brac4', 'w5_a_emsincifr_brac5', 'w5_a_emsincifr_brac6', 'w5_a_emsincifr_cat', 'w5_a_emsincyr', 'w5_a_emsprofloss', 'w5_a_emsprof_a', 'w5_a_emsloss_a', 'w5_a_emsincfr', 'w5_a_emsincfr_a', 'w5_a_emsincfr_brac1', 'w5_a_emsincfr_brac2', 'w5_a_emsincfr_brac3', 'w5_a_emsincfr_brac4', 'w5_a_emsincfr_brac5', 'w5_a_emsincfr_brac6', 'w5_a_emsincfr_cat', 'w5_a_emc', 'w5_a_emctype_isco_c', 'w5_a_emcsect', 'w5_a_emcsect_o', 'w5_a_emcinc', 'w5_a_emcinc_brac1', 'w5_a_emcinc_brac2', 'w5_a_emcinc_brac3', 'w5_a_emcinc_brac4', 'w5_a_emcinc_brac5', 'w5_a_emcinc_brac6', 'w5_a_emcinc_cat', 'w5_a_emchrs', 'w5_a_emp', 'w5_a_emphrs', 'w5_a_empsll', 'w5_a_empser', 'w5_a_empsll_v', 'w5_a_empser_v', 'w5_a_empconprod', 'w5_a_empconprod_v', 'w5_a_emh', 'w5_a_emhhrs', 'w5_a_emhper', 'w5_a_emhper_o', 'w5_a_emhearn', 'w5_a_emhearn_v', 'w5_a_emhtsk_isco_c', 'w5_a_emreswage', 'w5_a_unemprv', 'w5_a_unemdc', 'w5_a_unemtyp_isco_c', 'w5_a_unemex', 'w5_a_unemex_o', 'w5_a_unemwnt', 'w5_a_unemwnt_v', 'w5_a_unemwnt_u', 'w5_a_unemrj', 'w5_a_unemrjex', 'w5_a_unemrjex_o', 'w5_a_unemmn', 'w5_a_unem3mn', 'w5_a_unem6mn', 'w5_a_unemyr', 'w5_a_unem2yr', 'w5_a_unems1', 'w5_a_unems2', 'w5_a_unems3', 'w5_a_unems4', 'w5_a_unems5', 'w5_a_unems6', 'w5_a_unems7', 'w5_a_unems8', 'w5_a_unems_o', 'w5_a_unemsrcst', 'w5_a_unemsrsrc', 'w5_a_unemava', 'w5_a_noemex', 'w5_a_noemex_o', 'w5_a_noemreswage', 'w5_a_noemfrwage', 'w5_a_noemsr', 'w5_a_noemsryr', 'w5_a_noemsrex', 'w5_a_noemsrex_o', 'w5_a_incgovpen', 'w5_a_incgovpen_v', 'w5_a_incdis', 'w5_a_incdis_v', 'w5_a_incchld', 'w5_a_incchld_v', 'w5_a_incfos', 'w5_a_incfos_v', 'w5_a_inccare', 'w5_a_inccare_v', 'w5_a_incaid', 'w5_a_incaid_v', 'w5_a_incwar', 'w5_a_incwar_v', 'w5_a_incuif', 'w5_a_incuif_v', 'w5_a_incwc', 'w5_a_incwc_v', 'w5_a_incpfnd', 'w5_a_incpfnd_v', 'w5_a_incret', 'w5_a_incret_v', 'w5_a_incretp', 'w5_a_incretp_v', 'w5_a_incrnt', 'w5_a_incrnt_v', 'w5_a_incint', 'w5_a_incint_v', 'w5_a_incretr', 'w5_a_incretr_v', 'w5_a_incinh', 'w5_a_incinh_v', 'w5_a_inclob', 'w5_a_inclob_v', 'w5_a_incgif', 'w5_a_incgif_v', 'w5_a_incloan', 'w5_a_incloan_v', 'w5_a_incsale', 'w5_a_incsale_v', 'w5_a_inco', 'w5_a_inco_o', 'w5_a_inco_v', 'w5_a_grcur', 'w5_a_grcurtyp', 'w5_a_grcurecpid', 'w5_a_grcurecrel', 'w5_a_cr', 'w5_a_crpid1', 'w5_a_crprv1', 'w5_a_crprv1_o', 'w5_a_crrel1', 'w5_a_crt1', 'w5_a_cryrv1', 'w5_a_crmnv1', 'w5_a_crkndt1', 'w5_a_crkndyrv1', 'w5_a_crkndmnv1', 'w5_a_crkndtyp1_1', 'w5_a_crkndtyp1_1_o', 'w5_a_crkndtyp2_1', 'w5_a_crkndtyp2_1_o', 'w5_a_crkndtyp3_1', 'w5_a_crkndtyp3_1_o', 'w5_a_crpid2', 'w5_a_crprv2', 'w5_a_crprv2_o', 'w5_a_crrel2', 'w5_a_crt2', 'w5_a_cryrv2', 'w5_a_crmnv2', 'w5_a_crkndt2', 'w5_a_crkndyrv2', 'w5_a_crkndmnv2', 'w5_a_crkndtyp1_2', 'w5_a_crkndtyp1_2_o', 'w5_a_crkndtyp2_2', 'w5_a_crkndtyp2_2_o', 'w5_a_crkndtyp3_2', 'w5_a_crkndtyp3_2_o', 'w5_a_crpid3', 'w5_a_crprv3', 'w5_a_crprv3_o', 'w5_a_crrel3', 'w5_a_crt3', 'w5_a_cryrv3', 'w5_a_crmnv3', 'w5_a_crkndt3', 'w5_a_crkndyrv3', 'w5_a_crkndmnv3', 'w5_a_crkndtyp1_3', 'w5_a_crkndtyp1_3_o', 'w5_a_crkndtyp2_3', 'w5_a_crkndtyp2_3_o', 'w5_a_crkndtyp3_3', 'w5_a_crkndtyp3_3_o', 'w5_a_crpid4', 'w5_a_crprv4', 'w5_a_crprv4_o', 'w5_a_crrel4', 'w5_a_crt4', 'w5_a_cryrv4', 'w5_a_crmnv4', 'w5_a_crkndt4', 'w5_a_crkndyrv4', 'w5_a_crkndmnv4', 'w5_a_crkndtyp1_4', 'w5_a_crkndtyp1_4_o', 'w5_a_crkndtyp2_4', 'w5_a_crkndtyp2_4_o', 'w5_a_crkndtyp3_4', 'w5_a_crkndtyp3_4_o', 'w5_a_crpid5', 'w5_a_crprv5', 'w5_a_crprv5_o', 'w5_a_crrel5', 'w5_a_crt5', 'w5_a_cryrv5', 'w5_a_crmnv5', 'w5_a_crkndt5', 'w5_a_crkndyrv5', 'w5_a_crkndmnv5', 'w5_a_crkndtyp1_5', 'w5_a_crkndtyp1_5_o', 'w5_a_crkndtyp2_5', 'w5_a_crkndtyp2_5_o', 'w5_a_crkndtyp3_5', 'w5_a_crkndtyp3_5_o', 'w5_a_cg', 'w5_a_cgpid1', 'w5_a_cgprv1', 'w5_a_cgprv1_o', 'w5_a_cgrel1', 'w5_a_cgt1', 'w5_a_cgyrv1', 'w5_a_cgmnv1', 'w5_a_cgkndt1', 'w5_a_cgkndyrv1', 'w5_a_cgkndmnv1', 'w5_a_cgkndtyp1_1', 'w5_a_cgkndtyp1_1_o', 'w5_a_cgkndtyp2_1', 'w5_a_cgkndtyp2_1_o', 'w5_a_cgkndtyp3_1', 'w5_a_cgkndtyp3_1_o', 'w5_a_cgpid2', 'w5_a_cgprv2', 'w5_a_cgprv2_o', 'w5_a_cgrel2', 'w5_a_cgt2', 'w5_a_cgyrv2', 'w5_a_cgmnv2', 'w5_a_cgkndt2', 'w5_a_cgkndyrv2', 'w5_a_cgkndmnv2', 'w5_a_cgkndtyp1_2', 'w5_a_cgkndtyp1_2_o', 'w5_a_cgkndtyp2_2', 'w5_a_cgkndtyp2_2_o', 'w5_a_cgkndtyp3_2', 'w5_a_cgkndtyp3_2_o', 'w5_a_cgpid3', 'w5_a_cgprv3', 'w5_a_cgprv3_o', 'w5_a_cgrel3', 'w5_a_cgt3', 'w5_a_cgyrv3', 'w5_a_cgmnv3', 'w5_a_cgkndt3', 'w5_a_cgkndyrv3', 'w5_a_cgkndmnv3', 'w5_a_cgkndtyp1_3', 'w5_a_cgkndtyp1_3_o', 'w5_a_cgkndtyp2_3', 'w5_a_cgkndtyp2_3_o', 'w5_a_cgkndtyp3_3', 'w5_a_cgkndtyp3_3_o', 'w5_a_cgpid4', 'w5_a_cgprv4', 'w5_a_cgprv4_o', 'w5_a_cgrel4', 'w5_a_cgt4', 'w5_a_cgyrv4', 'w5_a_cgmnv4', 'w5_a_cgkndt4', 'w5_a_cgkndyrv4', 'w5_a_cgkndmnv4', 'w5_a_cgkndtyp1_4', 'w5_a_cgkndtyp1_4_o', 'w5_a_cgkndtyp2_4', 'w5_a_cgkndtyp2_4_o', 'w5_a_cgkndtyp3_4', 'w5_a_cgkndtyp3_4_o', 'w5_a_edschgrd', 'w5_a_edschgrd_flg', 'w5_a_edschgrd_o', 'w5_a_edschyr', 'w5_a_edschage', 'w5_a_ednsc', 'w5_a_edexemp', 'w5_a_edschstrt', 'w5_a_edschstrt_flg', 'w5_a_edsrtage', 'w5_a_edsrtage_flg', 'w5_a_edschmth', 'w5_a_edschmth_o', 'w5_a_edter', 'w5_a_edterlev', 'w5_a_edterlev_o', 'w5_a_eddur', 'w5_a_edteryr', 'w5_a_edrep', 'w5_a_edrep1', 'w5_a_edrep1_t', 'w5_a_edrep2', 'w5_a_edrep2_t', 'w5_a_edrep3', 'w5_a_edrep3_t', 'w5_a_edrep4', 'w5_a_edrep4_t', 'w5_a_ed17cur', 'w5_a_ed17curatt', 'w5_a_ed17curex', 'w5_a_ed17curex_o', 'w5_a_ed17curlev', 'w5_a_ed17curlev_o', 'w5_a_ed17curdur', 'w5_a_ed17cursub', 'w5_a_ed17cursub_o', 'w5_a_ed17curmat', 'w5_a_ed17intmat', 'w5_a_ed17intter', 'w5_a_ed17wdex', 'w5_a_ed17wdex_o', 'w5_a_ed16att', 'w5_a_ed16ex', 'w5_a_ed16ex_o', 'w5_a_ed16lev', 'w5_a_ed16lev_o', 'w5_a_ed16dur', 'w5_a_ed16sub', 'w5_a_ed16sub_o', 'w5_a_ed16spnfee', 'w5_a_ed16spnuni', 'w5_a_ed16spnbks', 'w5_a_ed16spntrn', 'w5_a_ed16spno', 'w5_a_ed16paypid1', 'w5_a_ed16paypr1', 'w5_a_ed16paypid2', 'w5_a_ed16paypr2', 'w5_a_ed16paypid3', 'w5_a_ed16paypr3', 'w5_a_ed16paypid4', 'w5_a_ed16paypr4', 'w5_a_ed16payngo', 'w5_a_ed16payburstyp', 'w5_a_ed16payschol', 'w5_a_ed16res', 'w5_a_ed16wdex', 'w5_a_ed16wdex_o', 'w5_a_ed15att', 'w5_a_ed15ex', 'w5_a_ed15ex_o', 'w5_a_ed15lev', 'w5_a_ed15lev_o', 'w5_a_ed15dur', 'w5_a_ed15sub', 'w5_a_ed15sub_o', 'w5_a_ed15res', 'w5_a_ed15wdex', 'w5_a_ed15wdex_o', 'w5_a_ed14att', 'w5_a_ed14att_flg', 'w5_a_ed14ex', 'w5_a_ed14ex_flg', 'w5_a_ed14ex_o', 'w5_a_ed14ex_o_flg', 'w5_a_ed14lev', 'w5_a_ed14lev_flg', 'w5_a_ed14lev_o', 'w5_a_ed14lev_o_flg', 'w5_a_ed14dur', 'w5_a_ed14dur_flg', 'w5_a_ed14sub', 'w5_a_ed14sub_flg', 'w5_a_ed14sub_o', 'w5_a_ed14sub_o_flg', 'w5_a_ed14res', 'w5_a_ed14res_flg', 'w5_a_ed14wdex', 'w5_a_ed14wdex_o', 'w5_a_ed13att', 'w5_a_ed13att_flg', 'w5_a_ed13ex', 'w5_a_ed13ex_flg', 'w5_a_ed13ex_o', 'w5_a_ed13ex_o_flg', 'w5_a_ed13lev', 'w5_a_ed13lev_flg', 'w5_a_ed13lev_o', 'w5_a_ed13lev_o_flg', 'w5_a_ed13sub', 'w5_a_ed13sub_flg', 'w5_a_ed13sub_o', 'w5_a_ed13sub_o_flg', 'w5_a_ed13res', 'w5_a_ed13res_flg', 'w5_a_ed13wdex', 'w5_a_ed12att', 'w5_a_ed12att_flg', 'w5_a_ed12ex', 'w5_a_ed12ex_flg', 'w5_a_ed12ex_o', 'w5_a_ed12ex_o_flg', 'w5_a_ed12lev', 'w5_a_ed12lev_flg', 'w5_a_ed12lev_o', 'w5_a_ed12lev_o_flg', 'w5_a_ed12sub', 'w5_a_ed12sub_flg', 'w5_a_ed12sub_o', 'w5_a_ed12sub_o_flg', 'w5_a_ed12res', 'w5_a_ed12res_flg', 'w5_a_ed12wdex', 'w5_a_ed12wdex_o', 'w5_a_ed11att', 'w5_a_ed11att_flg', 'w5_a_ed11ex', 'w5_a_ed11ex_flg', 'w5_a_ed11ex_o', 'w5_a_ed11ex_o_flg', 'w5_a_ed11lev', 'w5_a_ed11lev_flg', 'w5_a_ed11lev_o', 'w5_a_ed11lev_o_flg', 'w5_a_ed11sub', 'w5_a_ed11sub_flg', 'w5_a_ed11sub_o', 'w5_a_ed11sub_o_flg', 'w5_a_ed11res', 'w5_a_ed11res_flg', 'w5_a_ed11wdex', 'w5_a_ed11wdex_flg', 'w5_a_ed10att', 'w5_a_ed10att_flg', 'w5_a_ed10ex', 'w5_a_ed10ex_flg', 'w5_a_ed10ex_o', 'w5_a_ed10ex_o_flg', 'w5_a_ed10lev', 'w5_a_ed10lev_flg', 'w5_a_ed10lev_o', 'w5_a_ed10lev_o_flg', 'w5_a_ed10sub', 'w5_a_ed10sub_flg', 'w5_a_ed10sub_o', 'w5_a_ed10sub_o_flg', 'w5_a_ed10res', 'w5_a_ed10res_flg', 'w5_a_ed10wdex', 'w5_a_ed10wdex_flg', 'w5_a_ed10wdex_o', 'w5_a_ed10wdex_o_flg', 'w5_a_ed09att', 'w5_a_ed09att_flg', 'w5_a_ed09ex', 'w5_a_ed09ex_flg', 'w5_a_ed09ex_o', 'w5_a_ed09ex_o_flg', 'w5_a_ed09lev', 'w5_a_ed09lev_flg', 'w5_a_ed09lev_o', 'w5_a_ed09lev_o_flg', 'w5_a_ed09sub', 'w5_a_ed09sub_flg', 'w5_a_ed09sub_o', 'w5_a_ed09sub_o_flg', 'w5_a_ed09res', 'w5_a_ed09res_flg', 'w5_a_ed09wdex', 'w5_a_ed09wdex_flg', 'w5_a_ed08att', 'w5_a_ed08att_flg', 'w5_a_ed08ex', 'w5_a_ed08ex_flg', 'w5_a_ed08ex_o', 'w5_a_ed08ex_o_flg', 'w5_a_ed08lev', 'w5_a_ed08lev_flg', 'w5_a_ed08lev_o', 'w5_a_ed08lev_o_flg', 'w5_a_ed08sub', 'w5_a_ed08sub_flg', 'w5_a_ed08sub_o', 'w5_a_ed08sub_o_flg', 'w5_a_ed08res', 'w5_a_ed08res_flg', 'w5_a_ed08wdex', 'w5_a_ed08wdex_flg', 'w5_a_edlitcomp', 'w5_a_edlitdriv', 'w5_a_edsaid', 'w5_a_edlitrdhm', 'w5_a_edlitwrthm', 'w5_a_edlitrden', 'w5_a_edlitwrten', 'w5_a_hldes', 'w5_a_hl30fev', 'w5_a_hl30pc', 'w5_a_hl30cb', 'w5_a_hl30cp', 'w5_a_hl30b', 'w5_a_hl30h', 'w5_a_hl30ba', 'w5_a_hl30jp', 'w5_a_hl30d', 'w5_a_hl30pu', 'w5_a_hl30sa', 'w5_a_hl30wl', 'w5_a_hlcon', 'w5_a_hlcontyp', 'w5_a_hlcontyp_o', 'w5_a_hltb_bf', 'w5_a_hltb', 'w5_a_hltb_med', 'w5_a_hltb_stl', 'w5_a_hlbp_bf', 'w5_a_hlbp', 'w5_a_hlbp_med', 'w5_a_hlbp_stl', 'w5_a_hldia_bf', 'w5_a_hldia', 'w5_a_hldia_med', 'w5_a_hldia_stl', 'w5_a_hlstrk_bf', 'w5_a_hlstrk', 'w5_a_hlstrk_med', 'w5_a_hlstrk_stl', 'w5_a_hlast_bf', 'w5_a_hlast', 'w5_a_hlast_med', 'w5_a_hlast_stl', 'w5_a_hlhrt_bf', 'w5_a_hlhrt', 'w5_a_hlcan_bf', 'w5_a_hlcan', 'w5_a_hlser', 'w5_a_hlser1', 'w5_a_hlser2', 'w5_a_hlser3', 'w5_a_hlser4', 'w5_a_hlser5', 'w5_a_hlser6', 'w5_a_hlser7', 'w5_a_hlser8', 'w5_a_hlser_o', 'w5_a_hlvisaid', 'w5_a_hlvistest', 'w5_a_hlvisdes', 'w5_a_hlhraid', 'w5_a_hlhrdes', 'w5_a_hllfexer', 'w5_a_hllfsmk', 'w5_a_hllfsmkreg', 'w5_a_hllfsmklst', 'w5_a_hllfsmkfrs', 'w5_a_hllfsmkqnt', 'w5_a_hlsmkpkg', 'w5_a_hlsmkpkg_o', 'w5_a_hlsmknum', 'w5_a_hlsmkcost', 'w5_a_hllfhivtst', 'w5_a_hlmedaid', 'w5_a_hlmedpaypid', 'w5_a_hlmedpayr', 'w5_a_emobth', 'w5_a_emomnd', 'w5_a_emodep', 'w5_a_emoeff', 'w5_a_emohope', 'w5_a_emofear', 'w5_a_emoslp', 'w5_a_emohap', 'w5_a_emolone', 'w5_a_emogo', 'w5_a_decdpid', 'w5_a_decdpid2', 'w5_a_declrgpid', 'w5_a_declrgpid2', 'w5_a_decmempid', 'w5_a_decmempid2', 'w5_a_declvpid', 'w5_a_declvpid2', 'w5_a_decschpid', 'w5_a_decschpid2', 'w5_a_wblv', 'w5_a_fwbrelinc', 'w5_a_fwbstp15', 'w5_a_fwbstptd', 'w5_a_fwbstp2yr', 'w5_a_fwbstp5yr', 'w5_a_fwbinc5yr', 'w5_a_wbsat', 'w5_a_wbsat10yr', 'w5_a_relnb', 'w5_a_rel', 'w5_a_rel_o', 'w5_a_trstcls', 'w5_a_trststrn', 'w5_a_trstsa', 'w5_a_trstrel', 'w5_a_trstoth', 'w5_a_trstrace', 'w5_a_trstraceoth', 'w5_a_height_1', 'w5_a_height_2', 'w5_a_height_3', 'w5_a_weight_1', 'w5_a_weight_2', 'w5_a_weight_3', 'w5_a_waist_1', 'w5_a_waist_2', 'w5_a_waist_3', 'w5_a_bpsys_1', 'w5_a_bpdia_1', 'w5_a_bppls_1', 'w5_a_bpsys_2', 'w5_a_bpdia_2', 'w5_a_bppls_2', 'w5_a_recinh', 'w5_a_recgif', 'w5_a_recjob', 'w5_a_recprof', 'w5_a_recfin', 'w5_a_reclob', 'w5_a_recoth', 'w5_a_recoth_o', 'w5_a_ownveh', 'w5_a_ownveh_v', 'w5_a_ownmot', 'w5_a_ownmot_v', 'w5_a_owncom', 'w5_a_owncel', 'w5_a_dtbnd', 'w5_a_dtbnd_b', 'w5_a_dtbnd_joint', 'w5_a_dtbnd_jointpid1', 'w5_a_dtbnd_jointpid2', 'w5_a_dtbnd_sharev', 'w5_a_dtbnd_sharebrac1', 'w5_a_dtbnd_sharebrac2', 'w5_a_dtbnd_sharebrac3', 'w5_a_ownoth_ind', 'w5_a_ownothtype1_ind', 'w5_a_ownothtype2_ind', 'w5_a_ownothtype3_ind', 'w5_a_ownoth_share', 'w5_a_mrkvoth_ind', 'w5_a_mrkvoth_indshare', 'w5_a_ownothpaid_ind', 'w5_a_ownowdtot_ind', 'w5_a_ownowdtot_indshare', 'w5_a_dtveh', 'w5_a_dtveh_b', 'w5_a_dtveh_joint', 'w5_a_dtveh_jointpid1', 'w5_a_dtveh_jointpid2', 'w5_a_dtveh_sharev', 'w5_a_dtveh_sharebrac1', 'w5_a_dtveh_sharebrac2', 'w5_a_dtveh_sharebrac3', 'w5_a_dtbnk', 'w5_a_dtbnk_b', 'w5_a_dtmic', 'w5_a_dtmic_b', 'w5_a_dtstubnk', 'w5_a_dtstubnk_b', 'w5_a_dtstuo', 'w5_a_dtstuo_b', 'w5_a_dtcre', 'w5_a_dtcre_b', 'w5_a_dtstr', 'w5_a_dtstr_b', 'w5_a_dthp', 'w5_a_dthp_b', 'w5_a_dtflloan', 'w5_a_dtflloan_b', 'w5_a_dtfrloan', 'w5_a_dtfrloanbal', 'w5_a_dtmsh', 'w5_a_dtmsh_b', 'w5_a_dtemploan', 'w5_a_dtemploan_b', 'w5_a_dtunpdtax', 'w5_a_dtunpdtax_b', 'w5_a_dtserarr', 'w5_a_dtserarr_b', 'w5_a_dtoth1', 'w5_a_dtoth1_o', 'w5_a_dtoth1_b', 'w5_a_dtoth2', 'w5_a_dtoth2_o', 'w5_a_dtoth2_b', 'w5_a_aslifeins', 'w5_a_aspen', 'w5_a_aspen_v', 'w5_a_aspen_brac1', 'w5_a_aspen_brac2', 'w5_a_aspen_brac3', 'w5_a_aspen_brac4', 'w5_a_aspen_brac5', 'w5_a_aspen_brac6', 'w5_a_aspen_cat', 'w5_a_asfin', 'w5_a_asfin_v', 'w5_a_asfin_brac1', 'w5_a_asfin_brac2', 'w5_a_asfin_brac3', 'w5_a_asfin_brac4', 'w5_a_asfin_brac5', 'w5_a_asfin_brac6', 'w5_a_asfin_cat', 'w5_a_dtstvl', 'w5_a_asacc', 'w5_a_asacc_v', 'w5_a_asacc_brac1', 'w5_a_asacc_brac2', 'w5_a_asacc_brac3', 'w5_a_asacc_brac4', 'w5_a_asacc_brac5', 'w5_a_asacc_cat', 'w5_a_dtacc_brac1', 'w5_a_dtacc_brac2', 'w5_a_dtacc_brac3', 'w5_a_dtacc_brac4', 'w5_a_dtacc_cat', 'w5_a_assell', 'w5_a_assell_v', 'w5_a_assell_brac1', 'w5_a_assell_brac2', 'w5_a_assell_brac3', 'w5_a_assell_brac4', 'w5_a_assell_brac5', 'w5_a_assell_brac6', 'w5_a_assell_cat', 'w5_a_dtsell_v', 'w5_a_dtsell_brac1', 'w5_a_dtsell_brac2', 'w5_a_dtsell_brac3', 'w5_a_dtsell_brac4', 'w5_a_dtsell_brac5', 'w5_a_dtsell_brac6', 'w5_a_dtsell_cat', 'w5_a_hgsell_a', 'w5_a_hgsell_brac1', 'w5_a_hgsell_brac2', 'w5_a_hgsell_brac3', 'w5_a_hgsell_brac4', 'w5_a_hgsell_brac5', 'w5_a_hgsell_brac6', 'w5_a_hgsell_cat', 'w5_a_flint', 'w5_a_flval', 'w5_a_flcomp1', 'w5_a_flcomp2', 'w5_a_flrisk', 'w5_a_relocate', 'w5_a_intlng1', 'w5_a_intlng2', 'w5_a_intlng3', 'w5_a_intlng4', 'w5_a_intlng5', 'w5_a_intlng6', 'w5_a_intlng7', 'w5_a_intlng8', 'w5_a_intlng9', 'w5_a_intlng10', 'w5_a_intlng11', 'w5_a_intlng_o', 'w5_a_intresp', 'w5_a_intrespact', 'w5_a_intresphear', 'w5_a_intrespque', 'w5_a_intresppid1', 'w5_a_intresppid2', 'w5_a_intresppid3']\n"
     ]
    }
   ],
   "source": [
    "# 导入需要的库\n",
    "import pandas as pd\n",
    "import sequenzo\n",
    "# 导入相关的数据\n",
    "\n",
    "file_path = 'D:\\\\南非\\\\Adult_W5_Anon_V1.0.0.dta'\n",
    "\n",
    "df = pd.read_stata(file_path)\n",
    "\n",
    "print(df.head())\n",
    "\n",
    "# 查看这个数据集中有多少个变量\n",
    "\n",
    "column_names = df.columns.tolist()\n",
    "\n",
    "print(column_names)\n"
   ],
   "metadata": {
    "collapsed": false,
    "ExecuteTime": {
     "end_time": "2025-10-19T15:57:20.376135500Z",
     "start_time": "2025-10-19T15:57:18.091054800Z"
    }
   },
   "id": "971f9671ea58eeca"
  },
  {
   "cell_type": "code",
   "execution_count": 12,
   "outputs": [
    {
     "name": "stdout",
     "output_type": "stream",
     "text": [
      "是的，数据集中包含以下同时含有 'ed' 和 'lev' 的列：\n",
      "['w5_a_edterlev', 'w5_a_edterlev_o', 'w5_a_ed17curlev', 'w5_a_ed17curlev_o', 'w5_a_ed16lev', 'w5_a_ed16lev_o', 'w5_a_ed15lev', 'w5_a_ed15lev_o', 'w5_a_ed14lev', 'w5_a_ed14lev_flg', 'w5_a_ed14lev_o', 'w5_a_ed14lev_o_flg', 'w5_a_ed13lev', 'w5_a_ed13lev_flg', 'w5_a_ed13lev_o', 'w5_a_ed13lev_o_flg', 'w5_a_ed12lev', 'w5_a_ed12lev_flg', 'w5_a_ed12lev_o', 'w5_a_ed12lev_o_flg', 'w5_a_ed11lev', 'w5_a_ed11lev_flg', 'w5_a_ed11lev_o', 'w5_a_ed11lev_o_flg', 'w5_a_ed10lev', 'w5_a_ed10lev_flg', 'w5_a_ed10lev_o', 'w5_a_ed10lev_o_flg', 'w5_a_ed09lev', 'w5_a_ed09lev_flg', 'w5_a_ed09lev_o', 'w5_a_ed09lev_o_flg', 'w5_a_ed08lev', 'w5_a_ed08lev_flg', 'w5_a_ed08lev_o', 'w5_a_ed08lev_o_flg']\n"
     ]
    }
   ],
   "source": [
    "# 根据数据集的问卷内容，适合做life course data的变量，有如下两个：\n",
    "\n",
    "# H15b（ed#curatt）或者H17（ed#culev）其中 `#` 代表年份的变化\n",
    "\n",
    "# 时间变化是2008年到2017年，H15b是描述此人那一年的是否在接受教育，H17是描述此人那一年接受教育的等级。\n",
    "\n",
    "# 先提取出变量H15b和H17，并对他们有一个大致的认识，由于H17的状态更具有丰富性所以优先查看H17。\n",
    "\n",
    "# 那么 H17（ed#culev）在数据集中对应的是哪些列呢？\n",
    "\n",
    "# 寻找名字含有 ed 和 lev 的列\n",
    "\n",
    "ed_lev_columns = [col for col in column_names if 'ed' in col and 'lev' in col]\n",
    "\n",
    "if ed_lev_columns:\n",
    "    print(\"是的，数据集中包含以下同时含有 'ed' 和 'lev' 的列：\")\n",
    "    print(ed_lev_columns)\n",
    "else:\n",
    "    print(\"不，数据集中没有找到同时含有 'ed' 和 'lev' 的列名。\")\n",
    "\n",
    "\n",
    "#  然后你就发现有非常多的内容和不同的后缀，回到网页中去找codebook发现codebook有点隐蔽，在 data discription 里面找到了具体的描述\n",
    "#  h17_17 - Educational level respondent is currently enrolled in 2017 (w5_a_ed17curlev)\n",
    "#  h17_16 - Educational level respondent was enrolled in 2016 (w5_a_ed16lev)\n",
    "#  h17_13 - Educational level respondent was enrolled in 2013 (w5_a_ed13lev)\n",
    "#  所以可以看到我们就找到规律了w5_a_ed#lev，其中 # 代表不同的年份\n"
   ],
   "metadata": {
    "collapsed": false,
    "ExecuteTime": {
     "end_time": "2025-10-19T15:57:21.144128600Z",
     "start_time": "2025-10-19T15:57:21.114717900Z"
    }
   },
   "id": "cfff6c1bb02f0533"
  },
  {
   "cell_type": "code",
   "execution_count": 13,
   "outputs": [
    {
     "name": "stdout",
     "output_type": "stream",
     "text": [
      "未找到优先列 'w5_a_ed17lev'，保留所有其他匹配的 'ed...lev' 列。\n",
      "\n",
      "最终选定的列名: ['w5_a_ed16lev', 'w5_a_ed15lev', 'w5_a_ed14lev', 'w5_a_ed13lev', 'w5_a_ed12lev', 'w5_a_ed11lev', 'w5_a_ed10lev', 'w5_a_ed09lev', 'w5_a_ed08lev']\n",
      "\n",
      "最终 DataFrame 的前五行:\n",
      "  w5_a_ed16lev w5_a_ed15lev w5_a_ed14lev w5_a_ed13lev w5_a_ed12lev  \\\n",
      "0          NaN          NaN          NaN          NaN          NaN   \n",
      "1          NaN          NaN          NaN          NaN          NaN   \n",
      "2          NaN          NaN          NaN          NaN          NaN   \n",
      "3          NaN          NaN          NaN          NaN          NaN   \n",
      "4          NaN          NaN          NaN          NaN          NaN   \n",
      "\n",
      "             w5_a_ed11lev            w5_a_ed10lev            w5_a_ed09lev  \\\n",
      "0                     NaN                     NaN                     NaN   \n",
      "1  Grade 11/Std. 9/Form 4  Grade 11/Std. 9/Form 4  Grade 10/Std. 8/Form 3   \n",
      "2                     NaN                     NaN                     NaN   \n",
      "3                     NaN                     NaN                     NaN   \n",
      "4                     NaN                     NaN                     NaN   \n",
      "\n",
      "            w5_a_ed08lev  \n",
      "0                    NaN  \n",
      "1  Grade 9/Std. 7/Form 2  \n",
      "2                    NaN  \n",
      "3                    NaN  \n",
      "4                    NaN  \n"
     ]
    }
   ],
   "source": [
    "\n",
    "# 对应到df中， 变量是 w5_a_ed#lev，我们只需要这个结构的内容，其他的后缀都和研究目标无关。\n",
    "\n",
    "# 由于H17的状态更具有丰富性所以优先查看H17\n",
    "\n",
    "regex_pattern = r'^w5_a_ed(0[8-9]|1[0-7])lev$'  # 使用更精确的正则表达式，避免匹配到后缀\n",
    "education_level = df.filter(regex=regex_pattern, axis=1)\n",
    "\n",
    "# --- 新增的逻辑 ---\n",
    "# 定义优先选择的列名\n",
    "priority_col = 'w5_a_ed17lev'\n",
    "\n",
    "# 检查优先列是否存在于已筛选的 DataFrame 中\n",
    "if priority_col in education_level.columns:\n",
    "    # 如果存在，则新的 DataFrame 只包含这一列\n",
    "    education_level = education_level[[priority_col]]\n",
    "    print(f\"检测到并优先选择了 '{priority_col}' 列。\")\n",
    "else:\n",
    "    # 如果不存在，则保留所有已匹配的列，并给出提示\n",
    "    print(f\"未找到优先列 '{priority_col}'，保留所有其他匹配的 'ed...lev' 列。\")\n",
    "# --- 逻辑结束 ---\n",
    "\n",
    "\n",
    "# 显示最终 DataFrame 的信息\n",
    "print(\"\\n最终选定的列名:\", education_level.columns.tolist())\n",
    "print(\"\\n最终 DataFrame 的前五行:\")\n",
    "print(education_level.head())\n"
   ],
   "metadata": {
    "collapsed": false,
    "ExecuteTime": {
     "end_time": "2025-10-19T15:57:22.738614Z",
     "start_time": "2025-10-19T15:57:22.730524400Z"
    }
   },
   "id": "fd1f6bb235e0769f"
  },
  {
   "cell_type": "code",
   "execution_count": 14,
   "outputs": [
    {
     "name": "stdout",
     "output_type": "stream",
     "text": [
      "🔍 Missing Value Summary\n",
      "----------------------------------------\n",
      "[Columns with Missing Values]\n",
      "              Missing Count  Missing (%)\n",
      "w5_a_ed14lev          25422        84.43\n",
      "w5_a_ed12lev          25291        84.00\n",
      "w5_a_ed16lev          25274        83.94\n",
      "w5_a_ed11lev          25255        83.88\n",
      "w5_a_ed09lev          25212        83.73\n",
      "w5_a_ed13lev          25121        83.43\n",
      "w5_a_ed10lev          24706        82.05\n",
      "w5_a_ed15lev          24590        81.67\n",
      "w5_a_ed08lev          24444        81.18\n",
      "\n",
      "[Top 5 Rows with Most Missing Values]\n",
      "       Missing Count\n",
      "30109              9\n",
      "0                  9\n",
      "30108              9\n",
      "2                  9\n",
      "3                  9\n"
     ]
    },
    {
     "data": {
      "text/plain": "<Figure size 1000x500 with 0 Axes>"
     },
     "metadata": {},
     "output_type": "display_data"
    },
    {
     "data": {
      "text/plain": "<Figure size 2500x1000 with 2 Axes>",
      "image/png": "[encoded data removed]"
     },
     "metadata": {},
     "output_type": "display_data"
    }
   ],
   "source": [
    "# 查看缺失值\n",
    "\n",
    "from sequenzo.data_preprocessing.helpers import summarize_missing_values\n",
    "\n",
    "summarize_missing_values(\n",
    "    df,\n",
    "    plot=True,\n",
    "    top_n=5,\n",
    "    columns=[\n",
    "    'w5_a_ed08lev', 'w5_a_ed09lev', 'w5_a_ed10lev', \n",
    "    'w5_a_ed11lev', 'w5_a_ed12lev', 'w5_a_ed13lev', \n",
    "    'w5_a_ed14lev', 'w5_a_ed15lev', 'w5_a_ed16lev'\n",
    "],\n",
    "    mode='matrix',\n",
    "    figsize=(10, 5),\n",
    "    save_as=None,\n",
    "    show=True\n",
    ")\n"
   ],
   "metadata": {
    "collapsed": false,
    "ExecuteTime": {
     "end_time": "2025-10-19T15:57:24.098979900Z",
     "start_time": "2025-10-19T15:57:23.862678Z"
    }
   },
   "id": "9fbb6903be340006"
  },
  {
   "cell_type": "code",
   "execution_count": 15,
   "outputs": [
    {
     "name": "stdout",
     "output_type": "stream",
     "text": [
      "原始数据集的行数: 30110\n",
      "原始数据集的维度: (30110, 1144)\n",
      "\n",
      "筛选后剩余的行数: 2046\n",
      "筛选后的数据集维度: (2046, 1144)\n",
      "\n",
      "筛选后数据的前五行:\n",
      "                w5_a_outcome  w5_hhid     pid w5_a_intrv_d w5_a_intrv_m  \\\n",
      "17  Successfully Interviewed   500008  408602          6th      October   \n",
      "32  Successfully Interviewed   500016  409704         19th         July   \n",
      "61  Successfully Interviewed   500026  405423         30th         July   \n",
      "68  Successfully Interviewed   500030  403409          8th        April   \n",
      "69  Successfully Interviewed   500030  405186          9th        April   \n",
      "\n",
      "   w5_a_intrv_y w5_a_refexpl w5_a_refexpl_o w5_a_refint w5_a_refgen  ...  \\\n",
      "17       2017.0          NaN                        NaN         NaN  ...   \n",
      "32       2017.0          NaN                        NaN         NaN  ...   \n",
      "61       2017.0          NaN                        NaN         NaN  ...   \n",
      "68       2017.0          NaN                        NaN         NaN  ...   \n",
      "69       2017.0          NaN                        NaN         NaN  ...   \n",
      "\n",
      "   w5_a_intlng10 w5_a_intlng11 w5_a_intlng_o                  w5_a_intresp  \\\n",
      "17           NaN           NaN                                    Friendly   \n",
      "32           NaN           NaN                                    Friendly   \n",
      "61           NaN           NaN                Neither hostile nor friendly   \n",
      "68           NaN           NaN                                    Friendly   \n",
      "69           NaN           NaN                                    Friendly   \n",
      "\n",
      "   w5_a_intrespact                                   w5_a_intresphear  \\\n",
      "17  Very attentive   No other person within hearing range at any time   \n",
      "32  Very attentive   No other person within hearing range at any time   \n",
      "61  Very attentive   No other person within hearing range at any time   \n",
      "68  Very attentive  1+ persons within hearing range for part of th...   \n",
      "69  Very attentive   No other person within hearing range at any time   \n",
      "\n",
      "   w5_a_intrespque w5_a_intresppid1 w5_a_intresppid2 w5_a_intresppid3  \n",
      "17              No              NaN              NaN              NaN  \n",
      "32              No              NaN              NaN              NaN  \n",
      "61              No              NaN              NaN              NaN  \n",
      "68              No              NaN              NaN              NaN  \n",
      "69              No              NaN              NaN              NaN  \n",
      "\n",
      "[5 rows x 1144 columns]\n"
     ]
    }
   ],
   "source": [
    "# 数据清洗\n",
    "\n",
    "# 1. 定义您要求必须全部存在的列名列表\n",
    "required_columns = [\n",
    "    'w5_a_ed08lev', 'w5_a_ed09lev', 'w5_a_ed10lev', \n",
    "    'w5_a_ed11lev', 'w5_a_ed12lev', 'w5_a_ed13lev', \n",
    "    'w5_a_ed14lev', 'w5_a_ed15lev', 'w5_a_ed16lev'\n",
    "]\n",
    "# 检查筛选前的数据集大小\n",
    "print(f\"原始数据集的行数: {len(df)}\")\n",
    "print(f\"原始数据集的维度: {df.shape}\")\n",
    "\n",
    "# 2. 使用 dropna() 进行筛选\n",
    "# subset 参数告诉 pandas 只在这些指定的列中检查缺失值 (NaN)。\n",
    "# 默认情况下，只要这些列中'任何一个'(any)是缺失值，该行就会被删除。\n",
    "df_education = df.dropna(subset=required_columns)\n",
    "\n",
    "# 3. 检查筛选后的结果\n",
    "print(f\"\\n筛选后剩余的行数: {len(df_education)}\")\n",
    "print(f\"筛选后的数据集维度: {df_education.shape}\")\n",
    "\n",
    "# 显示新 DataFrame 的前几行，以确认结果\n",
    "print(\"\\n筛选后数据的前五行:\")\n",
    "print(df_education.head())\n"
   ],
   "metadata": {
    "collapsed": false,
    "ExecuteTime": {
     "end_time": "2025-10-19T15:57:25.058338600Z",
     "start_time": "2025-10-19T15:57:25.007820400Z"
    }
   },
   "id": "55844f34fb0e0a7a"
  },
  {
   "cell_type": "code",
   "execution_count": 16,
   "outputs": [
    {
     "name": "stdout",
     "output_type": "stream",
     "text": [
      "🔍 Missing Value Summary\n",
      "----------------------------------------\n",
      "[Columns with Missing Values]\n",
      "Empty DataFrame\n",
      "Columns: [Missing Count, Missing (%)]\n",
      "Index: []\n"
     ]
    },
    {
     "data": {
      "text/plain": "<Figure size 1000x500 with 0 Axes>"
     },
     "metadata": {},
     "output_type": "display_data"
    },
    {
     "data": {
      "text/plain": "<Figure size 2500x1000 with 2 Axes>",
      "image/png": "[encoded data removed]"
     },
     "metadata": {},
     "output_type": "display_data"
    }
   ],
   "source": [
    "#  查看清洗后的缺失值\n",
    "\n",
    "summarize_missing_values(\n",
    "    df_education,\n",
    "    plot=True,\n",
    "    top_n=5,\n",
    "    columns=[\n",
    "    'w5_a_ed08lev', 'w5_a_ed09lev', 'w5_a_ed10lev', \n",
    "    'w5_a_ed11lev', 'w5_a_ed12lev', 'w5_a_ed13lev', \n",
    "    'w5_a_ed14lev', 'w5_a_ed15lev', 'w5_a_ed16lev'\n",
    "],\n",
    "    mode='matrix',\n",
    "    figsize=(10, 5),\n",
    "    save_as=None,\n",
    "    show=True\n",
    ")\n"
   ],
   "metadata": {
    "collapsed": false,
    "ExecuteTime": {
     "end_time": "2025-10-19T15:57:25.958573600Z",
     "start_time": "2025-10-19T15:57:25.777352800Z"
    }
   },
   "id": "cf1f2d76d3e19cce"
  },
  {
   "cell_type": "code",
   "execution_count": 17,
   "outputs": [
    {
     "name": "stdout",
     "output_type": "stream",
     "text": [
      "      pid          year                  state\n",
      "0  408602  w5_a_ed08lev         Grade 3/Std. 1\n",
      "1  409704  w5_a_ed08lev         Grade 3/Std. 1\n",
      "2  405423  w5_a_ed08lev         Grade 5/Std. 3\n",
      "3  403409  w5_a_ed08lev         Grade 4/Std. 2\n",
      "4  405186  w5_a_ed08lev  Grade 2/Sub B/Class 2\n"
     ]
    }
   ],
   "source": [
    "from sequenzo import wide_to_long_format_data\n",
    "\n",
    "# 转换为长格式\n",
    "df_long = wide_to_long_format_data(\n",
    "    df_education,                  # 输入的宽格式数据表（清洗并重命名后的df）\n",
    "    id_col=\"pid\",                  # 个体标识列的名称（假设你的df中此列为'pid'）\n",
    "    time_cols=[\n",
    "    'w5_a_ed08lev', 'w5_a_ed09lev', 'w5_a_ed10lev', \n",
    "    'w5_a_ed11lev', 'w5_a_ed12lev', 'w5_a_ed13lev', \n",
    "    'w5_a_ed14lev', 'w5_a_ed15lev', 'w5_a_ed16lev'\n",
    "],  # 年份列（对应你想要转成长格式的列）\n",
    "    var_name=\"year\",               # 新生成的“时间列”叫“year”\n",
    "    value_name=\"state\"             # 新生成的“状态列”叫“state”\n",
    ")\n",
    "\n",
    "# 检查转换结果\n",
    "print(df_long.head())\n"
   ],
   "metadata": {
    "collapsed": false,
    "ExecuteTime": {
     "end_time": "2025-10-19T15:57:26.480599600Z",
     "start_time": "2025-10-19T15:57:26.439608100Z"
    }
   },
   "id": "206be879ed6b17c3"
  },
  {
   "cell_type": "code",
   "execution_count": 18,
   "outputs": [
    {
     "name": "stdout",
     "output_type": "stream",
     "text": [
      "该序列一共有31种不同的状态：\n"
     ]
    },
    {
     "data": {
      "text/plain": "array(['Grade 3/Std. 1', 'Grade 5/Std. 3', 'Grade 4/Std. 2',\n       'Grade 2/Sub B/Class 2', 'Grade 1/Sub A/Class 1', 'Grade 6/Std. 4',\n       'Grade 7/Std. 5', 'Grade 8/Std. 6/Form 1', 'Grade R/0', 'Missing',\n       'Grade 9/Std. 7/Form 2', 'Grade 11/Std. 9/Form 4',\n       'Grade 10/Std. 8/Form 3', 'Other (specify)',\n       'Grade 12/Std. 10/Form 5/Matric/Senior Certificate',\n       'Diploma requiring Grade 12/Std. 10', 'Bachelors Degree',\n       'National Certificate Vocational 2 (NCV 2)', 'N1 (NATED)/NTC 1',\n       'Certificate not requiring Grade 12/Std. 10', 'N2 (NATED)/NTC 2',\n       'Certificate requiring Grade 12/Std. 10',\n       'National Certificate Vocational 3 (NCV 3)',\n       'Diploma not requiring Grade 12/Std. 10',\n       'National Certificate Vocational 4 (NCV 4)', 'N4 (NATED)',\n       'N5 (NATED)', 'N3 (NATED)/NTC 3', 'Bachelors Degree and diploma',\n       \"Don't know\", 'N6 (NATED)'], dtype=object)"
     },
     "execution_count": 18,
     "metadata": {},
     "output_type": "execute_result"
    }
   ],
   "source": [
    " # 检查状态列一共有多少种不同的状态\n",
    "unique_states = df_long['state'].unique()\n",
    "print(f'该序列一共有{len(unique_states)}种不同的状态：')\n",
    "unique_states\n"
   ],
   "metadata": {
    "collapsed": false,
    "ExecuteTime": {
     "end_time": "2025-10-19T15:57:27.730768300Z",
     "start_time": "2025-10-19T15:57:27.719135600Z"
    }
   },
   "id": "8838960ce3c22c64"
  },
  {
   "cell_type": "code",
   "execution_count": 19,
   "outputs": [
    {
     "name": "stdout",
     "output_type": "stream",
     "text": [
      "                                                   Count  Percent\n",
      "state                                                            \n",
      "Grade 8/Std. 6/Form 1                               2175    11.81\n",
      "Grade 7/Std. 5                                      2116    11.49\n",
      "Grade 6/Std. 4                                      2069    11.24\n",
      "Grade 9/Std. 7/Form 2                               2001    10.87\n",
      "Grade 5/Std. 3                                      1954    10.61\n",
      "Grade 4/Std. 2                                      1766     9.59\n",
      "Grade 10/Std. 8/Form 3                              1745     9.48\n",
      "Grade 3/Std. 1                                      1344     7.30\n",
      "Grade 11/Std. 9/Form 4                              1023     5.56\n",
      "Grade 2/Sub B/Class 2                                595     3.23\n",
      "Grade 12/Std. 10/Form 5/Matric/Senior Certificate    461     2.50\n",
      "Grade 1/Sub A/Class 1                                458     2.49\n",
      "Missing                                              342     1.86\n",
      "Diploma requiring Grade 12/Std. 10                    79     0.43\n",
      "Certificate requiring Grade 12/Std. 10                69     0.37\n",
      "Grade R/0                                             49     0.27\n",
      "Bachelors Degree                                      46     0.25\n",
      "Certificate not requiring Grade 12/Std. 10            25     0.14\n",
      "Other (specify)                                       17     0.09\n",
      "N4 (NATED)                                            13     0.07\n",
      "N2 (NATED)/NTC 2                                      10     0.05\n",
      "N1 (NATED)/NTC 1                                       9     0.05\n",
      "N3 (NATED)/NTC 3                                       8     0.04\n",
      "N6 (NATED)                                             8     0.04\n",
      "Diploma not requiring Grade 12/Std. 10                 6     0.03\n",
      "N5 (NATED)                                             6     0.03\n",
      "National Certificate Vocational 3 (NCV 3)              5     0.03\n",
      "Bachelors Degree and diploma                           5     0.03\n",
      "National Certificate Vocational 2 (NCV 2)              4     0.02\n",
      "Don't know                                             4     0.02\n",
      "National Certificate Vocational 4 (NCV 4)              2     0.01\n"
     ]
    }
   ],
   "source": [
    "\n",
    "# 统计每种 state 的出现次数和占比\n",
    "state_counts = df_long['state'].value_counts(dropna=False)\n",
    "state_percent = df_long['state'].value_counts(normalize=True, dropna=False) * 100\n",
    "\n",
    "# 每种状态的数量和百分比\n",
    "state_stats = pd.DataFrame({\n",
    "    'Count': state_counts,\n",
    "    'Percent': state_percent.round(2)\n",
    "})\n",
    "print(state_stats)\n"
   ],
   "metadata": {
    "collapsed": false,
    "ExecuteTime": {
     "end_time": "2025-10-19T15:57:28.511356100Z",
     "start_time": "2025-10-19T15:57:28.489999200Z"
    }
   },
   "id": "adb30f113219e034"
  },
  {
   "cell_type": "code",
   "execution_count": 20,
   "outputs": [
    {
     "ename": "SyntaxError",
     "evalue": "incomplete input (2220282493.py, line 2)",
     "output_type": "error",
     "traceback": [
      "  \u001B[36mCell\u001B[39m\u001B[36m \u001B[39m\u001B[32mIn[20]\u001B[39m\u001B[32m, line 2\u001B[39m\n\u001B[31m    \u001B[39m\u001B[31mdf_education['w5_a_dob_y'].value_counts()\\\u001B[39m\n                                              ^\n\u001B[31mSyntaxError\u001B[39m\u001B[31m:\u001B[39m incomplete input\n"
     ]
    }
   ],
   "source": [
    "# 查看该序列的人群的年龄分布\n",
    "df_education['w5_a_dob_y'].value_counts()\\"
   ],
   "metadata": {
    "collapsed": false,
    "ExecuteTime": {
     "end_time": "2025-10-19T15:57:29.672726500Z",
     "start_time": "2025-10-19T15:57:29.653296500Z"
    }
   },
   "id": "3b28fba790681a8"
  },
  {
   "cell_type": "code",
   "execution_count": 21,
   "outputs": [
    {
     "data": {
      "text/plain": "<Figure size 1000x500 with 1 Axes>",
      "image/png": "[encoded data removed]"
     },
     "metadata": {},
     "output_type": "display_data"
    }
   ],
   "source": [
    "# 查看该序列的人群的年龄分布\n",
    "df_education['w5_a_dob_y'].value_counts()\\\n",
    "\n",
    "import matplotlib.pyplot as plt\n",
    "import numpy as np\n",
    "\n",
    "years = np.arange(df_education['w5_a_dob_y'].min(), df_education['w5_a_dob_y'].max()+1)\n",
    "counts = df_education['w5_a_dob_y'].value_counts().reindex(years, fill_value=0)\n",
    "\n",
    "plt.figure(figsize=(10, 5))\n",
    "counts.plot(kind='bar', color='skyblue', edgecolor='black')\n",
    "plt.xlabel('Year of Birth')\n",
    "plt.ylabel('Count')\n",
    "plt.title('Population Year of Birth Distribution')\n",
    "plt.show()\n"
   ],
   "metadata": {
    "collapsed": false,
    "ExecuteTime": {
     "end_time": "2025-10-19T15:57:30.809874400Z",
     "start_time": "2025-10-19T15:57:30.635602700Z"
    }
   },
   "id": "a2928c7625b7192e"
  },
  {
   "cell_type": "code",
   "execution_count": 22,
   "outputs": [
    {
     "data": {
      "text/plain": "w5_a_gen\nMale      1084\nFemale     962\nName: count, dtype: int64"
     },
     "execution_count": 22,
     "metadata": {},
     "output_type": "execute_result"
    }
   ],
   "source": [
    "# 查看性别分布\n",
    "\n",
    "df_education['w5_a_gen'].value_counts()\n"
   ],
   "metadata": {
    "collapsed": false,
    "ExecuteTime": {
     "end_time": "2025-10-19T15:57:31.464368500Z",
     "start_time": "2025-10-19T15:57:31.458550200Z"
    }
   },
   "id": "8c963d2750087f88"
  },
  {
   "cell_type": "code",
   "execution_count": 23,
   "outputs": [
    {
     "data": {
      "text/plain": "w5_a_evmar\nNo            2035\nDon't know       0\nRefused          0\nYes              0\nName: count, dtype: int64"
     },
     "execution_count": 23,
     "metadata": {},
     "output_type": "execute_result"
    }
   ],
   "source": [
    "# 查看是否结婚\n",
    "\n",
    "df_education['w5_a_evmar'].value_counts()"
   ],
   "metadata": {
    "collapsed": false,
    "ExecuteTime": {
     "end_time": "2025-10-19T15:57:32.274585700Z",
     "start_time": "2025-10-19T15:57:32.245599300Z"
    }
   },
   "id": "94f967ee81adf577"
  },
  {
   "cell_type": "code",
   "execution_count": 24,
   "outputs": [
    {
     "data": {
      "text/plain": "w5_a_bhbrth\nNo     805\nYes    157\nName: count, dtype: int64"
     },
     "execution_count": 24,
     "metadata": {},
     "output_type": "execute_result"
    }
   ],
   "source": [
    "# 查看是否生过小孩\n",
    "\n",
    "df_education['w5_a_bhbrth'].value_counts()"
   ],
   "metadata": {
    "collapsed": false,
    "ExecuteTime": {
     "end_time": "2025-10-19T15:57:32.891397200Z",
     "start_time": "2025-10-19T15:57:32.856785Z"
    }
   },
   "id": "e39b494fd1a79ee1"
  },
  {
   "cell_type": "code",
   "execution_count": 25,
   "outputs": [
    {
     "data": {
      "text/plain": "w5_a_bhcnt1con\n1.0     150\n2.0       6\n3.0       1\n4.0       0\n5.0       0\n6.0       0\n7.0       0\n8.0       0\n9.0       0\n10.0      0\n11.0      0\n12.0      0\n13.0      0\n14.0      0\n15.0      0\nName: count, dtype: int64"
     },
     "execution_count": 25,
     "metadata": {},
     "output_type": "execute_result"
    }
   ],
   "source": [
    "# 生小孩的数量\n",
    "\n",
    "df_education['w5_a_bhcnt1con'].value_counts()"
   ],
   "metadata": {
    "collapsed": false,
    "ExecuteTime": {
     "end_time": "2025-10-19T15:57:33.522547700Z",
     "start_time": "2025-10-19T15:57:33.495163100Z"
    }
   },
   "id": "a5f290abdda0c808"
  },
  {
   "cell_type": "code",
   "execution_count": 26,
   "outputs": [
    {
     "name": "stdout",
     "output_type": "stream",
     "text": [
      "           id                     12                     13  \\\n",
      "61     405423         Grade 5/Std. 3         Grade 6/Std. 4   \n",
      "84     491186         Grade 5/Std. 3         Grade 6/Std. 4   \n",
      "112    772709                    NaN                    NaN   \n",
      "169    406878         Grade 5/Std. 3         Grade 6/Std. 4   \n",
      "191    406846  Grade 8/Std. 6/Form 1  Grade 9/Std. 7/Form 2   \n",
      "...       ...                    ...                    ...   \n",
      "29957  735587                    NaN                    NaN   \n",
      "30031  412040                    NaN                    NaN   \n",
      "30051  406598         Grade 6/Std. 4         Grade 7/Std. 5   \n",
      "30066  716487                    NaN                    NaN   \n",
      "30072  405827         Grade 6/Std. 4                    NaN   \n",
      "\n",
      "                           14                      15  \\\n",
      "61             Grade 7/Std. 5   Grade 8/Std. 6/Form 1   \n",
      "84             Grade 7/Std. 5   Grade 8/Std. 6/Form 1   \n",
      "112                       NaN                     NaN   \n",
      "169            Grade 7/Std. 5          Grade 7/Std. 5   \n",
      "191    Grade 10/Std. 8/Form 3  Grade 11/Std. 9/Form 4   \n",
      "...                       ...                     ...   \n",
      "29957                 Missing   Grade 9/Std. 7/Form 2   \n",
      "30031                     NaN                     NaN   \n",
      "30051   Grade 8/Std. 6/Form 1   Grade 9/Std. 7/Form 2   \n",
      "30066                     NaN                     NaN   \n",
      "30072                     NaN                     NaN   \n",
      "\n",
      "                                                      16  \\\n",
      "61                                 Grade 9/Std. 7/Form 2   \n",
      "84                                 Grade 9/Std. 7/Form 2   \n",
      "112                                                  NaN   \n",
      "169                                Grade 8/Std. 6/Form 1   \n",
      "191    Grade 12/Std. 10/Form 5/Matric/Senior Certificate   \n",
      "...                                                  ...   \n",
      "29957                              Grade 9/Std. 7/Form 2   \n",
      "30031                                                NaN   \n",
      "30051                                                NaN   \n",
      "30066                                                NaN   \n",
      "30072                                                NaN   \n",
      "\n",
      "                                                      17  \\\n",
      "61                                Grade 10/Std. 8/Form 3   \n",
      "84                                 Grade 9/Std. 7/Form 2   \n",
      "112                                                  NaN   \n",
      "169                                                  NaN   \n",
      "191                                     Bachelors Degree   \n",
      "...                                                  ...   \n",
      "29957                             Grade 10/Std. 8/Form 3   \n",
      "30031                                                NaN   \n",
      "30051                                                NaN   \n",
      "30066  Grade 12/Std. 10/Form 5/Matric/Senior Certificate   \n",
      "30072                             Grade 10/Std. 8/Form 3   \n",
      "\n",
      "                                           18  gender  \n",
      "61                     Grade 10/Std. 8/Form 3  Female  \n",
      "84                      Grade 9/Std. 7/Form 2  Female  \n",
      "112                                       NaN  Female  \n",
      "169                                       NaN    Male  \n",
      "191                                       NaN  Female  \n",
      "...                                       ...     ...  \n",
      "29957                  Grade 10/Std. 8/Form 3  Female  \n",
      "30031                                     NaN  Female  \n",
      "30051                                     NaN    Male  \n",
      "30066  Diploma not requiring Grade 12/Std. 10  Female  \n",
      "30072                  Grade 10/Std. 8/Form 3  Female  \n",
      "\n",
      "[711 rows x 9 columns]\n",
      "最终形状: (711, 9)\n"
     ]
    }
   ],
   "source": [
    "# 目标结构：\n",
    "# 行 1996,1997,1998的人\n",
    "# 列名 12,13,14,15,16,17,18\n",
    "\n",
    "# 1996 \n",
    "\n",
    "# 使用修正后、顺序正确的字典\n",
    "rename_dict_sorted = {\n",
    "    'pid': 'id',\n",
    "    'w5_a_ed08lev': '12',\n",
    "    'w5_a_ed09lev': '13',\n",
    "    'w5_a_ed10lev': '14',\n",
    "    'w5_a_ed11lev': '15',\n",
    "    'w5_a_ed12lev': '16',\n",
    "    'w5_a_ed13lev': '17',\n",
    "    'w5_a_ed14lev': '18',\n",
    "    'w5_a_gen': 'gender' \n",
    "}\n",
    "\n",
    "# 链式操作现在会直接产生正确顺序的列\n",
    "df_1996 = (\n",
    "    df[df['w5_a_dob_y'] == 1996]\n",
    "    [list(rename_dict_sorted.keys())]  # 这里的键列表已经是您想要的顺序\n",
    "    .rename(columns=rename_dict_sorted)\n",
    ")\n",
    "\n",
    "# 查看最终结果\n",
    "print(df_1996)\n",
    "print(f\"最终形状: {df_1996.shape}\")"
   ],
   "metadata": {
    "collapsed": false,
    "ExecuteTime": {
     "end_time": "2025-10-19T15:57:34.107697700Z",
     "start_time": "2025-10-19T15:57:34.042332700Z"
    }
   },
   "id": "ca79fefea08e7036"
  },
  {
   "cell_type": "code",
   "execution_count": 27,
   "outputs": [
    {
     "name": "stdout",
     "output_type": "stream",
     "text": [
      "           id              12              13                     14  \\\n",
      "57     723337  Grade 6/Std. 4  Grade 7/Std. 5                    NaN   \n",
      "60     733305             NaN             NaN                    NaN   \n",
      "92     410205             NaN             NaN         Grade 7/Std. 5   \n",
      "108    402674  Grade 5/Std. 3  Grade 6/Std. 4         Grade 7/Std. 5   \n",
      "130    406653  Grade 6/Std. 4  Grade 7/Std. 5  Grade 8/Std. 6/Form 1   \n",
      "...       ...             ...             ...                    ...   \n",
      "29814  402705  Grade 5/Std. 3  Grade 6/Std. 4         Grade 7/Std. 5   \n",
      "29835  734240             NaN             NaN                    NaN   \n",
      "29848  492795  Grade 4/Std. 2  Grade 5/Std. 3                    NaN   \n",
      "29941  401128             NaN             NaN  Grade 8/Std. 6/Form 1   \n",
      "29982  727153             NaN             NaN                    NaN   \n",
      "\n",
      "                          15                      16                      17  \\\n",
      "57                       NaN  Grade 10/Std. 8/Form 3  Grade 11/Std. 9/Form 4   \n",
      "60                       NaN                     NaN                     NaN   \n",
      "92     Grade 8/Std. 6/Form 1   Grade 9/Std. 7/Form 2  Grade 10/Std. 8/Form 3   \n",
      "108    Grade 8/Std. 6/Form 1   Grade 9/Std. 7/Form 2  Grade 10/Std. 8/Form 3   \n",
      "130    Grade 9/Std. 7/Form 2  Grade 10/Std. 8/Form 3  Grade 11/Std. 9/Form 4   \n",
      "...                      ...                     ...                     ...   \n",
      "29814  Grade 8/Std. 6/Form 1  Grade 10/Std. 8/Form 3  Grade 11/Std. 9/Form 4   \n",
      "29835                    NaN                     NaN                     NaN   \n",
      "29848         Grade 6/Std. 4                     NaN                     NaN   \n",
      "29941  Grade 8/Std. 6/Form 1   Grade 9/Std. 7/Form 2   Grade 9/Std. 7/Form 2   \n",
      "29982                    NaN   Grade 9/Std. 7/Form 2  Grade 10/Std. 8/Form 3   \n",
      "\n",
      "                                                      18  gender  \n",
      "57     Grade 12/Std. 10/Form 5/Matric/Senior Certificate  Female  \n",
      "60     Grade 12/Std. 10/Form 5/Matric/Senior Certificate  Female  \n",
      "92                                Grade 11/Std. 9/Form 4    Male  \n",
      "108                               Grade 11/Std. 9/Form 4    Male  \n",
      "130    Grade 12/Std. 10/Form 5/Matric/Senior Certificate  Female  \n",
      "...                                                  ...     ...  \n",
      "29814  Grade 12/Std. 10/Form 5/Matric/Senior Certificate  Female  \n",
      "29835                                                NaN  Female  \n",
      "29848                                                NaN    Male  \n",
      "29941                             Grade 10/Std. 8/Form 3    Male  \n",
      "29982                             Grade 11/Std. 9/Form 4    Male  \n",
      "\n",
      "[712 rows x 9 columns]\n",
      "最终形状: (712, 9)\n"
     ]
    }
   ],
   "source": [
    "# 1997\n",
    "\n",
    "# 使用修正后、顺序正确的字典\n",
    "rename_dict_sorted = {\n",
    "    'pid': 'id',\n",
    "    'w5_a_ed09lev': '12',\n",
    "    'w5_a_ed10lev': '13',\n",
    "    'w5_a_ed11lev': '14',\n",
    "    'w5_a_ed12lev': '15',\n",
    "    'w5_a_ed13lev': '16',\n",
    "    'w5_a_ed14lev': '17',\n",
    "    'w5_a_ed15lev': '18',\n",
    "    'w5_a_gen': 'gender' \n",
    "}\n",
    "\n",
    "# 链式操作现在会直接产生正确顺序的列\n",
    "df_1997 = (\n",
    "    df[df['w5_a_dob_y'] == 1997]\n",
    "    [list(rename_dict_sorted.keys())]  # 这里的键列表已经是您想要的顺序\n",
    "    .rename(columns=rename_dict_sorted)\n",
    ")\n",
    "\n",
    "# 查看最终结果\n",
    "print(df_1997)\n",
    "print(f\"最终形状: {df_1997.shape}\")"
   ],
   "metadata": {
    "collapsed": false,
    "ExecuteTime": {
     "end_time": "2025-10-19T15:57:34.739550700Z",
     "start_time": "2025-10-19T15:57:34.717113Z"
    }
   },
   "id": "6cd1ec40e1af12a"
  },
  {
   "cell_type": "code",
   "execution_count": 28,
   "outputs": [
    {
     "name": "stdout",
     "output_type": "stream",
     "text": [
      "           id              12                     13                     14  \\\n",
      "57     723337  Grade 7/Std. 5                    NaN                    NaN   \n",
      "60     733305             NaN                    NaN                    NaN   \n",
      "92     410205             NaN         Grade 7/Std. 5  Grade 8/Std. 6/Form 1   \n",
      "108    402674  Grade 6/Std. 4         Grade 7/Std. 5  Grade 8/Std. 6/Form 1   \n",
      "130    406653  Grade 7/Std. 5  Grade 8/Std. 6/Form 1  Grade 9/Std. 7/Form 2   \n",
      "...       ...             ...                    ...                    ...   \n",
      "29814  402705  Grade 6/Std. 4         Grade 7/Std. 5  Grade 8/Std. 6/Form 1   \n",
      "29835  734240             NaN                    NaN                    NaN   \n",
      "29848  492795  Grade 5/Std. 3                    NaN         Grade 6/Std. 4   \n",
      "29941  401128             NaN  Grade 8/Std. 6/Form 1  Grade 8/Std. 6/Form 1   \n",
      "29982  727153             NaN                    NaN                    NaN   \n",
      "\n",
      "                           16                      17  \\\n",
      "57     Grade 10/Std. 8/Form 3  Grade 11/Std. 9/Form 4   \n",
      "60                        NaN                     NaN   \n",
      "92      Grade 9/Std. 7/Form 2  Grade 10/Std. 8/Form 3   \n",
      "108     Grade 9/Std. 7/Form 2  Grade 10/Std. 8/Form 3   \n",
      "130    Grade 10/Std. 8/Form 3  Grade 11/Std. 9/Form 4   \n",
      "...                       ...                     ...   \n",
      "29814  Grade 10/Std. 8/Form 3  Grade 11/Std. 9/Form 4   \n",
      "29835                     NaN                     NaN   \n",
      "29848                     NaN                     NaN   \n",
      "29941   Grade 9/Std. 7/Form 2   Grade 9/Std. 7/Form 2   \n",
      "29982   Grade 9/Std. 7/Form 2  Grade 10/Std. 8/Form 3   \n",
      "\n",
      "                                                      18  \n",
      "57     Grade 12/Std. 10/Form 5/Matric/Senior Certificate  \n",
      "60     Grade 12/Std. 10/Form 5/Matric/Senior Certificate  \n",
      "92                                Grade 11/Std. 9/Form 4  \n",
      "108                               Grade 11/Std. 9/Form 4  \n",
      "130    Grade 12/Std. 10/Form 5/Matric/Senior Certificate  \n",
      "...                                                  ...  \n",
      "29814  Grade 12/Std. 10/Form 5/Matric/Senior Certificate  \n",
      "29835                                                NaN  \n",
      "29848                                                NaN  \n",
      "29941                             Grade 10/Std. 8/Form 3  \n",
      "29982                             Grade 11/Std. 9/Form 4  \n",
      "\n",
      "[712 rows x 7 columns]\n",
      "最终形状: (712, 7)\n"
     ]
    }
   ],
   "source": [
    "# 1998\n",
    "\n",
    "# 使用修正后、顺序正确的字典\n",
    "rename_dict_sorted = {\n",
    "    'pid': 'id',\n",
    "    'w5_a_ed10lev': '12',\n",
    "    'w5_a_ed11lev': '13',\n",
    "    'w5_a_ed12lev': '14',\n",
    "    'w5_a_ed13lev': '16',\n",
    "    'w5_a_ed14lev': '17',\n",
    "    'w5_a_ed15lev': '18',\n",
    "    'w5_a_ed15lev': '18',\n",
    "}\n",
    "\n",
    "# 链式操作现在会直接产生正确顺序的列\n",
    "df_1998 = (\n",
    "    df[df['w5_a_dob_y'] == 1997]\n",
    "    [list(rename_dict_sorted.keys())]  # 这里的键列表已经是您想要的顺序\n",
    "    .rename(columns=rename_dict_sorted)\n",
    ")\n",
    "\n",
    "# 查看最终结果\n",
    "print(df_1998)\n",
    "print(f\"最终形状: {df_1998.shape}\")"
   ],
   "metadata": {
    "collapsed": false,
    "ExecuteTime": {
     "end_time": "2025-10-19T15:57:35.363618600Z",
     "start_time": "2025-10-19T15:57:35.325812500Z"
    }
   },
   "id": "1f63ade4d485c4d9"
  },
  {
   "cell_type": "code",
   "execution_count": 29,
   "outputs": [],
   "source": [
    "# 为每个DataFrame添加出生年份列，以便在合并后区分\n",
    "df_1996['birth_year'] = 1996\n",
    "df_1997['birth_year'] = 1997\n",
    "df_1998['birth_year'] = 1998\n",
    "\n",
    "# 使用concat函数垂直拼接三个DataFrame\n",
    "import pandas as pd\n",
    "df_combined = pd.concat([df_1996, df_1997, df_1998], ignore_index=True)"
   ],
   "metadata": {
    "collapsed": false,
    "ExecuteTime": {
     "end_time": "2025-10-19T15:57:35.936203200Z",
     "start_time": "2025-10-19T15:57:35.929950200Z"
    }
   },
   "id": "9535f7ae5486fa68"
  },
  {
   "cell_type": "code",
   "execution_count": 30,
   "outputs": [],
   "source": [
    "# 假设df中有关于生孩子的列名为'has_child'，性别的列名为'gender'\n",
    "# 如果列名不同，请替换为实际的列名\n",
    "df_info = df[['pid', 'w5_a_bhbrth', 'w5_a_gen']].rename(columns={'pid': 'id'})\n",
    "\n",
    "# 使用merge基于id列合并信息\n",
    "df_final = pd.merge(\n",
    "    df_combined,\n",
    "    df_info,\n",
    "    on='id',\n",
    "    how='left',\n",
    "    suffixes=('_original', '')  # 如果有重复列，为原始列添加后缀\n",
    ")"
   ],
   "metadata": {
    "collapsed": false,
    "ExecuteTime": {
     "end_time": "2025-10-19T15:57:36.773677500Z",
     "start_time": "2025-10-19T15:57:36.762171500Z"
    }
   },
   "id": "2e6bf59f584b463e"
  },
  {
   "cell_type": "code",
   "execution_count": 31,
   "outputs": [
    {
     "name": "stdout",
     "output_type": "stream",
     "text": [
      "       id                     12                     13  \\\n",
      "0  405423         Grade 5/Std. 3         Grade 6/Std. 4   \n",
      "1  491186         Grade 5/Std. 3         Grade 6/Std. 4   \n",
      "2  772709                    NaN                    NaN   \n",
      "3  406878         Grade 5/Std. 3         Grade 6/Std. 4   \n",
      "4  406846  Grade 8/Std. 6/Form 1  Grade 9/Std. 7/Form 2   \n",
      "\n",
      "                       14                      15  \\\n",
      "0          Grade 7/Std. 5   Grade 8/Std. 6/Form 1   \n",
      "1          Grade 7/Std. 5   Grade 8/Std. 6/Form 1   \n",
      "2                     NaN                     NaN   \n",
      "3          Grade 7/Std. 5          Grade 7/Std. 5   \n",
      "4  Grade 10/Std. 8/Form 3  Grade 11/Std. 9/Form 4   \n",
      "\n",
      "                                                  16                      17  \\\n",
      "0                              Grade 9/Std. 7/Form 2  Grade 10/Std. 8/Form 3   \n",
      "1                              Grade 9/Std. 7/Form 2   Grade 9/Std. 7/Form 2   \n",
      "2                                                NaN                     NaN   \n",
      "3                              Grade 8/Std. 6/Form 1                     NaN   \n",
      "4  Grade 12/Std. 10/Form 5/Matric/Senior Certificate        Bachelors Degree   \n",
      "\n",
      "                       18  gender  birth_year w5_a_bhbrth w5_a_gen  \n",
      "0  Grade 10/Std. 8/Form 3  Female        1996          No   Female  \n",
      "1   Grade 9/Std. 7/Form 2  Female        1996         Yes   Female  \n",
      "2                     NaN  Female        1996         Yes   Female  \n",
      "3                     NaN    Male        1996         NaN     Male  \n",
      "4                     NaN  Female        1996          No   Female  \n",
      "最终DataFrame形状: (2135, 12)\n"
     ]
    }
   ],
   "source": [
    "print(df_final.head())\n",
    "print(f\"最终DataFrame形状: {df_final.shape}\")"
   ],
   "metadata": {
    "collapsed": false,
    "ExecuteTime": {
     "end_time": "2025-10-19T15:57:37.851789500Z",
     "start_time": "2025-10-19T15:57:37.845477400Z"
    }
   },
   "id": "ee1f1f42c96cb6ee"
  },
  {
   "cell_type": "code",
   "execution_count": 32,
   "outputs": [],
   "source": [
    "df_final = df_final.rename(columns={\n",
    "    'w5_a_bhbrth': 'has_child',\n",
    "    'w5_a_gen': 'gender'         \n",
    "})"
   ],
   "metadata": {
    "collapsed": false,
    "ExecuteTime": {
     "end_time": "2025-10-19T15:57:38.572811100Z",
     "start_time": "2025-10-19T15:57:38.568279500Z"
    }
   },
   "id": "b5987685a558929a"
  },
  {
   "cell_type": "code",
   "execution_count": 33,
   "outputs": [
    {
     "data": {
      "text/plain": "          id                     12                     13  \\\n0     405423         Grade 5/Std. 3         Grade 6/Std. 4   \n1     491186         Grade 5/Std. 3         Grade 6/Std. 4   \n2     772709                    NaN                    NaN   \n3     406878         Grade 5/Std. 3         Grade 6/Std. 4   \n4     406846  Grade 8/Std. 6/Form 1  Grade 9/Std. 7/Form 2   \n...      ...                    ...                    ...   \n2130  402705         Grade 6/Std. 4         Grade 7/Std. 5   \n2131  734240                    NaN                    NaN   \n2132  492795         Grade 5/Std. 3                    NaN   \n2133  401128                    NaN  Grade 8/Std. 6/Form 1   \n2134  727153                    NaN                    NaN   \n\n                          14                      15  \\\n0             Grade 7/Std. 5   Grade 8/Std. 6/Form 1   \n1             Grade 7/Std. 5   Grade 8/Std. 6/Form 1   \n2                        NaN                     NaN   \n3             Grade 7/Std. 5          Grade 7/Std. 5   \n4     Grade 10/Std. 8/Form 3  Grade 11/Std. 9/Form 4   \n...                      ...                     ...   \n2130   Grade 8/Std. 6/Form 1                     NaN   \n2131                     NaN                     NaN   \n2132          Grade 6/Std. 4                     NaN   \n2133   Grade 8/Std. 6/Form 1                     NaN   \n2134                     NaN                     NaN   \n\n                                                     16  \\\n0                                 Grade 9/Std. 7/Form 2   \n1                                 Grade 9/Std. 7/Form 2   \n2                                                   NaN   \n3                                 Grade 8/Std. 6/Form 1   \n4     Grade 12/Std. 10/Form 5/Matric/Senior Certificate   \n...                                                 ...   \n2130                             Grade 10/Std. 8/Form 3   \n2131                                                NaN   \n2132                                                NaN   \n2133                              Grade 9/Std. 7/Form 2   \n2134                              Grade 9/Std. 7/Form 2   \n\n                          17  \\\n0     Grade 10/Std. 8/Form 3   \n1      Grade 9/Std. 7/Form 2   \n2                        NaN   \n3                        NaN   \n4           Bachelors Degree   \n...                      ...   \n2130  Grade 11/Std. 9/Form 4   \n2131                     NaN   \n2132                     NaN   \n2133   Grade 9/Std. 7/Form 2   \n2134  Grade 10/Std. 8/Form 3   \n\n                                                     18  gender  birth_year  \\\n0                                Grade 10/Std. 8/Form 3  Female        1996   \n1                                 Grade 9/Std. 7/Form 2  Female        1996   \n2                                                   NaN  Female        1996   \n3                                                   NaN    Male        1996   \n4                                                   NaN  Female        1996   \n...                                                 ...     ...         ...   \n2130  Grade 12/Std. 10/Form 5/Matric/Senior Certificate     NaN        1998   \n2131                                                NaN     NaN        1998   \n2132                                                NaN     NaN        1998   \n2133                             Grade 10/Std. 8/Form 3     NaN        1998   \n2134                             Grade 11/Std. 9/Form 4     NaN        1998   \n\n     has_child  gender  \n0           No  Female  \n1          Yes  Female  \n2          Yes  Female  \n3          NaN    Male  \n4           No  Female  \n...        ...     ...  \n2130        No  Female  \n2131       Yes  Female  \n2132       NaN    Male  \n2133       NaN    Male  \n2134       NaN    Male  \n\n[2135 rows x 12 columns]",
      "text/html": "<div>\n<style scoped>\n    .dataframe tbody tr th:only-of-type {\n        vertical-align: middle;\n    }\n\n    .dataframe tbody tr th {\n        vertical-align: top;\n    }\n\n    .dataframe thead th {\n        text-align: right;\n    }\n</style>\n<table border=\"1\" class=\"dataframe\">\n  <thead>\n    <tr style=\"text-align: right;\">\n      <th></th>\n      <th>id</th>\n      <th>12</th>\n      <th>13</th>\n      <th>14</th>\n      <th>15</th>\n      <th>16</th>\n      <th>17</th>\n      <th>18</th>\n      <th>gender</th>\n      <th>birth_year</th>\n      <th>has_child</th>\n      <th>gender</th>\n    </tr>\n  </thead>\n  <tbody>\n    <tr>\n      <th>0</th>\n      <td>405423</td>\n      <td>Grade 5/Std. 3</td>\n      <td>Grade 6/Std. 4</td>\n      <td>Grade 7/Std. 5</td>\n      <td>Grade 8/Std. 6/Form 1</td>\n      <td>Grade 9/Std. 7/Form 2</td>\n      <td>Grade 10/Std. 8/Form 3</td>\n      <td>Grade 10/Std. 8/Form 3</td>\n      <td>Female</td>\n      <td>1996</td>\n      <td>No</td>\n      <td>Female</td>\n    </tr>\n    <tr>\n      <th>1</th>\n      <td>491186</td>\n      <td>Grade 5/Std. 3</td>\n      <td>Grade 6/Std. 4</td>\n      <td>Grade 7/Std. 5</td>\n      <td>Grade 8/Std. 6/Form 1</td>\n      <td>Grade 9/Std. 7/Form 2</td>\n      <td>Grade 9/Std. 7/Form 2</td>\n      <td>Grade 9/Std. 7/Form 2</td>\n      <td>Female</td>\n      <td>1996</td>\n      <td>Yes</td>\n      <td>Female</td>\n    </tr>\n    <tr>\n      <th>2</th>\n      <td>772709</td>\n      <td>NaN</td>\n      <td>NaN</td>\n      <td>NaN</td>\n      <td>NaN</td>\n      <td>NaN</td>\n      <td>NaN</td>\n      <td>NaN</td>\n      <td>Female</td>\n      <td>1996</td>\n      <td>Yes</td>\n      <td>Female</td>\n    </tr>\n    <tr>\n      <th>3</th>\n      <td>406878</td>\n      <td>Grade 5/Std. 3</td>\n      <td>Grade 6/Std. 4</td>\n      <td>Grade 7/Std. 5</td>\n      <td>Grade 7/Std. 5</td>\n      <td>Grade 8/Std. 6/Form 1</td>\n      <td>NaN</td>\n      <td>NaN</td>\n      <td>Male</td>\n      <td>1996</td>\n      <td>NaN</td>\n      <td>Male</td>\n    </tr>\n    <tr>\n      <th>4</th>\n      <td>406846</td>\n      <td>Grade 8/Std. 6/Form 1</td>\n      <td>Grade 9/Std. 7/Form 2</td>\n      <td>Grade 10/Std. 8/Form 3</td>\n      <td>Grade 11/Std. 9/Form 4</td>\n      <td>Grade 12/Std. 10/Form 5/Matric/Senior Certificate</td>\n      <td>Bachelors Degree</td>\n      <td>NaN</td>\n      <td>Female</td>\n      <td>1996</td>\n      <td>No</td>\n      <td>Female</td>\n    </tr>\n    <tr>\n      <th>...</th>\n      <td>...</td>\n      <td>...</td>\n      <td>...</td>\n      <td>...</td>\n      <td>...</td>\n      <td>...</td>\n      <td>...</td>\n      <td>...</td>\n      <td>...</td>\n      <td>...</td>\n      <td>...</td>\n      <td>...</td>\n    </tr>\n    <tr>\n      <th>2130</th>\n      <td>402705</td>\n      <td>Grade 6/Std. 4</td>\n      <td>Grade 7/Std. 5</td>\n      <td>Grade 8/Std. 6/Form 1</td>\n      <td>NaN</td>\n      <td>Grade 10/Std. 8/Form 3</td>\n      <td>Grade 11/Std. 9/Form 4</td>\n      <td>Grade 12/Std. 10/Form 5/Matric/Senior Certificate</td>\n      <td>NaN</td>\n      <td>1998</td>\n      <td>No</td>\n      <td>Female</td>\n    </tr>\n    <tr>\n      <th>2131</th>\n      <td>734240</td>\n      <td>NaN</td>\n      <td>NaN</td>\n      <td>NaN</td>\n      <td>NaN</td>\n      <td>NaN</td>\n      <td>NaN</td>\n      <td>NaN</td>\n      <td>NaN</td>\n      <td>1998</td>\n      <td>Yes</td>\n      <td>Female</td>\n    </tr>\n    <tr>\n      <th>2132</th>\n      <td>492795</td>\n      <td>Grade 5/Std. 3</td>\n      <td>NaN</td>\n      <td>Grade 6/Std. 4</td>\n      <td>NaN</td>\n      <td>NaN</td>\n      <td>NaN</td>\n      <td>NaN</td>\n      <td>NaN</td>\n      <td>1998</td>\n      <td>NaN</td>\n      <td>Male</td>\n    </tr>\n    <tr>\n      <th>2133</th>\n      <td>401128</td>\n      <td>NaN</td>\n      <td>Grade 8/Std. 6/Form 1</td>\n      <td>Grade 8/Std. 6/Form 1</td>\n      <td>NaN</td>\n      <td>Grade 9/Std. 7/Form 2</td>\n      <td>Grade 9/Std. 7/Form 2</td>\n      <td>Grade 10/Std. 8/Form 3</td>\n      <td>NaN</td>\n      <td>1998</td>\n      <td>NaN</td>\n      <td>Male</td>\n    </tr>\n    <tr>\n      <th>2134</th>\n      <td>727153</td>\n      <td>NaN</td>\n      <td>NaN</td>\n      <td>NaN</td>\n      <td>NaN</td>\n      <td>Grade 9/Std. 7/Form 2</td>\n      <td>Grade 10/Std. 8/Form 3</td>\n      <td>Grade 11/Std. 9/Form 4</td>\n      <td>NaN</td>\n      <td>1998</td>\n      <td>NaN</td>\n      <td>Male</td>\n    </tr>\n  </tbody>\n</table>\n<p>2135 rows × 12 columns</p>\n</div>"
     },
     "execution_count": 33,
     "metadata": {},
     "output_type": "execute_result"
    }
   ],
   "source": [
    "df_final"
   ],
   "metadata": {
    "collapsed": false,
    "ExecuteTime": {
     "end_time": "2025-10-19T15:57:39.210354700Z",
     "start_time": "2025-10-19T15:57:39.199616200Z"
    }
   },
   "id": "f5a5f67eaec35ace"
  },
  {
   "cell_type": "code",
   "execution_count": 34,
   "outputs": [
    {
     "name": "stdout",
     "output_type": "stream",
     "text": [
      "总值数量: 14945\n",
      "唯一值数量: 24\n",
      "\n",
      "前20个最常见的值:\n",
      "                                                  唯一值    计数      比例(%)\n",
      "0                                                 NaN  5321  35.603881\n",
      "1                               Grade 9/Std. 7/Form 2  1758  11.763131\n",
      "2                              Grade 10/Std. 8/Form 3  1596  10.679157\n",
      "3                               Grade 8/Std. 6/Form 1  1548  10.357979\n",
      "4                                      Grade 7/Std. 5  1356   9.073269\n",
      "5                                      Grade 6/Std. 4  1051   7.032452\n",
      "6                              Grade 11/Std. 9/Form 4   917   6.135831\n",
      "7                                      Grade 5/Std. 3   495   3.312145\n",
      "8   Grade 12/Std. 10/Form 5/Matric/Senior Certificate   423   2.830378\n",
      "9                                             Missing   186   1.244563\n",
      "10                                     Grade 4/Std. 2   182   1.217799\n",
      "11                                     Grade 3/Std. 1    50   0.334560\n",
      "12         Certificate not requiring Grade 12/Std. 10    12   0.080294\n",
      "13             Certificate requiring Grade 12/Std. 10    12   0.080294\n",
      "14                 Diploma requiring Grade 12/Std. 10    11   0.073603\n",
      "15                                         N4 (NATED)     6   0.040147\n",
      "16                                   Bachelors Degree     5   0.033456\n",
      "17                                    Other (specify)     5   0.033456\n",
      "18                                         Don't know     3   0.020074\n",
      "19                              Grade 2/Sub B/Class 2     2   0.013382\n",
      "\n",
      "NaN值数量: 5321 (35.60%)\n"
     ]
    }
   ],
   "source": [
    "import pandas as pd\n",
    "import numpy as np\n",
    "\n",
    "# 1. 将所有目标列的值合并成一个Series\n",
    "all_values = pd.Series()\n",
    "for col in ['12', '13', '14', '15', '16', '17', '18']:\n",
    "    all_values = pd.concat([all_values, df_final[col]])\n",
    "\n",
    "# 2. 计算唯一值、计数和比例\n",
    "value_counts = all_values.value_counts(dropna=False)\n",
    "total_values = len(all_values)\n",
    "value_proportions = value_counts / total_values * 100\n",
    "\n",
    "# 3. 创建结果DataFrame\n",
    "results = pd.DataFrame({\n",
    "    '计数': value_counts,\n",
    "    '比例(%)': value_proportions\n",
    "}).reset_index().rename(columns={'index': '唯一值'})\n",
    "\n",
    "# 4. 按计数降序排列\n",
    "results = results.sort_values('计数', ascending=False)\n",
    "\n",
    "# 5. 显示结果\n",
    "print(f\"总值数量: {total_values}\")\n",
    "print(f\"唯一值数量: {len(value_counts)}\")\n",
    "print(\"\\n前20个最常见的值:\")\n",
    "print(results.head(20))\n",
    "\n",
    "# 6. NaN值的统计\n",
    "nan_count = all_values.isna().sum()\n",
    "nan_proportion = nan_count / total_values * 100\n",
    "print(f\"\\nNaN值数量: {nan_count} ({nan_proportion:.2f}%)\")\n",
    "\n",
    "# 7. 可选：保存完整结果到CSV\n",
    "# results.to_csv(\"column_value_statistics.csv\", index=False)"
   ],
   "metadata": {
    "collapsed": false,
    "ExecuteTime": {
     "end_time": "2025-10-19T15:57:39.991987Z",
     "start_time": "2025-10-19T15:57:39.937399Z"
    }
   },
   "id": "150726d5ce757d5e"
  },
  {
   "cell_type": "code",
   "execution_count": 35,
   "outputs": [
    {
     "name": "stdout",
     "output_type": "stream",
     "text": [
      "原始数据框：2135 行\n",
      "清理后数据框：1946 行\n",
      "已删除：189 行 (8.85%)\n",
      "成功：所有指定值已被完全清除\n"
     ]
    }
   ],
   "source": [
    "# 1. 定义要检查的列和要移除的值\n",
    "columns_to_check = ['12', '13', '14', '15', '16', '17', '18']\n",
    "values_to_remove = [\"NaN\", \"Missing\", \"Other (specify)\", \"Don't know\"]\n",
    "\n",
    "# 2. 创建df_final的副本用于清理\n",
    "df_cleaned = df_final.copy()\n",
    "\n",
    "# 3. 创建一个布尔掩码，标识所有需要保留的行（不包含指定值的行）\n",
    "keep_rows = True  # 默认保留所有行\n",
    "for col in columns_to_check:\n",
    "    for value in values_to_remove:\n",
    "        # 累积筛选条件，任何一列包含任何一个指定值都会被排除\n",
    "        keep_rows = keep_rows & (df_cleaned[col] != value)\n",
    "\n",
    "# 4. 应用掩码筛选数据框\n",
    "df_cleaned = df_cleaned[keep_rows]\n",
    "\n",
    "# 5. 重置索引\n",
    "df_cleaned = df_cleaned.reset_index(drop=True)\n",
    "\n",
    "# 6. 显示清理结果\n",
    "original_rows = len(df_final)\n",
    "cleaned_rows = len(df_cleaned)\n",
    "removed_rows = original_rows - cleaned_rows\n",
    "\n",
    "print(f\"原始数据框：{original_rows} 行\")\n",
    "print(f\"清理后数据框：{cleaned_rows} 行\")\n",
    "print(f\"已删除：{removed_rows} 行 ({removed_rows/original_rows:.2%})\")\n",
    "\n",
    "# 7. 可选：检查是否成功移除了所有指定值\n",
    "values_remaining = False\n",
    "for col in columns_to_check:\n",
    "    for value in values_to_remove:\n",
    "        if (df_cleaned[col] == value).any():\n",
    "            print(f\"警告：清理后在列 '{col}' 中仍存在值 '{value}'\")\n",
    "            values_remaining = True\n",
    "\n",
    "if not values_remaining:\n",
    "    print(\"成功：所有指定值已被完全清除\")"
   ],
   "metadata": {
    "collapsed": false,
    "ExecuteTime": {
     "end_time": "2025-10-19T15:57:40.678688700Z",
     "start_time": "2025-10-19T15:57:40.664004300Z"
    }
   },
   "id": "8eb4f9ddca421d07"
  },
  {
   "cell_type": "code",
   "execution_count": 36,
   "outputs": [
    {
     "name": "stdout",
     "output_type": "stream",
     "text": [
      "每列的唯一值数量:\n",
      "列 '12': 8 个唯一值\n",
      "列 '13': 8 个唯一值\n",
      "列 '14': 9 个唯一值\n",
      "列 '15': 8 个唯一值\n",
      "列 '16': 9 个唯一值\n",
      "列 '17': 11 个唯一值\n",
      "列 '18': 16 个唯一值\n",
      "\n",
      "每列的唯一值:\n"
     ]
    },
    {
     "ename": "TypeError",
     "evalue": "'<' not supported between instances of 'float' and 'str'",
     "output_type": "error",
     "traceback": [
      "\u001B[31m---------------------------------------------------------------------------\u001B[39m",
      "\u001B[31mTypeError\u001B[39m                                 Traceback (most recent call last)",
      "\u001B[36mCell\u001B[39m\u001B[36m \u001B[39m\u001B[32mIn[36]\u001B[39m\u001B[32m, line 13\u001B[39m\n\u001B[32m     11\u001B[39m \u001B[38;5;28mprint\u001B[39m(\u001B[33m\"\u001B[39m\u001B[38;5;130;01m\\n\u001B[39;00m\u001B[33m每列的唯一值:\u001B[39m\u001B[33m\"\u001B[39m)\n\u001B[32m     12\u001B[39m \u001B[38;5;28;01mfor\u001B[39;00m col \u001B[38;5;129;01min\u001B[39;00m columns_to_check:\n\u001B[32m---> \u001B[39m\u001B[32m13\u001B[39m     unique_values = \u001B[38;5;28;43msorted\u001B[39;49m\u001B[43m(\u001B[49m\u001B[43mdf_cleaned\u001B[49m\u001B[43m[\u001B[49m\u001B[43mcol\u001B[49m\u001B[43m]\u001B[49m\u001B[43m.\u001B[49m\u001B[43munique\u001B[49m\u001B[43m(\u001B[49m\u001B[43m)\u001B[49m\u001B[43m)\u001B[49m\n\u001B[32m     14\u001B[39m     \u001B[38;5;28mprint\u001B[39m(\u001B[33mf\u001B[39m\u001B[33m\"\u001B[39m\u001B[38;5;130;01m\\n\u001B[39;00m\u001B[33m列 \u001B[39m\u001B[33m'\u001B[39m\u001B[38;5;132;01m{\u001B[39;00mcol\u001B[38;5;132;01m}\u001B[39;00m\u001B[33m'\u001B[39m\u001B[33m 的唯一值:\u001B[39m\u001B[33m\"\u001B[39m)\n\u001B[32m     15\u001B[39m     \u001B[38;5;28;01mfor\u001B[39;00m i, value \u001B[38;5;129;01min\u001B[39;00m \u001B[38;5;28menumerate\u001B[39m(unique_values):\n",
      "\u001B[31mTypeError\u001B[39m: '<' not supported between instances of 'float' and 'str'"
     ]
    }
   ],
   "source": [
    "# 定义要检查的列\n",
    "columns_to_check = ['12', '13', '14', '15', '16', '17', '18']\n",
    "\n",
    "# 1. 检查每列的唯一值数量\n",
    "print(\"每列的唯一值数量:\")\n",
    "for col in columns_to_check:\n",
    "    unique_count = df_cleaned[col].nunique()\n",
    "    print(f\"列 '{col}': {unique_count} 个唯一值\")\n",
    "\n",
    "# 2. 显示每列的唯一值\n",
    "print(\"\\n每列的唯一值:\")\n",
    "for col in columns_to_check:\n",
    "    unique_values = sorted(df_cleaned[col].unique())\n",
    "    print(f\"\\n列 '{col}' 的唯一值:\")\n",
    "    for i, value in enumerate(unique_values):\n",
    "        print(f\"  {i+1}. {value}\")\n",
    "\n",
    "# 3. 统计总体信息\n",
    "# 将所有列的值合并为一个Series\n",
    "all_values = pd.Series()\n",
    "for col in columns_to_check:\n",
    "    all_values = pd.concat([all_values, df_cleaned[col]])\n",
    "\n",
    "# 计算总值数量和唯一值数量\n",
    "total_values = len(all_values)\n",
    "unique_values = len(all_values.unique())\n",
    "\n",
    "print(f\"\\n总体统计:\")\n",
    "print(f\"总值数量: {total_values}\")\n",
    "print(f\"唯一值数量: {unique_values}\")\n",
    "\n",
    "# 4. 显示最常见的值\n",
    "value_counts = all_values.value_counts()\n",
    "print(\"\\n前20个最常见的值:\")\n",
    "print(\"唯一值    计数      比例(%)\")\n",
    "for value, count in value_counts.head(20).items():\n",
    "    percentage = 100 * count / total_values\n",
    "    print(f\"{value:<40} {count:5d}  {percentage:9.6f}\")"
   ],
   "metadata": {
    "collapsed": false,
    "ExecuteTime": {
     "end_time": "2025-10-19T15:57:41.613886800Z",
     "start_time": "2025-10-19T15:57:41.240960200Z"
    }
   },
   "id": "2d67dab2d8771ef5"
  },
  {
   "cell_type": "code",
   "execution_count": 37,
   "outputs": [
    {
     "name": "stdout",
     "output_type": "stream",
     "text": [
      "警告：列 '12' 中有未映射的值: [nan]\n",
      "警告：列 '13' 中有未映射的值: [nan]\n",
      "警告：列 '14' 中有未映射的值: [nan]\n",
      "警告：列 '15' 中有未映射的值: [nan]\n",
      "警告：列 '16' 中有未映射的值: [nan]\n",
      "警告：列 '17' 中有未映射的值: [nan]\n",
      "警告：列 '18' 中有未映射的值: [nan]\n",
      "\n",
      "各列教育分类结果:\n",
      "\n",
      "列 '12' 分类结果:\n",
      "Primary School: 930 (75.18%)\n",
      "Junior High School: 307 (24.82%)\n",
      "\n",
      "列 '13' 分类结果:\n",
      "Junior High School: 748 (61.56%)\n",
      "Primary School: 463 (38.11%)\n",
      "Senior High School: 4 (0.33%)\n",
      "\n",
      "列 '14' 分类结果:\n",
      "Junior High School: 969 (80.62%)\n",
      "Primary School: 191 (15.89%)\n",
      "Senior High School: 42 (3.49%)\n",
      "\n",
      "列 '15' 分类结果:\n",
      "Junior High School: 678 (85.82%)\n",
      "Senior High School: 58 (7.34%)\n",
      "Primary School: 54 (6.84%)\n",
      "\n",
      "列 '16' 分类结果:\n",
      "Junior High School: 772 (58.57%)\n",
      "Senior High School: 513 (38.92%)\n",
      "Primary School: 31 (2.35%)\n",
      "Certificate and Diploma (Grade required): 2 (0.15%)\n",
      "\n",
      "列 '17' 分类结果:\n",
      "Senior High School: 851 (63.98%)\n",
      "Junior High School: 467 (35.11%)\n",
      "Primary School: 7 (0.53%)\n",
      "Certificate and Diploma (Grade required): 2 (0.15%)\n",
      "Certificate and Diploma (Grade not required): 2 (0.15%)\n",
      "Bachelors Degree and diploma: 1 (0.08%)\n",
      "\n",
      "列 '18' 分类结果:\n",
      "Senior High School: 1192 (79.31%)\n",
      "Junior High School: 271 (18.03%)\n",
      "Certificate and Diploma (Grade required): 19 (1.26%)\n",
      "Certificate and Diploma (Grade not required): 7 (0.47%)\n",
      "Bachelors Degree and diploma: 6 (0.40%)\n",
      "Primary School: 4 (0.27%)\n",
      "Vocational Education and Training: 4 (0.27%)\n",
      "\n",
      "总体教育分类分布:\n",
      "Junior High School: 4212 (49.01%)\n",
      "Senior High School: 2660 (30.95%)\n",
      "Primary School: 1680 (19.55%)\n",
      "Certificate and Diploma (Grade required): 23 (0.27%)\n",
      "Certificate and Diploma (Grade not required): 9 (0.10%)\n",
      "Bachelors Degree and diploma: 7 (0.08%)\n",
      "Vocational Education and Training: 4 (0.05%)\n",
      "\n",
      "警告: 分类后有 5027 个空值\n"
     ]
    }
   ],
   "source": [
    "# 使用您提供的分类标准\n",
    "state_group_map = {\n",
    "    'Certificate not requiring Grade 12/Std. 10': 'Certificate and Diploma (Grade not required)',\n",
    "    'Diploma not requiring Grade 12/Std. 10': 'Certificate and Diploma (Grade not required)',\n",
    "    'Certificate requiring Grade 12/Std. 10': 'Certificate and Diploma (Grade required)',\n",
    "    'Diploma requiring Grade 12/Std. 10': 'Certificate and Diploma (Grade required)',\n",
    "    # Primary\n",
    "    'Grade 1/Sub A/Class 1': 'Primary School',\n",
    "    'Grade 2/Sub B/Class 2': 'Primary School',\n",
    "    'Grade 3/Std. 1': 'Primary School',\n",
    "    'Grade 4/Std. 2': 'Primary School',\n",
    "    'Grade 5/Std. 3': 'Primary School',\n",
    "    'Grade 6/Std. 4': 'Primary School',\n",
    "    # Junior\n",
    "    'Grade 7/Std. 5': 'Junior High School',\n",
    "    'Grade 8/Std. 6/Form 1': 'Junior High School',\n",
    "    'Grade 9/Std. 7/Form 2': 'Junior High School',\n",
    "    # Senior\n",
    "    'Grade 10/Std. 8/Form 3': 'Senior High School',\n",
    "    'Grade 11/Std. 9/Form 4': 'Senior High School',\n",
    "    'Grade 12/Std. 10/Form 5/Matric/Senior Certificate': 'Senior High School',\n",
    "    # VET\n",
    "    'N3 (NATED)/NTC 3': 'Vocational Education and Training',\n",
    "    'N4 (NATED)': 'Vocational Education and Training',\n",
    "    'National Certificate Vocational 2 (NCV 2)': 'Vocational Education and Training',\n",
    "    # bachelors\n",
    "    'Bachelors Degree': 'Bachelors Degree and diploma',\n",
    "    'Bachelors Degree and diploma': 'Bachelors Degree and diploma'\n",
    "}\n",
    "\n",
    "# 定义要分类的列\n",
    "columns_to_check = ['12', '13', '14', '15', '16', '17', '18']\n",
    "\n",
    "# 1. 为每列应用分类映射\n",
    "for col in columns_to_check:\n",
    "    # 创建新列名，格式为\"col_category\"（例如：12_category）\n",
    "    new_col_name = f'{col}_category'\n",
    "    \n",
    "    # 应用映射创建新的分类列\n",
    "    df_cleaned[new_col_name] = df_cleaned[col].map(state_group_map)\n",
    "    \n",
    "    # 检查是否有未映射的值\n",
    "    unmapped = df_cleaned[df_cleaned[new_col_name].isna()][col].unique()\n",
    "    if len(unmapped) > 0:\n",
    "        print(f\"警告：列 '{col}' 中有未映射的值: {unmapped}\")\n",
    "\n",
    "# 2. 显示每列分类后的结果\n",
    "print(\"\\n各列教育分类结果:\")\n",
    "for col in columns_to_check:\n",
    "    category_col = f'{col}_category'\n",
    "    print(f\"\\n列 '{col}' 分类结果:\")\n",
    "    category_counts = df_cleaned[category_col].value_counts()\n",
    "    category_percent = df_cleaned[category_col].value_counts(normalize=True) * 100\n",
    "    \n",
    "    # 同时显示数量和百分比\n",
    "    for category in category_counts.index:\n",
    "        count = category_counts[category]\n",
    "        percent = category_percent[category]\n",
    "        print(f\"{category}: {count} ({percent:.2f}%)\")\n",
    "\n",
    "# 3. 可视化总体分类分布（所有列合并）\n",
    "all_categories = pd.Series()\n",
    "for col in columns_to_check:\n",
    "    all_categories = pd.concat([all_categories, df_cleaned[f'{col}_category']])\n",
    "\n",
    "print(\"\\n总体教育分类分布:\")\n",
    "category_overall = all_categories.value_counts()\n",
    "category_overall_pct = all_categories.value_counts(normalize=True) * 100\n",
    "\n",
    "for category, count in category_overall.items():\n",
    "    percent = category_overall_pct[category]\n",
    "    print(f\"{category}: {count} ({percent:.2f}%)\")\n",
    "\n",
    "# 4. 检查分类后是否有空值\n",
    "null_counts = 0\n",
    "for col in columns_to_check:\n",
    "    null_counts += df_cleaned[f'{col}_category'].isna().sum()\n",
    "\n",
    "if null_counts > 0:\n",
    "    print(f\"\\n警告: 分类后有 {null_counts} 个空值\")\n",
    "else:\n",
    "    print(\"\\n分类完成，没有空值\")"
   ],
   "metadata": {
    "collapsed": false,
    "ExecuteTime": {
     "end_time": "2025-10-19T15:57:45.477040600Z",
     "start_time": "2025-10-19T15:57:45.442532300Z"
    }
   },
   "id": "af2b5e30740a771a"
  },
  {
   "cell_type": "code",
   "execution_count": 38,
   "outputs": [
    {
     "name": "stdout",
     "output_type": "stream",
     "text": [
      "\n",
      "替换后的数据框列:\n",
      "['id', '12', '13', '14', '15', '16', '17', '18', 'gender', 'birth_year', 'has_child', 'gender']\n",
      "\n",
      "替换后的数据分布:\n",
      "\n",
      "列 '12' 的分类分布:\n",
      "Primary School: 930 (75.18%)\n",
      "Junior High School: 307 (24.82%)\n",
      "\n",
      "列 '13' 的分类分布:\n",
      "Junior High School: 748 (61.56%)\n",
      "Primary School: 463 (38.11%)\n",
      "Senior High School: 4 (0.33%)\n",
      "\n",
      "列 '14' 的分类分布:\n",
      "Junior High School: 969 (80.62%)\n",
      "Primary School: 191 (15.89%)\n",
      "Senior High School: 42 (3.49%)\n",
      "\n",
      "列 '15' 的分类分布:\n",
      "Junior High School: 678 (85.82%)\n",
      "Senior High School: 58 (7.34%)\n",
      "Primary School: 54 (6.84%)\n",
      "\n",
      "列 '16' 的分类分布:\n",
      "Junior High School: 772 (58.57%)\n",
      "Senior High School: 513 (38.92%)\n",
      "Primary School: 31 (2.35%)\n",
      "Certificate and Diploma (Grade required): 2 (0.15%)\n",
      "\n",
      "列 '17' 的分类分布:\n",
      "Senior High School: 851 (63.98%)\n",
      "Junior High School: 467 (35.11%)\n",
      "Primary School: 7 (0.53%)\n",
      "Certificate and Diploma (Grade required): 2 (0.15%)\n",
      "Certificate and Diploma (Grade not required): 2 (0.15%)\n",
      "Bachelors Degree and diploma: 1 (0.08%)\n",
      "\n",
      "列 '18' 的分类分布:\n",
      "Senior High School: 1192 (79.31%)\n",
      "Junior High School: 271 (18.03%)\n",
      "Certificate and Diploma (Grade required): 19 (1.26%)\n",
      "Certificate and Diploma (Grade not required): 7 (0.47%)\n",
      "Bachelors Degree and diploma: 6 (0.40%)\n",
      "Primary School: 4 (0.27%)\n",
      "Vocational Education and Training: 4 (0.27%)\n",
      "\n",
      "总体教育分类分布:\n",
      "Junior High School: 4212 (49.01%)\n",
      "Senior High School: 2660 (30.95%)\n",
      "Primary School: 1680 (19.55%)\n",
      "Certificate and Diploma (Grade required): 23 (0.27%)\n",
      "Certificate and Diploma (Grade not required): 9 (0.10%)\n",
      "Bachelors Degree and diploma: 7 (0.08%)\n",
      "Vocational Education and Training: 4 (0.05%)\n",
      "\n",
      "替换后数据框的前5行:\n",
      "                   12                  13                  14  \\\n",
      "0      Primary School      Primary School  Junior High School   \n",
      "1      Primary School      Primary School  Junior High School   \n",
      "2                 NaN                 NaN                 NaN   \n",
      "3      Primary School      Primary School  Junior High School   \n",
      "4  Junior High School  Junior High School  Senior High School   \n",
      "\n",
      "                   15                  16                            17  \\\n",
      "0  Junior High School  Junior High School            Senior High School   \n",
      "1  Junior High School  Junior High School            Junior High School   \n",
      "2                 NaN                 NaN                           NaN   \n",
      "3  Junior High School  Junior High School                           NaN   \n",
      "4  Senior High School  Senior High School  Bachelors Degree and diploma   \n",
      "\n",
      "                   18  \n",
      "0  Senior High School  \n",
      "1  Junior High School  \n",
      "2                 NaN  \n",
      "3                 NaN  \n",
      "4                 NaN  \n"
     ]
    }
   ],
   "source": [
    "# 确保分类已完成（前面的代码已经运行）\n",
    "# 现在将替换原始列为分类结果\n",
    "\n",
    "# 1. 备份原始数据框（可选）\n",
    "df_original = df_cleaned.copy()\n",
    "\n",
    "# 2. 用分类结果替换原始列\n",
    "for col in columns_to_check:\n",
    "    category_col = f'{col}_category'\n",
    "    # 直接替换原始列的值\n",
    "    df_cleaned[col] = df_cleaned[category_col]\n",
    "    # 删除临时的分类列\n",
    "    df_cleaned.drop(columns=[category_col], inplace=True)\n",
    "\n",
    "# 3. 确认替换已完成\n",
    "print(\"\\n替换后的数据框列:\")\n",
    "print(df_cleaned.columns.tolist())\n",
    "\n",
    "# 4. 验证数据替换是否成功\n",
    "print(\"\\n替换后的数据分布:\")\n",
    "for col in columns_to_check:\n",
    "    print(f\"\\n列 '{col}' 的分类分布:\")\n",
    "    value_counts = df_cleaned[col].value_counts()\n",
    "    value_percents = df_cleaned[col].value_counts(normalize=True) * 100\n",
    "    for value in value_counts.index:\n",
    "        count = value_counts[value]\n",
    "        percent = value_percents[value]\n",
    "        print(f\"{value}: {count} ({percent:.2f}%)\")\n",
    "\n",
    "# 5. 检查总体分类分布（所有列合并）\n",
    "all_values = pd.Series()\n",
    "for col in columns_to_check:\n",
    "    all_values = pd.concat([all_values, df_cleaned[col]])\n",
    "\n",
    "print(\"\\n总体教育分类分布:\")\n",
    "all_counts = all_values.value_counts()\n",
    "all_percents = all_values.value_counts(normalize=True) * 100\n",
    "\n",
    "for value in all_counts.index:\n",
    "    count = all_counts[value]\n",
    "    percent = all_percents[value]\n",
    "    print(f\"{value}: {count} ({percent:.2f}%)\")\n",
    "\n",
    "# 6. 显示数据框的前几行进行检查\n",
    "print(\"\\n替换后数据框的前5行:\")\n",
    "print(df_cleaned[columns_to_check].head())"
   ],
   "metadata": {
    "collapsed": false,
    "ExecuteTime": {
     "end_time": "2025-10-19T15:57:47.007589900Z",
     "start_time": "2025-10-19T15:57:46.987123200Z"
    }
   },
   "id": "149d224d3d0613f3"
  },
  {
   "cell_type": "code",
   "execution_count": 39,
   "outputs": [
    {
     "name": "stdout",
     "output_type": "stream",
     "text": [
      "清理后的数据框有 563 行\n"
     ]
    }
   ],
   "source": [
    "# 定义要检查的列\n",
    "columns_to_check = ['12', '13', '14', '15', '16', '17', '18']\n",
    "\n",
    "# 定义所有可能的缺失值表示\n",
    "missing_values = [\"NaN\", \"nan\", \"NA\", \"N/A\", \"\", \"None\", \"null\", \"-\"]\n",
    "\n",
    "# 将所有这些值替换为真正的NaN\n",
    "df_cleaned = df_cleaned.replace(missing_values, float('nan'))\n",
    "\n",
    "# 然后删除含有NaN的行\n",
    "df_cleaned = df_cleaned.dropna(subset=columns_to_check)\n",
    "\n",
    "# 输出结果\n",
    "print(f\"清理后的数据框有 {len(df_cleaned)} 行\")"
   ],
   "metadata": {
    "collapsed": false,
    "ExecuteTime": {
     "end_time": "2025-10-19T15:57:47.832680Z",
     "start_time": "2025-10-19T15:57:47.823426200Z"
    }
   },
   "id": "e6f93fba60fe14bc"
  },
  {
   "cell_type": "code",
   "execution_count": 40,
   "outputs": [
    {
     "data": {
      "text/plain": "          id              12                  13                  14  \\\n0     405423  Primary School      Primary School  Junior High School   \n1     491186  Primary School      Primary School  Junior High School   \n6     408736  Primary School  Junior High School  Junior High School   \n10    408688  Primary School      Primary School  Junior High School   \n12    403109  Primary School  Junior High School  Junior High School   \n...      ...             ...                 ...                 ...   \n1283  402253  Primary School      Primary School  Junior High School   \n1285  408487  Primary School  Junior High School  Junior High School   \n1286  407614  Primary School      Primary School      Primary School   \n1290  409346  Primary School      Primary School      Primary School   \n1291  402705  Primary School      Primary School  Junior High School   \n\n                      15                  16                  17  \\\n0     Junior High School  Junior High School  Senior High School   \n1     Junior High School  Junior High School  Junior High School   \n6     Junior High School  Senior High School  Senior High School   \n10    Junior High School  Junior High School  Junior High School   \n12    Junior High School  Senior High School  Senior High School   \n...                  ...                 ...                 ...   \n1283  Junior High School  Junior High School  Junior High School   \n1285  Junior High School  Senior High School  Senior High School   \n1286      Primary School  Junior High School  Junior High School   \n1290      Primary School  Junior High School  Junior High School   \n1291  Junior High School  Senior High School  Senior High School   \n\n                      18  gender  birth_year has_child  gender  \n0     Senior High School  Female        1996        No  Female  \n1     Junior High School  Female        1996       Yes  Female  \n6     Senior High School  Female        1996       Yes  Female  \n10    Junior High School    Male        1996       NaN    Male  \n12    Senior High School    Male        1996       NaN    Male  \n...                  ...     ...         ...       ...     ...  \n1283  Junior High School  Female        1997       Yes  Female  \n1285  Senior High School    Male        1997       NaN    Male  \n1286  Junior High School    Male        1997       NaN    Male  \n1290  Junior High School    Male        1997       NaN    Male  \n1291  Senior High School  Female        1997        No  Female  \n\n[563 rows x 12 columns]",
      "text/html": "<div>\n<style scoped>\n    .dataframe tbody tr th:only-of-type {\n        vertical-align: middle;\n    }\n\n    .dataframe tbody tr th {\n        vertical-align: top;\n    }\n\n    .dataframe thead th {\n        text-align: right;\n    }\n</style>\n<table border=\"1\" class=\"dataframe\">\n  <thead>\n    <tr style=\"text-align: right;\">\n      <th></th>\n      <th>id</th>\n      <th>12</th>\n      <th>13</th>\n      <th>14</th>\n      <th>15</th>\n      <th>16</th>\n      <th>17</th>\n      <th>18</th>\n      <th>gender</th>\n      <th>birth_year</th>\n      <th>has_child</th>\n      <th>gender</th>\n    </tr>\n  </thead>\n  <tbody>\n    <tr>\n      <th>0</th>\n      <td>405423</td>\n      <td>Primary School</td>\n      <td>Primary School</td>\n      <td>Junior High School</td>\n      <td>Junior High School</td>\n      <td>Junior High School</td>\n      <td>Senior High School</td>\n      <td>Senior High School</td>\n      <td>Female</td>\n      <td>1996</td>\n      <td>No</td>\n      <td>Female</td>\n    </tr>\n    <tr>\n      <th>1</th>\n      <td>491186</td>\n      <td>Primary School</td>\n      <td>Primary School</td>\n      <td>Junior High School</td>\n      <td>Junior High School</td>\n      <td>Junior High School</td>\n      <td>Junior High School</td>\n      <td>Junior High School</td>\n      <td>Female</td>\n      <td>1996</td>\n      <td>Yes</td>\n      <td>Female</td>\n    </tr>\n    <tr>\n      <th>6</th>\n      <td>408736</td>\n      <td>Primary School</td>\n      <td>Junior High School</td>\n      <td>Junior High School</td>\n      <td>Junior High School</td>\n      <td>Senior High School</td>\n      <td>Senior High School</td>\n      <td>Senior High School</td>\n      <td>Female</td>\n      <td>1996</td>\n      <td>Yes</td>\n      <td>Female</td>\n    </tr>\n    <tr>\n      <th>10</th>\n      <td>408688</td>\n      <td>Primary School</td>\n      <td>Primary School</td>\n      <td>Junior High School</td>\n      <td>Junior High School</td>\n      <td>Junior High School</td>\n      <td>Junior High School</td>\n      <td>Junior High School</td>\n      <td>Male</td>\n      <td>1996</td>\n      <td>NaN</td>\n      <td>Male</td>\n    </tr>\n    <tr>\n      <th>12</th>\n      <td>403109</td>\n      <td>Primary School</td>\n      <td>Junior High School</td>\n      <td>Junior High School</td>\n      <td>Junior High School</td>\n      <td>Senior High School</td>\n      <td>Senior High School</td>\n      <td>Senior High School</td>\n      <td>Male</td>\n      <td>1996</td>\n      <td>NaN</td>\n      <td>Male</td>\n    </tr>\n    <tr>\n      <th>...</th>\n      <td>...</td>\n      <td>...</td>\n      <td>...</td>\n      <td>...</td>\n      <td>...</td>\n      <td>...</td>\n      <td>...</td>\n      <td>...</td>\n      <td>...</td>\n      <td>...</td>\n      <td>...</td>\n      <td>...</td>\n    </tr>\n    <tr>\n      <th>1283</th>\n      <td>402253</td>\n      <td>Primary School</td>\n      <td>Primary School</td>\n      <td>Junior High School</td>\n      <td>Junior High School</td>\n      <td>Junior High School</td>\n      <td>Junior High School</td>\n      <td>Junior High School</td>\n      <td>Female</td>\n      <td>1997</td>\n      <td>Yes</td>\n      <td>Female</td>\n    </tr>\n    <tr>\n      <th>1285</th>\n      <td>408487</td>\n      <td>Primary School</td>\n      <td>Junior High School</td>\n      <td>Junior High School</td>\n      <td>Junior High School</td>\n      <td>Senior High School</td>\n      <td>Senior High School</td>\n      <td>Senior High School</td>\n      <td>Male</td>\n      <td>1997</td>\n      <td>NaN</td>\n      <td>Male</td>\n    </tr>\n    <tr>\n      <th>1286</th>\n      <td>407614</td>\n      <td>Primary School</td>\n      <td>Primary School</td>\n      <td>Primary School</td>\n      <td>Primary School</td>\n      <td>Junior High School</td>\n      <td>Junior High School</td>\n      <td>Junior High School</td>\n      <td>Male</td>\n      <td>1997</td>\n      <td>NaN</td>\n      <td>Male</td>\n    </tr>\n    <tr>\n      <th>1290</th>\n      <td>409346</td>\n      <td>Primary School</td>\n      <td>Primary School</td>\n      <td>Primary School</td>\n      <td>Primary School</td>\n      <td>Junior High School</td>\n      <td>Junior High School</td>\n      <td>Junior High School</td>\n      <td>Male</td>\n      <td>1997</td>\n      <td>NaN</td>\n      <td>Male</td>\n    </tr>\n    <tr>\n      <th>1291</th>\n      <td>402705</td>\n      <td>Primary School</td>\n      <td>Primary School</td>\n      <td>Junior High School</td>\n      <td>Junior High School</td>\n      <td>Senior High School</td>\n      <td>Senior High School</td>\n      <td>Senior High School</td>\n      <td>Female</td>\n      <td>1997</td>\n      <td>No</td>\n      <td>Female</td>\n    </tr>\n  </tbody>\n</table>\n<p>563 rows × 12 columns</p>\n</div>"
     },
     "execution_count": 40,
     "metadata": {},
     "output_type": "execute_result"
    }
   ],
   "source": [
    "df_cleaned"
   ],
   "metadata": {
    "collapsed": false,
    "ExecuteTime": {
     "end_time": "2025-10-19T15:57:48.589876700Z",
     "start_time": "2025-10-19T15:57:48.578417200Z"
    }
   },
   "id": "8d7361c614087931"
  },
  {
   "cell_type": "code",
   "execution_count": 41,
   "outputs": [
    {
     "name": "stdout",
     "output_type": "stream",
     "text": [
      "\n",
      "[>] SequenceData initialized successfully! Here's a summary:\n",
      "[>] Number of sequences: 563\n",
      "[>] Number of time points: 7\n",
      "[>] Min/Max sequence length: 7 / 7\n",
      "[>] States: ['Junior High School', 'Senior High School', 'Primary School', 'Certificate and Diploma (Grade required)', 'Bachelors Degree and diploma']\n",
      "[>] Labels: ['Junior High School', 'Senior High School', 'Primary School', 'Certificate and Diploma (Grade required)', 'Bachelors Degree and diploma']\n",
      "[>] Weights: Not provided\n"
     ]
    }
   ],
   "source": [
    "from sequenzo import SequenceData\n",
    "\n",
    "sequence = SequenceData(\n",
    "    data=df_cleaned,\n",
    "    time=[\"12\", \"13\", \"14\", \"15\", \"16\", \"17\", \"18\"],        # 有序时间列\n",
    "     states= ['Junior High School', 'Senior High School', 'Primary School', 'Certificate and Diploma (Grade required)', 'Bachelors Degree and diploma'],    # 完整、有序的状态\n",
    "    id_col='id',             # ID 列；如果缺失，请使用 assign_unique_ids 创建一个\n",
    ")"
   ],
   "metadata": {
    "collapsed": false,
    "ExecuteTime": {
     "end_time": "2025-10-19T15:57:49.727147500Z",
     "start_time": "2025-10-19T15:57:49.685128600Z"
    }
   },
   "id": "5e72b3dd744dc63a"
  },
  {
   "cell_type": "code",
   "execution_count": 42,
   "outputs": [],
   "source": [
    "states= ['Junior High School', 'Senior High School', 'Primary School', 'Certificate and Diploma (Grade required)', 'Bachelors Degree and diploma'],    # 完整、有序的状态空间\n"
   ],
   "metadata": {
    "collapsed": false,
    "ExecuteTime": {
     "end_time": "2025-10-19T15:57:50.650288100Z",
     "start_time": "2025-10-19T15:57:50.645253600Z"
    }
   },
   "id": "4044a7d9984dccd2"
  },
  {
   "cell_type": "code",
   "execution_count": 43,
   "outputs": [
    {
     "data": {
      "text/plain": "<Figure size 1000x600 with 1 Axes>",
      "image/png": "[encoded data removed]"
     },
     "metadata": {},
     "output_type": "display_data"
    }
   ],
   "source": [
    "from sequenzo import plot_sequence_index\n",
    "\n",
    "plot_sequence_index(\n",
    "    sequence,\n",
    "    sort_by=None,         # 序列排序规则，见下文\n",
    "    figsize=(10, 6),      # 每个子图的大小\n",
    "    title=None,           # 总体标题\n",
    "    xlabel=\"Time\",\n",
    "    ylabel=\"Sequences\",\n",
    "    save_as=None,         # 保存输出文件（例如, \"index.png\"）\n",
    "    dpi=200,\n",
    "    layout=\"column\",      # \"column\"（列） 或 \"grid\"（网格）\n",
    "    nrows=None,           # 手动设置布局的行数（可选）\n",
    "    ncols=None,           # 手动设置布局的列数（可选）\n",
    "    group_order=None,     # 自定义分组顺序\n",
    "    sort_groups=\"auto\"\n",
    "    )   # \"auto\" (自动), \"numeric\" (数字), \"alpha\" (字母), \"none\" (无)"
   ],
   "metadata": {
    "collapsed": false,
    "ExecuteTime": {
     "end_time": "2025-10-19T15:57:51.236445700Z",
     "start_time": "2025-10-19T15:57:51.107048200Z"
    }
   },
   "id": "15fc0c063a252d32"
  },
  {
   "cell_type": "code",
   "execution_count": 44,
   "outputs": [
    {
     "data": {
      "text/plain": "          id              12                  13                  14  \\\n0     405423  Primary School      Primary School  Junior High School   \n1     491186  Primary School      Primary School  Junior High School   \n6     408736  Primary School  Junior High School  Junior High School   \n10    408688  Primary School      Primary School  Junior High School   \n12    403109  Primary School  Junior High School  Junior High School   \n...      ...             ...                 ...                 ...   \n1283  402253  Primary School      Primary School  Junior High School   \n1285  408487  Primary School  Junior High School  Junior High School   \n1286  407614  Primary School      Primary School      Primary School   \n1290  409346  Primary School      Primary School      Primary School   \n1291  402705  Primary School      Primary School  Junior High School   \n\n                      15                  16                  17  \\\n0     Junior High School  Junior High School  Senior High School   \n1     Junior High School  Junior High School  Junior High School   \n6     Junior High School  Senior High School  Senior High School   \n10    Junior High School  Junior High School  Junior High School   \n12    Junior High School  Senior High School  Senior High School   \n...                  ...                 ...                 ...   \n1283  Junior High School  Junior High School  Junior High School   \n1285  Junior High School  Senior High School  Senior High School   \n1286      Primary School  Junior High School  Junior High School   \n1290      Primary School  Junior High School  Junior High School   \n1291  Junior High School  Senior High School  Senior High School   \n\n                      18  gender  birth_year has_child  gender  \n0     Senior High School  Female        1996        No  Female  \n1     Junior High School  Female        1996       Yes  Female  \n6     Senior High School  Female        1996       Yes  Female  \n10    Junior High School    Male        1996       NaN    Male  \n12    Senior High School    Male        1996       NaN    Male  \n...                  ...     ...         ...       ...     ...  \n1283  Junior High School  Female        1997       Yes  Female  \n1285  Senior High School    Male        1997       NaN    Male  \n1286  Junior High School    Male        1997       NaN    Male  \n1290  Junior High School    Male        1997       NaN    Male  \n1291  Senior High School  Female        1997        No  Female  \n\n[563 rows x 12 columns]",
      "text/html": "<div>\n<style scoped>\n    .dataframe tbody tr th:only-of-type {\n        vertical-align: middle;\n    }\n\n    .dataframe tbody tr th {\n        vertical-align: top;\n    }\n\n    .dataframe thead th {\n        text-align: right;\n    }\n</style>\n<table border=\"1\" class=\"dataframe\">\n  <thead>\n    <tr style=\"text-align: right;\">\n      <th></th>\n      <th>id</th>\n      <th>12</th>\n      <th>13</th>\n      <th>14</th>\n      <th>15</th>\n      <th>16</th>\n      <th>17</th>\n      <th>18</th>\n      <th>gender</th>\n      <th>birth_year</th>\n      <th>has_child</th>\n      <th>gender</th>\n    </tr>\n  </thead>\n  <tbody>\n    <tr>\n      <th>0</th>\n      <td>405423</td>\n      <td>Primary School</td>\n      <td>Primary School</td>\n      <td>Junior High School</td>\n      <td>Junior High School</td>\n      <td>Junior High School</td>\n      <td>Senior High School</td>\n      <td>Senior High School</td>\n      <td>Female</td>\n      <td>1996</td>\n      <td>No</td>\n      <td>Female</td>\n    </tr>\n    <tr>\n      <th>1</th>\n      <td>491186</td>\n      <td>Primary School</td>\n      <td>Primary School</td>\n      <td>Junior High School</td>\n      <td>Junior High School</td>\n      <td>Junior High School</td>\n      <td>Junior High School</td>\n      <td>Junior High School</td>\n      <td>Female</td>\n      <td>1996</td>\n      <td>Yes</td>\n      <td>Female</td>\n    </tr>\n    <tr>\n      <th>6</th>\n      <td>408736</td>\n      <td>Primary School</td>\n      <td>Junior High School</td>\n      <td>Junior High School</td>\n      <td>Junior High School</td>\n      <td>Senior High School</td>\n      <td>Senior High School</td>\n      <td>Senior High School</td>\n      <td>Female</td>\n      <td>1996</td>\n      <td>Yes</td>\n      <td>Female</td>\n    </tr>\n    <tr>\n      <th>10</th>\n      <td>408688</td>\n      <td>Primary School</td>\n      <td>Primary School</td>\n      <td>Junior High School</td>\n      <td>Junior High School</td>\n      <td>Junior High School</td>\n      <td>Junior High School</td>\n      <td>Junior High School</td>\n      <td>Male</td>\n      <td>1996</td>\n      <td>NaN</td>\n      <td>Male</td>\n    </tr>\n    <tr>\n      <th>12</th>\n      <td>403109</td>\n      <td>Primary School</td>\n      <td>Junior High School</td>\n      <td>Junior High School</td>\n      <td>Junior High School</td>\n      <td>Senior High School</td>\n      <td>Senior High School</td>\n      <td>Senior High School</td>\n      <td>Male</td>\n      <td>1996</td>\n      <td>NaN</td>\n      <td>Male</td>\n    </tr>\n    <tr>\n      <th>...</th>\n      <td>...</td>\n      <td>...</td>\n      <td>...</td>\n      <td>...</td>\n      <td>...</td>\n      <td>...</td>\n      <td>...</td>\n      <td>...</td>\n      <td>...</td>\n      <td>...</td>\n      <td>...</td>\n      <td>...</td>\n    </tr>\n    <tr>\n      <th>1283</th>\n      <td>402253</td>\n      <td>Primary School</td>\n      <td>Primary School</td>\n      <td>Junior High School</td>\n      <td>Junior High School</td>\n      <td>Junior High School</td>\n      <td>Junior High School</td>\n      <td>Junior High School</td>\n      <td>Female</td>\n      <td>1997</td>\n      <td>Yes</td>\n      <td>Female</td>\n    </tr>\n    <tr>\n      <th>1285</th>\n      <td>408487</td>\n      <td>Primary School</td>\n      <td>Junior High School</td>\n      <td>Junior High School</td>\n      <td>Junior High School</td>\n      <td>Senior High School</td>\n      <td>Senior High School</td>\n      <td>Senior High School</td>\n      <td>Male</td>\n      <td>1997</td>\n      <td>NaN</td>\n      <td>Male</td>\n    </tr>\n    <tr>\n      <th>1286</th>\n      <td>407614</td>\n      <td>Primary School</td>\n      <td>Primary School</td>\n      <td>Primary School</td>\n      <td>Primary School</td>\n      <td>Junior High School</td>\n      <td>Junior High School</td>\n      <td>Junior High School</td>\n      <td>Male</td>\n      <td>1997</td>\n      <td>NaN</td>\n      <td>Male</td>\n    </tr>\n    <tr>\n      <th>1290</th>\n      <td>409346</td>\n      <td>Primary School</td>\n      <td>Primary School</td>\n      <td>Primary School</td>\n      <td>Primary School</td>\n      <td>Junior High School</td>\n      <td>Junior High School</td>\n      <td>Junior High School</td>\n      <td>Male</td>\n      <td>1997</td>\n      <td>NaN</td>\n      <td>Male</td>\n    </tr>\n    <tr>\n      <th>1291</th>\n      <td>402705</td>\n      <td>Primary School</td>\n      <td>Primary School</td>\n      <td>Junior High School</td>\n      <td>Junior High School</td>\n      <td>Senior High School</td>\n      <td>Senior High School</td>\n      <td>Senior High School</td>\n      <td>Female</td>\n      <td>1997</td>\n      <td>No</td>\n      <td>Female</td>\n    </tr>\n  </tbody>\n</table>\n<p>563 rows × 12 columns</p>\n</div>"
     },
     "execution_count": 44,
     "metadata": {},
     "output_type": "execute_result"
    }
   ],
   "source": [
    "df_cleaned"
   ],
   "metadata": {
    "collapsed": false,
    "ExecuteTime": {
     "end_time": "2025-10-19T15:57:53.048691800Z",
     "start_time": "2025-10-19T15:57:53.021219600Z"
    }
   },
   "id": "82aeb696b5803d7e"
  },
  {
   "metadata": {
    "ExecuteTime": {
     "end_time": "2025-10-19T16:29:37.856108Z",
     "start_time": "2025-10-19T16:29:35.343246Z"
    }
   },
   "cell_type": "code",
   "source": [
    "from sequenzo import *\n",
    "import pandas as pd\n",
    "\n",
    "file_path = 'Adult_W5_Anon_V1.0.0.dta'\n",
    "\n",
    "df = pd.read_stata(file_path)\n",
    "\n",
    "# df.to_csv('Adult_W5_Anon_V1.0.0.csv', index=False)\n",
    "\n",
    "print(df.head())\n",
    "\n",
    "column_names = df.columns.tolist()\n",
    "\n",
    "print(column_names)"
   ],
   "id": "6233939768a9312d",
   "outputs": [
    {
     "name": "stdout",
     "output_type": "stream",
     "text": [
      "               w5_a_outcome  w5_hhid     pid w5_a_intrv_d w5_a_intrv_m  \\\n",
      "0  Successfully Interviewed   500000  640576          3rd      October   \n",
      "1  Successfully Interviewed   500001  405734          2nd         June   \n",
      "2  Successfully Interviewed   500002  305961         15th       August   \n",
      "3  Successfully Interviewed   500002  731651         15th       August   \n",
      "4  Successfully Interviewed   500003  303668         14th        March   \n",
      "\n",
      "  w5_a_intrv_y w5_a_refexpl w5_a_refexpl_o w5_a_refint w5_a_refgen  ...  \\\n",
      "0       2017.0          NaN                        NaN         NaN  ...   \n",
      "1       2017.0          NaN                        NaN         NaN  ...   \n",
      "2       2017.0          NaN                        NaN         NaN  ...   \n",
      "3       2017.0          NaN                        NaN         NaN  ...   \n",
      "4       2017.0          NaN                        NaN         NaN  ...   \n",
      "\n",
      "  w5_a_intlng10 w5_a_intlng11 w5_a_intlng_o                  w5_a_intresp  \\\n",
      "0           NaN           NaN                                    Friendly   \n",
      "1           NaN           NaN                Neither hostile nor friendly   \n",
      "2           NaN           NaN                                    Friendly   \n",
      "3           NaN           NaN                                    Friendly   \n",
      "4           NaN           NaN                                    Friendly   \n",
      "\n",
      "      w5_a_intrespact                                  w5_a_intresphear  \\\n",
      "0      Very attentive  No other person within hearing range at any time   \n",
      "1  Somewhat attentive  No other person within hearing range at any time   \n",
      "2      Very attentive  No other person within hearing range at any time   \n",
      "3      Very attentive  No other person within hearing range at any time   \n",
      "4      Very attentive  No other person within hearing range at any time   \n",
      "\n",
      "  w5_a_intrespque w5_a_intresppid1 w5_a_intresppid2 w5_a_intresppid3  \n",
      "0              No              NaN              NaN              NaN  \n",
      "1              No              NaN              NaN              NaN  \n",
      "2              No              NaN              NaN              NaN  \n",
      "3              No              NaN              NaN              NaN  \n",
      "4              No              NaN              NaN              NaN  \n",
      "\n",
      "[5 rows x 1144 columns]\n",
      "['w5_a_outcome', 'w5_hhid', 'pid', 'w5_a_intrv_d', 'w5_a_intrv_m', 'w5_a_intrv_y', 'w5_a_refexpl', 'w5_a_refexpl_o', 'w5_a_refint', 'w5_a_refgen', 'w5_a_refage', 'w5_a_intrv_c', 'w5_a_sample', 'w5_a_duration', 'w5_a_dob_m', 'w5_a_dob_y', 'w5_a_gen', 'w5_a_popgrp', 'w5_a_popgrp_o', 'w5_a_parhpid', 'w5_a_mar', 'w5_a_mary_m', 'w5_a_mary_l', 'w5_a_evmar', 'w5_a_curmarst', 'w5_a_timewid', 'w5_a_timediv', 'w5_a_lng', 'w5_a_lng_o', 'w5_a_slpw', 'w5_a_slpm', 'w5_a_lvevoth', 'w5_a_brnprov', 'w5_a_brnprov_flg', 'w5_a_brndc_2001', 'w5_a_brndc_2001_flg', 'w5_a_brndc_2011', 'w5_a_brndc_2011_flg', 'w5_a_brncc', 'w5_a_brncc_flg', 'w5_a_lv94prov', 'w5_a_lv94prov_flg', 'w5_a_lv15prov', 'w5_a_lv15prov_flg', 'w5_a_moveyr', 'w5_a_lvbfprov', 'w5_a_lvbfdc_2001', 'w5_a_lvbfdc_2011', 'w5_a_lvbfcc', 'w5_a_bhbrth', 'w5_a_bhcnt1con', 'w5_a_bhlive', 'w5_a_bhlive_n', 'w5_a_bhali', 'w5_a_bhali_n', 'w5_a_bhdth', 'w5_a_bhdth_n', 'w5_a_bhprg', 'w5_a_bhchild_id1', 'w5_a_bhgen1', 'w5_a_bhdob_m1', 'w5_a_bhdob_y1', 'w5_a_bhali1', 'w5_a_bhdod_m1', 'w5_a_bhdod_y1', 'w5_a_bhmem1', 'w5_a_bhres1', 'w5_a_bhchild_id2', 'w5_a_bhgen2', 'w5_a_bhdob_m2', 'w5_a_bhdob_y2', 'w5_a_bhali2', 'w5_a_bhdod_m2', 'w5_a_bhdod_y2', 'w5_a_bhmem2', 'w5_a_bhres2', 'w5_a_bhchild_id3', 'w5_a_bhgen3', 'w5_a_bhdob_m3', 'w5_a_bhdob_y3', 'w5_a_bhali3', 'w5_a_bhdod_m3', 'w5_a_bhdod_y3', 'w5_a_bhmem3', 'w5_a_bhres3', 'w5_a_bhchild_id4', 'w5_a_bhgen4', 'w5_a_bhdob_m4', 'w5_a_bhdob_y4', 'w5_a_bhali4', 'w5_a_bhdod_m4', 'w5_a_bhdod_y4', 'w5_a_bhmem4', 'w5_a_bhres4', 'w5_a_bhchild_id5', 'w5_a_bhgen5', 'w5_a_bhdob_m5', 'w5_a_bhdob_y5', 'w5_a_bhali5', 'w5_a_bhdod_m5', 'w5_a_bhdod_y5', 'w5_a_bhmem5', 'w5_a_bhres5', 'w5_a_bhchild_id6', 'w5_a_bhgen6', 'w5_a_bhdob_m6', 'w5_a_bhdob_y6', 'w5_a_bhali6', 'w5_a_bhdod_m6', 'w5_a_bhdod_y6', 'w5_a_bhmem6', 'w5_a_bhres6', 'w5_a_bhchild_id7', 'w5_a_bhgen7', 'w5_a_bhdob_m7', 'w5_a_bhdob_y7', 'w5_a_bhali7', 'w5_a_bhdod_m7', 'w5_a_bhdod_y7', 'w5_a_bhmem7', 'w5_a_bhres7', 'w5_a_bhchild_id8', 'w5_a_bhgen8', 'w5_a_bhdob_m8', 'w5_a_bhdob_y8', 'w5_a_bhali8', 'w5_a_bhdod_m8', 'w5_a_bhdod_y8', 'w5_a_bhmem8', 'w5_a_bhres8', 'w5_a_bhchild_id9', 'w5_a_bhgen9', 'w5_a_bhdob_m9', 'w5_a_bhdob_y9', 'w5_a_bhali9', 'w5_a_bhdod_m9', 'w5_a_bhdod_y9', 'w5_a_bhmem9', 'w5_a_bhres9', 'w5_a_bhchild_id10', 'w5_a_bhgen10', 'w5_a_bhdob_m10', 'w5_a_bhdob_y10', 'w5_a_bhali10', 'w5_a_bhdod_m10', 'w5_a_bhdod_y10', 'w5_a_bhmem10', 'w5_a_bhres10', 'w5_a_bhchild_id11', 'w5_a_bhgen11', 'w5_a_bhdob_m11', 'w5_a_bhdob_y11', 'w5_a_bhali11', 'w5_a_bhdod_m11', 'w5_a_bhdod_y11', 'w5_a_bhmem11', 'w5_a_bhres11', 'w5_a_bhchild_id12', 'w5_a_bhgen12', 'w5_a_bhdob_m12', 'w5_a_bhdob_y12', 'w5_a_bhali12', 'w5_a_bhdod_m12', 'w5_a_bhdod_y12', 'w5_a_bhmem12', 'w5_a_bhres12', 'w5_a_bhchild_id13', 'w5_a_bhgen13', 'w5_a_bhdob_m13', 'w5_a_bhdob_y13', 'w5_a_bhali13', 'w5_a_bhdod_m13', 'w5_a_bhdod_y13', 'w5_a_bhmem13', 'w5_a_bhres13', 'w5_a_bhchild_id14', 'w5_a_bhgen14', 'w5_a_bhdob_m14', 'w5_a_bhdob_y14', 'w5_a_bhali14', 'w5_a_bhdod_m14', 'w5_a_bhdod_y14', 'w5_a_bhmem14', 'w5_a_bhres14', 'w5_a_bhchild_id15', 'w5_a_bhgen15', 'w5_a_bhdob_m15', 'w5_a_bhdob_y15', 'w5_a_bhali15', 'w5_a_bhdod_m15', 'w5_a_bhdod_y15', 'w5_a_bhmem15', 'w5_a_bhres15', 'w5_a_bhchild_id16', 'w5_a_bhgen16', 'w5_a_bhdob_m16', 'w5_a_bhdob_y16', 'w5_a_bhali16', 'w5_a_bhdod_m16', 'w5_a_bhdod_y16', 'w5_a_bhmem16', 'w5_a_bhres16', 'w5_a_bhchild_id17', 'w5_a_bhgen17', 'w5_a_bhdob_m17', 'w5_a_bhdob_y17', 'w5_a_bhali17', 'w5_a_bhdod_m17', 'w5_a_bhdod_y17', 'w5_a_bhmem17', 'w5_a_bhres17', 'w5_a_mthdth_bf', 'w5_a_mthdth_con', 'w5_a_mthali', 'w5_a_mthali_flg', 'w5_a_mthdth5y', 'w5_a_mthdth5y_flg', 'w5_a_mthdtha', 'w5_a_mthdtha_flg', 'w5_a_mthdthy', 'w5_a_mthdthy_flg', 'w5_a_mthdth15', 'w5_a_mthdth15_flg', 'w5_a_mthdth5', 'w5_a_mthdth5_flg', 'w5_a_mthhh_pid', 'w5_a_mthbrthy', 'w5_a_mthbrthy_flg', 'w5_a_mthsch', 'w5_a_mthsch_flg', 'w5_a_mthsch_o', 'w5_a_mthtertyn', 'w5_a_mthtertyn_flg', 'w5_a_mthtert', 'w5_a_mthtert_flg', 'w5_a_mthtert_o', 'w5_a_mthwrk_isco_c', 'w5_a_mthwrk_isco_c_flg', 'w5_a_fthdth_bf', 'w5_a_fthdth_con', 'w5_a_fthali', 'w5_a_fthali_flg', 'w5_a_fthdth5y', 'w5_a_fthdth5y_flg', 'w5_a_fthdtha', 'w5_a_fthdtha_flg', 'w5_a_fthdthy', 'w5_a_fthdthy_flg', 'w5_a_fthdth15', 'w5_a_fthdth15_flg', 'w5_a_fthdth5', 'w5_a_fthdth5_flg', 'w5_a_fthhh_pid', 'w5_a_fthbrthy', 'w5_a_fthbrthy_flg', 'w5_a_fthsch', 'w5_a_fthsch_flg', 'w5_a_fthsch_o', 'w5_a_fthtertyn', 'w5_a_fthtertyn_flg', 'w5_a_fthtert', 'w5_a_fthtert_flg', 'w5_a_fthtert_o', 'w5_a_fthwrk_isco_c', 'w5_a_fthwrk_isco_c_flg', 'w5_a_emact1yrago', 'w5_a_emact1yrago_o', 'w5_a_em1', 'w5_a_em1strtm', 'w5_a_em1strty', 'w5_a_em1inf', 'w5_a_em1inf_o', 'w5_a_em1showidbk', 'w5_a_em1occ_isco_c', 'w5_a_em1prod_c', 'w5_a_em1numemp', 'w5_a_em1numemp10', 'w5_a_em1numowners', 'w5_a_em1numfam', 'w5_a_em1numpd', 'w5_a_em1numunpd', 'w5_a_em1inc', 'w5_a_em1pay', 'w5_a_em1inc_brac1', 'w5_a_em1inc_brac2', 'w5_a_em1inc_brac3', 'w5_a_em1inc_brac4', 'w5_a_em1inc_brac5', 'w5_a_em1inc_brac6', 'w5_a_em1inc_cat', 'w5_a_em1hrs', 'w5_a_em1cheq', 'w5_a_em1cheq_a', 'w5_a_em1cheqlm', 'w5_a_em1cheqlm_a', 'w5_a_em1prf', 'w5_a_em1prf_a', 'w5_a_em1prflm', 'w5_a_em1prflm_a', 'w5_a_em1bon', 'w5_a_em1bon_a', 'w5_a_em1bonlm', 'w5_a_em1bonlm_a', 'w5_a_em1pcrt', 'w5_a_em1pcrt_a', 'w5_a_em1pcrtlm', 'w5_a_em1pcrtlm_a', 'w5_a_em1dedmed', 'w5_a_em1dedmed_a', 'w5_a_em1dedpen', 'w5_a_em1dedpen_a', 'w5_a_em1deduif', 'w5_a_em1deduif_a', 'w5_a_em1dedtax', 'w5_a_em1contr', 'w5_a_em1contr_d', 'w5_a_em1pdleave', 'w5_a_em1tru', 'w5_a_em2', 'w5_a_em2strtm', 'w5_a_em2strty', 'w5_a_em2occ_isco_c', 'w5_a_em2prod_c', 'w5_a_em2inc', 'w5_a_em2pay', 'w5_a_em2inc_brac1', 'w5_a_em2inc_brac2', 'w5_a_em2inc_brac3', 'w5_a_em2inc_brac4', 'w5_a_em2inc_brac5', 'w5_a_em2inc_brac6', 'w5_a_em2inc_cat', 'w5_a_em2hrs', 'w5_a_ems', 'w5_a_emsatc_isco_c', 'w5_a_emssect', 'w5_a_emssect_o', 'w5_a_emsown', 'w5_a_emsown_o', 'w5_a_emsoth', 'w5_a_emsothatc_isco_c', 'w5_a_emsothsect', 'w5_a_emsothsect_o', 'w5_a_emsmn', 'w5_a_emshrs', 'w5_a_emsnumemp', 'w5_a_emsnumemp10', 'w5_a_emsnumowners', 'w5_a_emsnumfam', 'w5_a_emsnumpd', 'w5_a_emsnumunpd', 'w5_a_emstax', 'w5_a_emssll', 'w5_a_emslft', 'w5_a_emslft_brac1', 'w5_a_emslft_brac2', 'w5_a_emslft_brac3', 'w5_a_emslft_brac4', 'w5_a_emslft_brac5', 'w5_a_emslft_brac6', 'w5_a_emslft_cat', 'w5_a_emsdbt', 'w5_a_emsdbt_brac1', 'w5_a_emsdbt_brac2', 'w5_a_emsdbt_brac3', 'w5_a_emsdbt_brac4', 'w5_a_emsdbt_brac5', 'w5_a_emsdbt_brac6', 'w5_a_emsdbt_cat', 'w5_a_emsfinr', 'w5_a_emsincifr', 'w5_a_emsincifr_brac1', 'w5_a_emsincifr_brac2', 'w5_a_emsincifr_brac3', 'w5_a_emsincifr_brac4', 'w5_a_emsincifr_brac5', 'w5_a_emsincifr_brac6', 'w5_a_emsincifr_cat', 'w5_a_emsincyr', 'w5_a_emsprofloss', 'w5_a_emsprof_a', 'w5_a_emsloss_a', 'w5_a_emsincfr', 'w5_a_emsincfr_a', 'w5_a_emsincfr_brac1', 'w5_a_emsincfr_brac2', 'w5_a_emsincfr_brac3', 'w5_a_emsincfr_brac4', 'w5_a_emsincfr_brac5', 'w5_a_emsincfr_brac6', 'w5_a_emsincfr_cat', 'w5_a_emc', 'w5_a_emctype_isco_c', 'w5_a_emcsect', 'w5_a_emcsect_o', 'w5_a_emcinc', 'w5_a_emcinc_brac1', 'w5_a_emcinc_brac2', 'w5_a_emcinc_brac3', 'w5_a_emcinc_brac4', 'w5_a_emcinc_brac5', 'w5_a_emcinc_brac6', 'w5_a_emcinc_cat', 'w5_a_emchrs', 'w5_a_emp', 'w5_a_emphrs', 'w5_a_empsll', 'w5_a_empser', 'w5_a_empsll_v', 'w5_a_empser_v', 'w5_a_empconprod', 'w5_a_empconprod_v', 'w5_a_emh', 'w5_a_emhhrs', 'w5_a_emhper', 'w5_a_emhper_o', 'w5_a_emhearn', 'w5_a_emhearn_v', 'w5_a_emhtsk_isco_c', 'w5_a_emreswage', 'w5_a_unemprv', 'w5_a_unemdc', 'w5_a_unemtyp_isco_c', 'w5_a_unemex', 'w5_a_unemex_o', 'w5_a_unemwnt', 'w5_a_unemwnt_v', 'w5_a_unemwnt_u', 'w5_a_unemrj', 'w5_a_unemrjex', 'w5_a_unemrjex_o', 'w5_a_unemmn', 'w5_a_unem3mn', 'w5_a_unem6mn', 'w5_a_unemyr', 'w5_a_unem2yr', 'w5_a_unems1', 'w5_a_unems2', 'w5_a_unems3', 'w5_a_unems4', 'w5_a_unems5', 'w5_a_unems6', 'w5_a_unems7', 'w5_a_unems8', 'w5_a_unems_o', 'w5_a_unemsrcst', 'w5_a_unemsrsrc', 'w5_a_unemava', 'w5_a_noemex', 'w5_a_noemex_o', 'w5_a_noemreswage', 'w5_a_noemfrwage', 'w5_a_noemsr', 'w5_a_noemsryr', 'w5_a_noemsrex', 'w5_a_noemsrex_o', 'w5_a_incgovpen', 'w5_a_incgovpen_v', 'w5_a_incdis', 'w5_a_incdis_v', 'w5_a_incchld', 'w5_a_incchld_v', 'w5_a_incfos', 'w5_a_incfos_v', 'w5_a_inccare', 'w5_a_inccare_v', 'w5_a_incaid', 'w5_a_incaid_v', 'w5_a_incwar', 'w5_a_incwar_v', 'w5_a_incuif', 'w5_a_incuif_v', 'w5_a_incwc', 'w5_a_incwc_v', 'w5_a_incpfnd', 'w5_a_incpfnd_v', 'w5_a_incret', 'w5_a_incret_v', 'w5_a_incretp', 'w5_a_incretp_v', 'w5_a_incrnt', 'w5_a_incrnt_v', 'w5_a_incint', 'w5_a_incint_v', 'w5_a_incretr', 'w5_a_incretr_v', 'w5_a_incinh', 'w5_a_incinh_v', 'w5_a_inclob', 'w5_a_inclob_v', 'w5_a_incgif', 'w5_a_incgif_v', 'w5_a_incloan', 'w5_a_incloan_v', 'w5_a_incsale', 'w5_a_incsale_v', 'w5_a_inco', 'w5_a_inco_o', 'w5_a_inco_v', 'w5_a_grcur', 'w5_a_grcurtyp', 'w5_a_grcurecpid', 'w5_a_grcurecrel', 'w5_a_cr', 'w5_a_crpid1', 'w5_a_crprv1', 'w5_a_crprv1_o', 'w5_a_crrel1', 'w5_a_crt1', 'w5_a_cryrv1', 'w5_a_crmnv1', 'w5_a_crkndt1', 'w5_a_crkndyrv1', 'w5_a_crkndmnv1', 'w5_a_crkndtyp1_1', 'w5_a_crkndtyp1_1_o', 'w5_a_crkndtyp2_1', 'w5_a_crkndtyp2_1_o', 'w5_a_crkndtyp3_1', 'w5_a_crkndtyp3_1_o', 'w5_a_crpid2', 'w5_a_crprv2', 'w5_a_crprv2_o', 'w5_a_crrel2', 'w5_a_crt2', 'w5_a_cryrv2', 'w5_a_crmnv2', 'w5_a_crkndt2', 'w5_a_crkndyrv2', 'w5_a_crkndmnv2', 'w5_a_crkndtyp1_2', 'w5_a_crkndtyp1_2_o', 'w5_a_crkndtyp2_2', 'w5_a_crkndtyp2_2_o', 'w5_a_crkndtyp3_2', 'w5_a_crkndtyp3_2_o', 'w5_a_crpid3', 'w5_a_crprv3', 'w5_a_crprv3_o', 'w5_a_crrel3', 'w5_a_crt3', 'w5_a_cryrv3', 'w5_a_crmnv3', 'w5_a_crkndt3', 'w5_a_crkndyrv3', 'w5_a_crkndmnv3', 'w5_a_crkndtyp1_3', 'w5_a_crkndtyp1_3_o', 'w5_a_crkndtyp2_3', 'w5_a_crkndtyp2_3_o', 'w5_a_crkndtyp3_3', 'w5_a_crkndtyp3_3_o', 'w5_a_crpid4', 'w5_a_crprv4', 'w5_a_crprv4_o', 'w5_a_crrel4', 'w5_a_crt4', 'w5_a_cryrv4', 'w5_a_crmnv4', 'w5_a_crkndt4', 'w5_a_crkndyrv4', 'w5_a_crkndmnv4', 'w5_a_crkndtyp1_4', 'w5_a_crkndtyp1_4_o', 'w5_a_crkndtyp2_4', 'w5_a_crkndtyp2_4_o', 'w5_a_crkndtyp3_4', 'w5_a_crkndtyp3_4_o', 'w5_a_crpid5', 'w5_a_crprv5', 'w5_a_crprv5_o', 'w5_a_crrel5', 'w5_a_crt5', 'w5_a_cryrv5', 'w5_a_crmnv5', 'w5_a_crkndt5', 'w5_a_crkndyrv5', 'w5_a_crkndmnv5', 'w5_a_crkndtyp1_5', 'w5_a_crkndtyp1_5_o', 'w5_a_crkndtyp2_5', 'w5_a_crkndtyp2_5_o', 'w5_a_crkndtyp3_5', 'w5_a_crkndtyp3_5_o', 'w5_a_cg', 'w5_a_cgpid1', 'w5_a_cgprv1', 'w5_a_cgprv1_o', 'w5_a_cgrel1', 'w5_a_cgt1', 'w5_a_cgyrv1', 'w5_a_cgmnv1', 'w5_a_cgkndt1', 'w5_a_cgkndyrv1', 'w5_a_cgkndmnv1', 'w5_a_cgkndtyp1_1', 'w5_a_cgkndtyp1_1_o', 'w5_a_cgkndtyp2_1', 'w5_a_cgkndtyp2_1_o', 'w5_a_cgkndtyp3_1', 'w5_a_cgkndtyp3_1_o', 'w5_a_cgpid2', 'w5_a_cgprv2', 'w5_a_cgprv2_o', 'w5_a_cgrel2', 'w5_a_cgt2', 'w5_a_cgyrv2', 'w5_a_cgmnv2', 'w5_a_cgkndt2', 'w5_a_cgkndyrv2', 'w5_a_cgkndmnv2', 'w5_a_cgkndtyp1_2', 'w5_a_cgkndtyp1_2_o', 'w5_a_cgkndtyp2_2', 'w5_a_cgkndtyp2_2_o', 'w5_a_cgkndtyp3_2', 'w5_a_cgkndtyp3_2_o', 'w5_a_cgpid3', 'w5_a_cgprv3', 'w5_a_cgprv3_o', 'w5_a_cgrel3', 'w5_a_cgt3', 'w5_a_cgyrv3', 'w5_a_cgmnv3', 'w5_a_cgkndt3', 'w5_a_cgkndyrv3', 'w5_a_cgkndmnv3', 'w5_a_cgkndtyp1_3', 'w5_a_cgkndtyp1_3_o', 'w5_a_cgkndtyp2_3', 'w5_a_cgkndtyp2_3_o', 'w5_a_cgkndtyp3_3', 'w5_a_cgkndtyp3_3_o', 'w5_a_cgpid4', 'w5_a_cgprv4', 'w5_a_cgprv4_o', 'w5_a_cgrel4', 'w5_a_cgt4', 'w5_a_cgyrv4', 'w5_a_cgmnv4', 'w5_a_cgkndt4', 'w5_a_cgkndyrv4', 'w5_a_cgkndmnv4', 'w5_a_cgkndtyp1_4', 'w5_a_cgkndtyp1_4_o', 'w5_a_cgkndtyp2_4', 'w5_a_cgkndtyp2_4_o', 'w5_a_cgkndtyp3_4', 'w5_a_cgkndtyp3_4_o', 'w5_a_edschgrd', 'w5_a_edschgrd_flg', 'w5_a_edschgrd_o', 'w5_a_edschyr', 'w5_a_edschage', 'w5_a_ednsc', 'w5_a_edexemp', 'w5_a_edschstrt', 'w5_a_edschstrt_flg', 'w5_a_edsrtage', 'w5_a_edsrtage_flg', 'w5_a_edschmth', 'w5_a_edschmth_o', 'w5_a_edter', 'w5_a_edterlev', 'w5_a_edterlev_o', 'w5_a_eddur', 'w5_a_edteryr', 'w5_a_edrep', 'w5_a_edrep1', 'w5_a_edrep1_t', 'w5_a_edrep2', 'w5_a_edrep2_t', 'w5_a_edrep3', 'w5_a_edrep3_t', 'w5_a_edrep4', 'w5_a_edrep4_t', 'w5_a_ed17cur', 'w5_a_ed17curatt', 'w5_a_ed17curex', 'w5_a_ed17curex_o', 'w5_a_ed17curlev', 'w5_a_ed17curlev_o', 'w5_a_ed17curdur', 'w5_a_ed17cursub', 'w5_a_ed17cursub_o', 'w5_a_ed17curmat', 'w5_a_ed17intmat', 'w5_a_ed17intter', 'w5_a_ed17wdex', 'w5_a_ed17wdex_o', 'w5_a_ed16att', 'w5_a_ed16ex', 'w5_a_ed16ex_o', 'w5_a_ed16lev', 'w5_a_ed16lev_o', 'w5_a_ed16dur', 'w5_a_ed16sub', 'w5_a_ed16sub_o', 'w5_a_ed16spnfee', 'w5_a_ed16spnuni', 'w5_a_ed16spnbks', 'w5_a_ed16spntrn', 'w5_a_ed16spno', 'w5_a_ed16paypid1', 'w5_a_ed16paypr1', 'w5_a_ed16paypid2', 'w5_a_ed16paypr2', 'w5_a_ed16paypid3', 'w5_a_ed16paypr3', 'w5_a_ed16paypid4', 'w5_a_ed16paypr4', 'w5_a_ed16payngo', 'w5_a_ed16payburstyp', 'w5_a_ed16payschol', 'w5_a_ed16res', 'w5_a_ed16wdex', 'w5_a_ed16wdex_o', 'w5_a_ed15att', 'w5_a_ed15ex', 'w5_a_ed15ex_o', 'w5_a_ed15lev', 'w5_a_ed15lev_o', 'w5_a_ed15dur', 'w5_a_ed15sub', 'w5_a_ed15sub_o', 'w5_a_ed15res', 'w5_a_ed15wdex', 'w5_a_ed15wdex_o', 'w5_a_ed14att', 'w5_a_ed14att_flg', 'w5_a_ed14ex', 'w5_a_ed14ex_flg', 'w5_a_ed14ex_o', 'w5_a_ed14ex_o_flg', 'w5_a_ed14lev', 'w5_a_ed14lev_flg', 'w5_a_ed14lev_o', 'w5_a_ed14lev_o_flg', 'w5_a_ed14dur', 'w5_a_ed14dur_flg', 'w5_a_ed14sub', 'w5_a_ed14sub_flg', 'w5_a_ed14sub_o', 'w5_a_ed14sub_o_flg', 'w5_a_ed14res', 'w5_a_ed14res_flg', 'w5_a_ed14wdex', 'w5_a_ed14wdex_o', 'w5_a_ed13att', 'w5_a_ed13att_flg', 'w5_a_ed13ex', 'w5_a_ed13ex_flg', 'w5_a_ed13ex_o', 'w5_a_ed13ex_o_flg', 'w5_a_ed13lev', 'w5_a_ed13lev_flg', 'w5_a_ed13lev_o', 'w5_a_ed13lev_o_flg', 'w5_a_ed13sub', 'w5_a_ed13sub_flg', 'w5_a_ed13sub_o', 'w5_a_ed13sub_o_flg', 'w5_a_ed13res', 'w5_a_ed13res_flg', 'w5_a_ed13wdex', 'w5_a_ed12att', 'w5_a_ed12att_flg', 'w5_a_ed12ex', 'w5_a_ed12ex_flg', 'w5_a_ed12ex_o', 'w5_a_ed12ex_o_flg', 'w5_a_ed12lev', 'w5_a_ed12lev_flg', 'w5_a_ed12lev_o', 'w5_a_ed12lev_o_flg', 'w5_a_ed12sub', 'w5_a_ed12sub_flg', 'w5_a_ed12sub_o', 'w5_a_ed12sub_o_flg', 'w5_a_ed12res', 'w5_a_ed12res_flg', 'w5_a_ed12wdex', 'w5_a_ed12wdex_o', 'w5_a_ed11att', 'w5_a_ed11att_flg', 'w5_a_ed11ex', 'w5_a_ed11ex_flg', 'w5_a_ed11ex_o', 'w5_a_ed11ex_o_flg', 'w5_a_ed11lev', 'w5_a_ed11lev_flg', 'w5_a_ed11lev_o', 'w5_a_ed11lev_o_flg', 'w5_a_ed11sub', 'w5_a_ed11sub_flg', 'w5_a_ed11sub_o', 'w5_a_ed11sub_o_flg', 'w5_a_ed11res', 'w5_a_ed11res_flg', 'w5_a_ed11wdex', 'w5_a_ed11wdex_flg', 'w5_a_ed10att', 'w5_a_ed10att_flg', 'w5_a_ed10ex', 'w5_a_ed10ex_flg', 'w5_a_ed10ex_o', 'w5_a_ed10ex_o_flg', 'w5_a_ed10lev', 'w5_a_ed10lev_flg', 'w5_a_ed10lev_o', 'w5_a_ed10lev_o_flg', 'w5_a_ed10sub', 'w5_a_ed10sub_flg', 'w5_a_ed10sub_o', 'w5_a_ed10sub_o_flg', 'w5_a_ed10res', 'w5_a_ed10res_flg', 'w5_a_ed10wdex', 'w5_a_ed10wdex_flg', 'w5_a_ed10wdex_o', 'w5_a_ed10wdex_o_flg', 'w5_a_ed09att', 'w5_a_ed09att_flg', 'w5_a_ed09ex', 'w5_a_ed09ex_flg', 'w5_a_ed09ex_o', 'w5_a_ed09ex_o_flg', 'w5_a_ed09lev', 'w5_a_ed09lev_flg', 'w5_a_ed09lev_o', 'w5_a_ed09lev_o_flg', 'w5_a_ed09sub', 'w5_a_ed09sub_flg', 'w5_a_ed09sub_o', 'w5_a_ed09sub_o_flg', 'w5_a_ed09res', 'w5_a_ed09res_flg', 'w5_a_ed09wdex', 'w5_a_ed09wdex_flg', 'w5_a_ed08att', 'w5_a_ed08att_flg', 'w5_a_ed08ex', 'w5_a_ed08ex_flg', 'w5_a_ed08ex_o', 'w5_a_ed08ex_o_flg', 'w5_a_ed08lev', 'w5_a_ed08lev_flg', 'w5_a_ed08lev_o', 'w5_a_ed08lev_o_flg', 'w5_a_ed08sub', 'w5_a_ed08sub_flg', 'w5_a_ed08sub_o', 'w5_a_ed08sub_o_flg', 'w5_a_ed08res', 'w5_a_ed08res_flg', 'w5_a_ed08wdex', 'w5_a_ed08wdex_flg', 'w5_a_edlitcomp', 'w5_a_edlitdriv', 'w5_a_edsaid', 'w5_a_edlitrdhm', 'w5_a_edlitwrthm', 'w5_a_edlitrden', 'w5_a_edlitwrten', 'w5_a_hldes', 'w5_a_hl30fev', 'w5_a_hl30pc', 'w5_a_hl30cb', 'w5_a_hl30cp', 'w5_a_hl30b', 'w5_a_hl30h', 'w5_a_hl30ba', 'w5_a_hl30jp', 'w5_a_hl30d', 'w5_a_hl30pu', 'w5_a_hl30sa', 'w5_a_hl30wl', 'w5_a_hlcon', 'w5_a_hlcontyp', 'w5_a_hlcontyp_o', 'w5_a_hltb_bf', 'w5_a_hltb', 'w5_a_hltb_med', 'w5_a_hltb_stl', 'w5_a_hlbp_bf', 'w5_a_hlbp', 'w5_a_hlbp_med', 'w5_a_hlbp_stl', 'w5_a_hldia_bf', 'w5_a_hldia', 'w5_a_hldia_med', 'w5_a_hldia_stl', 'w5_a_hlstrk_bf', 'w5_a_hlstrk', 'w5_a_hlstrk_med', 'w5_a_hlstrk_stl', 'w5_a_hlast_bf', 'w5_a_hlast', 'w5_a_hlast_med', 'w5_a_hlast_stl', 'w5_a_hlhrt_bf', 'w5_a_hlhrt', 'w5_a_hlcan_bf', 'w5_a_hlcan', 'w5_a_hlser', 'w5_a_hlser1', 'w5_a_hlser2', 'w5_a_hlser3', 'w5_a_hlser4', 'w5_a_hlser5', 'w5_a_hlser6', 'w5_a_hlser7', 'w5_a_hlser8', 'w5_a_hlser_o', 'w5_a_hlvisaid', 'w5_a_hlvistest', 'w5_a_hlvisdes', 'w5_a_hlhraid', 'w5_a_hlhrdes', 'w5_a_hllfexer', 'w5_a_hllfsmk', 'w5_a_hllfsmkreg', 'w5_a_hllfsmklst', 'w5_a_hllfsmkfrs', 'w5_a_hllfsmkqnt', 'w5_a_hlsmkpkg', 'w5_a_hlsmkpkg_o', 'w5_a_hlsmknum', 'w5_a_hlsmkcost', 'w5_a_hllfhivtst', 'w5_a_hlmedaid', 'w5_a_hlmedpaypid', 'w5_a_hlmedpayr', 'w5_a_emobth', 'w5_a_emomnd', 'w5_a_emodep', 'w5_a_emoeff', 'w5_a_emohope', 'w5_a_emofear', 'w5_a_emoslp', 'w5_a_emohap', 'w5_a_emolone', 'w5_a_emogo', 'w5_a_decdpid', 'w5_a_decdpid2', 'w5_a_declrgpid', 'w5_a_declrgpid2', 'w5_a_decmempid', 'w5_a_decmempid2', 'w5_a_declvpid', 'w5_a_declvpid2', 'w5_a_decschpid', 'w5_a_decschpid2', 'w5_a_wblv', 'w5_a_fwbrelinc', 'w5_a_fwbstp15', 'w5_a_fwbstptd', 'w5_a_fwbstp2yr', 'w5_a_fwbstp5yr', 'w5_a_fwbinc5yr', 'w5_a_wbsat', 'w5_a_wbsat10yr', 'w5_a_relnb', 'w5_a_rel', 'w5_a_rel_o', 'w5_a_trstcls', 'w5_a_trststrn', 'w5_a_trstsa', 'w5_a_trstrel', 'w5_a_trstoth', 'w5_a_trstrace', 'w5_a_trstraceoth', 'w5_a_height_1', 'w5_a_height_2', 'w5_a_height_3', 'w5_a_weight_1', 'w5_a_weight_2', 'w5_a_weight_3', 'w5_a_waist_1', 'w5_a_waist_2', 'w5_a_waist_3', 'w5_a_bpsys_1', 'w5_a_bpdia_1', 'w5_a_bppls_1', 'w5_a_bpsys_2', 'w5_a_bpdia_2', 'w5_a_bppls_2', 'w5_a_recinh', 'w5_a_recgif', 'w5_a_recjob', 'w5_a_recprof', 'w5_a_recfin', 'w5_a_reclob', 'w5_a_recoth', 'w5_a_recoth_o', 'w5_a_ownveh', 'w5_a_ownveh_v', 'w5_a_ownmot', 'w5_a_ownmot_v', 'w5_a_owncom', 'w5_a_owncel', 'w5_a_dtbnd', 'w5_a_dtbnd_b', 'w5_a_dtbnd_joint', 'w5_a_dtbnd_jointpid1', 'w5_a_dtbnd_jointpid2', 'w5_a_dtbnd_sharev', 'w5_a_dtbnd_sharebrac1', 'w5_a_dtbnd_sharebrac2', 'w5_a_dtbnd_sharebrac3', 'w5_a_ownoth_ind', 'w5_a_ownothtype1_ind', 'w5_a_ownothtype2_ind', 'w5_a_ownothtype3_ind', 'w5_a_ownoth_share', 'w5_a_mrkvoth_ind', 'w5_a_mrkvoth_indshare', 'w5_a_ownothpaid_ind', 'w5_a_ownowdtot_ind', 'w5_a_ownowdtot_indshare', 'w5_a_dtveh', 'w5_a_dtveh_b', 'w5_a_dtveh_joint', 'w5_a_dtveh_jointpid1', 'w5_a_dtveh_jointpid2', 'w5_a_dtveh_sharev', 'w5_a_dtveh_sharebrac1', 'w5_a_dtveh_sharebrac2', 'w5_a_dtveh_sharebrac3', 'w5_a_dtbnk', 'w5_a_dtbnk_b', 'w5_a_dtmic', 'w5_a_dtmic_b', 'w5_a_dtstubnk', 'w5_a_dtstubnk_b', 'w5_a_dtstuo', 'w5_a_dtstuo_b', 'w5_a_dtcre', 'w5_a_dtcre_b', 'w5_a_dtstr', 'w5_a_dtstr_b', 'w5_a_dthp', 'w5_a_dthp_b', 'w5_a_dtflloan', 'w5_a_dtflloan_b', 'w5_a_dtfrloan', 'w5_a_dtfrloanbal', 'w5_a_dtmsh', 'w5_a_dtmsh_b', 'w5_a_dtemploan', 'w5_a_dtemploan_b', 'w5_a_dtunpdtax', 'w5_a_dtunpdtax_b', 'w5_a_dtserarr', 'w5_a_dtserarr_b', 'w5_a_dtoth1', 'w5_a_dtoth1_o', 'w5_a_dtoth1_b', 'w5_a_dtoth2', 'w5_a_dtoth2_o', 'w5_a_dtoth2_b', 'w5_a_aslifeins', 'w5_a_aspen', 'w5_a_aspen_v', 'w5_a_aspen_brac1', 'w5_a_aspen_brac2', 'w5_a_aspen_brac3', 'w5_a_aspen_brac4', 'w5_a_aspen_brac5', 'w5_a_aspen_brac6', 'w5_a_aspen_cat', 'w5_a_asfin', 'w5_a_asfin_v', 'w5_a_asfin_brac1', 'w5_a_asfin_brac2', 'w5_a_asfin_brac3', 'w5_a_asfin_brac4', 'w5_a_asfin_brac5', 'w5_a_asfin_brac6', 'w5_a_asfin_cat', 'w5_a_dtstvl', 'w5_a_asacc', 'w5_a_asacc_v', 'w5_a_asacc_brac1', 'w5_a_asacc_brac2', 'w5_a_asacc_brac3', 'w5_a_asacc_brac4', 'w5_a_asacc_brac5', 'w5_a_asacc_cat', 'w5_a_dtacc_brac1', 'w5_a_dtacc_brac2', 'w5_a_dtacc_brac3', 'w5_a_dtacc_brac4', 'w5_a_dtacc_cat', 'w5_a_assell', 'w5_a_assell_v', 'w5_a_assell_brac1', 'w5_a_assell_brac2', 'w5_a_assell_brac3', 'w5_a_assell_brac4', 'w5_a_assell_brac5', 'w5_a_assell_brac6', 'w5_a_assell_cat', 'w5_a_dtsell_v', 'w5_a_dtsell_brac1', 'w5_a_dtsell_brac2', 'w5_a_dtsell_brac3', 'w5_a_dtsell_brac4', 'w5_a_dtsell_brac5', 'w5_a_dtsell_brac6', 'w5_a_dtsell_cat', 'w5_a_hgsell_a', 'w5_a_hgsell_brac1', 'w5_a_hgsell_brac2', 'w5_a_hgsell_brac3', 'w5_a_hgsell_brac4', 'w5_a_hgsell_brac5', 'w5_a_hgsell_brac6', 'w5_a_hgsell_cat', 'w5_a_flint', 'w5_a_flval', 'w5_a_flcomp1', 'w5_a_flcomp2', 'w5_a_flrisk', 'w5_a_relocate', 'w5_a_intlng1', 'w5_a_intlng2', 'w5_a_intlng3', 'w5_a_intlng4', 'w5_a_intlng5', 'w5_a_intlng6', 'w5_a_intlng7', 'w5_a_intlng8', 'w5_a_intlng9', 'w5_a_intlng10', 'w5_a_intlng11', 'w5_a_intlng_o', 'w5_a_intresp', 'w5_a_intrespact', 'w5_a_intresphear', 'w5_a_intrespque', 'w5_a_intresppid1', 'w5_a_intresppid2', 'w5_a_intresppid3']\n"
     ]
    }
   ],
   "execution_count": 7
  },
  {
   "metadata": {
    "ExecuteTime": {
     "end_time": "2025-10-19T16:33:43.251631Z",
     "start_time": "2025-10-19T16:30:43.121677Z"
    }
   },
   "cell_type": "code",
   "source": [
    "sequence = SequenceData(\n",
    "    data=df,\n",
    "    time=['w5_a_ed16lev', 'w5_a_ed15lev', 'w5_a_ed14lev', 'w5_a_ed13lev', 'w5_a_ed12lev', 'w5_a_ed11lev', 'w5_a_ed10lev', 'w5_a_ed09lev', 'w5_a_ed08lev'],\n",
    "     states= ['Grade 8/Std. 6/Form 1',\n",
    "                'Grade 7/Std. 5',\n",
    "                'Grade 6/Std. 4',\n",
    "                'Grade 9/Std. 7/Form 2',\n",
    "                'Grade 5/Std. 3',\n",
    "                'Grade 4/Std. 2',\n",
    "                'Grade 10/Std. 8/Form 3',\n",
    "                'Grade 3/Std. 1',\n",
    "                'Grade 11/Std. 9/Form 4',\n",
    "                'Grade 2/Sub B/Class 2',\n",
    "                'Grade 12/Std. 10/Form 5/Matric/Senior Certificate',\n",
    "                'Grade 1/Sub A/Class 1',\n",
    "                'Missing',\n",
    "                'Diploma requiring Grade 12/Std. 10',\n",
    "                'Certificate requiring Grade 12/Std. 10',\n",
    "                'Grade R/0',\n",
    "                'Bachelors Degree',\n",
    "                'Certificate not requiring Grade 12/Std. 10',\n",
    "                'Other (specify)',\n",
    "                'N4 (NATED)',\n",
    "                'N2 (NATED)/NTC 2',\n",
    "                'N1 (NATED)/NTC 1',\n",
    "                'N3 (NATED)/NTC 3',\n",
    "                'N6 (NATED)',\n",
    "                'Diploma not requiring Grade 12/Std. 10',\n",
    "                'N5 (NATED)',\n",
    "                'National Certificate Vocational 3 (NCV 3)',\n",
    "                'Bachelors Degree and diploma',\n",
    "                'National Certificate Vocational 2 (NCV 2)',\n",
    "                'Don\\'t know',\n",
    "                'National Certificate Vocational 4 (NCV 4)',],\n",
    "    id_col='pid',\n",
    ")\n",
    "\n",
    "sequence"
   ],
   "id": "aa4006fae7390782",
   "outputs": [
    {
     "name": "stdout",
     "output_type": "stream",
     "text": [
      "\n",
      "[>] SequenceData initialized successfully! Here's a summary:\n",
      "[>] Number of sequences: 30110\n",
      "[>] Number of time points: 9\n",
      "[>] Min/Max sequence length: 0 / 9\n",
      "[>] There are 225404 missing values across 28066 sequences.\n",
      "    First few missing sequence IDs: [640576, 405734, 305961, 731651, 303668, 703450, 746176, 769557, 310664, 319004] ...\n",
      "[>] Top sequences with the most missing time points:\n",
      "    (Each row shows a sequence ID and its number of missing values)\n",
      "\n",
      "             Missing Count\n",
      "Sequence ID               \n",
      "640576                   9\n",
      "318720                   9\n",
      "310696                   9\n",
      "318565                   9\n",
      "792509                   9\n",
      "[>] States: ['Grade 8/Std. 6/Form 1', 'Grade 7/Std. 5', 'Grade 6/Std. 4', 'Grade 9/Std. 7/Form 2', 'Grade 5/Std. 3', 'Grade 4/Std. 2', 'Grade 10/Std. 8/Form 3', 'Grade 3/Std. 1', 'Grade 11/Std. 9/Form 4', 'Grade 2/Sub B/Class 2', 'Grade 12/Std. 10/Form 5/Matric/Senior Certificate', 'Grade 1/Sub A/Class 1', 'Missing', 'Diploma requiring Grade 12/Std. 10', 'Certificate requiring Grade 12/Std. 10', 'Grade R/0', 'Bachelors Degree', 'Certificate not requiring Grade 12/Std. 10', 'Other (specify)', 'N4 (NATED)', 'N2 (NATED)/NTC 2', 'N1 (NATED)/NTC 1', 'N3 (NATED)/NTC 3', 'N6 (NATED)', 'Diploma not requiring Grade 12/Std. 10', 'N5 (NATED)', 'National Certificate Vocational 3 (NCV 3)', 'Bachelors Degree and diploma', 'National Certificate Vocational 2 (NCV 2)', \"Don't know\", 'National Certificate Vocational 4 (NCV 4)']\n",
      "[>] Labels: ['Grade 8/Std. 6/Form 1', 'Grade 7/Std. 5', 'Grade 6/Std. 4', 'Grade 9/Std. 7/Form 2', 'Grade 5/Std. 3', 'Grade 4/Std. 2', 'Grade 10/Std. 8/Form 3', 'Grade 3/Std. 1', 'Grade 11/Std. 9/Form 4', 'Grade 2/Sub B/Class 2', 'Grade 12/Std. 10/Form 5/Matric/Senior Certificate', 'Grade 1/Sub A/Class 1', 'Missing', 'Diploma requiring Grade 12/Std. 10', 'Certificate requiring Grade 12/Std. 10', 'Grade R/0', 'Bachelors Degree', 'Certificate not requiring Grade 12/Std. 10', 'Other (specify)', 'N4 (NATED)', 'N2 (NATED)/NTC 2', 'N1 (NATED)/NTC 1', 'N3 (NATED)/NTC 3', 'N6 (NATED)', 'Diploma not requiring Grade 12/Std. 10', 'N5 (NATED)', 'National Certificate Vocational 3 (NCV 3)', 'Bachelors Degree and diploma', 'National Certificate Vocational 2 (NCV 2)', \"Don't know\", 'National Certificate Vocational 4 (NCV 4)']\n",
      "[>] Weights: Not provided\n"
     ]
    },
    {
     "ename": "KeyboardInterrupt",
     "evalue": "",
     "output_type": "error",
     "traceback": [
      "\u001B[0;31m---------------------------------------------------------------------------\u001B[0m",
      "\u001B[0;31mKeyboardInterrupt\u001B[0m                         Traceback (most recent call last)",
      "Cell \u001B[0;32mIn[10], line 38\u001B[0m\n\u001B[1;32m      1\u001B[0m sequence \u001B[38;5;241m=\u001B[39m SequenceData(\n\u001B[1;32m      2\u001B[0m     data\u001B[38;5;241m=\u001B[39mdf,\n\u001B[1;32m      3\u001B[0m     time\u001B[38;5;241m=\u001B[39m[\u001B[38;5;124m'\u001B[39m\u001B[38;5;124mw5_a_ed16lev\u001B[39m\u001B[38;5;124m'\u001B[39m, \u001B[38;5;124m'\u001B[39m\u001B[38;5;124mw5_a_ed15lev\u001B[39m\u001B[38;5;124m'\u001B[39m, \u001B[38;5;124m'\u001B[39m\u001B[38;5;124mw5_a_ed14lev\u001B[39m\u001B[38;5;124m'\u001B[39m, \u001B[38;5;124m'\u001B[39m\u001B[38;5;124mw5_a_ed13lev\u001B[39m\u001B[38;5;124m'\u001B[39m, \u001B[38;5;124m'\u001B[39m\u001B[38;5;124mw5_a_ed12lev\u001B[39m\u001B[38;5;124m'\u001B[39m, \u001B[38;5;124m'\u001B[39m\u001B[38;5;124mw5_a_ed11lev\u001B[39m\u001B[38;5;124m'\u001B[39m, \u001B[38;5;124m'\u001B[39m\u001B[38;5;124mw5_a_ed10lev\u001B[39m\u001B[38;5;124m'\u001B[39m, \u001B[38;5;124m'\u001B[39m\u001B[38;5;124mw5_a_ed09lev\u001B[39m\u001B[38;5;124m'\u001B[39m, \u001B[38;5;124m'\u001B[39m\u001B[38;5;124mw5_a_ed08lev\u001B[39m\u001B[38;5;124m'\u001B[39m],\n\u001B[0;32m   (...)\u001B[0m\n\u001B[1;32m     35\u001B[0m     id_col\u001B[38;5;241m=\u001B[39m\u001B[38;5;124m'\u001B[39m\u001B[38;5;124mpid\u001B[39m\u001B[38;5;124m'\u001B[39m,\n\u001B[1;32m     36\u001B[0m )\n\u001B[0;32m---> 38\u001B[0m \u001B[43msequence\u001B[49m\n",
      "Cell \u001B[0;32mIn[10], line 38\u001B[0m\n\u001B[1;32m      1\u001B[0m sequence \u001B[38;5;241m=\u001B[39m SequenceData(\n\u001B[1;32m      2\u001B[0m     data\u001B[38;5;241m=\u001B[39mdf,\n\u001B[1;32m      3\u001B[0m     time\u001B[38;5;241m=\u001B[39m[\u001B[38;5;124m'\u001B[39m\u001B[38;5;124mw5_a_ed16lev\u001B[39m\u001B[38;5;124m'\u001B[39m, \u001B[38;5;124m'\u001B[39m\u001B[38;5;124mw5_a_ed15lev\u001B[39m\u001B[38;5;124m'\u001B[39m, \u001B[38;5;124m'\u001B[39m\u001B[38;5;124mw5_a_ed14lev\u001B[39m\u001B[38;5;124m'\u001B[39m, \u001B[38;5;124m'\u001B[39m\u001B[38;5;124mw5_a_ed13lev\u001B[39m\u001B[38;5;124m'\u001B[39m, \u001B[38;5;124m'\u001B[39m\u001B[38;5;124mw5_a_ed12lev\u001B[39m\u001B[38;5;124m'\u001B[39m, \u001B[38;5;124m'\u001B[39m\u001B[38;5;124mw5_a_ed11lev\u001B[39m\u001B[38;5;124m'\u001B[39m, \u001B[38;5;124m'\u001B[39m\u001B[38;5;124mw5_a_ed10lev\u001B[39m\u001B[38;5;124m'\u001B[39m, \u001B[38;5;124m'\u001B[39m\u001B[38;5;124mw5_a_ed09lev\u001B[39m\u001B[38;5;124m'\u001B[39m, \u001B[38;5;124m'\u001B[39m\u001B[38;5;124mw5_a_ed08lev\u001B[39m\u001B[38;5;124m'\u001B[39m],\n\u001B[0;32m   (...)\u001B[0m\n\u001B[1;32m     35\u001B[0m     id_col\u001B[38;5;241m=\u001B[39m\u001B[38;5;124m'\u001B[39m\u001B[38;5;124mpid\u001B[39m\u001B[38;5;124m'\u001B[39m,\n\u001B[1;32m     36\u001B[0m )\n\u001B[0;32m---> 38\u001B[0m \u001B[43msequence\u001B[49m\n",
      "File \u001B[0;32m_pydevd_bundle/pydevd_cython_darwin_310_64.pyx:1186\u001B[0m, in \u001B[0;36m_pydevd_bundle.pydevd_cython_darwin_310_64.SafeCallWrapper.__call__\u001B[0;34m()\u001B[0m\n",
      "File \u001B[0;32m_pydevd_bundle/pydevd_cython_darwin_310_64.pyx:627\u001B[0m, in \u001B[0;36m_pydevd_bundle.pydevd_cython_darwin_310_64.PyDBFrame.trace_dispatch\u001B[0;34m()\u001B[0m\n",
      "File \u001B[0;32m_pydevd_bundle/pydevd_cython_darwin_310_64.pyx:937\u001B[0m, in \u001B[0;36m_pydevd_bundle.pydevd_cython_darwin_310_64.PyDBFrame.trace_dispatch\u001B[0;34m()\u001B[0m\n",
      "File \u001B[0;32m_pydevd_bundle/pydevd_cython_darwin_310_64.pyx:928\u001B[0m, in \u001B[0;36m_pydevd_bundle.pydevd_cython_darwin_310_64.PyDBFrame.trace_dispatch\u001B[0;34m()\u001B[0m\n",
      "File \u001B[0;32m_pydevd_bundle/pydevd_cython_darwin_310_64.pyx:585\u001B[0m, in \u001B[0;36m_pydevd_bundle.pydevd_cython_darwin_310_64.PyDBFrame.do_wait_suspend\u001B[0;34m()\u001B[0m\n",
      "File \u001B[0;32m/Applications/PyCharm.app/Contents/plugins/python-ce/helpers/pydev/pydevd.py:1196\u001B[0m, in \u001B[0;36mPyDB.do_wait_suspend\u001B[0;34m(self, thread, frame, event, arg, send_suspend_message, is_unhandled_exception)\u001B[0m\n\u001B[1;32m   1193\u001B[0m         from_this_thread\u001B[38;5;241m.\u001B[39mappend(frame_id)\n\u001B[1;32m   1195\u001B[0m \u001B[38;5;28;01mwith\u001B[39;00m \u001B[38;5;28mself\u001B[39m\u001B[38;5;241m.\u001B[39m_threads_suspended_single_notification\u001B[38;5;241m.\u001B[39mnotify_thread_suspended(thread_id, stop_reason):\n\u001B[0;32m-> 1196\u001B[0m     \u001B[38;5;28;43mself\u001B[39;49m\u001B[38;5;241;43m.\u001B[39;49m\u001B[43m_do_wait_suspend\u001B[49m\u001B[43m(\u001B[49m\u001B[43mthread\u001B[49m\u001B[43m,\u001B[49m\u001B[43m \u001B[49m\u001B[43mframe\u001B[49m\u001B[43m,\u001B[49m\u001B[43m \u001B[49m\u001B[43mevent\u001B[49m\u001B[43m,\u001B[49m\u001B[43m \u001B[49m\u001B[43marg\u001B[49m\u001B[43m,\u001B[49m\u001B[43m \u001B[49m\u001B[43msuspend_type\u001B[49m\u001B[43m,\u001B[49m\u001B[43m \u001B[49m\u001B[43mfrom_this_thread\u001B[49m\u001B[43m)\u001B[49m\n",
      "File \u001B[0;32m/Applications/PyCharm.app/Contents/plugins/python-ce/helpers/pydev/pydevd.py:1211\u001B[0m, in \u001B[0;36mPyDB._do_wait_suspend\u001B[0;34m(self, thread, frame, event, arg, suspend_type, from_this_thread)\u001B[0m\n\u001B[1;32m   1208\u001B[0m             \u001B[38;5;28mself\u001B[39m\u001B[38;5;241m.\u001B[39m_call_mpl_hook()\n\u001B[1;32m   1210\u001B[0m         \u001B[38;5;28mself\u001B[39m\u001B[38;5;241m.\u001B[39mprocess_internal_commands()\n\u001B[0;32m-> 1211\u001B[0m         \u001B[43mtime\u001B[49m\u001B[38;5;241;43m.\u001B[39;49m\u001B[43msleep\u001B[49m\u001B[43m(\u001B[49m\u001B[38;5;241;43m0.01\u001B[39;49m\u001B[43m)\u001B[49m\n\u001B[1;32m   1213\u001B[0m \u001B[38;5;28mself\u001B[39m\u001B[38;5;241m.\u001B[39mcancel_async_evaluation(get_current_thread_id(thread), \u001B[38;5;28mstr\u001B[39m(\u001B[38;5;28mid\u001B[39m(frame)))\n\u001B[1;32m   1215\u001B[0m \u001B[38;5;66;03m# process any stepping instructions\u001B[39;00m\n",
      "\u001B[0;31mKeyboardInterrupt\u001B[0m: "
     ]
    }
   ],
   "execution_count": 10
  },
  {
   "cell_type": "code",
   "execution_count": 45,
   "outputs": [
    {
     "ename": "ValueError",
     "evalue": "Length mismatch: Expected axis has 3 elements, new values have 2 elements",
     "output_type": "error",
     "traceback": [
      "\u001B[31m---------------------------------------------------------------------------\u001B[39m",
      "\u001B[31mValueError\u001B[39m                                Traceback (most recent call last)",
      "\u001B[36mCell\u001B[39m\u001B[36m \u001B[39m\u001B[32mIn[45]\u001B[39m\u001B[32m, line 2\u001B[39m\n\u001B[32m      1\u001B[39m \u001B[38;5;28;01mfrom\u001B[39;00m\u001B[38;5;250m \u001B[39m\u001B[34;01msequenzo\u001B[39;00m\u001B[38;5;250m \u001B[39m\u001B[38;5;28;01mimport\u001B[39;00m plot_sequence_index\n\u001B[32m----> \u001B[39m\u001B[32m2\u001B[39m \u001B[43mplot_sequence_index\u001B[49m\u001B[43m(\u001B[49m\n\u001B[32m      3\u001B[39m \u001B[43m    \u001B[49m\u001B[43msequence\u001B[49m\u001B[43m,\u001B[49m\n\u001B[32m      4\u001B[39m \u001B[43m    \u001B[49m\u001B[43mgroup_by_column\u001B[49m\u001B[43m \u001B[49m\u001B[43m=\u001B[49m\u001B[33;43m'\u001B[39;49m\u001B[33;43mgender\u001B[39;49m\u001B[33;43m'\u001B[39;49m\u001B[43m,\u001B[49m\u001B[43m  \u001B[49m\u001B[38;5;66;43;03m# 不要拼错！\u001B[39;49;00m\n\u001B[32m      5\u001B[39m \u001B[43m    \u001B[49m\u001B[43mlayout\u001B[49m\u001B[43m=\u001B[49m\u001B[33;43m'\u001B[39;49m\u001B[33;43mgrid\u001B[39;49m\u001B[33;43m'\u001B[39;49m\u001B[43m,\u001B[49m\n\u001B[32m      6\u001B[39m \u001B[43m    \u001B[49m\u001B[43mtitle\u001B[49m\u001B[43m=\u001B[49m\u001B[33;43m'\u001B[39;49m\u001B[33;43msequence index plot by gender\u001B[39;49m\u001B[33;43m'\u001B[39;49m\n\u001B[32m      7\u001B[39m \u001B[43m)\u001B[49m\n",
      "\u001B[36mFile \u001B[39m\u001B[32mD:\\anaconda3\\envs\\sequence_version\\Lib\\site-packages\\sequenzo\\visualization\\plot_sequence_index.py:430\u001B[39m, in \u001B[36mplot_sequence_index\u001B[39m\u001B[34m(seqdata, group_by_column, group_dataframe, group_column_name, group_labels, sort_by, sort_by_weight, weights, figsize, plot_style, title, xlabel, ylabel, save_as, dpi, layout, nrows, ncols, group_order, sort_groups, fontsize, show_group_titles, include_legend, sequence_selection, n_sequences, show_sequence_ids)\u001B[39m\n\u001B[32m    428\u001B[39m \u001B[38;5;66;03m# Automatically create group_dataframe and group_column_name from the simplified API\u001B[39;00m\n\u001B[32m    429\u001B[39m group_dataframe = seqdata.data[[seqdata.id_col, group_by_column]].copy()\n\u001B[32m--> \u001B[39m\u001B[32m430\u001B[39m \u001B[43mgroup_dataframe\u001B[49m\u001B[43m.\u001B[49m\u001B[43mcolumns\u001B[49m = [\u001B[33m'\u001B[39m\u001B[33mEntity ID\u001B[39m\u001B[33m'\u001B[39m, \u001B[33m'\u001B[39m\u001B[33mCategory\u001B[39m\u001B[33m'\u001B[39m]\n\u001B[32m    431\u001B[39m group_column_name = \u001B[33m'\u001B[39m\u001B[33mCategory\u001B[39m\u001B[33m'\u001B[39m\n\u001B[32m    433\u001B[39m \u001B[38;5;66;03m# Handle group labels - flexible and user-controllable\u001B[39;00m\n",
      "\u001B[36mFile \u001B[39m\u001B[32mD:\\anaconda3\\envs\\sequence_version\\Lib\\site-packages\\pandas\\core\\generic.py:6335\u001B[39m, in \u001B[36mNDFrame.__setattr__\u001B[39m\u001B[34m(self, name, value)\u001B[39m\n\u001B[32m   6333\u001B[39m \u001B[38;5;28;01mtry\u001B[39;00m:\n\u001B[32m   6334\u001B[39m     \u001B[38;5;28mobject\u001B[39m.\u001B[34m__getattribute__\u001B[39m(\u001B[38;5;28mself\u001B[39m, name)\n\u001B[32m-> \u001B[39m\u001B[32m6335\u001B[39m     \u001B[38;5;28;01mreturn\u001B[39;00m \u001B[38;5;28;43mobject\u001B[39;49m\u001B[43m.\u001B[49m\u001B[34;43m__setattr__\u001B[39;49m\u001B[43m(\u001B[49m\u001B[38;5;28;43mself\u001B[39;49m\u001B[43m,\u001B[49m\u001B[43m \u001B[49m\u001B[43mname\u001B[49m\u001B[43m,\u001B[49m\u001B[43m \u001B[49m\u001B[43mvalue\u001B[49m\u001B[43m)\u001B[49m\n\u001B[32m   6336\u001B[39m \u001B[38;5;28;01mexcept\u001B[39;00m \u001B[38;5;167;01mAttributeError\u001B[39;00m:\n\u001B[32m   6337\u001B[39m     \u001B[38;5;28;01mpass\u001B[39;00m\n",
      "\u001B[36mFile \u001B[39m\u001B[32mpandas/_libs/properties.pyx:69\u001B[39m, in \u001B[36mpandas._libs.properties.AxisProperty.__set__\u001B[39m\u001B[34m()\u001B[39m\n",
      "\u001B[36mFile \u001B[39m\u001B[32mD:\\anaconda3\\envs\\sequence_version\\Lib\\site-packages\\pandas\\core\\generic.py:817\u001B[39m, in \u001B[36mNDFrame._set_axis\u001B[39m\u001B[34m(self, axis, labels)\u001B[39m\n\u001B[32m    812\u001B[39m \u001B[38;5;250m\u001B[39m\u001B[33;03m\"\"\"\u001B[39;00m\n\u001B[32m    813\u001B[39m \u001B[33;03mThis is called from the cython code when we set the `index` attribute\u001B[39;00m\n\u001B[32m    814\u001B[39m \u001B[33;03mdirectly, e.g. `series.index = [1, 2, 3]`.\u001B[39;00m\n\u001B[32m    815\u001B[39m \u001B[33;03m\"\"\"\u001B[39;00m\n\u001B[32m    816\u001B[39m labels = ensure_index(labels)\n\u001B[32m--> \u001B[39m\u001B[32m817\u001B[39m \u001B[38;5;28;43mself\u001B[39;49m\u001B[43m.\u001B[49m\u001B[43m_mgr\u001B[49m\u001B[43m.\u001B[49m\u001B[43mset_axis\u001B[49m\u001B[43m(\u001B[49m\u001B[43maxis\u001B[49m\u001B[43m,\u001B[49m\u001B[43m \u001B[49m\u001B[43mlabels\u001B[49m\u001B[43m)\u001B[49m\n\u001B[32m    818\u001B[39m \u001B[38;5;28mself\u001B[39m._clear_item_cache()\n",
      "\u001B[36mFile \u001B[39m\u001B[32mD:\\anaconda3\\envs\\sequence_version\\Lib\\site-packages\\pandas\\core\\internals\\managers.py:238\u001B[39m, in \u001B[36mBaseBlockManager.set_axis\u001B[39m\u001B[34m(self, axis, new_labels)\u001B[39m\n\u001B[32m    236\u001B[39m \u001B[38;5;28;01mdef\u001B[39;00m\u001B[38;5;250m \u001B[39m\u001B[34mset_axis\u001B[39m(\u001B[38;5;28mself\u001B[39m, axis: AxisInt, new_labels: Index) -> \u001B[38;5;28;01mNone\u001B[39;00m:\n\u001B[32m    237\u001B[39m     \u001B[38;5;66;03m# Caller is responsible for ensuring we have an Index object.\u001B[39;00m\n\u001B[32m--> \u001B[39m\u001B[32m238\u001B[39m     \u001B[38;5;28;43mself\u001B[39;49m\u001B[43m.\u001B[49m\u001B[43m_validate_set_axis\u001B[49m\u001B[43m(\u001B[49m\u001B[43maxis\u001B[49m\u001B[43m,\u001B[49m\u001B[43m \u001B[49m\u001B[43mnew_labels\u001B[49m\u001B[43m)\u001B[49m\n\u001B[32m    239\u001B[39m     \u001B[38;5;28mself\u001B[39m.axes[axis] = new_labels\n",
      "\u001B[36mFile \u001B[39m\u001B[32mD:\\anaconda3\\envs\\sequence_version\\Lib\\site-packages\\pandas\\core\\internals\\base.py:98\u001B[39m, in \u001B[36mDataManager._validate_set_axis\u001B[39m\u001B[34m(self, axis, new_labels)\u001B[39m\n\u001B[32m     95\u001B[39m     \u001B[38;5;28;01mpass\u001B[39;00m\n\u001B[32m     97\u001B[39m \u001B[38;5;28;01melif\u001B[39;00m new_len != old_len:\n\u001B[32m---> \u001B[39m\u001B[32m98\u001B[39m     \u001B[38;5;28;01mraise\u001B[39;00m \u001B[38;5;167;01mValueError\u001B[39;00m(\n\u001B[32m     99\u001B[39m         \u001B[33mf\u001B[39m\u001B[33m\"\u001B[39m\u001B[33mLength mismatch: Expected axis has \u001B[39m\u001B[38;5;132;01m{\u001B[39;00mold_len\u001B[38;5;132;01m}\u001B[39;00m\u001B[33m elements, new \u001B[39m\u001B[33m\"\u001B[39m\n\u001B[32m    100\u001B[39m         \u001B[33mf\u001B[39m\u001B[33m\"\u001B[39m\u001B[33mvalues have \u001B[39m\u001B[38;5;132;01m{\u001B[39;00mnew_len\u001B[38;5;132;01m}\u001B[39;00m\u001B[33m elements\u001B[39m\u001B[33m\"\u001B[39m\n\u001B[32m    101\u001B[39m     )\n",
      "\u001B[31mValueError\u001B[39m: Length mismatch: Expected axis has 3 elements, new values have 2 elements"
     ]
    }
   ],
   "source": [
    "from sequenzo import plot_sequence_index\n",
    "plot_sequence_index(\n",
    "    sequence,\n",
    "    group_by_column ='gender',\n",
    "    layout='grid',\n",
    "    title='sequence index plot by gender'\n",
    ")"
   ],
   "metadata": {
    "collapsed": false,
    "ExecuteTime": {
     "end_time": "2025-10-19T15:57:55.535819Z",
     "start_time": "2025-10-19T15:57:54.987164700Z"
    }
   },
   "id": "fe63469b2e37a4c1"
  },
  {
   "cell_type": "code",
   "execution_count": null,
   "outputs": [],
   "source": [
    "from sequenzo import get_distance_matrix\n",
    "\n",
    "om = get_distance_matrix(\n",
    "    seqdata=sequence,   # SequenceData 对象\n",
    "    method=\"OM\",             # \"OM\", \"OMspell\", \"HAM\", \"DHD\", \"LCP\", 或 \"RLCP\"\n",
    "    sm=\"TRATE\",              # 替换成本的规格或矩阵（见下文）\n",
    "    indel=\"auto\",            # number | vector | \"auto\"（仅用于 OM/OMspell）\n",
    "    norm=\"auto\",             # \"none\" | \"auto\" | \"maxlength\" | \"gmean\" | \"maxdist\" | \"YujianBo\"\n",
    "    full_matrix=True,        # 返回完整 n×n 矩阵\n",
    "    refseq=None,             # 或传入两个索引集合：[idx_list_A, idx_list_B]\n",
    "    tpow=1.0,                # 仅用于 OMspell：片段长度指数（spell-length exponent）\n",
    "    expcost=0.5,             # 仅用于 OMspell：片段转换成本（spell transform cost）\n",
    "    weighted=True,           # 在从数据构建 sm（如 \"TRATE\"）时考虑序列权重\n",
    "    check_max_size=True      # 针对极多序列的安全检查防止超过pandas/numpy可支持的最大索引\n",
    ")"
   ],
   "metadata": {
    "collapsed": false,
    "ExecuteTime": {
     "start_time": "2025-10-19T15:55:16.073885700Z"
    }
   },
   "id": "550238ae6f1520cb"
  },
  {
   "cell_type": "code",
   "execution_count": null,
   "outputs": [],
   "source": [
    "print(om.shape)"
   ],
   "metadata": {
    "collapsed": false,
    "ExecuteTime": {
     "start_time": "2025-10-19T15:55:16.074920200Z"
    }
   },
   "id": "22c8654d1f302bda"
  },
  {
   "cell_type": "code",
   "execution_count": null,
   "outputs": [],
   "source": [
    "# 创建一个从0到562的ID列表\n",
    "entity_ids = list(range(563))\n",
    "\n",
    "# 使用正确的entity_ids参数\n",
    "cluster = Cluster(\n",
    "    matrix=om, \n",
    "    entity_ids=entity_ids,\n",
    "    clustering_method=\"ward\"\n",
    ")"
   ],
   "metadata": {
    "collapsed": false,
    "ExecuteTime": {
     "start_time": "2025-10-19T15:55:16.075919800Z"
    }
   },
   "id": "e62799b0eb61665c"
  },
  {
   "cell_type": "code",
   "execution_count": null,
   "outputs": [],
   "source": [
    "from sequenzo.clustering.hierarchical_clustering import Cluster, ClusterQuality, ClusterResults\n",
    "\n",
    "# ---------------------\n",
    "# distance_matrix: 距离矩阵 (n x n)\n",
    "# ids: 长度为 n 的非重复 ID 列表/数组\n",
    "# 一般推荐 \"ward\"\n",
    "cluster = Cluster(\n",
    "    matrix=om, \n",
    "    entity_ids=563, \n",
    "    clustering_method=\"ward\"\n",
    ")  \n",
    "\n",
    "# 可选：画树状图（n 很大时会自动隐藏标签）\n",
    "# 新手建议先试一下，帮助你直观看到层次结构\n",
    "cluster.plot_dendrogram(\n",
    "    # 不想保存就删掉这个参数\n",
    "    save_as=\"dendrogram.png\",  \n",
    "    # 图标题\n",
    "    title=\"Dendrogram\" \n",
    ")\n",
    "\n",
    "# ---------------------\n",
    "# 用聚类质量指标（CQI）来帮助选择 k\n",
    "cluster_quality = ClusterQuality(cluster, max_clusters=20)\n",
    "cluster_quality.compute_cluster_quality_scores()\n",
    "\n",
    "# 打印CQI表格信息，包含着每个CQI指标下计算得出的最优簇数 k 是什么\n",
    "print(cluster_quality.get_cqi_table())     \n",
    "\n",
    "# 想改保存文件名也可以\n",
    "cluster_quality.plot_cqi_scores(save_as=\"quality.png\") \n",
    "\n",
    "# ---------------------\n",
    "# 导出结果\n",
    "cluster_results = ClusterResults(cluster)\n",
    "\n",
    "# 假设 CQI 图建议 k=6\n",
    "# 取出簇成员表，表中包含两列：实体 ID 与 Cluster\n",
    "members = cluster_results.get_cluster_memberships(num_clusters=6)     \n",
    "\n",
    "# 查看每个簇的样本数与占比\n",
    "distribution = cluster_results.get_cluster_distribution(num_clusters=6)   \n",
    "\n",
    "cluster_results.plot_cluster_distribution(num_clusters=6, \n",
    "                                          save_as=\"cluster_sizes.png\")"
   ],
   "metadata": {
    "collapsed": false,
    "ExecuteTime": {
     "start_time": "2025-10-19T15:55:16.076919600Z"
    }
   },
   "id": "7830e00f06a2003e"
  },
  {
   "cell_type": "code",
   "execution_count": null,
   "outputs": [],
   "source": [],
   "metadata": {
    "collapsed": false,
    "ExecuteTime": {
     "start_time": "2025-10-19T15:55:16.077920Z"
    }
   },
   "id": "ba651cc44cbf26e9"
  }
 ],
 "metadata": {
  "kernelspec": {
   "display_name": "Python 3",
   "language": "python",
   "name": "python3"
  },
  "language_info": {
   "codemirror_mode": {
    "name": "ipython",
    "version": 2
   },
   "file_extension": ".py",
   "mimetype": "text/x-python",
   "name": "python",
   "nbconvert_exporter": "python",
   "pygments_lexer": "ipython2",
   "version": "2.7.6"
  }
 },
 "nbformat": 4,
 "nbformat_minor": 5
}
