{
 "cells": [
  {
   "cell_type": "code",
   "id": "initial_id",
   "metadata": {
    "collapsed": true,
    "ExecuteTime": {
     "end_time": "2025-04-18T02:07:07.563957Z",
     "start_time": "2025-04-18T02:07:07.555905Z"
    }
   },
   "source": [
    "import pandas as pd\n",
    "from sequenzo import *\n",
    "\n",
    "df_svl_prevalence = pd.read_csv(\"svl_prevalence.csv\")\n",
    "df_incident_rate= pd.read_csv(\"incident_rate.csv\")"
   ],
   "outputs": [],
   "execution_count": 29
  },
  {
   "metadata": {
    "ExecuteTime": {
     "end_time": "2025-04-18T02:49:59.395589Z",
     "start_time": "2025-04-18T02:49:59.380294Z"
    }
   },
   "cell_type": "code",
   "source": [
    "df_incident_rate\n",
    "df_svl_prevalence"
   ],
   "id": "7fde13e0c6ad23a0",
   "outputs": [
    {
     "data": {
      "text/plain": [
       "     Country     2017     2018     2019     2020     2021     2022     2023\n",
       "0     Angola   20-40%   20-40%   20-40%   20-40%   20-40%   20-40%   20-40%\n",
       "1    Bahamas    0-20%    0-20%    0-20%    0-20%    0-20%    0-20%    0-20%\n",
       "2   Barbados   40-60%   40-60%   60-80%   60-80%    0-20%    0-20%    0-20%\n",
       "3     Belize    0-20%    0-20%    0-20%    0-20%    0-20%    0-20%    0-20%\n",
       "4      Benin    0-20%    0-20%    0-20%    0-20%    0-20%   40-60%   40-60%\n",
       "..       ...      ...      ...      ...      ...      ...      ...      ...\n",
       "56    Uganda  80-100%  80-100%  80-100%  80-100%  80-100%  80-100%  80-100%\n",
       "57   Ukraine    0-20%   40-60%   60-80%   60-80%   60-80%   60-80%   60-80%\n",
       "58   Vietnam   20-40%   20-40%   40-60%   40-60%   40-60%   40-60%   40-60%\n",
       "59    Zambia   40-60%   60-80%  80-100%  80-100%  80-100%  80-100%  80-100%\n",
       "60  Zimbabwe   40-60%   40-60%   60-80%   60-80%  80-100%  80-100%  80-100%\n",
       "\n",
       "[61 rows x 8 columns]"
      ],
      "text/html": [
       "<div>\n",
       "<style scoped>\n",
       "    .dataframe tbody tr th:only-of-type {\n",
       "        vertical-align: middle;\n",
       "    }\n",
       "\n",
       "    .dataframe tbody tr th {\n",
       "        vertical-align: top;\n",
       "    }\n",
       "\n",
       "    .dataframe thead th {\n",
       "        text-align: right;\n",
       "    }\n",
       "</style>\n",
       "<table border=\"1\" class=\"dataframe\">\n",
       "  <thead>\n",
       "    <tr style=\"text-align: right;\">\n",
       "      <th></th>\n",
       "      <th>Country</th>\n",
       "      <th>2017</th>\n",
       "      <th>2018</th>\n",
       "      <th>2019</th>\n",
       "      <th>2020</th>\n",
       "      <th>2021</th>\n",
       "      <th>2022</th>\n",
       "      <th>2023</th>\n",
       "    </tr>\n",
       "  </thead>\n",
       "  <tbody>\n",
       "    <tr>\n",
       "      <th>0</th>\n",
       "      <td>Angola</td>\n",
       "      <td>20-40%</td>\n",
       "      <td>20-40%</td>\n",
       "      <td>20-40%</td>\n",
       "      <td>20-40%</td>\n",
       "      <td>20-40%</td>\n",
       "      <td>20-40%</td>\n",
       "      <td>20-40%</td>\n",
       "    </tr>\n",
       "    <tr>\n",
       "      <th>1</th>\n",
       "      <td>Bahamas</td>\n",
       "      <td>0-20%</td>\n",
       "      <td>0-20%</td>\n",
       "      <td>0-20%</td>\n",
       "      <td>0-20%</td>\n",
       "      <td>0-20%</td>\n",
       "      <td>0-20%</td>\n",
       "      <td>0-20%</td>\n",
       "    </tr>\n",
       "    <tr>\n",
       "      <th>2</th>\n",
       "      <td>Barbados</td>\n",
       "      <td>40-60%</td>\n",
       "      <td>40-60%</td>\n",
       "      <td>60-80%</td>\n",
       "      <td>60-80%</td>\n",
       "      <td>0-20%</td>\n",
       "      <td>0-20%</td>\n",
       "      <td>0-20%</td>\n",
       "    </tr>\n",
       "    <tr>\n",
       "      <th>3</th>\n",
       "      <td>Belize</td>\n",
       "      <td>0-20%</td>\n",
       "      <td>0-20%</td>\n",
       "      <td>0-20%</td>\n",
       "      <td>0-20%</td>\n",
       "      <td>0-20%</td>\n",
       "      <td>0-20%</td>\n",
       "      <td>0-20%</td>\n",
       "    </tr>\n",
       "    <tr>\n",
       "      <th>4</th>\n",
       "      <td>Benin</td>\n",
       "      <td>0-20%</td>\n",
       "      <td>0-20%</td>\n",
       "      <td>0-20%</td>\n",
       "      <td>0-20%</td>\n",
       "      <td>0-20%</td>\n",
       "      <td>40-60%</td>\n",
       "      <td>40-60%</td>\n",
       "    </tr>\n",
       "    <tr>\n",
       "      <th>...</th>\n",
       "      <td>...</td>\n",
       "      <td>...</td>\n",
       "      <td>...</td>\n",
       "      <td>...</td>\n",
       "      <td>...</td>\n",
       "      <td>...</td>\n",
       "      <td>...</td>\n",
       "      <td>...</td>\n",
       "    </tr>\n",
       "    <tr>\n",
       "      <th>56</th>\n",
       "      <td>Uganda</td>\n",
       "      <td>80-100%</td>\n",
       "      <td>80-100%</td>\n",
       "      <td>80-100%</td>\n",
       "      <td>80-100%</td>\n",
       "      <td>80-100%</td>\n",
       "      <td>80-100%</td>\n",
       "      <td>80-100%</td>\n",
       "    </tr>\n",
       "    <tr>\n",
       "      <th>57</th>\n",
       "      <td>Ukraine</td>\n",
       "      <td>0-20%</td>\n",
       "      <td>40-60%</td>\n",
       "      <td>60-80%</td>\n",
       "      <td>60-80%</td>\n",
       "      <td>60-80%</td>\n",
       "      <td>60-80%</td>\n",
       "      <td>60-80%</td>\n",
       "    </tr>\n",
       "    <tr>\n",
       "      <th>58</th>\n",
       "      <td>Vietnam</td>\n",
       "      <td>20-40%</td>\n",
       "      <td>20-40%</td>\n",
       "      <td>40-60%</td>\n",
       "      <td>40-60%</td>\n",
       "      <td>40-60%</td>\n",
       "      <td>40-60%</td>\n",
       "      <td>40-60%</td>\n",
       "    </tr>\n",
       "    <tr>\n",
       "      <th>59</th>\n",
       "      <td>Zambia</td>\n",
       "      <td>40-60%</td>\n",
       "      <td>60-80%</td>\n",
       "      <td>80-100%</td>\n",
       "      <td>80-100%</td>\n",
       "      <td>80-100%</td>\n",
       "      <td>80-100%</td>\n",
       "      <td>80-100%</td>\n",
       "    </tr>\n",
       "    <tr>\n",
       "      <th>60</th>\n",
       "      <td>Zimbabwe</td>\n",
       "      <td>40-60%</td>\n",
       "      <td>40-60%</td>\n",
       "      <td>60-80%</td>\n",
       "      <td>60-80%</td>\n",
       "      <td>80-100%</td>\n",
       "      <td>80-100%</td>\n",
       "      <td>80-100%</td>\n",
       "    </tr>\n",
       "  </tbody>\n",
       "</table>\n",
       "<p>61 rows × 8 columns</p>\n",
       "</div>"
      ]
     },
     "execution_count": 59,
     "metadata": {},
     "output_type": "execute_result"
    }
   ],
   "execution_count": 59
  },
  {
   "metadata": {
    "ExecuteTime": {
     "end_time": "2025-04-18T03:01:57.925630Z",
     "start_time": "2025-04-18T03:01:57.915373Z"
    }
   },
   "cell_type": "code",
   "source": [
    "time_cols = [\"2017\",  \"2018\",  \"2019\", \"2020\", \"2021\", \"2022\", \"2023\"]\n",
    "time_cols"
   ],
   "id": "b86d6382bcd4326f",
   "outputs": [
    {
     "data": {
      "text/plain": [
       "['2017', '2018', '2019', '2020', '2021', '2022', '2023']"
      ]
     },
     "execution_count": 62,
     "metadata": {},
     "output_type": "execute_result"
    }
   ],
   "execution_count": 62
  },
  {
   "metadata": {
    "ExecuteTime": {
     "end_time": "2025-04-18T03:01:59.787047Z",
     "start_time": "2025-04-18T03:01:59.782106Z"
    }
   },
   "cell_type": "code",
   "source": [
    "df_incident_rate.columns"
   ],
   "id": "713d1c95bf3fd239",
   "outputs": [
    {
     "data": {
      "text/plain": [
       "Index(['Country', '2016', '2017', '2018', '2019', '2020', '2021', '2022',\n",
       "       '2023'],\n",
       "      dtype='object')"
      ]
     },
     "execution_count": 63,
     "metadata": {},
     "output_type": "execute_result"
    }
   ],
   "execution_count": 63
  },
  {
   "metadata": {
    "ExecuteTime": {
     "end_time": "2025-04-18T03:02:21.297078Z",
     "start_time": "2025-04-18T03:02:21.268820Z"
    }
   },
   "cell_type": "code",
   "source": [
    "\n",
    "print(\"\\n------seq_incident------\")\n",
    "seq_incident= SequenceData(\n",
    "    data=df_incident_rate,\n",
    "    time_type='year',\n",
    "    time = [ '2017', '2018', '2019', '2020', '2021', '2022', '2023'],\n",
    "    states=['0-20%', '20-40%', '40-60%', '60-80%', '80-100%'],\n",
    "    labels=['0-20%', '20-40%', '40-60%', '60-80%', '80-100%']\n",
    ")\n",
    "\n"
   ],
   "id": "fd0a8c7a6cdd525f",
   "outputs": [
    {
     "name": "stdout",
     "output_type": "stream",
     "text": [
      "\n",
      "------seq_incident------\n",
      "\n",
      "[>] SequenceData initialized successfully! Here's a summary:\n",
      "[>] Number of sequences: 61\n",
      "[>] Min/Max sequence length: 7 / 7\n",
      "[>] Alphabet: ['0-20%', '20-40%', '40-60%', '60-80%', '80-100%']\n"
     ]
    }
   ],
   "execution_count": 67
  },
  {
   "metadata": {
    "ExecuteTime": {
     "end_time": "2025-04-18T03:02:22.971721Z",
     "start_time": "2025-04-18T03:02:22.964580Z"
    }
   },
   "cell_type": "code",
   "source": [
    "print(\"\\n------seq_prevalence------\")\n",
    "seq_prevalence= SequenceData(\n",
    "    data=df_svl_prevalence,\n",
    "    time_type='year',\n",
    "    time = ['2017', '2018', '2019', '2020', '2021', '2022', '2023'],\n",
    "    states=['0-20%', '20-40%', '40-60%', '60-80%', '80-100%'],\n",
    "    labels=['0-20%', '20-40%', '40-60%', '60-80%', '80-100%']\n",
    ")\n"
   ],
   "id": "119b83012733f9e0",
   "outputs": [
    {
     "name": "stdout",
     "output_type": "stream",
     "text": [
      "\n",
      "------seq_prevalence------\n",
      "\n",
      "[>] SequenceData initialized successfully! Here's a summary:\n",
      "[>] Number of sequences: 61\n",
      "[>] Min/Max sequence length: 7 / 7\n",
      "[>] Alphabet: ['0-20%', '20-40%', '40-60%', '60-80%', '80-100%']\n"
     ]
    }
   ],
   "execution_count": 68
  },
  {
   "metadata": {
    "ExecuteTime": {
     "end_time": "2025-04-18T03:02:24.568607Z",
     "start_time": "2025-04-18T03:02:24.539340Z"
    }
   },
   "cell_type": "code",
   "source": [
    "result=get_association_between_domains([seq_incident,seq_prevalence],\n",
    "                                       assoc=[\"V\",\"LRT\"],\n",
    "                                       rep_method=\"overall\",\n",
    "                                       cross_table=True,\n",
    "                                       weighted=True,\n",
    "                                       dnames=[\"incident\",\"prevalence\"],\n",
    "                                       explain=True,\n",
    "                                       )"
   ],
   "id": "106a4ff5104e9d8b",
   "outputs": [
    {
     "name": "stdout",
     "output_type": "stream",
     "text": [
      "\n",
      "📜 Full results table:\n"
     ]
    },
    {
     "data": {
      "text/plain": [
       "                        df    LRT        p(LRT)      v        p(v)        \\\n",
       "incident vs prevalence  16.0  709.537291  0.000 ***  0.668887  0.000 ***   \n",
       "\n",
       "                       strength  \n",
       "incident vs prevalence  Strong   "
      ],
      "text/html": [
       "<div>\n",
       "<style scoped>\n",
       "    .dataframe tbody tr th:only-of-type {\n",
       "        vertical-align: middle;\n",
       "    }\n",
       "\n",
       "    .dataframe tbody tr th {\n",
       "        vertical-align: top;\n",
       "    }\n",
       "\n",
       "    .dataframe thead th {\n",
       "        text-align: right;\n",
       "    }\n",
       "</style>\n",
       "<table border=\"1\" class=\"dataframe\">\n",
       "  <thead>\n",
       "    <tr style=\"text-align: left;\">\n",
       "      <th></th>\n",
       "      <th>df</th>\n",
       "      <th>LRT</th>\n",
       "      <th>p(LRT)</th>\n",
       "      <th>v</th>\n",
       "      <th>p(v)</th>\n",
       "      <th>strength</th>\n",
       "    </tr>\n",
       "  </thead>\n",
       "  <tbody>\n",
       "    <tr>\n",
       "      <th>incident vs prevalence</th>\n",
       "      <td>16.0</td>\n",
       "      <td>709.537291</td>\n",
       "      <td>0.000 ***</td>\n",
       "      <td>0.668887</td>\n",
       "      <td>0.000 ***</td>\n",
       "      <td>Strong</td>\n",
       "    </tr>\n",
       "  </tbody>\n",
       "</table>\n",
       "</div>"
      ]
     },
     "metadata": {},
     "output_type": "display_data"
    },
    {
     "name": "stdout",
     "output_type": "stream",
     "text": [
      "\n",
      "📘 Column explanations:\n",
      "  - df       : Degrees of freedom for the test (typically 1 for binary state sequences).\n",
      "  - LRT      : Likelihood Ratio Test statistic (higher = stronger dependence).\n",
      "  - p(LRT)   : p-value for LRT + significance stars: * (p<.05), ** (p<.01), *** (p<.001)\n",
      "  - v        : Cramer's V statistic (0 to 1, measures association strength).\n",
      "  - p(v)     : p-value for Cramer's V (based on chi-squared test) + significance stars: * (p<.05), ** (p<.01), *** (p<.001)\n",
      "  - strength : Qualitative label for association strength based on Cramer's V:\n",
      "               0.00–0.09 → None, 0.10–0.29 → Weak, 0.30–0.49 → Moderate, ≥0.50 → Strong\n"
     ]
    }
   ],
   "execution_count": 69
  },
  {
   "metadata": {
    "ExecuteTime": {
     "end_time": "2025-04-18T03:50:50.389651Z",
     "start_time": "2025-04-18T03:50:50.368169Z"
    }
   },
   "cell_type": "code",
   "source": [
    "df_incident_rate_copy = df_incident_rate.copy()\n",
    "df_svl_prevalence_copy = df_svl_prevalence.copy()\n",
    "\n",
    "state_mapping = {\n",
    "    '0-20%': 0,\n",
    "    '20-40%': 1,\n",
    "    '40-60%': 2,\n",
    "    '60-80%': 3,\n",
    "    '80-100%': 4\n",
    "}\n",
    "time_cols = ['2017', '2018', '2019', '2020', '2021', '2022', '2023']\n",
    "df_incident_rate_copy[time_cols] = df_incident_rate_copy[time_cols].replace(state_mapping)\n",
    "df_svl_prevalence_copy[time_cols] =df_svl_prevalence_copy[time_cols].replace(state_mapping)"
   ],
   "id": "d316ef99a5de287d",
   "outputs": [
    {
     "name": "stderr",
     "output_type": "stream",
     "text": [
      "/var/folders/d6/5jk1td2s1rsdz3jmz_t7slg80000gn/T/ipykernel_84985/963137668.py:12: FutureWarning: Downcasting behavior in `replace` is deprecated and will be removed in a future version. To retain the old behavior, explicitly call `result.infer_objects(copy=False)`. To opt-in to the future behavior, set `pd.set_option('future.no_silent_downcasting', True)`\n",
      "  df_incident_rate_copy[time_cols] = df_incident_rate_copy[time_cols].replace(state_mapping)\n",
      "/var/folders/d6/5jk1td2s1rsdz3jmz_t7slg80000gn/T/ipykernel_84985/963137668.py:13: FutureWarning: Downcasting behavior in `replace` is deprecated and will be removed in a future version. To retain the old behavior, explicitly call `result.infer_objects(copy=False)`. To opt-in to the future behavior, set `pd.set_option('future.no_silent_downcasting', True)`\n",
      "  df_svl_prevalence_copy[time_cols] =df_svl_prevalence_copy[time_cols].replace(state_mapping)\n"
     ]
    }
   ],
   "execution_count": 106
  },
  {
   "metadata": {
    "ExecuteTime": {
     "end_time": "2025-04-18T03:50:52.193391Z",
     "start_time": "2025-04-18T03:50:52.186548Z"
    }
   },
   "cell_type": "code",
   "source": [
    "df_svl_prevalence_copy.to_csv(\"svl_prevalence_copy.csv\", index=False)\n",
    "df_incident_rate_copy.to_csv(\"df_incident_rate_copy.csv\", index=False)"
   ],
   "id": "bb624528fd46f7eb",
   "outputs": [],
   "execution_count": 107
  },
  {
   "metadata": {
    "ExecuteTime": {
     "end_time": "2025-04-18T03:52:04.089258Z",
     "start_time": "2025-04-18T03:52:04.048339Z"
    }
   },
   "cell_type": "code",
   "source": [
    "csvs = [\"svl_prevalence_copy.csv\",\n",
    "        \"df_incident_rate_copy.csv\",\n",
    "       ]\n",
    "\n",
    "sequence_data=create_idcd_sequence_from_csvs(\n",
    "    csv_paths=csvs,\n",
    "    time_cols= time_cols,\n",
    "    time_type=\"year\",\n",
    "    id_col=\"Country\",\n",
    "    domain_state_labels=[\n",
    "        {'0-20%': '0-20%', '20-40%': '20-40%', '40-60%':'40-60%', '60-80%':'60-80%', '80-100%':'80-100%'},\n",
    "        {'0-20%': '0-20%', '20-40%': '20-40%', '40-60%':'40-60%', '60-80%':'60-80%', '80-100%':'80-100%'}\n",
    "    ]\n",
    ")"
   ],
   "id": "dcbcb52535cf9155",
   "outputs": [
    {
     "name": "stdout",
     "output_type": "stream",
     "text": [
      "\n",
      "[IDCD] Observed Combined States Frequency Table:\n",
      "State Label  Frequency  Proportion (%)\n",
      "  0+0   0+0         75           17.56\n",
      "  4+4   4+4         68           15.93\n",
      "  1+1   1+1         59           13.82\n",
      "  2+2   2+2         48           11.24\n",
      "  3+3   3+3         48           11.24\n",
      "  3+2   3+2         21            4.92\n",
      "  2+3   2+3         19            4.45\n",
      "  4+3   4+3         18            4.22\n",
      "  3+4   3+4         16            3.75\n",
      "  1+2   1+2         15            3.51\n",
      "  2+1   2+1         15            3.51\n",
      "  0+1   0+1         10            2.34\n",
      "  1+0   1+0          8            1.87\n",
      "  2+4   2+4          3            0.70\n",
      "  0+2   0+2          3            0.70\n",
      "  1+3   1+3          1            0.23\n",
      "\n",
      "[>] SequenceData initialized successfully! Here's a summary:\n",
      "[>] Number of sequences: 61\n",
      "[>] Min/Max sequence length: 7 / 7\n",
      "[>] Alphabet: ['0+0', '4+4', '1+1', '2+2', '3+3', '3+2', '2+3', '4+3', '3+4', '1+2', '2+1', '0+1', '1+0', '2+4', '0+2', '1+3']\n"
     ]
    }
   ],
   "execution_count": 109
  },
  {
   "metadata": {
    "ExecuteTime": {
     "end_time": "2025-04-18T03:54:39.815626Z",
     "start_time": "2025-04-18T03:54:39.488307Z"
    }
   },
   "cell_type": "code",
   "source": [
    "plot_sequence_index(sequence_data,save_as='index_plot')"
   ],
   "id": "d786a937c9a9c169",
   "outputs": [
    {
     "name": "stderr",
     "output_type": "stream",
     "text": [
      "/Users/jorgemanuelchia/PycharmProjects/sequence_analysis/.venv1/lib/python3.11/site-packages/sequenzo/visualization/utils/utils.py:179: UserWarning: FigureCanvasAgg is non-interactive, and thus cannot be shown\n",
      "  plt.show()\n"
     ]
    }
   ],
   "execution_count": 110
  },
  {
   "metadata": {
    "ExecuteTime": {
     "end_time": "2025-04-18T03:59:51.167493Z",
     "start_time": "2025-04-18T03:59:50.850300Z"
    }
   },
   "cell_type": "code",
   "source": [
    "om=get_distance_matrix(seqdata=sequence_data,\n",
    "                       method=\"OM\",\n",
    "                       sm=\"CONSTANT\",\n",
    "                       indel=1)"
   ],
   "id": "5167fc9533eba564",
   "outputs": [
    {
     "name": "stdout",
     "output_type": "stream",
     "text": [
      "[>] Processing 61 sequences with 16 unique states.\n",
      "  - Creating 17x17 substitution-cost matrix using 2 as constant value\n",
      "[>] Indel cost generated.\n",
      "\n",
      "[>] Identified 51 unique sequences.\n",
      "[>] Sequence length: min/max = 7 / 7.\n",
      "\n",
      "[>] Starting Optimal Matching(OM)...\n",
      "[>] Computing all pairwise distances...\n",
      "[>] Computed Successfully.\n"
     ]
    }
   ],
   "execution_count": 113
  },
  {
   "metadata": {
    "ExecuteTime": {
     "end_time": "2025-04-18T04:01:42.947492Z",
     "start_time": "2025-04-18T04:01:42.818279Z"
    }
   },
   "cell_type": "code",
   "source": [
    "cluster = Cluster(om, sequence_data.ids, clustering_method='ward')\n",
    "cluster.plot_dendrogram(xlabel=\"Countries\", ylabel=\"Distance\", save_as=\"Dendogram_IDCD\")"
   ],
   "id": "7559a583d06f7d3",
   "outputs": [
    {
     "name": "stdout",
     "output_type": "stream",
     "text": [
      "[>] Converting DataFrame to NumPy array...\n"
     ]
    },
    {
     "name": "stderr",
     "output_type": "stream",
     "text": [
      "/Users/jorgemanuelchia/PycharmProjects/sequence_analysis/.venv1/lib/python3.11/site-packages/sequenzo/visualization/utils/utils.py:179: UserWarning: FigureCanvasAgg is non-interactive, and thus cannot be shown\n",
      "  plt.show()\n"
     ]
    }
   ],
   "execution_count": 115
  },
  {
   "metadata": {
    "ExecuteTime": {
     "end_time": "2025-04-18T04:03:31.452186Z",
     "start_time": "2025-04-18T04:03:31.270828Z"
    }
   },
   "cell_type": "code",
   "source": [
    "cluster_results = ClusterResults(cluster)\n",
    "membership_table = cluster_results.get_cluster_memberships(num_clusters=5)\n",
    "print(membership_table)\n",
    "distribution = cluster_results.get_cluster_distribution(num_clusters=5)\n",
    "print(distribution)\n",
    "cluster_results.plot_cluster_distribution(num_clusters=6, save_as=\"distribution_idcd.png\", title=None)"
   ],
   "id": "d28f387e264cd3a9",
   "outputs": [
    {
     "name": "stdout",
     "output_type": "stream",
     "text": [
      "   Entity ID  Cluster ID\n",
      "0     Angola           5\n",
      "1    Bahamas           4\n",
      "2   Barbados           4\n",
      "3     Belize           4\n",
      "4      Benin           4\n",
      "..       ...         ...\n",
      "56    Uganda           1\n",
      "57   Ukraine           3\n",
      "58   Vietnam           2\n",
      "59    Zambia           1\n",
      "60  Zimbabwe           3\n",
      "\n",
      "[61 rows x 2 columns]\n",
      "   Cluster  Count  Percentage\n",
      "0        1     13       21.31\n",
      "1        2      6        9.84\n",
      "2        3     12       19.67\n",
      "3        4     18       29.51\n",
      "4        5     12       19.67\n"
     ]
    },
    {
     "name": "stderr",
     "output_type": "stream",
     "text": [
      "/Users/jorgemanuelchia/PycharmProjects/sequence_analysis/.venv1/lib/python3.11/site-packages/sequenzo/visualization/utils/utils.py:179: UserWarning: FigureCanvasAgg is non-interactive, and thus cannot be shown\n",
      "  plt.show()\n"
     ]
    }
   ],
   "execution_count": 117
  },
  {
   "metadata": {
    "ExecuteTime": {
     "end_time": "2025-04-18T04:03:34.689790Z",
     "start_time": "2025-04-18T04:03:33.923801Z"
    }
   },
   "cell_type": "code",
   "source": [
    "plot_sequence_index(seqdata=sequence_data,\n",
    "                    id_group_df=membership_table,\n",
    "                    categories='Cluster ID',\n",
    "                    save_as='cluster_index_plot_idcd')"
   ],
   "id": "75d763ff694cea11",
   "outputs": [
    {
     "name": "stderr",
     "output_type": "stream",
     "text": [
      "/Users/jorgemanuelchia/PycharmProjects/sequence_analysis/.venv1/lib/python3.11/site-packages/sequenzo/visualization/plot_sequence_index.py:176: UserWarning: FigureCanvasAgg is non-interactive, and thus cannot be shown\n",
      "  plt.show()\n"
     ]
    }
   ],
   "execution_count": 118
  },
  {
   "metadata": {},
   "cell_type": "code",
   "outputs": [],
   "execution_count": null,
   "source": [],
   "id": "6e178cd09f97104a"
  }
 ],
 "metadata": {
  "kernelspec": {
   "display_name": "Python 3",
   "language": "python",
   "name": "python3"
  },
  "language_info": {
   "codemirror_mode": {
    "name": "ipython",
    "version": 2
   },
   "file_extension": ".py",
   "mimetype": "text/x-python",
   "name": "python",
   "nbconvert_exporter": "python",
   "pygments_lexer": "ipython2",
   "version": "2.7.6"
  }
 },
 "nbformat": 4,
 "nbformat_minor": 5
}
