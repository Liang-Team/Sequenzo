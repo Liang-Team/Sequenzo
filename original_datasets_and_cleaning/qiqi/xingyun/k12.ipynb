{
 "cells": [
  {
   "cell_type": "code",
   "execution_count": null,
   "id": "initial_id",
   "metadata": {
    "collapsed": true
   },
   "outputs": [],
   "source": []
  },
  {
   "cell_type": "code",
   "execution_count": 1,
   "outputs": [],
   "source": [
    "import pandas as pd\n",
    "import numpy as np"
   ],
   "metadata": {
    "collapsed": false,
    "ExecuteTime": {
     "end_time": "2025-06-03T14:59:26.221743Z",
     "start_time": "2025-06-03T14:59:26.210646Z"
    }
   },
   "id": "1b45d6a5409b9399"
  },
  {
   "cell_type": "code",
   "execution_count": 2,
   "outputs": [
    {
     "data": {
      "text/plain": "      LH22_1A_19  LH22_1B_19  LH22_2A_19  LH22_2B_19  LH22_3A_19  LH22_3B_19  \\\n0            0.0         1.0         2.0        12.0         NaN         NaN   \n1            0.0         6.0         7.0         9.0        10.0        12.0   \n2            0.0         6.0         7.0         8.0         9.0        10.0   \n3            1.0         5.0         1.0         6.0         NaN         NaN   \n4            0.0         3.0         4.0         6.0         7.0         8.0   \n...          ...         ...         ...         ...         ...         ...   \n1429         1.0         6.0         NaN         3.0         3.0         7.0   \n1430         NaN         NaN         NaN         NaN         NaN         NaN   \n1431         1.0         7.0         7.0        12.0         NaN         NaN   \n1432         NaN         NaN         NaN         NaN         NaN         NaN   \n1433         1.0         7.0         8.0         9.0        10.0        12.0   \n\n      LH22_4A_19  LH22_4B_19  LH22_5A_19  LH22_5B_19  LH22_6A_19  LH22_6B_19  \\\n0            NaN         NaN         NaN         NaN         NaN         NaN   \n1            NaN         NaN         NaN         NaN         NaN         NaN   \n2           11.0        12.0         NaN         NaN         NaN         NaN   \n3            NaN         NaN         NaN         NaN         NaN         NaN   \n4            9.0        12.0         NaN         NaN         NaN         NaN   \n...          ...         ...         ...         ...         ...         ...   \n1429         1.0         2.0         1.0         4.0         NaN         NaN   \n1430         NaN         NaN         NaN         NaN         NaN         NaN   \n1431         NaN         NaN         NaN         NaN         NaN         NaN   \n1432         NaN         NaN         NaN         NaN         NaN         NaN   \n1433         NaN         NaN         NaN         NaN         NaN         NaN   \n\n      LH22_7A_19  LH22_7B_19  LH22_8A_19  LH22_8B_19  LH22_9A_19  LH22_9B_19  \\\n0            NaN         NaN         NaN         NaN         NaN         NaN   \n1            NaN         NaN         NaN         NaN         NaN         NaN   \n2            NaN         NaN         NaN         NaN         NaN         NaN   \n3            NaN         NaN         NaN         NaN         NaN         NaN   \n4            NaN         NaN         NaN         NaN         NaN         NaN   \n...          ...         ...         ...         ...         ...         ...   \n1429         NaN         NaN         NaN         NaN         NaN         NaN   \n1430         NaN         NaN         NaN         NaN         NaN         NaN   \n1431         NaN         NaN         NaN         NaN         NaN         NaN   \n1432         NaN         NaN         NaN         NaN         NaN         NaN   \n1433         NaN         NaN         NaN         NaN         NaN         NaN   \n\n      LH22_10A_19  LH22_10B_19  \n0             NaN          NaN  \n1             NaN          NaN  \n2             NaN          NaN  \n3             NaN          NaN  \n4             NaN          NaN  \n...           ...          ...  \n1429          NaN          NaN  \n1430          NaN          NaN  \n1431          NaN          NaN  \n1432          NaN          NaN  \n1433          NaN          NaN  \n\n[1434 rows x 20 columns]",
      "text/html": "<div>\n<style scoped>\n    .dataframe tbody tr th:only-of-type {\n        vertical-align: middle;\n    }\n\n    .dataframe tbody tr th {\n        vertical-align: top;\n    }\n\n    .dataframe thead th {\n        text-align: right;\n    }\n</style>\n<table border=\"1\" class=\"dataframe\">\n  <thead>\n    <tr style=\"text-align: right;\">\n      <th></th>\n      <th>LH22_1A_19</th>\n      <th>LH22_1B_19</th>\n      <th>LH22_2A_19</th>\n      <th>LH22_2B_19</th>\n      <th>LH22_3A_19</th>\n      <th>LH22_3B_19</th>\n      <th>LH22_4A_19</th>\n      <th>LH22_4B_19</th>\n      <th>LH22_5A_19</th>\n      <th>LH22_5B_19</th>\n      <th>LH22_6A_19</th>\n      <th>LH22_6B_19</th>\n      <th>LH22_7A_19</th>\n      <th>LH22_7B_19</th>\n      <th>LH22_8A_19</th>\n      <th>LH22_8B_19</th>\n      <th>LH22_9A_19</th>\n      <th>LH22_9B_19</th>\n      <th>LH22_10A_19</th>\n      <th>LH22_10B_19</th>\n    </tr>\n  </thead>\n  <tbody>\n    <tr>\n      <th>0</th>\n      <td>0.0</td>\n      <td>1.0</td>\n      <td>2.0</td>\n      <td>12.0</td>\n      <td>NaN</td>\n      <td>NaN</td>\n      <td>NaN</td>\n      <td>NaN</td>\n      <td>NaN</td>\n      <td>NaN</td>\n      <td>NaN</td>\n      <td>NaN</td>\n      <td>NaN</td>\n      <td>NaN</td>\n      <td>NaN</td>\n      <td>NaN</td>\n      <td>NaN</td>\n      <td>NaN</td>\n      <td>NaN</td>\n      <td>NaN</td>\n    </tr>\n    <tr>\n      <th>1</th>\n      <td>0.0</td>\n      <td>6.0</td>\n      <td>7.0</td>\n      <td>9.0</td>\n      <td>10.0</td>\n      <td>12.0</td>\n      <td>NaN</td>\n      <td>NaN</td>\n      <td>NaN</td>\n      <td>NaN</td>\n      <td>NaN</td>\n      <td>NaN</td>\n      <td>NaN</td>\n      <td>NaN</td>\n      <td>NaN</td>\n      <td>NaN</td>\n      <td>NaN</td>\n      <td>NaN</td>\n      <td>NaN</td>\n      <td>NaN</td>\n    </tr>\n    <tr>\n      <th>2</th>\n      <td>0.0</td>\n      <td>6.0</td>\n      <td>7.0</td>\n      <td>8.0</td>\n      <td>9.0</td>\n      <td>10.0</td>\n      <td>11.0</td>\n      <td>12.0</td>\n      <td>NaN</td>\n      <td>NaN</td>\n      <td>NaN</td>\n      <td>NaN</td>\n      <td>NaN</td>\n      <td>NaN</td>\n      <td>NaN</td>\n      <td>NaN</td>\n      <td>NaN</td>\n      <td>NaN</td>\n      <td>NaN</td>\n      <td>NaN</td>\n    </tr>\n    <tr>\n      <th>3</th>\n      <td>1.0</td>\n      <td>5.0</td>\n      <td>1.0</td>\n      <td>6.0</td>\n      <td>NaN</td>\n      <td>NaN</td>\n      <td>NaN</td>\n      <td>NaN</td>\n      <td>NaN</td>\n      <td>NaN</td>\n      <td>NaN</td>\n      <td>NaN</td>\n      <td>NaN</td>\n      <td>NaN</td>\n      <td>NaN</td>\n      <td>NaN</td>\n      <td>NaN</td>\n      <td>NaN</td>\n      <td>NaN</td>\n      <td>NaN</td>\n    </tr>\n    <tr>\n      <th>4</th>\n      <td>0.0</td>\n      <td>3.0</td>\n      <td>4.0</td>\n      <td>6.0</td>\n      <td>7.0</td>\n      <td>8.0</td>\n      <td>9.0</td>\n      <td>12.0</td>\n      <td>NaN</td>\n      <td>NaN</td>\n      <td>NaN</td>\n      <td>NaN</td>\n      <td>NaN</td>\n      <td>NaN</td>\n      <td>NaN</td>\n      <td>NaN</td>\n      <td>NaN</td>\n      <td>NaN</td>\n      <td>NaN</td>\n      <td>NaN</td>\n    </tr>\n    <tr>\n      <th>...</th>\n      <td>...</td>\n      <td>...</td>\n      <td>...</td>\n      <td>...</td>\n      <td>...</td>\n      <td>...</td>\n      <td>...</td>\n      <td>...</td>\n      <td>...</td>\n      <td>...</td>\n      <td>...</td>\n      <td>...</td>\n      <td>...</td>\n      <td>...</td>\n      <td>...</td>\n      <td>...</td>\n      <td>...</td>\n      <td>...</td>\n      <td>...</td>\n      <td>...</td>\n    </tr>\n    <tr>\n      <th>1429</th>\n      <td>1.0</td>\n      <td>6.0</td>\n      <td>NaN</td>\n      <td>3.0</td>\n      <td>3.0</td>\n      <td>7.0</td>\n      <td>1.0</td>\n      <td>2.0</td>\n      <td>1.0</td>\n      <td>4.0</td>\n      <td>NaN</td>\n      <td>NaN</td>\n      <td>NaN</td>\n      <td>NaN</td>\n      <td>NaN</td>\n      <td>NaN</td>\n      <td>NaN</td>\n      <td>NaN</td>\n      <td>NaN</td>\n      <td>NaN</td>\n    </tr>\n    <tr>\n      <th>1430</th>\n      <td>NaN</td>\n      <td>NaN</td>\n      <td>NaN</td>\n      <td>NaN</td>\n      <td>NaN</td>\n      <td>NaN</td>\n      <td>NaN</td>\n      <td>NaN</td>\n      <td>NaN</td>\n      <td>NaN</td>\n      <td>NaN</td>\n      <td>NaN</td>\n      <td>NaN</td>\n      <td>NaN</td>\n      <td>NaN</td>\n      <td>NaN</td>\n      <td>NaN</td>\n      <td>NaN</td>\n      <td>NaN</td>\n      <td>NaN</td>\n    </tr>\n    <tr>\n      <th>1431</th>\n      <td>1.0</td>\n      <td>7.0</td>\n      <td>7.0</td>\n      <td>12.0</td>\n      <td>NaN</td>\n      <td>NaN</td>\n      <td>NaN</td>\n      <td>NaN</td>\n      <td>NaN</td>\n      <td>NaN</td>\n      <td>NaN</td>\n      <td>NaN</td>\n      <td>NaN</td>\n      <td>NaN</td>\n      <td>NaN</td>\n      <td>NaN</td>\n      <td>NaN</td>\n      <td>NaN</td>\n      <td>NaN</td>\n      <td>NaN</td>\n    </tr>\n    <tr>\n      <th>1432</th>\n      <td>NaN</td>\n      <td>NaN</td>\n      <td>NaN</td>\n      <td>NaN</td>\n      <td>NaN</td>\n      <td>NaN</td>\n      <td>NaN</td>\n      <td>NaN</td>\n      <td>NaN</td>\n      <td>NaN</td>\n      <td>NaN</td>\n      <td>NaN</td>\n      <td>NaN</td>\n      <td>NaN</td>\n      <td>NaN</td>\n      <td>NaN</td>\n      <td>NaN</td>\n      <td>NaN</td>\n      <td>NaN</td>\n      <td>NaN</td>\n    </tr>\n    <tr>\n      <th>1433</th>\n      <td>1.0</td>\n      <td>7.0</td>\n      <td>8.0</td>\n      <td>9.0</td>\n      <td>10.0</td>\n      <td>12.0</td>\n      <td>NaN</td>\n      <td>NaN</td>\n      <td>NaN</td>\n      <td>NaN</td>\n      <td>NaN</td>\n      <td>NaN</td>\n      <td>NaN</td>\n      <td>NaN</td>\n      <td>NaN</td>\n      <td>NaN</td>\n      <td>NaN</td>\n      <td>NaN</td>\n      <td>NaN</td>\n      <td>NaN</td>\n    </tr>\n  </tbody>\n</table>\n<p>1434 rows × 20 columns</p>\n</div>"
     },
     "execution_count": 2,
     "metadata": {},
     "output_type": "execute_result"
    }
   ],
   "source": [
    "df = pd.read_csv('k12grades_data.csv')\n",
    "df"
   ],
   "metadata": {
    "collapsed": false,
    "ExecuteTime": {
     "end_time": "2025-06-03T14:59:26.268047Z",
     "start_time": "2025-06-03T14:59:26.220214Z"
    }
   },
   "id": "a394f9566784a79d"
  },
  {
   "cell_type": "markdown",
   "source": [
    "## Use loops to create a new dataframe for social sequence analysis\n",
    "\n",
    "一共13个年级，0是幼儿园，1-12是12个年级\n",
    "\n",
    "1A: 这个人在这个学校开始的年级，1B是结束的年级，一共允许一个学生在k12阶段里面呆了最多10个学校（在问卷里是这样，但是在现实情况不知道）\n",
    "\n",
    "LH22_1A_19 -> 第一个学校开始的年级\n",
    "\n",
    "\n",
    "对于学生0而言的年级：0, 1, 2, 3, 4, 5, 6, 7, 8, 9, 10, 11, 12\n",
    "学生在第几个学校：1, 1, 2, 2, 2, 2, 2, 2, 2, 2, 2, 2, 2\n",
    "学生1: 1, 1, 1, 1, 1, 1, 2, 2, 2, 3, 3, 3\n",
    "\n",
    "现在又改了一下：educational age\n",
    "\n",
    "1, 2, 3, 4, 5, 6, 7, 8, 9, 10, 11, 12, 13\n"
   ],
   "metadata": {
    "collapsed": false
   },
   "id": "b5fc7622537250bd"
  },
  {
   "cell_type": "code",
   "execution_count": null,
   "outputs": [],
   "source": [
    "sequence_dataframe = pd.DataFrame()\n",
    "\n",
    "\n",
    "for _, row in df.iterrows():\n",
    "    student_list_values = []\n",
    "    first_school_start_grade = row['LH22_1A_19'] # 0\n",
    "    first_school_end_grade = row['LH22_1B_19'] # 0\n",
    "    \n",
    "    # 计算这个学生在一个学校里面呆了多久，估计都要写个小函数\n",
    "    \n",
    "    if first_school_end_grade - first_school_start_grade == 0:\n",
    "        # 说明这个人只在这个学校呆了1年\n",
    "        student_list_values.append(1)\n",
    "        \n",
    "    if first_school_end_grade - first_school_start_grade != 0:\n",
    "        # 不止呆了一年\n",
    "        # 有可能呆了很多年，不管呆x年，列表之后的x个元素都是这个学校\n",
    "        # for i in range(x):\n",
    "            # student_list_values.append(2)\n",
    "    \n",
    "    # ....\n",
    "    # student_list_values = [1, 1, 2, 2, ..., 2]\n",
    "    \n",
    "    # 把这个学生的 student_list_values 插到新的 dataframe 中，sequence_dataframe\n",
    "    # 当然，还得加上 student id 在前面\n",
    "    "
   ],
   "metadata": {
    "collapsed": false
   },
   "id": "53dfd67f3b57e09c"
  }
 ],
 "metadata": {
  "kernelspec": {
   "display_name": "Python 3",
   "language": "python",
   "name": "python3"
  },
  "language_info": {
   "codemirror_mode": {
    "name": "ipython",
    "version": 2
   },
   "file_extension": ".py",
   "mimetype": "text/x-python",
   "name": "python",
   "nbconvert_exporter": "python",
   "pygments_lexer": "ipython2",
   "version": "2.7.6"
  }
 },
 "nbformat": 4,
 "nbformat_minor": 5
}
