{
 "cells": [
  {
   "cell_type": "code",
   "execution_count": 3,
   "id": "ede2df7e",
   "metadata": {},
   "outputs": [],
   "source": [
    "from sequenzo import *\n",
    "import pandas as pd"
   ]
  },
  {
   "cell_type": "markdown",
   "id": "a6ecb531",
   "metadata": {},
   "source": [
    "## "
   ]
  },
  {
   "cell_type": "code",
   "execution_count": null,
   "id": "5073bf53",
   "metadata": {},
   "outputs": [
    {
     "ename": "NameError",
     "evalue": "name 'pd' is not defined",
     "output_type": "error",
     "traceback": [
      "\u001b[31m---------------------------------------------------------------------------\u001b[39m",
      "\u001b[31mNameError\u001b[39m                                 Traceback (most recent call last)",
      "\u001b[36mCell\u001b[39m\u001b[36m \u001b[39m\u001b[32mIn[1]\u001b[39m\u001b[32m, line 12\u001b[39m\n\u001b[32m      6\u001b[39m     \u001b[38;5;28;01mreturn\u001b[39;00m \u001b[38;5;28msorted\u001b[39m(\u001b[38;5;28mset\u001b[39m(s \u001b[38;5;28;01mfor\u001b[39;00m seq \u001b[38;5;129;01min\u001b[39;00m sequences \u001b[38;5;28;01mfor\u001b[39;00m s \u001b[38;5;129;01min\u001b[39;00m seq))\n\u001b[32m      8\u001b[39m \u001b[38;5;66;03m# ------------------------\u001b[39;00m\n\u001b[32m      9\u001b[39m \u001b[38;5;66;03m# Step 1: 读取和准备数据\u001b[39;00m\n\u001b[32m     10\u001b[39m \u001b[38;5;66;03m# ------------------------\u001b[39;00m\n\u001b[32m---> \u001b[39m\u001b[32m12\u001b[39m df = \u001b[43mpd\u001b[49m.read_csv(\u001b[33m\"\u001b[39m\u001b[33m/Users/lei/Documents/Sequenzo_all_folders/sequenzo_local/test_data/real_data_my_paper/detailed_sequence_10_work_years_df.csv\u001b[39m\u001b[33m\"\u001b[39m)\n\u001b[32m     14\u001b[39m time_cols = [\u001b[33mf\u001b[39m\u001b[33m\"\u001b[39m\u001b[33mC\u001b[39m\u001b[38;5;132;01m{\u001b[39;00mi\u001b[38;5;132;01m}\u001b[39;00m\u001b[33m\"\u001b[39m \u001b[38;5;28;01mfor\u001b[39;00m i \u001b[38;5;129;01min\u001b[39;00m \u001b[38;5;28mrange\u001b[39m(\u001b[32m1\u001b[39m, \u001b[32m11\u001b[39m)]  \u001b[38;5;66;03m# C1~C10\u001b[39;00m\n\u001b[32m     16\u001b[39m \u001b[38;5;66;03m# 假设 'country' 是一列，值为 'India' 或 'US'\u001b[39;00m\n",
      "\u001b[31mNameError\u001b[39m: name 'pd' is not defined"
     ]
    }
   ],
   "source": [
    "# ------------------------\n",
    "# Step 0: 定义提取工具函数\n",
    "# ------------------------\n",
    "\n",
    "def extract_state_space(sequences):\n",
    "    return sorted(set(s for seq in sequences for s in seq))\n",
    "\n",
    "# ------------------------\n",
    "# Step 1: 读取和准备数据\n",
    "# ------------------------\n",
    "\n",
    "df = pd.read_csv(\"/Users/lei/Documents/Sequenzo_all_folders/sequenzo_local/test_data/real_data_my_paper/detailed_sequence_10_work_years_df.csv\")\n",
    "\n",
    "time_cols = [f\"C{i}\" for i in range(1, 11)]  # C1~C10\n",
    "\n",
    "# 假设 'country' 是一列，值为 'India' 或 'US'\n",
    "india_df = df[df[\"country\"] == \"india\"].copy()\n",
    "us_df = df[df[\"country\"] == \"us\"].copy()\n",
    "\n",
    "T = len(time_cols)  # 一般是固定 10\n",
    "\n",
    "# 提取 sequence 列\n",
    "india_sequences = extract_sequences(india_df, time_cols)\n",
    "us_sequences = extract_sequences(us_df, time_cols)\n",
    "\n",
    "india_states = extract_state_space(india_sequences)\n",
    "us_states = extract_state_space(us_sequences)\n",
    "\n",
    "# ------------------------\n",
    "# Step 2: 构建前缀树\n",
    "# ------------------------\n",
    "\n",
    "india_tree = build_prefix_tree(india_sequences)\n",
    "us_tree = build_prefix_tree(us_sequences)\n",
    "\n",
    "# 为每个国家分别建模\n",
    "india_model = IndividualDivergence(india_sequences)\n",
    "us_model = IndividualDivergence(us_sequences)"
   ]
  },
  {
   "cell_type": "code",
   "execution_count": null,
   "id": "65a150df",
   "metadata": {},
   "outputs": [],
   "source": []
  }
 ],
 "metadata": {
  "kernelspec": {
   "display_name": "venv",
   "language": "python",
   "name": "python3"
  },
  "language_info": {
   "codemirror_mode": {
    "name": "ipython",
    "version": 3
   },
   "file_extension": ".py",
   "mimetype": "text/x-python",
   "name": "python",
   "nbconvert_exporter": "python",
   "pygments_lexer": "ipython3",
   "version": "3.11.6"
  }
 },
 "nbformat": 4,
 "nbformat_minor": 5
}
