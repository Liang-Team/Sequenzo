{
 "cells": [
  {
   "cell_type": "markdown",
   "id": "46f0df87",
   "metadata": {},
   "source": [
    "## 250810 Convergence"
   ]
  },
  {
   "cell_type": "code",
   "execution_count": null,
   "id": "26ad18db",
   "metadata": {},
   "outputs": [],
   "source": [
    "import pandas as pd\n",
    "from sequenzo import *"
   ]
  },
  {
   "cell_type": "code",
   "execution_count": null,
   "id": "3203e795",
   "metadata": {},
   "outputs": [],
   "source": [
    "# ------------------------\n",
    "# Step 0: 定义提取工具函数\n",
    "# ------------------------\n",
    "\n",
    "def extract_state_space(sequences):\n",
    "    return sorted(set(s for seq in sequences for s in seq))\n",
    "\n",
    "# ------------------------\n",
    "# Step 1: 读取和准备数据\n",
    "# ------------------------\n",
    "\n",
    "df = pd.read_csv(\"/Users/lei/Documents/Sequenzo_all_folders/sequenzo_local/test_data/real_data_my_paper/detailed_sequence_10_work_years_df.csv\")\n",
    "\n",
    "time_cols = [f\"C{i}\" for i in range(1, 11)]  # C1~C10\n",
    "\n",
    "# 假设 'country' 是一列，值为 'India' 或 'US'\n",
    "india_df = df[df[\"country\"] == \"india\"].copy()\n",
    "us_df = df[df[\"country\"] == \"us\"].copy()\n",
    "\n",
    "T = len(time_cols)  # 一般是固定 10\n",
    "\n",
    "# 提取 sequence 列\n",
    "india_sequences = extract_sequences(india_df, time_cols)\n",
    "us_sequences = extract_sequences(us_df, time_cols)\n",
    "\n",
    "india_states = extract_state_space(india_sequences)\n",
    "us_states = extract_state_space(us_sequences)\n",
    "\n",
    "# ------------------------\n",
    "# Step 2: 构建前缀树\n",
    "# ------------------------\n",
    "\n",
    "india_tree = build_suffix_tree(india_sequences)\n",
    "us_tree = build_suffix_tree(us_sequences)\n",
    "\n",
    "# 为每个国家分别建模\n",
    "india_model = IndividualConvergence(india_sequences)\n",
    "us_model = IndividualConvergence(us_sequences)"
   ]
  },
  {
   "cell_type": "code",
   "execution_count": null,
   "id": "dd067b00",
   "metadata": {},
   "outputs": [],
   "source": []
  },
  {
   "cell_type": "code",
   "execution_count": null,
   "id": "e4887bb6",
   "metadata": {},
   "outputs": [],
   "source": []
  },
  {
   "cell_type": "code",
   "execution_count": null,
   "id": "91e33f4d",
   "metadata": {},
   "outputs": [],
   "source": []
  }
 ],
 "metadata": {
  "kernelspec": {
   "display_name": "venv",
   "language": "python",
   "name": "python3"
  },
  "language_info": {
   "name": "python",
   "version": "3.11.6"
  }
 },
 "nbformat": 4,
 "nbformat_minor": 5
}
