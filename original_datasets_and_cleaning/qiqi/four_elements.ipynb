{
 "cells": [
  {
   "cell_type": "code",
   "execution_count": 1,
   "id": "initial_id",
   "metadata": {
    "ExecuteTime": {
     "end_time": "2025-09-17T16:31:10.337227Z",
     "start_time": "2025-09-17T16:31:07.139538Z"
    },
    "collapsed": true
   },
   "outputs": [
    {
     "ename": "ModuleNotFoundError",
     "evalue": "No module named 'sequenzo'",
     "output_type": "error",
     "traceback": [
      "\u001b[0;31m---------------------------------------------------------------------------\u001b[0m",
      "\u001b[0;31mModuleNotFoundError\u001b[0m                       Traceback (most recent call last)",
      "Cell \u001b[0;32mIn[1], line 3\u001b[0m\n\u001b[1;32m      1\u001b[0m \u001b[38;5;66;03m# 1. Get a rough idea of the data\u001b[39;00m\n\u001b[1;32m      2\u001b[0m \u001b[38;5;66;03m# Import necessary libraries\u001b[39;00m\n\u001b[0;32m----> 3\u001b[0m \u001b[38;5;28;01mfrom\u001b[39;00m \u001b[38;5;21;01msequenzo\u001b[39;00m \u001b[38;5;28;01mimport\u001b[39;00m \u001b[38;5;241m*\u001b[39m  \u001b[38;5;66;03m# Sequenzo package\u001b[39;00m\n\u001b[1;32m      4\u001b[0m \u001b[38;5;28;01mimport\u001b[39;00m \u001b[38;5;21;01mpandas\u001b[39;00m \u001b[38;5;28;01mas\u001b[39;00m \u001b[38;5;21;01mpd\u001b[39;00m     \u001b[38;5;66;03m# Data manipulation\u001b[39;00m\n\u001b[1;32m      5\u001b[0m \u001b[38;5;28;01mimport\u001b[39;00m \u001b[38;5;21;01mmatplotlib\u001b[39;00m\u001b[38;5;21;01m.\u001b[39;00m\u001b[38;5;21;01mpyplot\u001b[39;00m \u001b[38;5;28;01mas\u001b[39;00m \u001b[38;5;21;01mplt\u001b[39;00m\n",
      "\u001b[0;31mModuleNotFoundError\u001b[0m: No module named 'sequenzo'"
     ]
    }
   ],
   "source": [
    "# 1. Get a rough idea of the data\n",
    "# Import necessary libraries\n",
    "from sequenzo import *  # Sequenzo package\n",
    "import pandas as pd     # Data manipulation\n",
    "import matplotlib.pyplot as plt\n",
    "from matplotlib.axes import Axes\n"
   ]
  },
  {
   "cell_type": "code",
   "execution_count": 3,
   "id": "ec8765eff61ae493",
   "metadata": {
    "ExecuteTime": {
     "end_time": "2025-09-17T11:27:04.878724Z",
     "start_time": "2025-09-17T11:27:04.730141Z"
    },
    "collapsed": false
   },
   "outputs": [
    {
     "data": {
      "text/html": [
       "<div>\n",
       "<style scoped>\n",
       "    .dataframe tbody tr th:only-of-type {\n",
       "        vertical-align: middle;\n",
       "    }\n",
       "\n",
       "    .dataframe tbody tr th {\n",
       "        vertical-align: top;\n",
       "    }\n",
       "\n",
       "    .dataframe thead th {\n",
       "        text-align: right;\n",
       "    }\n",
       "</style>\n",
       "<table border=\"1\" class=\"dataframe\">\n",
       "  <thead>\n",
       "    <tr style=\"text-align: right;\">\n",
       "      <th></th>\n",
       "      <th>PID</th>\n",
       "      <th>25m01</th>\n",
       "      <th>25m02</th>\n",
       "      <th>25m03</th>\n",
       "      <th>25m04</th>\n",
       "      <th>25m05</th>\n",
       "      <th>25m06</th>\n",
       "      <th>25m07</th>\n",
       "      <th>25m08</th>\n",
       "      <th>25m09</th>\n",
       "      <th>...</th>\n",
       "      <th>35m05</th>\n",
       "      <th>35m06</th>\n",
       "      <th>35m07</th>\n",
       "      <th>35m08</th>\n",
       "      <th>35m09</th>\n",
       "      <th>35m10</th>\n",
       "      <th>35m11</th>\n",
       "      <th>35m12</th>\n",
       "      <th>race</th>\n",
       "      <th>sex</th>\n",
       "    </tr>\n",
       "  </thead>\n",
       "  <tbody>\n",
       "    <tr>\n",
       "      <th>0</th>\n",
       "      <td>2</td>\n",
       "      <td>1.0</td>\n",
       "      <td>1.0</td>\n",
       "      <td>1.0</td>\n",
       "      <td>1.0</td>\n",
       "      <td>1.0</td>\n",
       "      <td>1.0</td>\n",
       "      <td>1.0</td>\n",
       "      <td>1.0</td>\n",
       "      <td>1.0</td>\n",
       "      <td>...</td>\n",
       "      <td>1.0</td>\n",
       "      <td>6.0</td>\n",
       "      <td>6.0</td>\n",
       "      <td>6.0</td>\n",
       "      <td>6.0</td>\n",
       "      <td>6.0</td>\n",
       "      <td>6.0</td>\n",
       "      <td>6.0</td>\n",
       "      <td>3</td>\n",
       "      <td>2</td>\n",
       "    </tr>\n",
       "    <tr>\n",
       "      <th>1</th>\n",
       "      <td>3</td>\n",
       "      <td>6.0</td>\n",
       "      <td>6.0</td>\n",
       "      <td>6.0</td>\n",
       "      <td>5.0</td>\n",
       "      <td>5.0</td>\n",
       "      <td>5.0</td>\n",
       "      <td>1.0</td>\n",
       "      <td>1.0</td>\n",
       "      <td>1.0</td>\n",
       "      <td>...</td>\n",
       "      <td>6.0</td>\n",
       "      <td>5.0</td>\n",
       "      <td>5.0</td>\n",
       "      <td>5.0</td>\n",
       "      <td>5.0</td>\n",
       "      <td>5.0</td>\n",
       "      <td>5.0</td>\n",
       "      <td>5.0</td>\n",
       "      <td>3</td>\n",
       "      <td>2</td>\n",
       "    </tr>\n",
       "    <tr>\n",
       "      <th>2</th>\n",
       "      <td>4</td>\n",
       "      <td>5.0</td>\n",
       "      <td>5.0</td>\n",
       "      <td>6.0</td>\n",
       "      <td>1.0</td>\n",
       "      <td>1.0</td>\n",
       "      <td>1.0</td>\n",
       "      <td>1.0</td>\n",
       "      <td>1.0</td>\n",
       "      <td>1.0</td>\n",
       "      <td>...</td>\n",
       "      <td>6.0</td>\n",
       "      <td>3.0</td>\n",
       "      <td>3.0</td>\n",
       "      <td>3.0</td>\n",
       "      <td>3.0</td>\n",
       "      <td>3.0</td>\n",
       "      <td>3.0</td>\n",
       "      <td>3.0</td>\n",
       "      <td>3</td>\n",
       "      <td>2</td>\n",
       "    </tr>\n",
       "    <tr>\n",
       "      <th>3</th>\n",
       "      <td>6</td>\n",
       "      <td>1.0</td>\n",
       "      <td>1.0</td>\n",
       "      <td>1.0</td>\n",
       "      <td>1.0</td>\n",
       "      <td>1.0</td>\n",
       "      <td>1.0</td>\n",
       "      <td>1.0</td>\n",
       "      <td>1.0</td>\n",
       "      <td>1.0</td>\n",
       "      <td>...</td>\n",
       "      <td>1.0</td>\n",
       "      <td>1.0</td>\n",
       "      <td>1.0</td>\n",
       "      <td>1.0</td>\n",
       "      <td>1.0</td>\n",
       "      <td>1.0</td>\n",
       "      <td>1.0</td>\n",
       "      <td>1.0</td>\n",
       "      <td>3</td>\n",
       "      <td>1</td>\n",
       "    </tr>\n",
       "    <tr>\n",
       "      <th>4</th>\n",
       "      <td>8</td>\n",
       "      <td>1.0</td>\n",
       "      <td>1.0</td>\n",
       "      <td>1.0</td>\n",
       "      <td>1.0</td>\n",
       "      <td>1.0</td>\n",
       "      <td>1.0</td>\n",
       "      <td>1.0</td>\n",
       "      <td>1.0</td>\n",
       "      <td>1.0</td>\n",
       "      <td>...</td>\n",
       "      <td>1.0</td>\n",
       "      <td>1.0</td>\n",
       "      <td>1.0</td>\n",
       "      <td>1.0</td>\n",
       "      <td>1.0</td>\n",
       "      <td>1.0</td>\n",
       "      <td>1.0</td>\n",
       "      <td>1.0</td>\n",
       "      <td>3</td>\n",
       "      <td>2</td>\n",
       "    </tr>\n",
       "    <tr>\n",
       "      <th>...</th>\n",
       "      <td>...</td>\n",
       "      <td>...</td>\n",
       "      <td>...</td>\n",
       "      <td>...</td>\n",
       "      <td>...</td>\n",
       "      <td>...</td>\n",
       "      <td>...</td>\n",
       "      <td>...</td>\n",
       "      <td>...</td>\n",
       "      <td>...</td>\n",
       "      <td>...</td>\n",
       "      <td>...</td>\n",
       "      <td>...</td>\n",
       "      <td>...</td>\n",
       "      <td>...</td>\n",
       "      <td>...</td>\n",
       "      <td>...</td>\n",
       "      <td>...</td>\n",
       "      <td>...</td>\n",
       "      <td>...</td>\n",
       "      <td>...</td>\n",
       "    </tr>\n",
       "    <tr>\n",
       "      <th>6571</th>\n",
       "      <td>12515</td>\n",
       "      <td>6.0</td>\n",
       "      <td>6.0</td>\n",
       "      <td>6.0</td>\n",
       "      <td>6.0</td>\n",
       "      <td>6.0</td>\n",
       "      <td>6.0</td>\n",
       "      <td>6.0</td>\n",
       "      <td>6.0</td>\n",
       "      <td>6.0</td>\n",
       "      <td>...</td>\n",
       "      <td>2.0</td>\n",
       "      <td>2.0</td>\n",
       "      <td>2.0</td>\n",
       "      <td>2.0</td>\n",
       "      <td>2.0</td>\n",
       "      <td>2.0</td>\n",
       "      <td>2.0</td>\n",
       "      <td>2.0</td>\n",
       "      <td>2</td>\n",
       "      <td>2</td>\n",
       "    </tr>\n",
       "    <tr>\n",
       "      <th>6572</th>\n",
       "      <td>12516</td>\n",
       "      <td>6.0</td>\n",
       "      <td>6.0</td>\n",
       "      <td>6.0</td>\n",
       "      <td>6.0</td>\n",
       "      <td>5.0</td>\n",
       "      <td>6.0</td>\n",
       "      <td>6.0</td>\n",
       "      <td>2.0</td>\n",
       "      <td>2.0</td>\n",
       "      <td>...</td>\n",
       "      <td>NaN</td>\n",
       "      <td>NaN</td>\n",
       "      <td>NaN</td>\n",
       "      <td>NaN</td>\n",
       "      <td>NaN</td>\n",
       "      <td>NaN</td>\n",
       "      <td>NaN</td>\n",
       "      <td>NaN</td>\n",
       "      <td>2</td>\n",
       "      <td>2</td>\n",
       "    </tr>\n",
       "    <tr>\n",
       "      <th>6573</th>\n",
       "      <td>12517</td>\n",
       "      <td>2.0</td>\n",
       "      <td>2.0</td>\n",
       "      <td>2.0</td>\n",
       "      <td>2.0</td>\n",
       "      <td>2.0</td>\n",
       "      <td>2.0</td>\n",
       "      <td>2.0</td>\n",
       "      <td>6.0</td>\n",
       "      <td>6.0</td>\n",
       "      <td>...</td>\n",
       "      <td>2.0</td>\n",
       "      <td>2.0</td>\n",
       "      <td>2.0</td>\n",
       "      <td>2.0</td>\n",
       "      <td>2.0</td>\n",
       "      <td>2.0</td>\n",
       "      <td>2.0</td>\n",
       "      <td>2.0</td>\n",
       "      <td>2</td>\n",
       "      <td>1</td>\n",
       "    </tr>\n",
       "    <tr>\n",
       "      <th>6574</th>\n",
       "      <td>12558</td>\n",
       "      <td>5.0</td>\n",
       "      <td>5.0</td>\n",
       "      <td>5.0</td>\n",
       "      <td>5.0</td>\n",
       "      <td>6.0</td>\n",
       "      <td>5.0</td>\n",
       "      <td>6.0</td>\n",
       "      <td>3.0</td>\n",
       "      <td>6.0</td>\n",
       "      <td>...</td>\n",
       "      <td>6.0</td>\n",
       "      <td>6.0</td>\n",
       "      <td>6.0</td>\n",
       "      <td>6.0</td>\n",
       "      <td>6.0</td>\n",
       "      <td>6.0</td>\n",
       "      <td>6.0</td>\n",
       "      <td>6.0</td>\n",
       "      <td>2</td>\n",
       "      <td>2</td>\n",
       "    </tr>\n",
       "    <tr>\n",
       "      <th>6575</th>\n",
       "      <td>12643</td>\n",
       "      <td>5.0</td>\n",
       "      <td>5.0</td>\n",
       "      <td>3.0</td>\n",
       "      <td>3.0</td>\n",
       "      <td>3.0</td>\n",
       "      <td>3.0</td>\n",
       "      <td>3.0</td>\n",
       "      <td>3.0</td>\n",
       "      <td>3.0</td>\n",
       "      <td>...</td>\n",
       "      <td>NaN</td>\n",
       "      <td>NaN</td>\n",
       "      <td>NaN</td>\n",
       "      <td>NaN</td>\n",
       "      <td>NaN</td>\n",
       "      <td>NaN</td>\n",
       "      <td>NaN</td>\n",
       "      <td>NaN</td>\n",
       "      <td>2</td>\n",
       "      <td>1</td>\n",
       "    </tr>\n",
       "  </tbody>\n",
       "</table>\n",
       "<p>6576 rows × 135 columns</p>\n",
       "</div>"
      ],
      "text/plain": [
       "        PID  25m01  25m02  25m03  25m04  25m05  25m06  25m07  25m08  25m09  \\\n",
       "0         2    1.0    1.0    1.0    1.0    1.0    1.0    1.0    1.0    1.0   \n",
       "1         3    6.0    6.0    6.0    5.0    5.0    5.0    1.0    1.0    1.0   \n",
       "2         4    5.0    5.0    6.0    1.0    1.0    1.0    1.0    1.0    1.0   \n",
       "3         6    1.0    1.0    1.0    1.0    1.0    1.0    1.0    1.0    1.0   \n",
       "4         8    1.0    1.0    1.0    1.0    1.0    1.0    1.0    1.0    1.0   \n",
       "...     ...    ...    ...    ...    ...    ...    ...    ...    ...    ...   \n",
       "6571  12515    6.0    6.0    6.0    6.0    6.0    6.0    6.0    6.0    6.0   \n",
       "6572  12516    6.0    6.0    6.0    6.0    5.0    6.0    6.0    2.0    2.0   \n",
       "6573  12517    2.0    2.0    2.0    2.0    2.0    2.0    2.0    6.0    6.0   \n",
       "6574  12558    5.0    5.0    5.0    5.0    6.0    5.0    6.0    3.0    6.0   \n",
       "6575  12643    5.0    5.0    3.0    3.0    3.0    3.0    3.0    3.0    3.0   \n",
       "\n",
       "      ...  35m05  35m06  35m07  35m08  35m09  35m10  35m11  35m12  race  sex  \n",
       "0     ...    1.0    6.0    6.0    6.0    6.0    6.0    6.0    6.0     3    2  \n",
       "1     ...    6.0    5.0    5.0    5.0    5.0    5.0    5.0    5.0     3    2  \n",
       "2     ...    6.0    3.0    3.0    3.0    3.0    3.0    3.0    3.0     3    2  \n",
       "3     ...    1.0    1.0    1.0    1.0    1.0    1.0    1.0    1.0     3    1  \n",
       "4     ...    1.0    1.0    1.0    1.0    1.0    1.0    1.0    1.0     3    2  \n",
       "...   ...    ...    ...    ...    ...    ...    ...    ...    ...   ...  ...  \n",
       "6571  ...    2.0    2.0    2.0    2.0    2.0    2.0    2.0    2.0     2    2  \n",
       "6572  ...    NaN    NaN    NaN    NaN    NaN    NaN    NaN    NaN     2    2  \n",
       "6573  ...    2.0    2.0    2.0    2.0    2.0    2.0    2.0    2.0     2    1  \n",
       "6574  ...    6.0    6.0    6.0    6.0    6.0    6.0    6.0    6.0     2    2  \n",
       "6575  ...    NaN    NaN    NaN    NaN    NaN    NaN    NaN    NaN     2    1  \n",
       "\n",
       "[6576 rows x 135 columns]"
      ]
     },
     "execution_count": 3,
     "metadata": {},
     "output_type": "execute_result"
    }
   ],
   "source": [
    "# Import pandas as pd\n",
    "df = pd.read_csv('/Users/lei/Documents/sequenzo_all_folders/sequence_data_sources/sohee/sequence_data.csv')\n",
    "df"
   ]
  },
  {
   "cell_type": "code",
   "execution_count": 4,
   "id": "e056d387344dcde6",
   "metadata": {
    "ExecuteTime": {
     "end_time": "2025-09-17T11:27:15.984738Z",
     "start_time": "2025-09-17T11:27:14.904499Z"
    },
    "collapsed": false
   },
   "outputs": [
    {
     "name": "stdout",
     "output_type": "stream",
     "text": [
      "[!] Detected missing values (empty cells) in the sequence data.\n",
      "    → Automatically added np.nan to `states` and `labels` for compatibility.\n",
      "    However, it's strongly recommended to manually include it when defining `states` and `labels`.\n",
      "    For example:\n",
      "\n",
      "        states = [At Home, Left Home, np.nan]\n",
      "        labels = [At Home, Left Home, Missing]\n",
      "\n",
      "    This ensures consistent color mapping and avoids unexpected visualization errors.\n",
      "\n",
      "[>] SequenceData initialized successfully! Here's a summary:\n",
      "[>] Number of sequences: 6576\n",
      "[>] Number of time points: 120\n",
      "[>] Min/Max sequence length: 15 / 120\n",
      "[>] There are 4354 missing values across 472 sequences.\n",
      "    First few missing sequence IDs: [11, 33, 82, 95, 141, 144, 150, 156, 229, 253] ...\n",
      "[>] Top sequences with the most missing time points:\n",
      "    (Each row shows a sequence ID and its number of missing values)\n",
      "\n",
      "             Missing Count\n",
      "Sequence ID               \n",
      "4415                   105\n",
      "7574                    69\n",
      "3449                    60\n",
      "8232                    56\n",
      "6099                    55\n",
      "[>] States: [1.0, 2.0, 3.0, 4.0, 5.0, 6.0, nan]\n",
      "[>] Labels: ['FT+WC', 'FT+BC', 'PT+WC', 'PT+BC', 'U', 'OLF', 'Missing']\n"
     ]
    },
    {
     "data": {
      "text/plain": [
       "SequenceData(6576 sequences, States: [1.0, 2.0, 3.0, 4.0, 5.0, 6.0, nan])"
      ]
     },
     "execution_count": 4,
     "metadata": {},
     "output_type": "execute_result"
    }
   ],
   "source": [
    "time_list = list(df.columns)[1:121]\n",
    "states = [1.0,2.0,3.0,4.0,5.0,6.0]\n",
    "# states = ['FT+WC', 'FT+BC', 'PT+WC','PT+BC', 'U', 'OLF']\n",
    "labels = ['FT+WC', 'FT+BC', 'PT+WC','PT+BC', 'U', 'OLF']\n",
    "sequence_data = SequenceData(df, \n",
    "                             time=time_list, \n",
    "                             time_type = \"age\", \n",
    "                             states=states, \n",
    "                             labels = labels,\n",
    "                             id_col = 'PID'\n",
    "                             )\n",
    "\n",
    "sequence_data\n"
   ]
  },
  {
   "cell_type": "code",
   "execution_count": 5,
   "id": "28853f92413cb57f",
   "metadata": {
    "ExecuteTime": {
     "end_time": "2025-09-17T11:27:23.136884Z",
     "start_time": "2025-09-17T11:27:23.106683Z"
    },
    "collapsed": false
   },
   "outputs": [
    {
     "data": {
      "text/plain": [
       "{'n_sequences': 6576,\n",
       " 'n_unique': 5415,\n",
       " 'uniqueness_rate': 0.8234489051094891,\n",
       " 'counts': pattern_id\n",
       " 0       645\n",
       " 1707    302\n",
       " 5386     96\n",
       " 3672      6\n",
       " 3651      6\n",
       "        ... \n",
       " 1833      1\n",
       " 1832      1\n",
       " 1831      1\n",
       " 1830      1\n",
       " 5414      1\n",
       " Length: 5415, dtype: int64,\n",
       " 'examples':    pattern_id  freq                                            example\n",
       " 0           0   645  [1, 1, 1, 1, 1, 1, 1, 1, 1, 1, 1, 1, 1, 1, 1, ...\n",
       " 1        1707   302  [2, 2, 2, 2, 2, 2, 2, 2, 2, 2, 2, 2, 2, 2, 2, ...\n",
       " 2        5386    96  [6, 6, 6, 6, 6, 6, 6, 6, 6, 6, 6, 6, 6, 6, 6, ...\n",
       " 3        3672     6  [5, 2, 2, 2, 2, 2, 2, 2, 2, 2, 2, 2, 2, 2, 2, ...\n",
       " 4        3651     6  [5, 1, 1, 1, 1, 1, 1, 1, 1, 1, 1, 1, 1, 1, 1, ...\n",
       " 5         607     5  [1, 1, 1, 1, 1, 1, 1, 1, 1, 1, 1, 1, 1, 1, 1, ...\n",
       " 6        3076     4  [3, 3, 3, 3, 1, 1, 1, 1, 1, 1, 1, 1, 1, 1, 1, ...\n",
       " 7        3719     4  [5, 5, 1, 1, 1, 1, 1, 1, 1, 1, 1, 1, 1, 1, 1, ...\n",
       " 8        4136     4  [6, 1, 1, 1, 1, 1, 1, 1, 1, 1, 1, 1, 1, 1, 1, ...\n",
       " 9        2974     4  [3, 1, 1, 1, 1, 1, 1, 1, 1, 1, 1, 1, 1, 1, 1, ...}"
      ]
     },
     "execution_count": 5,
     "metadata": {},
     "output_type": "execute_result"
    }
   ],
   "source": [
    "sequence_data.uniqueness_stats()"
   ]
  },
  {
   "cell_type": "code",
   "execution_count": 9,
   "id": "a4ddd47077688fd4",
   "metadata": {
    "ExecuteTime": {
     "end_time": "2025-09-17T11:34:21.967809Z",
     "start_time": "2025-09-17T11:34:21.895652Z"
    },
    "collapsed": false
   },
   "outputs": [
    {
     "name": "stdout",
     "output_type": "stream",
     "text": [
      "\n",
      "[>] SequenceData initialized successfully! Here's a summary:\n",
      "[>] Number of sequences: 549\n",
      "[>] Number of time points: 90\n",
      "[>] Min/Max sequence length: 90 / 90\n",
      "[>] States: ['HK', 'QA', 'KW', 'LB', 'SA', 'SG', 'AE', 'MY', 'TW', 'HN', 'OT']\n",
      "[>] Labels: ['HK', 'QA', 'KW', 'LB', 'SA', 'SG', 'AE', 'MY', 'TW', 'HN', 'OT']\n"
     ]
    },
    {
     "data": {
      "text/plain": [
       "{'n_sequences': 549,\n",
       " 'n_unique': 137,\n",
       " 'uniqueness_rate': 0.2495446265938069,\n",
       " 'counts': pattern_id\n",
       " 129    374\n",
       " 0       10\n",
       " 8        4\n",
       " 14       4\n",
       " 98       3\n",
       "       ... \n",
       " 43       1\n",
       " 42       1\n",
       " 40       1\n",
       " 39       1\n",
       " 136      1\n",
       " Length: 137, dtype: int64,\n",
       " 'examples':    pattern_id  freq                                            example\n",
       " 0         129   374  [10, 10, 10, 10, 10, 10, 10, 10, 10, 10, 10, 1...\n",
       " 1           0    10  [1, 1, 1, 1, 1, 1, 1, 1, 1, 1, 1, 1, 1, 1, 1, ...\n",
       " 2           8     4  [6, 6, 6, 6, 6, 6, 6, 6, 6, 6, 6, 6, 6, 6, 6, ...\n",
       " 3          14     4  [8, 8, 8, 8, 8, 8, 8, 8, 8, 8, 8, 8, 8, 8, 8, ...\n",
       " 4          98     3  [10, 10, 10, 10, 10, 10, 10, 10, 10, 10, 10, 1...\n",
       " 5          97     3  [10, 10, 10, 10, 10, 10, 10, 10, 10, 10, 10, 1...\n",
       " 6         105     3  [10, 10, 10, 10, 10, 10, 10, 10, 10, 10, 10, 1...\n",
       " 7         125     3  [10, 10, 10, 10, 10, 10, 10, 10, 10, 10, 10, 1...\n",
       " 8          41     2  [10, 10, 10, 10, 10, 10, 10, 10, 10, 10, 10, 1...\n",
       " 9         104     2  [10, 10, 10, 10, 10, 10, 10, 10, 10, 10, 10, 1...}"
      ]
     },
     "execution_count": 9,
     "metadata": {},
     "output_type": "execute_result"
    }
   ],
   "source": [
    "hk_df = pd.read_csv('/Users/lei/Documents/Sequenzo_all_folders/sequenzo_local/code/qiqi_test/qianyi/hk_seq.csv')\n",
    "\n",
    "hk_df_with_ids = assign_unique_ids(\n",
    "   hk_df,\n",
    "   id_col_name=\"id\"  # optional, default = \"Entity ID\"\n",
    ")\n",
    "\n",
    "# Create a SequenceData object\n",
    "\n",
    "# Define the time-span variable\n",
    "time_list = list(hk_df_with_ids.columns)[91:]\n",
    "\n",
    "states = ['HK', 'QA', 'KW', 'LB', 'SA', 'SG', 'AE', 'MY', 'TW', 'HN', 'OT']\n",
    "\n",
    "# TODO: write a try and error: if no such a parameter, then ask to pass the right ones\n",
    "# sequence_data = SequenceData(df, time=time, time_type=\"year\", id_col=\"country\", ids=df['country'].values, states=states)\n",
    "\n",
    "sequence_data = SequenceData(hk_df_with_ids, time=time_list, time_type=\"age\", id_col=\"id\", states=states)\n",
    "\n",
    "sequence_data.uniqueness_stats()"
   ]
  },
  {
   "cell_type": "code",
   "execution_count": 2,
   "id": "af71fc4817c3a3f4",
   "metadata": {
    "ExecuteTime": {
     "end_time": "2025-09-17T16:31:16.562073Z",
     "start_time": "2025-09-17T16:31:16.535910Z"
    },
    "collapsed": false
   },
   "outputs": [
    {
     "data": {
      "text/html": [
       "<div>\n",
       "<style scoped>\n",
       "    .dataframe tbody tr th:only-of-type {\n",
       "        vertical-align: middle;\n",
       "    }\n",
       "\n",
       "    .dataframe tbody tr th {\n",
       "        vertical-align: top;\n",
       "    }\n",
       "\n",
       "    .dataframe thead th {\n",
       "        text-align: right;\n",
       "    }\n",
       "</style>\n",
       "<table border=\"1\" class=\"dataframe\">\n",
       "  <thead>\n",
       "    <tr style=\"text-align: right;\">\n",
       "      <th></th>\n",
       "      <th>ID</th>\n",
       "      <th>15</th>\n",
       "      <th>16</th>\n",
       "      <th>17</th>\n",
       "      <th>18</th>\n",
       "      <th>19</th>\n",
       "      <th>20</th>\n",
       "      <th>21</th>\n",
       "      <th>22</th>\n",
       "      <th>23</th>\n",
       "      <th>...</th>\n",
       "      <th>26</th>\n",
       "      <th>27</th>\n",
       "      <th>28</th>\n",
       "      <th>29</th>\n",
       "      <th>30</th>\n",
       "      <th>31</th>\n",
       "      <th>32</th>\n",
       "      <th>33</th>\n",
       "      <th>34</th>\n",
       "      <th>35</th>\n",
       "    </tr>\n",
       "  </thead>\n",
       "  <tbody>\n",
       "    <tr>\n",
       "      <th>0</th>\n",
       "      <td>1</td>\n",
       "      <td>1</td>\n",
       "      <td>1</td>\n",
       "      <td>1</td>\n",
       "      <td>1</td>\n",
       "      <td>1</td>\n",
       "      <td>1</td>\n",
       "      <td>2</td>\n",
       "      <td>2</td>\n",
       "      <td>2</td>\n",
       "      <td>...</td>\n",
       "      <td>3</td>\n",
       "      <td>3</td>\n",
       "      <td>3</td>\n",
       "      <td>3</td>\n",
       "      <td>3</td>\n",
       "      <td>3</td>\n",
       "      <td>3</td>\n",
       "      <td>3</td>\n",
       "      <td>3</td>\n",
       "      <td>3</td>\n",
       "    </tr>\n",
       "    <tr>\n",
       "      <th>1</th>\n",
       "      <td>2</td>\n",
       "      <td>1</td>\n",
       "      <td>1</td>\n",
       "      <td>1</td>\n",
       "      <td>2</td>\n",
       "      <td>1</td>\n",
       "      <td>2</td>\n",
       "      <td>1</td>\n",
       "      <td>1</td>\n",
       "      <td>1</td>\n",
       "      <td>...</td>\n",
       "      <td>2</td>\n",
       "      <td>2</td>\n",
       "      <td>2</td>\n",
       "      <td>2</td>\n",
       "      <td>2</td>\n",
       "      <td>2</td>\n",
       "      <td>2</td>\n",
       "      <td>2</td>\n",
       "      <td>2</td>\n",
       "      <td>3</td>\n",
       "    </tr>\n",
       "    <tr>\n",
       "      <th>2</th>\n",
       "      <td>5</td>\n",
       "      <td>2</td>\n",
       "      <td>2</td>\n",
       "      <td>2</td>\n",
       "      <td>2</td>\n",
       "      <td>2</td>\n",
       "      <td>2</td>\n",
       "      <td>2</td>\n",
       "      <td>2</td>\n",
       "      <td>2</td>\n",
       "      <td>...</td>\n",
       "      <td>2</td>\n",
       "      <td>2</td>\n",
       "      <td>2</td>\n",
       "      <td>2</td>\n",
       "      <td>2</td>\n",
       "      <td>2</td>\n",
       "      <td>2</td>\n",
       "      <td>2</td>\n",
       "      <td>2</td>\n",
       "      <td>2</td>\n",
       "    </tr>\n",
       "    <tr>\n",
       "      <th>3</th>\n",
       "      <td>6</td>\n",
       "      <td>1</td>\n",
       "      <td>1</td>\n",
       "      <td>2</td>\n",
       "      <td>1</td>\n",
       "      <td>2</td>\n",
       "      <td>1</td>\n",
       "      <td>1</td>\n",
       "      <td>1</td>\n",
       "      <td>1</td>\n",
       "      <td>...</td>\n",
       "      <td>1</td>\n",
       "      <td>1</td>\n",
       "      <td>1</td>\n",
       "      <td>1</td>\n",
       "      <td>1</td>\n",
       "      <td>1</td>\n",
       "      <td>1</td>\n",
       "      <td>1</td>\n",
       "      <td>1</td>\n",
       "      <td>1</td>\n",
       "    </tr>\n",
       "    <tr>\n",
       "      <th>4</th>\n",
       "      <td>7</td>\n",
       "      <td>1</td>\n",
       "      <td>1</td>\n",
       "      <td>1</td>\n",
       "      <td>1</td>\n",
       "      <td>1</td>\n",
       "      <td>1</td>\n",
       "      <td>1</td>\n",
       "      <td>1</td>\n",
       "      <td>1</td>\n",
       "      <td>...</td>\n",
       "      <td>3</td>\n",
       "      <td>3</td>\n",
       "      <td>3</td>\n",
       "      <td>3</td>\n",
       "      <td>3</td>\n",
       "      <td>3</td>\n",
       "      <td>3</td>\n",
       "      <td>3</td>\n",
       "      <td>3</td>\n",
       "      <td>3</td>\n",
       "    </tr>\n",
       "    <tr>\n",
       "      <th>...</th>\n",
       "      <td>...</td>\n",
       "      <td>...</td>\n",
       "      <td>...</td>\n",
       "      <td>...</td>\n",
       "      <td>...</td>\n",
       "      <td>...</td>\n",
       "      <td>...</td>\n",
       "      <td>...</td>\n",
       "      <td>...</td>\n",
       "      <td>...</td>\n",
       "      <td>...</td>\n",
       "      <td>...</td>\n",
       "      <td>...</td>\n",
       "      <td>...</td>\n",
       "      <td>...</td>\n",
       "      <td>...</td>\n",
       "      <td>...</td>\n",
       "      <td>...</td>\n",
       "      <td>...</td>\n",
       "      <td>...</td>\n",
       "      <td>...</td>\n",
       "    </tr>\n",
       "    <tr>\n",
       "      <th>1533</th>\n",
       "      <td>1992</td>\n",
       "      <td>1</td>\n",
       "      <td>1</td>\n",
       "      <td>1</td>\n",
       "      <td>1</td>\n",
       "      <td>1</td>\n",
       "      <td>1</td>\n",
       "      <td>1</td>\n",
       "      <td>1</td>\n",
       "      <td>1</td>\n",
       "      <td>...</td>\n",
       "      <td>1</td>\n",
       "      <td>1</td>\n",
       "      <td>1</td>\n",
       "      <td>1</td>\n",
       "      <td>1</td>\n",
       "      <td>1</td>\n",
       "      <td>1</td>\n",
       "      <td>1</td>\n",
       "      <td>1</td>\n",
       "      <td>1</td>\n",
       "    </tr>\n",
       "    <tr>\n",
       "      <th>1534</th>\n",
       "      <td>1995</td>\n",
       "      <td>2</td>\n",
       "      <td>2</td>\n",
       "      <td>2</td>\n",
       "      <td>2</td>\n",
       "      <td>2</td>\n",
       "      <td>3</td>\n",
       "      <td>3</td>\n",
       "      <td>3</td>\n",
       "      <td>3</td>\n",
       "      <td>...</td>\n",
       "      <td>3</td>\n",
       "      <td>3</td>\n",
       "      <td>2</td>\n",
       "      <td>3</td>\n",
       "      <td>3</td>\n",
       "      <td>3</td>\n",
       "      <td>3</td>\n",
       "      <td>3</td>\n",
       "      <td>3</td>\n",
       "      <td>3</td>\n",
       "    </tr>\n",
       "    <tr>\n",
       "      <th>1535</th>\n",
       "      <td>1996</td>\n",
       "      <td>1</td>\n",
       "      <td>2</td>\n",
       "      <td>2</td>\n",
       "      <td>2</td>\n",
       "      <td>2</td>\n",
       "      <td>1</td>\n",
       "      <td>3</td>\n",
       "      <td>3</td>\n",
       "      <td>3</td>\n",
       "      <td>...</td>\n",
       "      <td>3</td>\n",
       "      <td>3</td>\n",
       "      <td>3</td>\n",
       "      <td>3</td>\n",
       "      <td>3</td>\n",
       "      <td>3</td>\n",
       "      <td>3</td>\n",
       "      <td>3</td>\n",
       "      <td>3</td>\n",
       "      <td>3</td>\n",
       "    </tr>\n",
       "    <tr>\n",
       "      <th>1536</th>\n",
       "      <td>1997</td>\n",
       "      <td>1</td>\n",
       "      <td>1</td>\n",
       "      <td>1</td>\n",
       "      <td>1</td>\n",
       "      <td>1</td>\n",
       "      <td>1</td>\n",
       "      <td>2</td>\n",
       "      <td>3</td>\n",
       "      <td>3</td>\n",
       "      <td>...</td>\n",
       "      <td>3</td>\n",
       "      <td>3</td>\n",
       "      <td>3</td>\n",
       "      <td>3</td>\n",
       "      <td>3</td>\n",
       "      <td>3</td>\n",
       "      <td>3</td>\n",
       "      <td>3</td>\n",
       "      <td>3</td>\n",
       "      <td>3</td>\n",
       "    </tr>\n",
       "    <tr>\n",
       "      <th>1537</th>\n",
       "      <td>1999</td>\n",
       "      <td>1</td>\n",
       "      <td>1</td>\n",
       "      <td>1</td>\n",
       "      <td>1</td>\n",
       "      <td>2</td>\n",
       "      <td>2</td>\n",
       "      <td>1</td>\n",
       "      <td>1</td>\n",
       "      <td>2</td>\n",
       "      <td>...</td>\n",
       "      <td>3</td>\n",
       "      <td>3</td>\n",
       "      <td>3</td>\n",
       "      <td>3</td>\n",
       "      <td>3</td>\n",
       "      <td>3</td>\n",
       "      <td>3</td>\n",
       "      <td>3</td>\n",
       "      <td>3</td>\n",
       "      <td>3</td>\n",
       "    </tr>\n",
       "  </tbody>\n",
       "</table>\n",
       "<p>1538 rows × 22 columns</p>\n",
       "</div>"
      ],
      "text/plain": [
       "        ID  15  16  17  18  19  20  21  22  23  ...  26  27  28  29  30  31  \\\n",
       "0        1   1   1   1   1   1   1   2   2   2  ...   3   3   3   3   3   3   \n",
       "1        2   1   1   1   2   1   2   1   1   1  ...   2   2   2   2   2   2   \n",
       "2        5   2   2   2   2   2   2   2   2   2  ...   2   2   2   2   2   2   \n",
       "3        6   1   1   2   1   2   1   1   1   1  ...   1   1   1   1   1   1   \n",
       "4        7   1   1   1   1   1   1   1   1   1  ...   3   3   3   3   3   3   \n",
       "...    ...  ..  ..  ..  ..  ..  ..  ..  ..  ..  ...  ..  ..  ..  ..  ..  ..   \n",
       "1533  1992   1   1   1   1   1   1   1   1   1  ...   1   1   1   1   1   1   \n",
       "1534  1995   2   2   2   2   2   3   3   3   3  ...   3   3   2   3   3   3   \n",
       "1535  1996   1   2   2   2   2   1   3   3   3  ...   3   3   3   3   3   3   \n",
       "1536  1997   1   1   1   1   1   1   2   3   3  ...   3   3   3   3   3   3   \n",
       "1537  1999   1   1   1   1   2   2   1   1   2  ...   3   3   3   3   3   3   \n",
       "\n",
       "      32  33  34  35  \n",
       "0      3   3   3   3  \n",
       "1      2   2   2   3  \n",
       "2      2   2   2   2  \n",
       "3      1   1   1   1  \n",
       "4      3   3   3   3  \n",
       "...   ..  ..  ..  ..  \n",
       "1533   1   1   1   1  \n",
       "1534   3   3   3   3  \n",
       "1535   3   3   3   3  \n",
       "1536   3   3   3   3  \n",
       "1537   3   3   3   3  \n",
       "\n",
       "[1538 rows x 22 columns]"
      ]
     },
     "execution_count": 2,
     "metadata": {},
     "output_type": "execute_result"
    }
   ],
   "source": [
    "family_df = pd.read_csv('/Users/lei/Documents/sequenzo_all_folders/sequence_data_sources/multidomain_algorithm/family_15_35.csv')\n",
    "happiness_df = pd.read_csv('/Users/lei/Documents/sequenzo_all_folders/sequence_data_sources/multidomain_algorithm/happiness_15_35.csv')\n",
    "\n",
    "family_df"
   ]
  },
  {
   "cell_type": "code",
   "execution_count": 6,
   "id": "429037bbc099715f",
   "metadata": {
    "ExecuteTime": {
     "end_time": "2025-09-17T16:33:08.016735Z",
     "start_time": "2025-09-17T16:33:07.973339Z"
    },
    "collapsed": false
   },
   "outputs": [
    {
     "name": "stdout",
     "output_type": "stream",
     "text": [
      "\n",
      "[>] SequenceData initialized successfully! Here's a summary:\n",
      "[>] Number of sequences: 1538\n",
      "[>] Number of time points: 21\n",
      "[>] Min/Max sequence length: 21 / 21\n",
      "[>] States: [1, 2, 3]\n",
      "[>] Labels: ['Single', 'Romantic Partner', 'Married']\n",
      "\n",
      "[>] SequenceData initialized successfully! Here's a summary:\n",
      "[>] Number of sequences: 1538\n",
      "[>] Number of time points: 21\n",
      "[>] Min/Max sequence length: 21 / 21\n",
      "[>] States: [1, 2, 3, 4, 5]\n",
      "[>] Labels: ['Unhappy', 'Somewhat unhappy', 'Neutral', 'Somewhat happy', 'Happy']\n",
      "{'n_sequences': 1538, 'n_unique': 859, 'uniqueness_rate': 0.55851755526658}\n",
      "{'n_sequences': 1538, 'n_unique': 895, 'uniqueness_rate': 0.581924577373212}\n"
     ]
    }
   ],
   "source": [
    "time_cols = []\n",
    "\n",
    "for i in list(range(15, 36)):\n",
    "    time_cols.append(str(i))\n",
    "\n",
    "family_sequence = SequenceData(data=family_df,\n",
    "                               time_type='age',\n",
    "                               time=time_cols,\n",
    "                               states=[1, 2, 3],\n",
    "                               labels=[\"Single\", \"Romantic Partner\", \"Married\"],\n",
    "                               custom_colors=['#d8cbe2', '#e0605c', '#76508b'])\n",
    "\n",
    "happiness_sequence = SequenceData(data=happiness_df,\n",
    "                                 time_type='age',\n",
    "                                 time=time_cols,\n",
    "                                 states=[1, 2, 3, 4, 5],\n",
    "                                 labels=[\"Unhappy\", \"Somewhat unhappy\", \"Neutral\", \"Somewhat happy\", \"Happy\"])\n",
    "\n",
    "print(family_sequence.uniqueness_stats())\n",
    "\n",
    "print(happiness_sequence.uniqueness_stats())"
   ]
  },
  {
   "cell_type": "code",
   "execution_count": 7,
   "id": "48965ae483d3a8df",
   "metadata": {
    "ExecuteTime": {
     "end_time": "2025-09-17T16:33:10.953882Z",
     "start_time": "2025-09-17T16:33:10.936670Z"
    },
    "collapsed": false
   },
   "outputs": [
    {
     "data": {
      "text/plain": [
       "{'n_sequences': 1538, 'n_unique': 859, 'uniqueness_rate': 0.55851755526658}"
      ]
     },
     "execution_count": 7,
     "metadata": {},
     "output_type": "execute_result"
    }
   ],
   "source": [
    "family_sequence.uniqueness_stats()"
   ]
  },
  {
   "cell_type": "code",
   "execution_count": 8,
   "id": "a57628f86810628",
   "metadata": {
    "ExecuteTime": {
     "end_time": "2025-09-17T16:33:13.247688Z",
     "start_time": "2025-09-17T16:33:13.031640Z"
    },
    "collapsed": false
   },
   "outputs": [
    {
     "data": {
      "image/png": "[encoded data removed]",
      "text/plain": [
       "<Figure size 1000x600 with 1 Axes>"
      ]
     },
     "metadata": {},
     "output_type": "display_data"
    },
    {
     "data": {
      "text/plain": [
       "<Figure size 640x480 with 0 Axes>"
      ]
     },
     "metadata": {},
     "output_type": "display_data"
    }
   ],
   "source": [
    "plot_sequence_index(family_sequence)"
   ]
  },
  {
   "cell_type": "code",
   "execution_count": 47,
   "id": "40314bc629ad1b2d",
   "metadata": {
    "ExecuteTime": {
     "end_time": "2025-09-17T15:22:16.141514Z",
     "start_time": "2025-09-17T15:22:16.108950Z"
    },
    "collapsed": false
   },
   "outputs": [],
   "source": [
    "def order_by_full_sequence(df: pd.DataFrame, state_cols):\n",
    "    # tuple of the whole sequence\n",
    "    seq_tuples = df[state_cols].apply(tuple, axis=1)\n",
    "    # frequency of each exact sequence\n",
    "    freq_map = seq_tuples.value_counts()\n",
    "    freqs = seq_tuples.map(freq_map)\n",
    "\n",
    "    # sort: most frequent sequences first, then lexicographic by the tuple\n",
    "    df2 = (df.assign(_seq=seq_tuples, _freq=freqs)\n",
    "             .sort_values(['_freq', '_seq'], ascending=[False, True])\n",
    "             .drop(columns=['_seq', '_freq'])\n",
    "             .reset_index(drop=True))\n",
    "    return df2"
   ]
  },
  {
   "cell_type": "code",
   "execution_count": 61,
   "id": "c38b181e3da87bd",
   "metadata": {
    "ExecuteTime": {
     "end_time": "2025-09-17T15:31:16.697570Z",
     "start_time": "2025-09-17T15:31:16.689720Z"
    },
    "collapsed": false
   },
   "outputs": [],
   "source": [
    "def sort_by_full_sequence(seqdata):\n",
    "    seqs = [tuple(row) for row in seqdata.values]\n",
    "    counts = pd.Series(seqs).value_counts()\n",
    "    # 给每个序列一个排序 key：先按频率降序，再按序列字典序\n",
    "    order = sorted(range(len(seqs)), key=lambda i: (-counts[seqs[i]], seqs[i]))\n",
    "    return np.array(order)\n",
    "\n",
    "def set_up_time_labels_for_x_axis(seqdata: SequenceData,\n",
    "                                  ax: Axes,\n",
    "                                  color: str = \"gray\") -> None:\n",
    "    \"\"\"\n",
    "    Helper function to set up time labels for the x-axis.\n",
    "\n",
    "    :param seqdata: (SequenceData) A SequenceData object containing time information\n",
    "    :param ax: (matplotlib.axes.Axes) The axes to set labels on\n",
    "    \"\"\"\n",
    "    # Extract time labels (year or age)\n",
    "    time_labels = np.array(seqdata.cleaned_time)\n",
    "\n",
    "    # Determine the number of time steps\n",
    "    num_time_steps = len(time_labels)\n",
    "\n",
    "    # Dynamic X-Tick Adjustment\n",
    "    if num_time_steps <= 10:\n",
    "        # If 10 or fewer time points, show all labels\n",
    "        xtick_positions = np.arange(num_time_steps)\n",
    "    elif num_time_steps <= 20:\n",
    "        # If 10–20 time points, show every 2nd label\n",
    "        xtick_positions = np.arange(0, num_time_steps, step=2)\n",
    "    else:\n",
    "        # More than 20 time points → Pick 10 evenly spaced tick positions\n",
    "        xtick_positions = np.linspace(0, num_time_steps - 1, num=10, dtype=int)\n",
    "\n",
    "    # Set x-ticks and labels dynamically\n",
    "    ax.set_xticks(xtick_positions)\n",
    "    ax.set_xticklabels(time_labels[xtick_positions], fontsize=10, rotation=0, ha=\"center\", color=color)\n",
    "\n",
    "def save_and_show_results(save_as=None, dpi=200, show=True):\n",
    "    \"\"\"\n",
    "    Save and optionally display matplotlib figure.\n",
    "\n",
    "    Parameters:\n",
    "    - save_as: Optional filename to save the figure to\n",
    "    - dpi: Resolution for saved image\n",
    "    - show: Whether to display the figure (default: True)\n",
    "\n",
    "    Returns:\n",
    "    - The current figure object (plt.gcf())\n",
    "    \"\"\"\n",
    "    if save_as:\n",
    "        if not any(save_as.endswith(ext) for ext in ['.png', '.jpg', '.jpeg', '.pdf', '.svg']):\n",
    "            save_as += '.png'\n",
    "        plt.savefig(save_as, dpi=dpi, bbox_inches='tight')\n",
    "\n",
    "    # Show if explicitly requested or if saving (for visual confirmation)\n",
    "    if show or save_as:\n",
    "        plt.show()\n",
    "\n",
    "    # Prevent memory leak by closing after show/save\n",
    "    plt.close()\n",
    "\n",
    "    # Return the current figure\n",
    "    return plt.gcf()\n",
    "\n",
    "def plot_sequence_index_single(seqdata: SequenceData,\n",
    "                                figsize=(10, 6),\n",
    "                                title=None,\n",
    "                                xlabel=\"Time\",\n",
    "                                ylabel=\"Sequences\",\n",
    "                                save_as=None,\n",
    "                                dpi=200):\n",
    "    \"\"\"\n",
    "    Efficiently creates a sequence index plot using `imshow` for faster rendering.\n",
    "\n",
    "    :param data: (np.array or pd.DataFrame) 2D array where rows are sequences and columns are time points.\n",
    "    :param num_colors: (int): Number of colors in the Spectral palette.\n",
    "    :param reverse_colors: (bool): Whether to reverse the color scheme.\n",
    "    :param figsize: (tuple): Size of the figure.\n",
    "    :param xlabel: (str): Label for the x-axis.\n",
    "    :param ylabel: (str): Label for the y-axis.\n",
    "    :param title: (str): Title for the plot.\n",
    "\n",
    "    :return None.\n",
    "    \"\"\"\n",
    "    # Get sequence values as NumPy array\n",
    "    sequence_values = seqdata.values.copy()\n",
    "\n",
    "    # Ensure no NaN values interfere with sorting\n",
    "    if np.isnan(sequence_values).any():\n",
    "        sequence_values = np.where(np.isnan(sequence_values), -1, sequence_values)\n",
    "\n",
    "    # Sort sequences lexicographically for better visualization\n",
    "    # sorted_indices = np.lexsort(sequence_values.T[::-1])\n",
    "    # Chang to the following:\n",
    "    sorted_indices = sort_by_full_sequence(seqdata)\n",
    "    sorted_data = sequence_values[sorted_indices]\n",
    "\n",
    "    # Create the plot using imshow\n",
    "    fig, ax = plt.subplots(figsize=figsize)\n",
    "    # ax.imshow(sorted_data, aspect='auto', cmap=seqdata.get_colormap(), interpolation='nearest')\n",
    "    ax.imshow(sorted_data, aspect='auto', cmap=seqdata.get_colormap(), interpolation='nearest', vmin=1,\n",
    "              vmax=len(seqdata.states))\n",
    "\n",
    "    # Disable background grid and all axis guide lines\n",
    "    ax.grid(False)\n",
    "\n",
    "    # Optional: remove tick marks and tick labels to avoid visual grid effects\n",
    "    # ax.set_xticks([])\n",
    "    # ax.set_yticks([])\n",
    "\n",
    "    # x label\n",
    "    set_up_time_labels_for_x_axis(seqdata, ax)\n",
    "\n",
    "    # Enhance y-axis aesthetics\n",
    "    num_sequences = sorted_data.shape[0]\n",
    "    ytick_spacing = max(1, num_sequences // 10)\n",
    "\n",
    "    ax.set_yticks(np.arange(0, num_sequences, step=ytick_spacing))\n",
    "    ax.set_yticklabels(np.arange(1, num_sequences + 1, step=ytick_spacing), fontsize=10, color='black')\n",
    "\n",
    "    # Enhance y-axis aesthetics\n",
    "    ax.set_yticks(range(0, len(sorted_data), max(1, len(sorted_data) // 10)))\n",
    "    ax.set_yticklabels(\n",
    "        range(1, len(sorted_data) + 1, max(1, len(sorted_data) // 10)),\n",
    "        fontsize=10,\n",
    "        color='black'\n",
    "    )\n",
    "\n",
    "    # Customize axis line styles and ticks\n",
    "    ax.spines['top'].set_visible(False)\n",
    "    ax.spines['right'].set_visible(False)\n",
    "    ax.spines['left'].set_color('gray')\n",
    "    ax.spines['bottom'].set_color('gray')\n",
    "    ax.spines['left'].set_linewidth(0.7)\n",
    "    ax.spines['bottom'].set_linewidth(0.7)\n",
    "    ax.tick_params(axis='x', colors='gray', length=4, width=0.7)\n",
    "    ax.tick_params(axis='y', colors='gray', length=4, width=0.7)\n",
    "\n",
    "    # Add labels and title\n",
    "    ax.set_xlabel(xlabel, fontsize=12, labelpad=10, color='black')\n",
    "\n",
    "    ax.set_ylabel(ylabel, fontsize=12, labelpad=10, color='black')\n",
    "    if title:\n",
    "        ax.set_title(title, fontsize=14, color='black')\n",
    "\n",
    "    # Use legend from SequenceData\n",
    "    ax.legend(*seqdata.get_legend(), bbox_to_anchor=(1.05, 1), loc='upper left')\n",
    "\n",
    "    save_and_show_results(save_as, dpi=200)"
   ]
  },
  {
   "cell_type": "markdown",
   "id": "d2c774af7612e24c",
   "metadata": {
    "collapsed": false
   },
   "source": []
  },
  {
   "cell_type": "code",
   "execution_count": 64,
   "id": "e2b1bda50a7ccdb9",
   "metadata": {
    "ExecuteTime": {
     "end_time": "2025-09-17T15:32:08.608697Z",
     "start_time": "2025-09-17T15:32:08.500780Z"
    },
    "collapsed": false
   },
   "outputs": [
    {
     "data": {
      "text/html": [
       "<div>\n",
       "<style scoped>\n",
       "    .dataframe tbody tr th:only-of-type {\n",
       "        vertical-align: middle;\n",
       "    }\n",
       "\n",
       "    .dataframe tbody tr th {\n",
       "        vertical-align: top;\n",
       "    }\n",
       "\n",
       "    .dataframe thead th {\n",
       "        text-align: right;\n",
       "    }\n",
       "</style>\n",
       "<table border=\"1\" class=\"dataframe\">\n",
       "  <thead>\n",
       "    <tr style=\"text-align: right;\">\n",
       "      <th></th>\n",
       "      <th>id</th>\n",
       "      <th>1</th>\n",
       "      <th>2</th>\n",
       "      <th>3</th>\n",
       "      <th>4</th>\n",
       "      <th>5</th>\n",
       "      <th>6</th>\n",
       "      <th>7</th>\n",
       "      <th>8</th>\n",
       "      <th>9</th>\n",
       "      <th>10</th>\n",
       "    </tr>\n",
       "  </thead>\n",
       "  <tbody>\n",
       "    <tr>\n",
       "      <th>0</th>\n",
       "      <td>1</td>\n",
       "      <td>Data science</td>\n",
       "      <td>Data science</td>\n",
       "      <td>Data science</td>\n",
       "      <td>Data science</td>\n",
       "      <td>Data</td>\n",
       "      <td>Data</td>\n",
       "      <td>Software</td>\n",
       "      <td>Software</td>\n",
       "      <td>Software</td>\n",
       "      <td>Software</td>\n",
       "    </tr>\n",
       "    <tr>\n",
       "      <th>1</th>\n",
       "      <td>2</td>\n",
       "      <td>Support &amp; test</td>\n",
       "      <td>Software</td>\n",
       "      <td>Software</td>\n",
       "      <td>Software</td>\n",
       "      <td>Software</td>\n",
       "      <td>Software</td>\n",
       "      <td>Software</td>\n",
       "      <td>Software</td>\n",
       "      <td>Support &amp; test</td>\n",
       "      <td>Support &amp; test</td>\n",
       "    </tr>\n",
       "    <tr>\n",
       "      <th>2</th>\n",
       "      <td>3</td>\n",
       "      <td>Software</td>\n",
       "      <td>Software</td>\n",
       "      <td>Systems &amp; infrastructure</td>\n",
       "      <td>Systems &amp; infrastructure</td>\n",
       "      <td>Systems &amp; infrastructure</td>\n",
       "      <td>Systems &amp; infrastructure</td>\n",
       "      <td>Systems &amp; infrastructure</td>\n",
       "      <td>Systems &amp; infrastructure</td>\n",
       "      <td>Support &amp; test</td>\n",
       "      <td>Hardware</td>\n",
       "    </tr>\n",
       "    <tr>\n",
       "      <th>3</th>\n",
       "      <td>4</td>\n",
       "      <td>Software</td>\n",
       "      <td>Software</td>\n",
       "      <td>Software</td>\n",
       "      <td>Support &amp; test</td>\n",
       "      <td>Support &amp; test</td>\n",
       "      <td>Support &amp; test</td>\n",
       "      <td>Support &amp; test</td>\n",
       "      <td>Data</td>\n",
       "      <td>Data</td>\n",
       "      <td>Data</td>\n",
       "    </tr>\n",
       "    <tr>\n",
       "      <th>4</th>\n",
       "      <td>5</td>\n",
       "      <td>Data science</td>\n",
       "      <td>Data science</td>\n",
       "      <td>Support &amp; test</td>\n",
       "      <td>Support &amp; test</td>\n",
       "      <td>Support &amp; test</td>\n",
       "      <td>Support &amp; test</td>\n",
       "      <td>Support &amp; test</td>\n",
       "      <td>Data</td>\n",
       "      <td>Data</td>\n",
       "      <td>Data</td>\n",
       "    </tr>\n",
       "    <tr>\n",
       "      <th>...</th>\n",
       "      <td>...</td>\n",
       "      <td>...</td>\n",
       "      <td>...</td>\n",
       "      <td>...</td>\n",
       "      <td>...</td>\n",
       "      <td>...</td>\n",
       "      <td>...</td>\n",
       "      <td>...</td>\n",
       "      <td>...</td>\n",
       "      <td>...</td>\n",
       "      <td>...</td>\n",
       "    </tr>\n",
       "    <tr>\n",
       "      <th>49995</th>\n",
       "      <td>49996</td>\n",
       "      <td>Support &amp; test</td>\n",
       "      <td>Support &amp; test</td>\n",
       "      <td>Support &amp; test</td>\n",
       "      <td>Support &amp; test</td>\n",
       "      <td>Support &amp; test</td>\n",
       "      <td>Support &amp; test</td>\n",
       "      <td>Software</td>\n",
       "      <td>Software</td>\n",
       "      <td>Software</td>\n",
       "      <td>Hardware</td>\n",
       "    </tr>\n",
       "    <tr>\n",
       "      <th>49996</th>\n",
       "      <td>49997</td>\n",
       "      <td>Systems &amp; infrastructure</td>\n",
       "      <td>Systems &amp; infrastructure</td>\n",
       "      <td>Systems &amp; infrastructure</td>\n",
       "      <td>Support &amp; test</td>\n",
       "      <td>Software</td>\n",
       "      <td>Software</td>\n",
       "      <td>Software</td>\n",
       "      <td>Software</td>\n",
       "      <td>Software</td>\n",
       "      <td>Software</td>\n",
       "    </tr>\n",
       "    <tr>\n",
       "      <th>49997</th>\n",
       "      <td>49998</td>\n",
       "      <td>Software</td>\n",
       "      <td>Software</td>\n",
       "      <td>Software</td>\n",
       "      <td>Software</td>\n",
       "      <td>Software</td>\n",
       "      <td>Software</td>\n",
       "      <td>Software</td>\n",
       "      <td>Data</td>\n",
       "      <td>Data</td>\n",
       "      <td>Software</td>\n",
       "    </tr>\n",
       "    <tr>\n",
       "      <th>49998</th>\n",
       "      <td>49999</td>\n",
       "      <td>Systems &amp; infrastructure</td>\n",
       "      <td>Systems &amp; infrastructure</td>\n",
       "      <td>Systems &amp; infrastructure</td>\n",
       "      <td>Systems &amp; infrastructure</td>\n",
       "      <td>Hardware</td>\n",
       "      <td>Hardware</td>\n",
       "      <td>Hardware</td>\n",
       "      <td>Hardware</td>\n",
       "      <td>Hardware</td>\n",
       "      <td>Software</td>\n",
       "    </tr>\n",
       "    <tr>\n",
       "      <th>49999</th>\n",
       "      <td>50000</td>\n",
       "      <td>Data</td>\n",
       "      <td>Data</td>\n",
       "      <td>Data</td>\n",
       "      <td>Data</td>\n",
       "      <td>Data</td>\n",
       "      <td>Data</td>\n",
       "      <td>Data</td>\n",
       "      <td>Support &amp; test</td>\n",
       "      <td>Support &amp; test</td>\n",
       "      <td>Support &amp; test</td>\n",
       "    </tr>\n",
       "  </tbody>\n",
       "</table>\n",
       "<p>50000 rows × 11 columns</p>\n",
       "</div>"
      ],
      "text/plain": [
       "          id                         1                         2  \\\n",
       "0          1              Data science              Data science   \n",
       "1          2            Support & test                  Software   \n",
       "2          3                  Software                  Software   \n",
       "3          4                  Software                  Software   \n",
       "4          5              Data science              Data science   \n",
       "...      ...                       ...                       ...   \n",
       "49995  49996            Support & test            Support & test   \n",
       "49996  49997  Systems & infrastructure  Systems & infrastructure   \n",
       "49997  49998                  Software                  Software   \n",
       "49998  49999  Systems & infrastructure  Systems & infrastructure   \n",
       "49999  50000                      Data                      Data   \n",
       "\n",
       "                              3                         4  \\\n",
       "0                  Data science              Data science   \n",
       "1                      Software                  Software   \n",
       "2      Systems & infrastructure  Systems & infrastructure   \n",
       "3                      Software            Support & test   \n",
       "4                Support & test            Support & test   \n",
       "...                         ...                       ...   \n",
       "49995            Support & test            Support & test   \n",
       "49996  Systems & infrastructure            Support & test   \n",
       "49997                  Software                  Software   \n",
       "49998  Systems & infrastructure  Systems & infrastructure   \n",
       "49999                      Data                      Data   \n",
       "\n",
       "                              5                         6  \\\n",
       "0                          Data                      Data   \n",
       "1                      Software                  Software   \n",
       "2      Systems & infrastructure  Systems & infrastructure   \n",
       "3                Support & test            Support & test   \n",
       "4                Support & test            Support & test   \n",
       "...                         ...                       ...   \n",
       "49995            Support & test            Support & test   \n",
       "49996                  Software                  Software   \n",
       "49997                  Software                  Software   \n",
       "49998                  Hardware                  Hardware   \n",
       "49999                      Data                      Data   \n",
       "\n",
       "                              7                         8               9  \\\n",
       "0                      Software                  Software        Software   \n",
       "1                      Software                  Software  Support & test   \n",
       "2      Systems & infrastructure  Systems & infrastructure  Support & test   \n",
       "3                Support & test                      Data            Data   \n",
       "4                Support & test                      Data            Data   \n",
       "...                         ...                       ...             ...   \n",
       "49995                  Software                  Software        Software   \n",
       "49996                  Software                  Software        Software   \n",
       "49997                  Software                      Data            Data   \n",
       "49998                  Hardware                  Hardware        Hardware   \n",
       "49999                      Data            Support & test  Support & test   \n",
       "\n",
       "                   10  \n",
       "0            Software  \n",
       "1      Support & test  \n",
       "2            Hardware  \n",
       "3                Data  \n",
       "4                Data  \n",
       "...               ...  \n",
       "49995        Hardware  \n",
       "49996        Software  \n",
       "49997        Software  \n",
       "49998        Software  \n",
       "49999  Support & test  \n",
       "\n",
       "[50000 rows x 11 columns]"
      ]
     },
     "execution_count": 64,
     "metadata": {},
     "output_type": "execute_result"
    }
   ],
   "source": [
    "df_U5 = pd.read_csv('/Users/lei/Documents/Sequenzo_all_folders/sequenzo_local/2509_writing_paper/synthetic_detailed_U5_N50000.csv')\n",
    "\n",
    "\n",
    "# example usage after you create out_df\n",
    "state_cols = [c for c in df_U5.columns if c.isdigit()]\n",
    "# out_df_sorted_U5 = order_by_full_sequence(df_U5, state_cols)\n",
    "# now plot out_df_sorted instead of out_df\n",
    "\n",
    "df_U5"
   ]
  },
  {
   "cell_type": "code",
   "execution_count": 66,
   "id": "7929ad7b33ff9f58",
   "metadata": {
    "ExecuteTime": {
     "end_time": "2025-09-17T15:32:20.791919Z",
     "start_time": "2025-09-17T15:32:20.486533Z"
    },
    "collapsed": false
   },
   "outputs": [
    {
     "name": "stdout",
     "output_type": "stream",
     "text": [
      "\n",
      "[>] SequenceData initialized successfully! Here's a summary:\n",
      "[>] Number of sequences: 50000\n",
      "[>] Number of time points: 10\n",
      "[>] Min/Max sequence length: 10 / 10\n",
      "[>] States: ['Data', 'Data science', 'Hardware', 'Research', 'Software', 'Support & test', 'Systems & infrastructure']\n",
      "[>] Labels: ['Data', 'Data science', 'Hardware', 'Research', 'Software', 'Support & test', 'Systems & infrastructure']\n"
     ]
    },
    {
     "data": {
      "text/plain": [
       "{'n_sequences': 50000,\n",
       " 'n_unique': 3000,\n",
       " 'uniqueness_rate': 0.06,\n",
       " 'counts': pattern_id\n",
       " 2103    34\n",
       " 2818    32\n",
       " 1955    31\n",
       " 1332    31\n",
       " 2510    30\n",
       "         ..\n",
       " 1585     6\n",
       " 2008     6\n",
       " 479      6\n",
       " 2156     5\n",
       " 1374     4\n",
       " Length: 3000, dtype: int64,\n",
       " 'examples':    pattern_id  freq                         example\n",
       " 0        2103    34  [6, 6, 6, 2, 2, 2, 2, 2, 6, 6]\n",
       " 1        2818    32  [7, 7, 7, 7, 5, 7, 7, 7, 2, 2]\n",
       " 2        1955    31  [6, 3, 3, 3, 3, 3, 2, 2, 2, 2]\n",
       " 3        1332    31  [5, 5, 5, 5, 5, 3, 3, 2, 2, 2]\n",
       " 4        2510    30  [7, 5, 5, 5, 6, 6, 6, 6, 6, 6]\n",
       " 5         751    30  [4, 4, 4, 4, 4, 4, 4, 7, 5, 5]\n",
       " 6         325    30  [2, 2, 2, 2, 5, 5, 5, 5, 5, 5]\n",
       " 7         245    29  [2, 2, 2, 1, 1, 7, 7, 7, 7, 7]\n",
       " 8         293    29  [2, 2, 2, 2, 2, 2, 5, 5, 5, 5]\n",
       " 9        2218    29  [6, 6, 6, 6, 6, 1, 5, 5, 5, 5]}"
      ]
     },
     "execution_count": 66,
     "metadata": {},
     "output_type": "execute_result"
    }
   ],
   "source": [
    "time_cols = []\n",
    "\n",
    "for i in list(range(1, 11)):\n",
    "    time_cols.append(str(i))\n",
    "    \n",
    "states = ['Data', 'Data science', 'Hardware', 'Research', 'Software', 'Support & test', 'Systems & infrastructure']\n",
    "\n",
    "U5_sequence = SequenceData(data=df_U5,\n",
    "                               time_type='age',\n",
    "                               time=time_cols,\n",
    "                               states=states,\n",
    "                               )\n",
    "\n",
    "U5_sequence.uniqueness_stats()\n"
   ]
  },
  {
   "cell_type": "code",
   "execution_count": 75,
   "id": "58c2ad6e82bcd2a9",
   "metadata": {
    "ExecuteTime": {
     "end_time": "2025-09-17T15:58:44.152826Z",
     "start_time": "2025-09-17T15:58:43.916533Z"
    },
    "collapsed": false
   },
   "outputs": [
    {
     "data": {
      "image/png": "[encoded data removed]",
      "text/plain": [
       "<Figure size 1200x700 with 1 Axes>"
      ]
     },
     "metadata": {},
     "output_type": "display_data"
    },
    {
     "data": {
      "text/plain": [
       "<Figure size 640x480 with 0 Axes>"
      ]
     },
     "metadata": {},
     "output_type": "display_data"
    }
   ],
   "source": [
    "plot_state_distribution(U5_sequence)"
   ]
  },
  {
   "cell_type": "code",
   "execution_count": 51,
   "id": "9c9015de63b70eb1",
   "metadata": {
    "ExecuteTime": {
     "end_time": "2025-09-17T15:24:08.210030Z",
     "start_time": "2025-09-17T15:24:07.412480Z"
    },
    "collapsed": false
   },
   "outputs": [
    {
     "name": "stdout",
     "output_type": "stream",
     "text": [
      "\n",
      "[>] SequenceData initialized successfully! Here's a summary:\n",
      "[>] Number of sequences: 50000\n",
      "[>] Number of time points: 10\n",
      "[>] Min/Max sequence length: 10 / 10\n",
      "[>] States: ['Data', 'Data science', 'Hardware', 'Research', 'Software', 'Support & test', 'Systems & infrastructure']\n",
      "[>] Labels: ['Data', 'Data science', 'Hardware', 'Research', 'Software', 'Support & test', 'Systems & infrastructure']\n"
     ]
    },
    {
     "data": {
      "text/plain": [
       "{'n_sequences': 50000,\n",
       " 'n_unique': 12750,\n",
       " 'uniqueness_rate': 0.255,\n",
       " 'counts': pattern_id\n",
       " 12622    14\n",
       " 855      13\n",
       " 10361    13\n",
       " 2919     12\n",
       " 8774     11\n",
       "          ..\n",
       " 8599      1\n",
       " 8606      1\n",
       " 8607      1\n",
       " 4727      1\n",
       " 10412     1\n",
       " Length: 12750, dtype: int64,\n",
       " 'examples':    pattern_id  freq                         example\n",
       " 0       12622    14  [7, 7, 7, 7, 7, 7, 6, 6, 2, 2]\n",
       " 1         855    13  [1, 1, 7, 7, 7, 7, 5, 5, 6, 6]\n",
       " 2       10361    13  [6, 6, 7, 7, 2, 2, 2, 2, 3, 3]\n",
       " 3        2919    12  [3, 3, 7, 7, 7, 7, 7, 6, 6, 6]\n",
       " 4        8774    11  [6, 3, 3, 3, 3, 3, 3, 3, 3, 1]\n",
       " 5        1462    11  [2, 2, 2, 2, 2, 5, 5, 5, 5, 7]\n",
       " 6        1158    11  [2, 1, 1, 1, 1, 1, 1, 1, 1, 7]\n",
       " 7        4380    11  [5, 2, 6, 6, 6, 1, 1, 4, 4, 4]\n",
       " 8        3208    11  [4, 3, 3, 3, 3, 3, 3, 3, 3, 3]\n",
       " 9       10781    11  [7, 3, 3, 3, 5, 5, 5, 5, 5, 2]}"
      ]
     },
     "execution_count": 51,
     "metadata": {},
     "output_type": "execute_result"
    }
   ],
   "source": [
    "df_U25 = pd.read_csv('/Users/lei/Documents/Sequenzo_all_folders/sequenzo_local/2509_writing_paper/synthetic_detailed_U25_N50000.csv')\n",
    "\n",
    "out_df_sorted_U25 = order_by_full_sequence(df_U25, state_cols)\n",
    "\n",
    "U25_sequence = SequenceData(data=out_df_sorted_U25,\n",
    "                               time_type='age',\n",
    "                               time=time_cols,\n",
    "                               states=states,\n",
    "                               )\n",
    "\n",
    "U25_sequence.uniqueness_stats()"
   ]
  },
  {
   "cell_type": "code",
   "execution_count": 72,
   "id": "fde333d6d2a9045e",
   "metadata": {
    "ExecuteTime": {
     "end_time": "2025-09-17T15:51:39.562789Z",
     "start_time": "2025-09-17T15:51:38.519038Z"
    },
    "collapsed": false
   },
   "outputs": [
    {
     "data": {
      "image/png": "[encoded data removed]",
      "text/plain": [
       "<Figure size 1000x600 with 1 Axes>"
      ]
     },
     "metadata": {},
     "output_type": "display_data"
    },
    {
     "data": {
      "text/plain": [
       "<Figure size 640x480 with 0 Axes>"
      ]
     },
     "metadata": {},
     "output_type": "display_data"
    }
   ],
   "source": [
    "plot_most_frequent_sequences(U25_sequence, \n",
    "                    # save_as='index_plot'\n",
    "                    )"
   ]
  },
  {
   "cell_type": "code",
   "execution_count": 41,
   "id": "241cd7ddea6591c6",
   "metadata": {
    "ExecuteTime": {
     "end_time": "2025-09-17T15:00:51.519607Z",
     "start_time": "2025-09-17T15:00:51.084894Z"
    },
    "collapsed": false
   },
   "outputs": [
    {
     "name": "stdout",
     "output_type": "stream",
     "text": [
      "\n",
      "[>] SequenceData initialized successfully! Here's a summary:\n",
      "[>] Number of sequences: 50000\n",
      "[>] Number of time points: 10\n",
      "[>] Min/Max sequence length: 10 / 10\n",
      "[>] States: ['Data', 'Data science', 'Hardware', 'Research', 'Software', 'Support & test', 'Systems & infrastructure']\n",
      "[>] Labels: ['Data', 'Data science', 'Hardware', 'Research', 'Software', 'Support & test', 'Systems & infrastructure']\n"
     ]
    },
    {
     "data": {
      "text/plain": [
       "{'n_sequences': 50000,\n",
       " 'n_unique': 25045,\n",
       " 'uniqueness_rate': 0.5009,\n",
       " 'counts': pattern_id\n",
       " 12562    9\n",
       " 16456    9\n",
       " 12510    9\n",
       " 2309     9\n",
       " 5675     8\n",
       "         ..\n",
       " 6897     1\n",
       " 6894     1\n",
       " 16849    1\n",
       " 16850    1\n",
       " 18247    1\n",
       " Length: 25045, dtype: int64,\n",
       " 'examples':    pattern_id  freq                         example\n",
       " 0       12562     9  [5, 5, 5, 5, 2, 5, 5, 5, 5, 5]\n",
       " 1       16456     9  [5, 6, 6, 6, 6, 6, 6, 5, 5, 7]\n",
       " 2       12510     9  [5, 5, 5, 5, 2, 2, 2, 7, 7, 4]\n",
       " 3        2309     9  [2, 1, 1, 5, 5, 5, 6, 6, 6, 6]\n",
       " 4        5675     8  [3, 3, 6, 6, 6, 6, 6, 6, 6, 1]\n",
       " 5       13098     8  [5, 5, 5, 5, 5, 2, 6, 4, 4, 4]\n",
       " 6       18086     8  [6, 5, 5, 5, 5, 5, 5, 5, 5, 7]\n",
       " 7       20466     8  [6, 6, 6, 7, 7, 7, 5, 5, 5, 5]\n",
       " 8       16451     8  [5, 6, 6, 6, 6, 6, 6, 5, 3, 3]\n",
       " 9       16480     7  [5, 6, 6, 6, 6, 6, 6, 6, 7, 3]}"
      ]
     },
     "execution_count": 41,
     "metadata": {},
     "output_type": "execute_result"
    }
   ],
   "source": [
    "df_U50 = pd.read_csv('/Users/lei/Documents/Sequenzo_all_folders/sequenzo_local/2509_writing_paper/synthetic_detailed_U50_N50000.csv')\n",
    "\n",
    "U50_sequence = SequenceData(data=df_U50,\n",
    "                               time_type='age',\n",
    "                               time=time_cols,\n",
    "                               states=states,\n",
    "                               )\n",
    "\n",
    "U50_sequence.uniqueness_stats()"
   ]
  },
  {
   "cell_type": "code",
   "execution_count": 74,
   "id": "cc3f2919d677e518",
   "metadata": {
    "ExecuteTime": {
     "end_time": "2025-09-17T15:56:57.052451Z",
     "start_time": "2025-09-17T15:56:56.823093Z"
    },
    "collapsed": false
   },
   "outputs": [
    {
     "data": {
      "image/png": "[encoded data removed]",
      "text/plain": [
       "<Figure size 1200x700 with 1 Axes>"
      ]
     },
     "metadata": {},
     "output_type": "display_data"
    },
    {
     "data": {
      "text/plain": [
       "<Figure size 640x480 with 0 Axes>"
      ]
     },
     "metadata": {},
     "output_type": "display_data"
    }
   ],
   "source": [
    "plot_state_distribution(U50_sequence, \n",
    "                    # save_as='index_plot'\n",
    "                    )"
   ]
  },
  {
   "cell_type": "code",
   "execution_count": 35,
   "id": "5a78e1998ff73fbd",
   "metadata": {
    "ExecuteTime": {
     "end_time": "2025-09-17T13:46:51.594953Z",
     "start_time": "2025-09-17T13:46:51.139198Z"
    },
    "collapsed": false
   },
   "outputs": [
    {
     "name": "stdout",
     "output_type": "stream",
     "text": [
      "\n",
      "[>] SequenceData initialized successfully! Here's a summary:\n",
      "[>] Number of sequences: 50000\n",
      "[>] Number of time points: 10\n",
      "[>] Min/Max sequence length: 10 / 10\n",
      "[>] States: ['Data', 'Data science', 'Hardware', 'Research', 'Software', 'Support & test', 'Systems & infrastructure']\n",
      "[>] Labels: ['Data', 'Data science', 'Hardware', 'Research', 'Software', 'Support & test', 'Systems & infrastructure']\n"
     ]
    },
    {
     "data": {
      "text/plain": [
       "{'n_sequences': 50000,\n",
       " 'n_unique': 2385,\n",
       " 'uniqueness_rate': 0.0477,\n",
       " 'counts': pattern_id\n",
       " 1762    38\n",
       " 1368    38\n",
       " 1982    36\n",
       " 849     36\n",
       " 1508    35\n",
       "         ..\n",
       " 522      8\n",
       " 1440     7\n",
       " 2240     7\n",
       " 907      6\n",
       " 312      6\n",
       " Length: 2385, dtype: int64,\n",
       " 'examples':    pattern_id  freq                         example\n",
       " 0        1762    38  [6, 6, 6, 6, 5, 5, 5, 5, 5, 3]\n",
       " 1        1368    38  [5, 5, 5, 7, 7, 6, 6, 6, 6, 5]\n",
       " 2        1982    36  [7, 3, 3, 3, 3, 3, 4, 4, 4, 4]\n",
       " 3         849    36  [5, 5, 3, 3, 2, 2, 2, 2, 2, 5]\n",
       " 4        1508    35  [5, 6, 6, 6, 6, 6, 6, 6, 3, 3]\n",
       " 5        1164    35  [5, 5, 5, 5, 5, 5, 5, 5, 5, 2]\n",
       " 6         785    35  [5, 3, 7, 7, 7, 7, 7, 7, 7, 7]\n",
       " 7         929    35  [5, 5, 5, 3, 3, 2, 2, 2, 2, 2]\n",
       " 8         498    34  [3, 3, 6, 6, 6, 6, 6, 6, 6, 7]\n",
       " 9        1086    34  [5, 5, 5, 5, 5, 4, 5, 5, 5, 5]}"
      ]
     },
     "execution_count": 35,
     "metadata": {},
     "output_type": "execute_result"
    }
   ],
   "source": [
    "df_U85 = pd.read_csv('/Users/lei/Documents/Sequenzo_all_folders/sequenzo_local/2509_writing_paper/synthetic_detailed_U85_N50000.csv')\n",
    "\n",
    "U85_sequence = SequenceData(data=df_U85,\n",
    "                               time_type='age',\n",
    "                               time=time_cols,\n",
    "                               states=states,\n",
    "                               )\n",
    "\n",
    "U85_sequence.uniqueness_stats()"
   ]
  },
  {
   "cell_type": "code",
   "execution_count": 43,
   "id": "3b681f8ad72b20f4",
   "metadata": {
    "ExecuteTime": {
     "end_time": "2025-09-17T15:13:48.578682Z",
     "start_time": "2025-09-17T15:13:48.559051Z"
    },
    "collapsed": false
   },
   "outputs": [],
   "source": [
    "import numpy as np\n",
    "import pandas as pd\n",
    "import matplotlib.pyplot as plt\n",
    "\n",
    "def plot_index_grouped(df, title=None, cmap=None):\n",
    "    # 1) 取状态列并转为tuple作为“序列键”\n",
    "    state_cols = [c for c in df.columns if str(c).isdigit()]\n",
    "    state_cols.sort(key=lambda x: int(x))\n",
    "    seq_keys = df[state_cols].apply(tuple, axis=1)\n",
    "\n",
    "    # 2) 统计每个序列的频数，并按“频数降序、字典序”排序\n",
    "    counts = seq_keys.value_counts()\n",
    "    grouping_order = counts.index.tolist()\n",
    "\n",
    "    # 3) 为每行分配“所在组的排序索引”，并按该索引+组内顺序重排\n",
    "    group_rank = {k: i for i, k in enumerate(grouping_order)}\n",
    "    df['_grp'] = [group_rank[k] for k in seq_keys]\n",
    "    # 可选：组内再按序列键的字典序稳定排序\n",
    "    df['_key'] = seq_keys\n",
    "    df_sorted = df.sort_values(['_grp','_key']).reset_index(drop=True)\n",
    "\n",
    "    # 4) 做图：按新的行顺序画“拼图”\n",
    "    M = df_sorted[state_cols].to_numpy()\n",
    "    # 把类别映射到整数色标（保证不同数据集配色一致）\n",
    "    cats = pd.Index(sorted(pd.unique(M.ravel())))\n",
    "    lut = {c:i for i,c in enumerate(cats)}\n",
    "    M_int = np.vectorize(lut.get)(M)\n",
    "\n",
    "    plt.figure(figsize=(12,5))\n",
    "    plt.imshow(M_int, aspect='auto', interpolation='none', cmap=cmap)\n",
    "    plt.xlabel('Time')\n",
    "    plt.ylabel('Sequences')\n",
    "\n",
    "    # 5) 画组边界（粗线让“大组”一眼可见）\n",
    "    group_sizes = counts.values\n",
    "    boundaries = np.cumsum(group_sizes)\n",
    "    for b in boundaries[:-1]:\n",
    "        plt.axhline(b-0.5, color='white', linewidth=1.0, alpha=0.9)\n",
    "\n",
    "    U = counts.size / len(df)\n",
    "    plt.title(title or f'Grouped index plot — U={U:.3f}, uniques={counts.size}, n={len(df)}')\n",
    "    plt.tight_layout()\n",
    "    plt.show()\n",
    "\n",
    "    # 可选：配套频数分布，直观看U\n",
    "    plt.figure(figsize=(6,3))\n",
    "    plt.hist(group_sizes, bins=50, log=True)\n",
    "    plt.xlabel('Group size (identical sequences)')\n",
    "    plt.ylabel('Count (log scale)')\n",
    "    plt.title('Distribution of identical-sequence group sizes')\n",
    "    plt.tight_layout()\n",
    "    plt.show()\n",
    "\n",
    "    # 可选：前K原型的累积占比\n",
    "    cs = np.cumsum(group_sizes) / len(df)\n",
    "    plt.figure(figsize=(6,3))\n",
    "    plt.plot(np.arange(1, len(cs)+1), cs)\n",
    "    plt.xlabel('Top-k unique sequences')\n",
    "    plt.ylabel('Cumulative share')\n",
    "    plt.title('Coverage curve of top unique sequences')\n",
    "    plt.tight_layout()\n",
    "    plt.show()\n"
   ]
  },
  {
   "cell_type": "code",
   "execution_count": 44,
   "id": "bfe3552ba4477c32",
   "metadata": {
    "ExecuteTime": {
     "end_time": "2025-09-17T15:14:04.815267Z",
     "start_time": "2025-09-17T15:14:00.589127Z"
    },
    "collapsed": false
   },
   "outputs": [
    {
     "data": {
      "image/png": "[encoded data removed]",
      "text/plain": [
       "<Figure size 1200x500 with 1 Axes>"
      ]
     },
     "metadata": {},
     "output_type": "display_data"
    },
    {
     "data": {
      "image/png": "[encoded data removed]",
      "text/plain": [
       "<Figure size 600x300 with 1 Axes>"
      ]
     },
     "metadata": {},
     "output_type": "display_data"
    },
    {
     "data": {
      "image/png": "[encoded data removed]",
      "text/plain": [
       "<Figure size 600x300 with 1 Axes>"
      ]
     },
     "metadata": {},
     "output_type": "display_data"
    }
   ],
   "source": [
    "plot_index_grouped(df_U5, title='U5 grouped index plot')"
   ]
  },
  {
   "cell_type": "markdown",
   "id": "ac3a8f82315f49e5",
   "metadata": {
    "collapsed": false
   },
   "source": [
    "## 欣怡的随机数据-八十万"
   ]
  },
  {
   "cell_type": "code",
   "execution_count": 69,
   "id": "81899f78ad9505f3",
   "metadata": {
    "ExecuteTime": {
     "end_time": "2025-09-17T15:39:28.978935Z",
     "start_time": "2025-09-17T15:39:21.254859Z"
    },
    "collapsed": false
   },
   "outputs": [
    {
     "name": "stdout",
     "output_type": "stream",
     "text": [
      "\n",
      "[>] SequenceData initialized successfully! Here's a summary:\n",
      "[>] Number of sequences: 800000\n",
      "[>] Number of time points: 10\n",
      "[>] Min/Max sequence length: 10 / 10\n",
      "[>] States: ['Data', 'Data science', 'Hardware', 'Research', 'Software', 'Support & test', 'Systems & infrastructure']\n",
      "[>] Labels: ['Data', 'Data science', 'Hardware', 'Research', 'Software', 'Support & test', 'Systems & infrastructure']\n"
     ]
    },
    {
     "data": {
      "text/plain": [
       "{'n_sequences': 800000,\n",
       " 'n_unique': 20289,\n",
       " 'uniqueness_rate': 0.02536125,\n",
       " 'counts': pattern_id\n",
       " 9353     58638\n",
       " 19832    42933\n",
       " 305      21196\n",
       " 9355      5421\n",
       " 15504     5366\n",
       "          ...  \n",
       " 13602        1\n",
       " 13601        1\n",
       " 13600        1\n",
       " 13599        1\n",
       " 59           1\n",
       " Length: 20289, dtype: int64,\n",
       " 'examples':    pattern_id   freq                         example\n",
       " 0        9353  58638  [5, 5, 5, 5, 5, 5, 5, 5, 5, 5]\n",
       " 1       19832  42933  [6, 6, 6, 6, 6, 6, 6, 6, 6, 6]\n",
       " 2         305  21196  [3, 3, 3, 3, 3, 3, 3, 3, 3, 3]\n",
       " 3        9355   5421  [5, 5, 5, 5, 5, 5, 5, 5, 5, 7]\n",
       " 4       15504   5366  [6, 5, 5, 5, 5, 5, 5, 5, 5, 5]\n",
       " 5       18914   5327  [6, 6, 6, 5, 5, 5, 5, 5, 5, 5]\n",
       " 6       17757   5315  [6, 6, 5, 5, 5, 5, 5, 5, 5, 5]\n",
       " 7       19810   5300  [6, 6, 6, 6, 6, 6, 6, 5, 5, 5]\n",
       " 8       12999   5292  [6, 3, 3, 3, 3, 3, 3, 3, 3, 3]\n",
       " 9       19447   5275  [6, 6, 6, 6, 5, 5, 5, 5, 5, 5]}"
      ]
     },
     "execution_count": 69,
     "metadata": {},
     "output_type": "execute_result"
    }
   ],
   "source": [
    "df_80w = pd.read_csv('/Users/lei/Documents/Sequenzo_all_folders/sequenzo_local/2509_writing_paper/detailed_expanded_80w.csv')\n",
    "\n",
    "# Rename columns from C1, C2, ..., C10 to 1, 2, ..., 10\n",
    "df_80w.rename(columns={f'C{i}': str(i) for i in range(1, 11)}, inplace=True)\n",
    "\n",
    "df_80w_sequence = SequenceData(data=df_80w,\n",
    "                               time_type='age',\n",
    "                               time=time_cols,\n",
    "                               states=states,\n",
    "                               )\n",
    "\n",
    "df_80w_sequence.uniqueness_stats()"
   ]
  },
  {
   "cell_type": "code",
   "execution_count": 10,
   "id": "320fcbe415981b90",
   "metadata": {
    "ExecuteTime": {
     "end_time": "2025-09-17T16:34:11.745347Z",
     "start_time": "2025-09-17T16:34:11.407117Z"
    },
    "collapsed": false
   },
   "outputs": [
    {
     "name": "stdout",
     "output_type": "stream",
     "text": [
      "\n",
      "[>] SequenceData initialized successfully! Here's a summary:\n",
      "[>] Number of sequences: 32628\n",
      "[>] Number of time points: 10\n",
      "[>] Min/Max sequence length: 10 / 10\n",
      "[>] States: ['Data', 'Data science', 'Hardware', 'Research', 'Software', 'Support & test', 'Systems & infrastructure']\n",
      "[>] Labels: ['Data', 'Data science', 'Hardware', 'Research', 'Software', 'Support & test', 'Systems & infrastructure']\n"
     ]
    },
    {
     "data": {
      "text/plain": [
       "{'n_sequences': 32628,\n",
       " 'n_unique': 2033,\n",
       " 'uniqueness_rate': 0.06230844673286748}"
      ]
     },
     "execution_count": 10,
     "metadata": {},
     "output_type": "execute_result"
    }
   ],
   "source": [
    "raw_df = pd.read_csv('/Users/lei/Documents/Sequenzo_all_folders/sequenzo_local/2509_writing_paper/detailed_for_10_years.csv')\n",
    "\n",
    "time_cols = []\n",
    "\n",
    "for i in list(range(1, 11)):\n",
    "    time_cols.append(str(i))\n",
    "    \n",
    "states = ['Data', 'Data science', 'Hardware', 'Research', 'Software', 'Support & test', 'Systems & infrastructure']\n",
    "\n",
    "# Rename columns from C1, C2, ..., C10 to 1, 2, ..., 10\n",
    "raw_df.rename(columns={f'C{i}': str(i) for i in range(1, 11)}, inplace=True)\n",
    "\n",
    "raw_df_sequence = SequenceData(data=raw_df,\n",
    "                               time_type='age',\n",
    "                               time=time_cols,\n",
    "                               states=states,\n",
    "                               )\n",
    "\n",
    "raw_df_sequence.uniqueness_stats()"
   ]
  },
  {
   "cell_type": "code",
   "execution_count": 11,
   "id": "d3f2e7fd2be15c9",
   "metadata": {
    "ExecuteTime": {
     "end_time": "2025-09-17T16:34:20.766237Z",
     "start_time": "2025-09-17T16:34:20.466029Z"
    },
    "collapsed": false
   },
   "outputs": [
    {
     "data": {
      "image/png": "[encoded data removed]",
      "text/plain": [
       "<Figure size 1000x600 with 1 Axes>"
      ]
     },
     "metadata": {},
     "output_type": "display_data"
    },
    {
     "data": {
      "text/plain": [
       "<Figure size 640x480 with 0 Axes>"
      ]
     },
     "metadata": {},
     "output_type": "display_data"
    }
   ],
   "source": [
    "plot_sequence_index(raw_df_sequence, \n",
    "                    # save_as='index_plot'\n",
    "                    )"
   ]
  },
  {
   "cell_type": "code",
   "execution_count": 12,
   "id": "3312b60dd44dc3b8",
   "metadata": {
    "ExecuteTime": {
     "end_time": "2025-09-17T17:42:54.700074Z",
     "start_time": "2025-09-17T17:42:50.579535Z"
    },
    "collapsed": false
   },
   "outputs": [
    {
     "name": "stdout",
     "output_type": "stream",
     "text": [
      "\n",
      "[>] SequenceData initialized successfully! Here's a summary:\n",
      "[>] Number of sequences: 500000\n",
      "[>] Number of time points: 10\n",
      "[>] Min/Max sequence length: 10 / 10\n",
      "[>] States: ['Data', 'Data science', 'Hardware', 'Research', 'Software', 'Support & test', 'Systems & infrastructure']\n",
      "[>] Labels: ['Data', 'Data science', 'Hardware', 'Research', 'Software', 'Support & test', 'Systems & infrastructure']\n"
     ]
    },
    {
     "data": {
      "text/plain": [
       "{'n_sequences': 500000, 'n_unique': 50111, 'uniqueness_rate': 0.100222}"
      ]
     },
     "execution_count": 12,
     "metadata": {},
     "output_type": "execute_result"
    }
   ],
   "source": [
    "df_50w = pd.read_csv('/Users/lei/Documents/Sequenzo_all_folders/sequenzo_local/2509_writing_paper/server_work/U50_N800k/synthetic_detailed_U50_N500000.csv')\n",
    "\n",
    "df_50w_sequence = SequenceData(data=df_50w,\n",
    "                                 time_type='age',\n",
    "                                 time=time_cols,\n",
    "                                 states=states,\n",
    "                                 )\n",
    "\n",
    "df_50w_sequence.uniqueness_stats()"
   ]
  },
  {
   "cell_type": "code",
   "execution_count": null,
   "id": "cffb5d40f6f967d2",
   "metadata": {
    "collapsed": false
   },
   "outputs": [],
   "source": []
  }
 ],
 "metadata": {
  "kernelspec": {
   "display_name": "dphil",
   "language": "python",
   "name": "python3"
  },
  "language_info": {
   "codemirror_mode": {
    "name": "ipython",
    "version": 3
   },
   "file_extension": ".py",
   "mimetype": "text/x-python",
   "name": "python",
   "nbconvert_exporter": "python",
   "pygments_lexer": "ipython3",
   "version": "3.10.12"
  }
 },
 "nbformat": 4,
 "nbformat_minor": 5
}
